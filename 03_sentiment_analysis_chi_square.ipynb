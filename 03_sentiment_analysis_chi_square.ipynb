{
 "cells": [
  {
   "cell_type": "code",
   "execution_count": 1,
   "id": "6a241808-55b4-453c-a25a-9be1cdf20f6f",
   "metadata": {
    "tags": []
   },
   "outputs": [],
   "source": [
    "import pandas as pd\n",
    "import scipy.stats as stats"
   ]
  },
  {
   "cell_type": "code",
   "execution_count": 2,
   "id": "7ab7c2c5-7e3f-4393-91db-6784453f3982",
   "metadata": {
    "tags": []
   },
   "outputs": [],
   "source": [
    "# create data\n",
    "data = [['Negative', 'One'] for i in range(57)] + \\\n",
    "        [['Negative', 'Two'] for i in range(96)] + \\\n",
    "        [['Neutral', 'One'] for i in range(381)] + \\\n",
    "        [['Neutral', 'Two'] for i in range(595)] + \\\n",
    "        [['Positive', 'One'] for i in range(197)] + \\\n",
    "        [['Positive', 'Two'] for i in range(449)]\n",
    "df = pd.DataFrame(data, columns = ['Sentiment', 'Version']) "
   ]
  },
  {
   "cell_type": "code",
   "execution_count": 3,
   "id": "4f0cd40f-0ef1-4f5a-9c9e-be9aa9ebd872",
   "metadata": {
    "tags": []
   },
   "outputs": [],
   "source": [
    "# create contingency table\n",
    "data_crosstab = pd.crosstab(df['Sentiment'],\n",
    "                            df['Version'],\n",
    "                           margins=True, margins_name=\"Total\")"
   ]
  },
  {
   "cell_type": "code",
   "execution_count": 4,
   "id": "93982937-0de9-453f-a2d3-8294d4e5b197",
   "metadata": {
    "tags": []
   },
   "outputs": [],
   "source": [
    "# significance level\n",
    "alpha = 0.05"
   ]
  },
  {
   "cell_type": "code",
   "execution_count": 5,
   "id": "6991e9c2-7f71-4597-a6b3-b38e3dd2c3c1",
   "metadata": {
    "tags": []
   },
   "outputs": [],
   "source": [
    "# Calcualtion of Chisquare\n",
    "chi_square = 0\n",
    "rows = df['Sentiment'].unique()\n",
    "columns = df['Version'].unique()\n",
    "for i in columns:\n",
    "    for j in rows:\n",
    "        O = data_crosstab[i][j]\n",
    "        E = data_crosstab[i]['Total'] * data_crosstab['Total'][j] / data_crosstab['Total']['Total']\n",
    "        chi_square += (O-E)**2/E"
   ]
  },
  {
   "cell_type": "code",
   "execution_count": 6,
   "id": "cea104f7-3cf5-4aab-b84d-1bd6b57ce906",
   "metadata": {
    "tags": []
   },
   "outputs": [
    {
     "name": "stdout",
     "output_type": "stream",
     "text": [
      "Approach 1: The p-value approach to hypothesis testing in the decision rule\n",
      "chisquare-score is: 12.50267673263949  and p value is: 0.0019278722095972256\n",
      "Null Hypothesis is rejected.\n"
     ]
    }
   ],
   "source": [
    "# The p-value approach\n",
    "print(\"Approach 1: The p-value approach to hypothesis testing in the decision rule\")\n",
    "p_value = 1 - stats.chi2.cdf(chi_square, (len(rows)-1)*(len(columns)-1))\n",
    "conclusion = \"Failed to reject the null hypothesis.\"\n",
    "if p_value <= alpha:\n",
    "    conclusion = \"Null Hypothesis is rejected.\"\n",
    "        \n",
    "print(\"chisquare-score is:\", chi_square, \" and p value is:\", p_value)\n",
    "print(conclusion)"
   ]
  },
  {
   "cell_type": "code",
   "execution_count": 7,
   "id": "0928ed78-ce1f-442c-be9e-78e0c8dfcf94",
   "metadata": {
    "tags": []
   },
   "outputs": [
    {
     "name": "stdout",
     "output_type": "stream",
     "text": [
      "\n",
      "--------------------------------------------------------------------------------------\n",
      "Approach 2: The critical value approach to hypothesis testing in the decision rule\n",
      "chisquare-score is: 12.50267673263949  and critical value is: 5.991464547107979\n",
      "Null Hypothesis is rejected.\n"
     ]
    }
   ],
   "source": [
    "# The critical value approach\n",
    "print(\"\\n--------------------------------------------------------------------------------------\")\n",
    "print(\"Approach 2: The critical value approach to hypothesis testing in the decision rule\")\n",
    "critical_value = stats.chi2.ppf(1-alpha, (len(rows)-1)*(len(columns)-1))\n",
    "conclusion = \"Failed to reject the null hypothesis.\"\n",
    "if chi_square > critical_value:\n",
    "    conclusion = \"Null Hypothesis is rejected.\"\n",
    "        \n",
    "print(\"chisquare-score is:\", chi_square, \" and critical value is:\", critical_value)\n",
    "print(conclusion)"
   ]
  },
  {
   "cell_type": "code",
   "execution_count": 27,
   "id": "55945a35-d5a7-4f35-a066-9bbd003108dd",
   "metadata": {
    "tags": []
   },
   "outputs": [],
   "source": [
    "# create data\n",
    "data = [['Very Negative', 'One'] for i in range(8)] + \\\n",
    "        [['Very Negative', 'Two'] for i in range(12)] + \\\n",
    "        [['Negative', 'One'] for i in range(14)] + \\\n",
    "        [['Negative', 'Two'] for i in range(37)] + \\\n",
    "        [['Neutral', 'One'] for i in range(176)] + \\\n",
    "        [['Neutral', 'Two'] for i in range(363)] + \\\n",
    "        [['Positive', 'One'] for i in range(53)] + \\\n",
    "        [['Positive', 'Two'] for i in range(134)] + \\\n",
    "        [['Very Positive', 'One'] for i in range(50)] + \\\n",
    "        [['Very Positive', 'Two'] for i in range(127)]\n",
    "df = pd.DataFrame(data, columns = ['Sentiment', 'Version']) "
   ]
  }
 ],
 "metadata": {
  "kernelspec": {
   "display_name": "Python 3 (ipykernel)",
   "language": "python",
   "name": "python3"
  },
  "language_info": {
   "codemirror_mode": {
    "name": "ipython",
    "version": 3
   },
   "file_extension": ".py",
   "mimetype": "text/x-python",
   "name": "python",
   "nbconvert_exporter": "python",
   "pygments_lexer": "ipython3",
   "version": "3.10.2"
  }
 },
 "nbformat": 4,
 "nbformat_minor": 5
}
