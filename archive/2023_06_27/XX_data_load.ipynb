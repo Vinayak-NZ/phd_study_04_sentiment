{
 "cells": [
  {
   "cell_type": "code",
   "execution_count": 1,
   "id": "a845c6a5-d9fd-444a-a326-990b014e0a53",
   "metadata": {
    "tags": []
   },
   "outputs": [],
   "source": [
    "import pandas as pd\n",
    "from germansentiment import SentimentModel\n",
    "from nltk import tokenize"
   ]
  },
  {
   "cell_type": "code",
   "execution_count": 2,
   "id": "7f713104-7817-48b8-b534-ee7ec42c650a",
   "metadata": {
    "tags": []
   },
   "outputs": [],
   "source": [
    "model = SentimentModel()"
   ]
  },
  {
   "cell_type": "code",
   "execution_count": 3,
   "id": "cfefbfa1-6aaa-4287-bb13-bbeaa80ba1fe",
   "metadata": {
    "tags": []
   },
   "outputs": [
    {
     "name": "stdout",
     "output_type": "stream",
     "text": [
      "    person_id  segment_id                                               text  \\\n",
      "0           1           1  Jetzt sehen Sie vermutlich die Startseite. OK....   \n",
      "1           1           2  Ja genau. Vielleicht hätte ich jetzt Lektion d...   \n",
      "2           1           3  OK, das heißt ich geb jetzt hier meine Initial...   \n",
      "3           1           4    Und den Code muss ich irgendwie kopieren, oder?   \n",
      "4           1           5  OK. Ach das steht auch da, muss ich mir nichts...   \n",
      "5           1           6  Hier wäre es vielleicht noch hilfreich zu wiss...   \n",
      "6           1           7  OK. Ach das steht auch da, muss ich mir nichts...   \n",
      "7           1           8  OK. OK, Lesson 1 Kommunikations... kennenzuler...   \n",
      "8           1           9  Ausreichende... immer bezogen auf das Thema Ge...   \n",
      "9           1          10  OK. Umgebungsanpassung. Zwischenmenschliche An...   \n",
      "10          1          11  Naja, wenn ich das hier schließe. Ach ja, was ...   \n",
      "11          1          12  Ne, ich finde es jetzt nicht, aber es ging irg...   \n",
      "12          1          13  Genau richtig, aber grundsätzlich, dass ich mi...   \n",
      "13          1          14  Moment da klick ich nochmal kurz rein. Genau w...   \n",
      "14          1          15  Nachhaltiger sozusagen ist. Ja, also... so hat...   \n",
      "15          1          16  Nee, eigentlich nicht, ich geh nochmal kurz in...   \n",
      "\n",
      "             tags  \n",
      "0       {general}  \n",
      "1       {general}  \n",
      "2       {general}  \n",
      "3       {general}  \n",
      "4       {general}  \n",
      "5       {general}  \n",
      "6       {general}  \n",
      "7    {lesson_one}  \n",
      "8    {lesson_one}  \n",
      "9    {lesson_one}  \n",
      "10  {lesson_five}  \n",
      "11  {lesson_five}  \n",
      "12  {lesson_five}  \n",
      "13  {lesson_five}  \n",
      "14  {lesson_five}  \n",
      "15  {lesson_five}  \n"
     ]
    }
   ],
   "source": [
    "df = pd.read_csv(\"input/app_v1_feedback.txt\", sep=\"\\t\", header=0, encoding = \"latin1\")\n",
    "print(df)"
   ]
  },
  {
   "cell_type": "code",
   "execution_count": 15,
   "id": "45a16f76-58fd-4711-9202-330a0590484b",
   "metadata": {
    "tags": []
   },
   "outputs": [
    {
     "name": "stdout",
     "output_type": "stream",
     "text": [
      "['Jetzt sehen Sie vermutlich die Startseite. OK. Willkommen bei TeamBaby. Unterstützung, Ärzte, Pflegende, Schwangere und deren Angehörige. Schöne und sichere Geburt für alle Beteiligten. OK, das heißt, ich kann jetzt einfach auf jetzt starten gehen oder muss ich mich erst registrieren?', 'Ja genau. Vielleicht hätte ich jetzt Lektion da eher erwartet aber... Ich meine, es sind ja immer viele Anglizismen mittlerweile irgendwo, aber ich, ja, hänge ich mich bloß grad ein bisschen auf. Nur so, genau.', 'OK, das heißt ich geb jetzt hier meine Initialen ein und hier die von meinem Mann richtig, oder? Ach ne, Ihres Vaters, Ihrer Mutter. OK. OK. So ist richtig dann Wahrscheinlich, ne? ', 'Und den Code muss ich irgendwie kopieren, oder?', 'OK. Ach das steht auch da, muss ich mir nichts merken, gut. Das heißt, hier gebe ich jetzt meine private Emailadresse ein, um mich zu registrieren.', 'Hier wäre es vielleicht noch hilfreich zu wissen, ob ich jetzt Sonderzeichen oder so nutzen muss. Okay. Finden Sie Ihr Training und starten Sie jetzt mit der Einführung. Unser Tipp: Spracheingabe Ihrer Handytastatur kann Ihnen das Tippen ersparen, OK, das ist natürlich jetzt was Anderes, weil das webbasiert ist. OK. Zum Training. Okay.', 'OK. Ach das steht auch da, muss ich mir nichts merken, gut. Das heißt, hier gebe ich jetzt meine private Emailadresse ein, um mich zu registrieren.', 'OK. OK, Lesson 1 Kommunikations... kennenzulernen. Die Überbegriffe... Was stellen Sie sich darunter vor? OK. Soll ich jetzt Synonyme hinschreiben, oder?', 'Ausreichende... immer bezogen auf das Thema Geburt oder allgemein unter dem Begriff ausreichend Informationen.', 'OK. Umgebungsanpassung. Zwischenmenschliche Anpassung Okay. Ja OK. Okay, das ist ja jetzt schon eher so allgemein. Wie kommuniziere ich also genau. Hier ist dann nochmal so ein Info. Ah ja, OK. Ah, kurz, OK. In der folgenden Anwendung geht es darum, Überbegriffe der Kommunikationskompetenzen.', 'Naja, wenn ich das hier schließe. Ach ja, was übrigens auch sehr gut fand, ist Lektion 8 mit diesem \\x93aktives Stressmanagement\\x94. Mhm, Moment. Ich finde es jetzt gerade irgendwie nicht wieder, aber das stand genau, ich glaube, es war sogar ein Lektion 8 mit dem aktiven Stressmanagement mit dem Partner, dass man...Moment jetzt klicke ich mich doch eben nochmal durch, ich will das jetzt wiederfinden.', 'Ne, ich finde es jetzt nicht, aber es ging irgendwie darum von wegen, dass der Partner quasi nichts macht oder dass alles dann an der Mutter hängen bleibt und das Essen nicht gekocht wird oder keine Ahnung was. Also da hab ich so gedacht, na ja, da finde ich mich jetzt in unserer persönlichen, also in unserer Beziehung jetzt nicht wieder, aber das war jetzt nichts, wo ich jetzt so drüber gestolpert bin, gedacht Habe, na ja, das ist jetzt totaler Quatsch oder so, weil das kann ja immer individuell natürlich auch passieren. Ja. Aber ansonsten hatte ich eigentlich keine Sache, wo ich gedacht habe, das ist fernab der Realität oder passt jetzt hier.', 'Genau richtig, aber grundsätzlich, dass ich mir das vorstellen kann, dass es bestimmt so Beziehungen gibt oder so Situationen gibt, ja.', 'Moment da klick ich nochmal kurz rein. Genau weil es auch da einfach nochmal nicht nur, also vorher ging es ja die ganze Zeit um die Kommunikation mit Pflegepersonal oder Ärzten und da war es noch mal so eine persönlichere Ebene sozusagen. Wie kann ich denn diese Kommunikation nicht nur für diese eine spezifische Situation oder rund um das Thema Geburt umsetzen, sondern wie kann ich auch in meiner, in meiner Alltagssituation nach der Geburt das Thema Kommunikation so integrieren, dass es für beide Seiten, oder wieviel auch immer, vorteilhafter ist oder entspannter wird im Wochenbett oder was auch immer. Also das fand ich gut, weil mich das dann nochmal so mehr persönlicher sozusagen angesprochen hat, weil es so etwas Allgemeineres, Zukunftsgerichteteres ist als jetzt nur dieser eine Punkt der Geburt sozusagen.', 'Nachhaltiger sozusagen ist. Ja, also... so hatte ich ja eingangs auch gesagt grundsätzlich finde ich es total spannend, wenn in so einer App auch so Tipps dazu sind. Wie kann man im Alltag Stressmanagement integrieren oder wie kann man, weiß ich nicht, so Techniken wie progressive Muskelentspannung oder sowas. Also einfach, dass man immer wieder auch im Alltag darauf hingewiesen wird. Hey, es gibt Methoden, sei es der Kommunikation oder eben der Achtsamkeit oder sowas, die dich unterstützen können, um solche Stressphasen besser zu überstehen.']\n"
     ]
    }
   ],
   "source": [
    "text_extract_v = []\n",
    "for i in range(0, len(df.index)-1):\n",
    "    text_extract = df.iloc[i, 2]\n",
    "    text_extract_v.append(text_extract)\n",
    "print(text_extract_v)"
   ]
  },
  {
   "cell_type": "code",
   "execution_count": 28,
   "id": "2524c8ca-0b32-47cc-ba00-0dd9af7af8de",
   "metadata": {
    "tags": []
   },
   "outputs": [
    {
     "name": "stdout",
     "output_type": "stream",
     "text": [
      "['negative']\n"
     ]
    }
   ],
   "source": [
    "result = model.predict_sentiment(text_extract_v)\n",
    "print(result)"
   ]
  },
  {
   "cell_type": "code",
   "execution_count": 29,
   "id": "2a813dc3-0d99-4999-9ddb-5cf1bdd90ebe",
   "metadata": {
    "tags": []
   },
   "outputs": [
    {
     "name": "stdout",
     "output_type": "stream",
     "text": [
      "(['negative'], [[['positive', 0.010643091052770615], ['negative', 0.9736685156822205], ['neutral', 0.015688419342041016]]])\n"
     ]
    }
   ],
   "source": [
    "result = model.predict_sentiment(text_extract_v, output_probabilities = True)\n",
    "print(result)"
   ]
  },
  {
   "cell_type": "code",
   "execution_count": 27,
   "id": "5396522d-3b62-4b7c-afc7-7afdef86fe4f",
   "metadata": {
    "tags": []
   },
   "outputs": [],
   "source": [
    "text_extract_v = ['Das heißt, hier gebe ich jetzt meine private Emailadresse ein, um mich zu registrieren.']"
   ]
  },
  {
   "cell_type": "code",
   "execution_count": null,
   "id": "a03e69b8-72fe-47e0-b56e-edbcd1180c8e",
   "metadata": {},
   "outputs": [],
   "source": []
  },
  {
   "cell_type": "code",
   "execution_count": 4,
   "id": "31e7ecb7-9880-4af1-8c26-17d2530e10d3",
   "metadata": {
    "tags": []
   },
   "outputs": [],
   "source": [
    "text_extract = df.iloc[1, 2]"
   ]
  },
  {
   "cell_type": "code",
   "execution_count": 5,
   "id": "2bb37edf-afb8-4b1c-8622-23b40a284c96",
   "metadata": {},
   "outputs": [],
   "source": [
    "text_extract_v = [text_extract]"
   ]
  },
  {
   "cell_type": "code",
   "execution_count": 6,
   "id": "df38dde3-f947-48b4-800f-67fabc6dc6d9",
   "metadata": {
    "tags": []
   },
   "outputs": [
    {
     "data": {
      "text/plain": [
       "['Ja genau. Vielleicht hätte ich jetzt Lektion da eher erwartet aber... Ich meine, es sind ja immer viele Anglizismen mittlerweile irgendwo, aber ich, ja, hänge ich mich bloß grad ein bisschen auf. Nur so, genau.']"
      ]
     },
     "execution_count": 6,
     "metadata": {},
     "output_type": "execute_result"
    }
   ],
   "source": [
    "text_extract_v"
   ]
  },
  {
   "cell_type": "code",
   "execution_count": 12,
   "id": "b65b9c0d-3d38-479a-b5d8-8dd2596d7392",
   "metadata": {
    "tags": []
   },
   "outputs": [
    {
     "data": {
      "text/plain": [
       "16"
      ]
     },
     "execution_count": 12,
     "metadata": {},
     "output_type": "execute_result"
    }
   ],
   "source": [
    "len(df.index)"
   ]
  },
  {
   "cell_type": "code",
   "execution_count": 9,
   "id": "77f40191-2b49-4750-bdd4-0cb1a04e4e3f",
   "metadata": {},
   "outputs": [],
   "source": [
    "texts_processed = tokenize.sent_tokenize(text_extract)"
   ]
  },
  {
   "cell_type": "code",
   "execution_count": 10,
   "id": "4910c9e3-cde1-43cd-959b-4c932911ee60",
   "metadata": {},
   "outputs": [
    {
     "name": "stdout",
     "output_type": "stream",
     "text": [
      "['positive', 'positive', 'negative', 'positive', 'negative', 'positive', 'positive', 'positive', 'negative', 'negative', 'positive', 'positive', 'negative', 'negative', 'negative', 'negative', 'positive', 'positive', 'negative', 'positive', 'negative', 'negative', 'negative', 'positive', 'positive', 'negative', 'negative', 'positive', 'positive', 'negative', 'negative', 'positive', 'negative', 'positive', 'positive', 'positive', 'negative', 'negative', 'negative', 'negative', 'positive', 'positive', 'positive', 'positive', 'negative', 'negative', 'positive', 'negative', 'negative', 'negative', 'negative', 'negative', 'negative', 'negative', 'negative', 'positive', 'positive', 'negative', 'positive', 'negative', 'positive', 'negative', 'positive', 'negative', 'negative', 'negative', 'negative', 'negative', 'negative', 'negative', 'positive', 'positive', 'negative', 'negative', 'positive', 'negative', 'positive', 'positive', 'negative', 'negative', 'negative', 'negative', 'negative', 'negative', 'negative', 'positive', 'positive', 'negative', 'negative', 'positive', 'positive', 'negative', 'positive', 'positive', 'positive', 'negative', 'negative', 'negative', 'positive', 'positive', 'negative', 'negative', 'negative', 'negative', 'positive', 'positive', 'positive', 'negative', 'positive', 'positive', 'positive', 'negative', 'positive', 'negative', 'positive', 'negative', 'positive', 'positive', 'positive', 'positive', 'negative', 'negative', 'negative', 'positive', 'negative', 'positive', 'negative', 'negative', 'negative', 'positive', 'negative', 'positive', 'negative', 'positive', 'negative', 'positive', 'positive', 'negative', 'negative', 'positive', 'negative', 'negative', 'negative', 'negative', 'positive', 'positive', 'negative', 'negative', 'negative', 'positive', 'positive', 'negative', 'negative', 'negative', 'negative', 'positive', 'positive', 'negative', 'negative', 'positive', 'positive', 'negative', 'negative', 'positive', 'positive', 'positive', 'negative', 'negative', 'negative', 'negative', 'positive', 'negative', 'negative', 'positive', 'negative', 'positive', 'negative', 'negative', 'negative', 'positive', 'positive', 'negative', 'negative', 'positive', 'negative', 'negative', 'positive', 'negative', 'negative', 'positive', 'negative', 'positive', 'positive', 'negative', 'negative', 'negative', 'positive', 'positive', 'negative', 'negative', 'negative', 'positive', 'negative', 'negative', 'positive', 'negative', 'positive', 'positive', 'positive', 'negative']\n"
     ]
    }
   ],
   "source": [
    "result = model.predict_sentiment(text_extract)\n",
    "print(result)"
   ]
  },
  {
   "cell_type": "code",
   "execution_count": 11,
   "id": "0ae7a625-6d88-4ecc-a871-4a487e8e7809",
   "metadata": {},
   "outputs": [
    {
     "name": "stdout",
     "output_type": "stream",
     "text": [
      "(['positive'], [[['positive', 0.8640887141227722], ['negative', 0.11287859827280045], ['neutral', 0.023032663390040398]]])\n"
     ]
    }
   ],
   "source": [
    "result = model.predict_sentiment(text_extract_v, output_probabilities = True)\n",
    "print(result)"
   ]
  }
 ],
 "metadata": {
  "kernelspec": {
   "display_name": "Python 3 (ipykernel)",
   "language": "python",
   "name": "python3"
  },
  "language_info": {
   "codemirror_mode": {
    "name": "ipython",
    "version": 3
   },
   "file_extension": ".py",
   "mimetype": "text/x-python",
   "name": "python",
   "nbconvert_exporter": "python",
   "pygments_lexer": "ipython3",
   "version": "3.10.2"
  }
 },
 "nbformat": 4,
 "nbformat_minor": 5
}
