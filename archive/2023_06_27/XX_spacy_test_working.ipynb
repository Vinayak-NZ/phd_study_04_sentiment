{
 "cells": [
  {
   "cell_type": "code",
   "execution_count": 3,
   "id": "4e44091f-f895-4eb8-b7c3-3fc468ae3503",
   "metadata": {
    "tags": []
   },
   "outputs": [],
   "source": [
    "import spacy\n",
    "import numpy"
   ]
  },
  {
   "cell_type": "code",
   "execution_count": 4,
   "id": "07a27ece-a917-4920-a951-0ce1247cf4d6",
   "metadata": {
    "tags": []
   },
   "outputs": [],
   "source": [
    "nlp = spacy.load(\"de_dep_news_trf\")\n",
    "import de_dep_news_trf"
   ]
  },
  {
   "cell_type": "code",
   "execution_count": 5,
   "id": "e1641e29-1b17-4eb2-83e9-428bdaca0e36",
   "metadata": {
    "tags": []
   },
   "outputs": [],
   "source": [
    "nlp = de_dep_news_trf.load()"
   ]
  },
  {
   "cell_type": "code",
   "execution_count": 6,
   "id": "516910fa-c25c-48b8-a235-673fdb2032f3",
   "metadata": {
    "tags": []
   },
   "outputs": [
    {
     "name": "stdout",
     "output_type": "stream",
     "text": [
      "[('Dies', 'PRON'), ('ist', 'AUX'), ('ein', 'DET'), ('Satz', 'NOUN'), ('.', 'PUNCT')]\n"
     ]
    }
   ],
   "source": [
    "doc = nlp(\"Dies ist ein Satz.\")\n",
    "print([(w.text, w.pos_) for w in doc])"
   ]
  }
 ],
 "metadata": {
  "kernelspec": {
   "display_name": "Python 3 (ipykernel)",
   "language": "python",
   "name": "python3"
  },
  "language_info": {
   "codemirror_mode": {
    "name": "ipython",
    "version": 3
   },
   "file_extension": ".py",
   "mimetype": "text/x-python",
   "name": "python",
   "nbconvert_exporter": "python",
   "pygments_lexer": "ipython3",
   "version": "3.10.2"
  }
 },
 "nbformat": 4,
 "nbformat_minor": 5
}
