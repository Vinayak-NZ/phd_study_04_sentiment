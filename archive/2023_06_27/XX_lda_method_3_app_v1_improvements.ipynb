{
 "cells": [
  {
   "cell_type": "code",
   "execution_count": 11,
   "id": "a63cbda1-339d-48d7-aa2f-87f55fce9cc3",
   "metadata": {
    "tags": []
   },
   "outputs": [],
   "source": [
    "import os\n",
    "import re\n",
    "import numpy as np\n",
    "import pandas as pd\n",
    "from pprint import pprint\n",
    "\n",
    "# reading docfiles\n",
    "import docx2txt\n",
    "\n",
    "#nltk\n",
    "import nltk\n",
    "from nltk.tokenize import word_tokenize\n",
    "\n",
    "# Gensim\n",
    "import gensim\n",
    "import gensim.corpora as corpora\n",
    "from gensim.utils import simple_preprocess\n",
    "from gensim.models import CoherenceModel\n",
    "\n",
    "# spacy for lemmatization\n",
    "import spacy\n",
    "\n",
    "# Plotting tools\n",
    "import pyLDAvis\n",
    "import pyLDAvis.gensim  # don't skip this\n",
    "import matplotlib.pyplot as plt\n",
    "%matplotlib inline\n",
    "\n",
    "# Enable logging for gensim - optional\n",
    "import logging\n",
    "logging.basicConfig(format='%(asctime)s : %(levelname)s : %(message)s', level=logging.ERROR)\n",
    "\n",
    "import warnings\n",
    "warnings.filterwarnings(\"ignore\",category=DeprecationWarning)"
   ]
  },
  {
   "cell_type": "code",
   "execution_count": 12,
   "id": "7b222ed7-905b-4058-9307-46c9edf6407c",
   "metadata": {
    "tags": []
   },
   "outputs": [],
   "source": [
    "word_exclusions = pd.read_excel(\"input/word_exclusions.xlsx\")\n",
    "\n",
    "word_exclusions = word_exclusions[word_exclusions[\"exclude\"] == 1]\n",
    "\n",
    "word_exclusions = word_exclusions.drop(columns=['exclude', 'exclude_short_list'], axis = 1)"
   ]
  },
  {
   "cell_type": "code",
   "execution_count": 13,
   "id": "2d89047e-92e5-4a22-a426-396eba7086f7",
   "metadata": {
    "tags": []
   },
   "outputs": [],
   "source": [
    "# NLTK Stop words\n",
    "from nltk.corpus import stopwords\n",
    "stop_words = stopwords.words('german')\n",
    "stop_words.extend(word_exclusions[\"word\"])\n",
    "stop_words.extend([\"gut\"])"
   ]
  },
  {
   "cell_type": "code",
   "execution_count": 14,
   "id": "e702800b-847d-4af0-84f5-03b89c8e6650",
   "metadata": {
    "tags": []
   },
   "outputs": [],
   "source": [
    "df = pd.read_excel(\"input/app_v1/app_v1_feedback.xlsx\")"
   ]
  },
  {
   "cell_type": "code",
   "execution_count": 15,
   "id": "a0db0e57-68c9-4e6b-b15c-9a12607e15a7",
   "metadata": {
    "tags": []
   },
   "outputs": [
    {
     "data": {
      "text/html": [
       "<div>\n",
       "<style scoped>\n",
       "    .dataframe tbody tr th:only-of-type {\n",
       "        vertical-align: middle;\n",
       "    }\n",
       "\n",
       "    .dataframe tbody tr th {\n",
       "        vertical-align: top;\n",
       "    }\n",
       "\n",
       "    .dataframe thead th {\n",
       "        text-align: right;\n",
       "    }\n",
       "</style>\n",
       "<table border=\"1\" class=\"dataframe\">\n",
       "  <thead>\n",
       "    <tr style=\"text-align: right;\">\n",
       "      <th></th>\n",
       "      <th>transcript_id</th>\n",
       "      <th>person_id</th>\n",
       "      <th>segment_id</th>\n",
       "      <th>context</th>\n",
       "      <th>lesson</th>\n",
       "      <th>text</th>\n",
       "      <th>category_id</th>\n",
       "    </tr>\n",
       "  </thead>\n",
       "  <tbody>\n",
       "    <tr>\n",
       "      <th>0</th>\n",
       "      <td>ss_01</td>\n",
       "      <td>p_01</td>\n",
       "      <td>s_001</td>\n",
       "      <td>NaN</td>\n",
       "      <td>NaN</td>\n",
       "      <td>Das ist in Ordnung.</td>\n",
       "      <td>1</td>\n",
       "    </tr>\n",
       "    <tr>\n",
       "      <th>1</th>\n",
       "      <td>ss_01</td>\n",
       "      <td>p_01</td>\n",
       "      <td>s_002</td>\n",
       "      <td>NaN</td>\n",
       "      <td>NaN</td>\n",
       "      <td>Eine kurze Zwischenfrage, wann soll die App ei...</td>\n",
       "      <td>1</td>\n",
       "    </tr>\n",
       "    <tr>\n",
       "      <th>2</th>\n",
       "      <td>ss_01</td>\n",
       "      <td>p_01</td>\n",
       "      <td>s_003</td>\n",
       "      <td>In der ersten Version läuft die jetzt schon se...</td>\n",
       "      <td>NaN</td>\n",
       "      <td>Interessant. Okay.</td>\n",
       "      <td>1</td>\n",
       "    </tr>\n",
       "    <tr>\n",
       "      <th>3</th>\n",
       "      <td>ss_01</td>\n",
       "      <td>p_01</td>\n",
       "      <td>s_004</td>\n",
       "      <td>Ich würde einfach anfangen, ein bisschen allge...</td>\n",
       "      <td>NaN</td>\n",
       "      <td>Nein, soweit nicht. Alles klar.</td>\n",
       "      <td>1</td>\n",
       "    </tr>\n",
       "    <tr>\n",
       "      <th>4</th>\n",
       "      <td>ss_01</td>\n",
       "      <td>p_01</td>\n",
       "      <td>s_005</td>\n",
       "      <td>Perfekt, klasse. Ist das Ihre erste Schwangers...</td>\n",
       "      <td>NaN</td>\n",
       "      <td>Ja.</td>\n",
       "      <td>12</td>\n",
       "    </tr>\n",
       "  </tbody>\n",
       "</table>\n",
       "</div>"
      ],
      "text/plain": [
       "  transcript_id person_id segment_id   \n",
       "0         ss_01      p_01      s_001  \\\n",
       "1         ss_01      p_01      s_002   \n",
       "2         ss_01      p_01      s_003   \n",
       "3         ss_01      p_01      s_004   \n",
       "4         ss_01      p_01      s_005   \n",
       "\n",
       "                                             context lesson   \n",
       "0                                                NaN    NaN  \\\n",
       "1                                                NaN    NaN   \n",
       "2  In der ersten Version läuft die jetzt schon se...    NaN   \n",
       "3  Ich würde einfach anfangen, ein bisschen allge...    NaN   \n",
       "4  Perfekt, klasse. Ist das Ihre erste Schwangers...    NaN   \n",
       "\n",
       "                                                text  category_id  \n",
       "0                                Das ist in Ordnung.            1  \n",
       "1  Eine kurze Zwischenfrage, wann soll die App ei...            1  \n",
       "2                                 Interessant. Okay.            1  \n",
       "3                    Nein, soweit nicht. Alles klar.            1  \n",
       "4                                                Ja.           12  "
      ]
     },
     "execution_count": 15,
     "metadata": {},
     "output_type": "execute_result"
    }
   ],
   "source": [
    "df.head()"
   ]
  },
  {
   "cell_type": "code",
   "execution_count": 16,
   "id": "0db4fec8-4258-467c-8e27-bfdd97d073d7",
   "metadata": {
    "tags": []
   },
   "outputs": [],
   "source": [
    "improvements = df[df[\"category_id\"] == 10]"
   ]
  },
  {
   "cell_type": "code",
   "execution_count": 17,
   "id": "a97f985b-fee3-42cc-b009-8a8589d56c99",
   "metadata": {
    "tags": []
   },
   "outputs": [],
   "source": [
    "improvements = improvements.drop(columns=['transcript_id', 'person_id', 'segment_id', 'context', 'lesson', 'category_id'], \n",
    "             axis = 1)"
   ]
  },
  {
   "cell_type": "code",
   "execution_count": 18,
   "id": "7ded6587-ac14-4737-9894-87650f6e169d",
   "metadata": {
    "tags": []
   },
   "outputs": [],
   "source": [
    "improvements['text_processed'] = \\\n",
    "improvements['text'].map(lambda x: re.sub('[,.!?]', '', x))"
   ]
  },
  {
   "cell_type": "code",
   "execution_count": 19,
   "id": "1bce4c78-2219-4486-8a93-3dcb231771d1",
   "metadata": {
    "tags": []
   },
   "outputs": [],
   "source": [
    "improvements['text_processed'] = \\\n",
    "improvements['text_processed'].map(lambda x: x.lower())"
   ]
  },
  {
   "cell_type": "code",
   "execution_count": 20,
   "id": "d5930730-b34c-4ca5-8bad-61f2ecb078d4",
   "metadata": {},
   "outputs": [
    {
     "data": {
      "text/plain": [
       "35    [jetzt, sehen, sie, wahrscheinlich, die, start...\n",
       "36    [ja, genau, vielleicht, hätte, ich, jetzt, „, ...\n",
       "40    [hier, wäre, es, vielleicht, noch, hilfreich, ...\n",
       "42    [während, der, schwangerschaft, hatte, ich, ko...\n",
       "43    [genau, deswegen, würde, ich, jetzt, eher, hie...\n",
       "Name: text_processed, dtype: object"
      ]
     },
     "execution_count": 20,
     "metadata": {},
     "output_type": "execute_result"
    }
   ],
   "source": [
    "feedback = improvements['text_processed']\n",
    "\n",
    "feedback_token = feedback.apply(word_tokenize)\n",
    "feedback_token.head()"
   ]
  },
  {
   "cell_type": "code",
   "execution_count": 44,
   "id": "2d2d7295-8f90-4b21-ab3a-38ec33c4d69c",
   "metadata": {
    "tags": []
   },
   "outputs": [
    {
     "name": "stderr",
     "output_type": "stream",
     "text": [
      "C:\\Users\\vanandkuma\\AppData\\Local\\Programs\\Python\\Python310\\lib\\site-packages\\joblib\\_memmapping_reducer.py:611: UserWarning: Failed to delete temporary folder: C:\\Users\\VANAND~1\\AppData\\Local\\Temp\\joblib_memmapping_folder_125020_9fa2bb9e459f4df8af8277871906b4fd_55b84863493847d097e2d0abd34af8c4\n",
      "  warnings.warn(\"Failed to delete temporary folder: {}\"\n",
      "C:\\Users\\vanandkuma\\AppData\\Local\\Programs\\Python\\Python310\\lib\\site-packages\\joblib\\_memmapping_reducer.py:611: UserWarning: Failed to delete temporary folder: C:\\Users\\VANAND~1\\AppData\\Local\\Temp\\joblib_memmapping_folder_125020_807a4632f307485b8350696c17c76faa_010aeb5a3de54d4fa67704a9681fc0bb\n",
      "  warnings.warn(\"Failed to delete temporary folder: {}\"\n",
      "C:\\Users\\vanandkuma\\AppData\\Local\\Programs\\Python\\Python310\\lib\\site-packages\\joblib\\_memmapping_reducer.py:611: UserWarning: Failed to delete temporary folder: C:\\Users\\VANAND~1\\AppData\\Local\\Temp\\joblib_memmapping_folder_125020_9fa2bb9e459f4df8af8277871906b4fd_d81a4b65baf84451883543d354d1996e\n",
      "  warnings.warn(\"Failed to delete temporary folder: {}\"\n",
      "C:\\Users\\vanandkuma\\AppData\\Local\\Programs\\Python\\Python310\\lib\\site-packages\\joblib\\_memmapping_reducer.py:611: UserWarning: Failed to delete temporary folder: C:\\Users\\VANAND~1\\AppData\\Local\\Temp\\joblib_memmapping_folder_125020_9fa2bb9e459f4df8af8277871906b4fd_f2f4e2f4de6144a3befe0aeeb23823a8\n",
      "  warnings.warn(\"Failed to delete temporary folder: {}\"\n"
     ]
    }
   ],
   "source": [
    "def sent_to_words(sentences):\n",
    "    for sentence in sentences:\n",
    "        yield(gensim.utils.simple_preprocess(str(sentence), \n",
    "                                             deacc = True))"
   ]
  },
  {
   "cell_type": "code",
   "execution_count": 26,
   "id": "96058291-ea0d-4121-9753-5e6c13f5c05e",
   "metadata": {
    "tags": []
   },
   "outputs": [],
   "source": [
    "data = improvements.text_processed.values.tolist()\n",
    "data_words = list(sent_to_words(data))"
   ]
  },
  {
   "cell_type": "code",
   "execution_count": 27,
   "id": "f93b643c-d637-46ef-ae5a-581618d51d3c",
   "metadata": {
    "tags": []
   },
   "outputs": [
    {
     "name": "stdout",
     "output_type": "stream",
     "text": [
      "['jetzt', 'sehen', 'sie', 'wahrscheinlich', 'die', 'startseite', 'okay', 'okay', 'das', 'heißt', 'ich', 'kann', 'jetzt', 'einfach', 'auf', 'jetzt', 'starten', 'gehen', 'oder', 'muss', 'ich', 'mich', 'erst', 'registrieren', 'okay', 'eine', 'ganz', 'komische', 'kleine', 'sache', 'aber', 'ich', 'hange', 'mich', 'unheimlich', 'an', 'diesem', 'wort', 'auf']\n"
     ]
    }
   ],
   "source": [
    "# Build the bigram and trigram models\n",
    "bigram = gensim.models.Phrases(data_words, min_count=5, threshold=10) # higher threshold fewer phrases.\n",
    "trigram = gensim.models.Phrases(bigram[data_words], threshold=10)  \n",
    "\n",
    "# Faster way to get a sentence clubbed as a trigram/bigram\n",
    "bigram_mod = gensim.models.phrases.Phraser(bigram)\n",
    "trigram_mod = gensim.models.phrases.Phraser(trigram)\n",
    "\n",
    "# See trigram example\n",
    "print(trigram_mod[bigram_mod[data_words[0]]])"
   ]
  },
  {
   "cell_type": "code",
   "execution_count": 28,
   "id": "2af4afc7-6a3d-48b7-82ff-90eed9de2196",
   "metadata": {
    "tags": []
   },
   "outputs": [],
   "source": [
    "# Define functions for stopwords, bigrams, trigrams and lemmatization\n",
    "def remove_stopwords(texts):\n",
    "    return [[word for word in simple_preprocess(str(doc)) if word not in stop_words] for doc in texts]\n",
    "\n",
    "def make_bigrams(texts):\n",
    "    return [bigram_mod[doc] for doc in texts]\n",
    "\n",
    "def make_trigrams(texts):\n",
    "    return [trigram_mod[bigram_mod[doc]] for doc in texts]\n",
    "\n",
    "def lemmatization(texts, allowed_postags=['NOUN', 'ADJ', 'VERB', 'ADV']):\n",
    "    \"\"\"https://spacy.io/api/annotation\"\"\"\n",
    "    texts_out = []\n",
    "    for sent in texts:\n",
    "        doc = nlp(\" \".join(sent)) \n",
    "        texts_out.append([token.lemma_ for token in doc if token.pos_ in allowed_postags])\n",
    "    return texts_out"
   ]
  },
  {
   "cell_type": "code",
   "execution_count": 29,
   "id": "1b69d6e8-5363-4e0c-b957-5f3955ab01b6",
   "metadata": {
    "tags": []
   },
   "outputs": [],
   "source": [
    "# Remove Stop Words\n",
    "data_words_nostops = remove_stopwords(feedback_token)"
   ]
  },
  {
   "cell_type": "code",
   "execution_count": 30,
   "id": "f2d6824d-d63c-40f8-84bd-ba140c374d8b",
   "metadata": {
    "tags": []
   },
   "outputs": [],
   "source": [
    "# Form Bigrams\n",
    "data_words_bigrams = make_bigrams(data_words_nostops)"
   ]
  },
  {
   "cell_type": "code",
   "execution_count": 31,
   "id": "0945842d-b7ab-472a-98b6-48aae1d916ea",
   "metadata": {
    "tags": []
   },
   "outputs": [],
   "source": [
    "# Initialize spacy 'en' model, keeping only tagger component (for efficiency)\n",
    "# python3 -m spacy download en\n",
    "nlp = spacy.load(\"de_core_news_sm\", disable = ['parser', 'ner'])"
   ]
  },
  {
   "cell_type": "code",
   "execution_count": 32,
   "id": "a344947a-84c8-409c-adda-e7ec17a156d5",
   "metadata": {
    "tags": []
   },
   "outputs": [
    {
     "name": "stdout",
     "output_type": "stream",
     "text": [
      "[['sehen', 'wahrscheinlich', 'Startseit', 'heißen', 'einfach', 'starten', 'gehen', 'Registrier', 'ganz', 'komisch', 'klein', 'Sache', 'hängen', 'unheimlich', 'Wort']]\n"
     ]
    }
   ],
   "source": [
    "# Do lemmatization keeping only noun, adj, vb, adv\n",
    "data_lemmatized = lemmatization(data_words_bigrams, allowed_postags=['NOUN', 'ADJ', 'VERB', 'ADV'])\n",
    "\n",
    "print(data_lemmatized[:1])"
   ]
  },
  {
   "cell_type": "code",
   "execution_count": 33,
   "id": "e4fc1c71-d11b-47b4-b9b0-ce77aff86e78",
   "metadata": {
    "tags": []
   },
   "outputs": [
    {
     "name": "stdout",
     "output_type": "stream",
     "text": [
      "[[(0, 1), (1, 1), (2, 1), (3, 1), (4, 1), (5, 1), (6, 1), (7, 1), (8, 1), (9, 1), (10, 1), (11, 1), (12, 1), (13, 1), (14, 1)]]\n"
     ]
    }
   ],
   "source": [
    "# Create Dictionary\n",
    "id2word = corpora.Dictionary(data_lemmatized)\n",
    "\n",
    "# Create Corpus\n",
    "texts = data_lemmatized\n",
    "\n",
    "# Term Document Frequency\n",
    "corpus = [id2word.doc2bow(text) for text in texts]\n",
    "\n",
    "# View\n",
    "print(corpus[:1])"
   ]
  },
  {
   "cell_type": "code",
   "execution_count": 34,
   "id": "f39484e3-e8d1-4a52-aa71-25f88f96c76e",
   "metadata": {
    "tags": []
   },
   "outputs": [
    {
     "data": {
      "text/plain": [
       "[[('Registrier', 1),\n",
       "  ('Sache', 1),\n",
       "  ('Startseit', 1),\n",
       "  ('Wort', 1),\n",
       "  ('einfach', 1),\n",
       "  ('ganz', 1),\n",
       "  ('gehen', 1),\n",
       "  ('heißen', 1),\n",
       "  ('hängen', 1),\n",
       "  ('klein', 1),\n",
       "  ('komisch', 1),\n",
       "  ('sehen', 1),\n",
       "  ('starten', 1),\n",
       "  ('unheimlich', 1),\n",
       "  ('wahrscheinlich', 1)]]"
      ]
     },
     "execution_count": 34,
     "metadata": {},
     "output_type": "execute_result"
    }
   ],
   "source": [
    "# Human readable format of corpus (term-frequency)\n",
    "[[(id2word[id], freq) for id, freq in cp] for cp in corpus[:1]]"
   ]
  },
  {
   "cell_type": "code",
   "execution_count": 39,
   "id": "e73fe189-e116-4403-a711-bef5c8a843f4",
   "metadata": {
    "tags": []
   },
   "outputs": [],
   "source": [
    "# Build LDA model\n",
    "lda_model = gensim.models.ldamodel.LdaModel(corpus=corpus,\n",
    "                                           id2word=id2word,\n",
    "                                           num_topics=3, \n",
    "                                           random_state=100,\n",
    "                                           update_every=1,\n",
    "                                           chunksize=100,\n",
    "                                           passes=10,\n",
    "                                           alpha='auto',\n",
    "                                           per_word_topics=True)"
   ]
  },
  {
   "cell_type": "code",
   "execution_count": 40,
   "id": "940657c6-5ebd-4e42-8fc9-f9b5b1db19d8",
   "metadata": {
    "tags": []
   },
   "outputs": [
    {
     "name": "stdout",
     "output_type": "stream",
     "text": [
      "[(0,\n",
      "  '0.023*\"geben\" + 0.020*\"Frau\" + 0.019*\"app\" + 0.019*\"ändern\" + '\n",
      "  '0.017*\"fällen\" + 0.016*\"Mensch\" + 0.015*\"schwangeren\" + 0.014*\"Sprache\" + '\n",
      "  '0.014*\"lernen\" + 0.014*\"Richtlinie\"'),\n",
      " (1,\n",
      "  '0.036*\"fällen\" + 0.025*\"Frage\" + 0.024*\"app\" + 0.019*\"dahingehend\" + '\n",
      "  '0.015*\"Frau\" + 0.015*\"Verantwortung\" + 0.014*\"Kommunikation\" + '\n",
      "  '0.013*\"Ansatz\" + 0.013*\"Erwartung\" + 0.012*\"kommunizieren\"'),\n",
      " (2,\n",
      "  '0.019*\"Situation\" + 0.015*\"Beispiel\" + 0.014*\"ändern\" + 0.013*\"klar\" + '\n",
      "  '0.013*\"finden\" + 0.012*\"vielleicht\" + 0.012*\"Frage\" + 0.011*\"offen\" + '\n",
      "  '0.011*\"persönlich\" + 0.010*\"gehen\"')]\n"
     ]
    }
   ],
   "source": [
    "# Print the Keyword in the 10 topics\n",
    "pprint(lda_model.print_topics())\n",
    "doc_lda = lda_model[corpus]"
   ]
  },
  {
   "cell_type": "code",
   "execution_count": 41,
   "id": "da9ea0b7-09b6-47a1-b96a-c949f8877f2a",
   "metadata": {
    "tags": []
   },
   "outputs": [
    {
     "name": "stdout",
     "output_type": "stream",
     "text": [
      "\n",
      "Perplexity:  -6.846149475297384\n",
      "\n",
      "Coherence Score:  0.4472720725236187\n"
     ]
    }
   ],
   "source": [
    "# Compute Perplexity\n",
    "print('\\nPerplexity: ', lda_model.log_perplexity(corpus))  # a measure of how good the model is. lower the better.\n",
    "\n",
    "# Compute Coherence Score\n",
    "coherence_model_lda = CoherenceModel(model=lda_model, texts=data_lemmatized, dictionary=id2word, coherence='c_v')\n",
    "coherence_lda = coherence_model_lda.get_coherence()\n",
    "print('\\nCoherence Score: ', coherence_lda)"
   ]
  },
  {
   "cell_type": "code",
   "execution_count": 42,
   "id": "35834e7c-9f91-4ba1-a9e3-46c49c04f2e7",
   "metadata": {
    "tags": []
   },
   "outputs": [
    {
     "data": {
      "text/html": [
       "\n",
       "<link rel=\"stylesheet\" type=\"text/css\" href=\"https://cdn.jsdelivr.net/gh/bmabey/pyLDAvis@3.4.0/pyLDAvis/js/ldavis.v1.0.0.css\">\n",
       "\n",
       "\n",
       "<div id=\"ldavis_el12502020546740772167773093706\" style=\"background-color:white;\"></div>\n",
       "<script type=\"text/javascript\">\n",
       "\n",
       "var ldavis_el12502020546740772167773093706_data = {\"mdsDat\": {\"x\": [-0.07359874584849978, -0.07430499368586972, 0.14790373953436947], \"y\": [0.09682870669095152, -0.09652095521914938, -0.00030775147180207114], \"topics\": [1, 2, 3], \"cluster\": [1, 1, 1], \"Freq\": [40.810848112416004, 38.31941957146481, 20.86973231611918]}, \"tinfo\": {\"Term\": [\"f\\u00e4llen\", \"geben\", \"Frau\", \"Situation\", \"dahingehend\", \"Mensch\", \"lernen\", \"app\", \"schwangeren\", \"Sprache\", \"Richtlinie\", \"Datum\", \"wenden\", \"Beispiel\", \"Verantwortung\", \"Frage\", \"ver\\u00e4ndern\", \"Ansatz\", \"Erwartung\", \"klar\", \"offen\", \"kommunizieren\", \"pers\\u00f6nlich\", \"weit\", \"nachdenken\", \"\\u00e4ndern\", \"liegen\", \"finden\", \"suggerieren\", \"Aufgabe\", \"dahingehend\", \"Ansatz\", \"Erwartung\", \"Verantwortung\", \"kommunizieren\", \"liegen\", \"schwangere_frau\", \"erinnern\", \"stellen\", \"wissen\", \"fr\\u00fch\", \"Gesamt\", \"begriffe\", \"verwenden\", \"Bewertung\", \"Sinn\", \"ergeben\", \"Blickwinkel\", \"einnehmen\", \"Zeit\", \"kompliziert\", \"verbringen\", \"Hilfsmittel\", \"Menge\", \"Schmerz\", \"benutzen\", \"verhalten\", \"verst\\u00e4rkt\", \"Bed\\u00fcrfnisse\", \"stressen\", \"schwierig\", \"f\\u00e4llen\", \"daran\", \"Frage\", \"app\", \"Kommunikation\", \"Antwort\", \"Frau\", \"negativ\", \"ver\\u00e4ndern\", \"bissch\", \"beantworten\", \"\\u00e4ndern\", \"verfolgen\", \"Beispiel\", \"offen\", \"pers\\u00f6nlich\", \"weit\", \"nachdenken\", \"Situation\", \"Formuliere\", \"botschafen\", \"antwort\", \"ausfallen\", \"gefasst\", \"unterschiedlich\", \"verschieden\", \"klar\", \"finden\", \"nat\\u00fcrlich\", \"schlie\\u00dfen\", \"\\u00fcberlegen\", \"wirklich\", \"schlecht\", \"Gef\\u00fchl\", \"grunds\\u00e4tzlich\", \"dar\\u00fcber\", \"zweiter\", \"Patientin\", \"\\u00fcberpr\\u00fcfen\", \"Stromkreis\", \"wollen\", \"umfeld\", \"k\\u00fcrz\", \"vielleicht\", \"Geburt\", \"gehen\", \"immer\", \"schwer\", \"ganz\", \"beantworten\", \"\\u00e4ndern\", \"Frage\", \"Kommunikation\", \"Thema\", \"richtig\", \"gerade\", \"Lektion\", \"lernen\", \"Richtlinie\", \"Datum\", \"wenden\", \"Mensch\", \"suggerieren\", \"geben\", \"Aufgabe\", \"Sprache\", \"Begriff\", \"L\\u00f6sung\", \"Personal\", \"Recht\", \"Richtlinien\", \"Weise\", \"darstellen\", \"einf\\u00fcge\", \"f\\u00f6rdern\", \"geburt\", \"gelten\", \"halten\", \"leitlinie\", \"leitlinien\", \"medizinisch\", \"pr\\u00e4gnant\", \"richtlini\", \"sicherstell\", \"sinnvoll\", \"sogar\", \"wann\", \"schwangeren\", \"Frau\", \"\\u00e4ndern\", \"ver\\u00e4ndern\", \"schwangerschaft\", \"app\", \"f\\u00e4llen\", \"machen\", \"einfach\", \"gerade\"], \"Freq\": [21.0, 6.0, 12.0, 9.0, 9.0, 4.0, 3.0, 17.0, 5.0, 4.0, 3.0, 3.0, 3.0, 6.0, 7.0, 16.0, 7.0, 6.0, 6.0, 6.0, 5.0, 5.0, 5.0, 4.0, 4.0, 14.0, 5.0, 6.0, 2.0, 2.0, 8.721007885318386, 5.897601423967165, 5.897463203842176, 6.817844152045133, 5.489325172265006, 4.8115651724865085, 4.417005643344789, 3.418993513593873, 3.4189915637801978, 3.684042518788508, 3.359804103079728, 3.069945668679367, 3.069945668679367, 3.069945668679367, 3.0699445854495475, 3.0699445854495475, 3.0699445854495475, 3.0699415524060525, 3.0699415524060525, 3.06993808607063, 3.06993808607063, 3.06993808607063, 3.069875258741089, 3.069875258741089, 3.069875258741089, 3.069875258741089, 3.069875258741089, 3.069875258741089, 3.0697526371255033, 3.0697526371255033, 5.399741199594948, 16.870349465855792, 3.7978817402885516, 11.590559936987288, 11.302757906076577, 6.461964160012043, 3.7677952486933513, 7.1824805406484575, 3.7459547357773606, 4.185439271875964, 3.383960128058232, 3.419631969249583, 3.666668812356883, 3.0708568816036683, 6.415376250783116, 4.757981536560189, 4.752081132580739, 4.317268186606654, 4.317195769044194, 8.265942371823884, 3.8764954379782917, 3.8764954379782917, 3.8764319709010806, 3.8764319709010806, 3.8764319709010806, 3.8764319709010806, 3.8764319709010806, 5.63937528240794, 5.530387664587684, 2.059275570248681, 1.6281823645755078, 1.6281774824926454, 1.6281746346109756, 1.628143714752847, 1.6280958093147597, 1.62601512662484, 1.6256906715346093, 1.6223174574068686, 1.1874537581130267, 1.187452537592311, 1.18745284272249, 1.1874499948408204, 1.1874506051011782, 1.1874498931307607, 5.412561442585288, 2.5096222867903317, 4.57567317095143, 4.294711336421403, 4.3179089599823435, 2.5135822662520977, 3.875709422637445, 5.954619102797752, 5.106514652627764, 2.6345039322093755, 1.9144591599817358, 2.0688621502093647, 2.126721138152522, 1.911237392132789, 3.4338127428938288, 3.2454258776337332, 3.245384664579461, 3.2449530353874017, 3.7913510558467465, 2.061766573973114, 5.4771825627965605, 2.059870995052135, 3.4375467342411508, 1.8807934053953135, 1.8736582291926993, 1.689382920035197, 1.689382920035197, 1.689382920035197, 1.689382920035197, 1.689382920035197, 1.689382920035197, 1.689382920035197, 1.689382920035197, 1.689382920035197, 1.689382920035197, 1.689382920035197, 1.689382920035197, 1.689382920035197, 1.689382920035197, 1.689382920035197, 1.689382920035197, 1.689382920035197, 1.689382920035197, 1.689382920035197, 3.661541678392772, 4.860224912940239, 4.508448894016424, 3.203833264425817, 1.8814587968038115, 4.5340373260573745, 4.007645141389528, 2.2111233473836944, 2.0452773639039834, 1.854649704999486], \"Total\": [21.0, 6.0, 12.0, 9.0, 9.0, 4.0, 3.0, 17.0, 5.0, 4.0, 3.0, 3.0, 3.0, 6.0, 7.0, 16.0, 7.0, 6.0, 6.0, 6.0, 5.0, 5.0, 5.0, 4.0, 4.0, 14.0, 5.0, 6.0, 2.0, 2.0, 9.354784548223, 6.337050874456778, 6.336985643038601, 7.338911181809909, 5.958207941669257, 5.255511095354992, 4.918395421400525, 3.858431423652496, 3.8584307281690973, 4.184782127945985, 3.8318000171887947, 3.5093864931782943, 3.5093864931782943, 3.5093864931782943, 3.5093860036271467, 3.5093860036271467, 3.5093860036271467, 3.5093859101700944, 3.5093859101700944, 3.5093844074021523, 3.5093844074021523, 3.5093844074021523, 3.5093541072034493, 3.5093541072034493, 3.5093541072034493, 3.5093541072034493, 3.5093541072034493, 3.5093541072034493, 3.5094375657675507, 3.5094375657675507, 6.30513843568979, 21.184080682713375, 4.41300668188831, 16.830483711323566, 17.468588812376744, 9.421597821984061, 4.647919872642563, 12.35463482283772, 5.518824928570459, 7.70454208933668, 5.14508852386505, 7.428729823977571, 14.12973680917106, 3.949812427503301, 6.874556856245878, 5.1337622961039635, 5.130433209923747, 4.693031547567604, 4.6929900043483554, 9.00462715657364, 4.252273787271645, 4.252273787271645, 4.252265148196625, 4.252265148196625, 4.252265148196625, 4.252265148196625, 4.252265148196625, 6.364181202380419, 6.494791326928318, 2.442663465254697, 2.0039482025003714, 2.003946080836987, 2.0039447615089747, 2.003938016129776, 2.0039273522945718, 2.0028103737262453, 2.0025388611545334, 2.002716027716442, 1.5632145584030295, 1.5632131061875145, 1.5632143206473297, 1.5632131416206054, 1.563213990678076, 1.5632132433242367, 8.017470274067868, 3.5834009781090455, 7.154171737373666, 7.088877842325083, 7.520740200337684, 3.933258384649293, 7.428729823977571, 14.12973680917106, 16.830483711323566, 9.421597821984061, 3.3978892852024427, 5.098948849079254, 5.971848749331196, 4.156503960660603, 3.989033219400069, 3.793955835384793, 3.794027691880923, 3.794341147318005, 4.835572971757348, 2.631620766759673, 6.999690548656243, 2.6331470540001165, 4.426643234225713, 2.4308139635911807, 2.43629272664258, 2.2378640383714092, 2.2378640383714092, 2.2378640383714092, 2.2378640383714092, 2.2378640383714092, 2.2378640383714092, 2.2378640383714092, 2.2378640383714092, 2.2378640383714092, 2.2378640383714092, 2.2378640383714092, 2.2378640383714092, 2.2378640383714092, 2.2378640383714092, 2.2378640383714092, 2.2378640383714092, 2.2378640383714092, 2.2378640383714092, 2.2378640383714092, 5.54806099027679, 12.35463482283772, 14.12973680917106, 7.70454208933668, 2.7789056258066838, 17.468588812376744, 21.184080682713375, 5.227765690128821, 4.920873323072302, 5.971848749331196], \"Category\": [\"Default\", \"Default\", \"Default\", \"Default\", \"Default\", \"Default\", \"Default\", \"Default\", \"Default\", \"Default\", \"Default\", \"Default\", \"Default\", \"Default\", \"Default\", \"Default\", \"Default\", \"Default\", \"Default\", \"Default\", \"Default\", \"Default\", \"Default\", \"Default\", \"Default\", \"Default\", \"Default\", \"Default\", \"Default\", \"Default\", \"Topic1\", \"Topic1\", \"Topic1\", \"Topic1\", \"Topic1\", \"Topic1\", \"Topic1\", \"Topic1\", \"Topic1\", \"Topic1\", \"Topic1\", \"Topic1\", \"Topic1\", \"Topic1\", \"Topic1\", \"Topic1\", \"Topic1\", \"Topic1\", \"Topic1\", \"Topic1\", \"Topic1\", \"Topic1\", \"Topic1\", \"Topic1\", \"Topic1\", \"Topic1\", \"Topic1\", \"Topic1\", \"Topic1\", \"Topic1\", \"Topic1\", \"Topic1\", \"Topic1\", \"Topic1\", \"Topic1\", \"Topic1\", \"Topic1\", \"Topic1\", \"Topic1\", \"Topic1\", \"Topic1\", \"Topic1\", \"Topic1\", \"Topic1\", \"Topic2\", \"Topic2\", \"Topic2\", \"Topic2\", \"Topic2\", \"Topic2\", \"Topic2\", \"Topic2\", \"Topic2\", \"Topic2\", \"Topic2\", \"Topic2\", \"Topic2\", \"Topic2\", \"Topic2\", \"Topic2\", \"Topic2\", \"Topic2\", \"Topic2\", \"Topic2\", \"Topic2\", \"Topic2\", \"Topic2\", \"Topic2\", \"Topic2\", \"Topic2\", \"Topic2\", \"Topic2\", \"Topic2\", \"Topic2\", \"Topic2\", \"Topic2\", \"Topic2\", \"Topic2\", \"Topic2\", \"Topic2\", \"Topic2\", \"Topic2\", \"Topic2\", \"Topic2\", \"Topic2\", \"Topic2\", \"Topic2\", \"Topic2\", \"Topic3\", \"Topic3\", \"Topic3\", \"Topic3\", \"Topic3\", \"Topic3\", \"Topic3\", \"Topic3\", \"Topic3\", \"Topic3\", \"Topic3\", \"Topic3\", \"Topic3\", \"Topic3\", \"Topic3\", \"Topic3\", \"Topic3\", \"Topic3\", \"Topic3\", \"Topic3\", \"Topic3\", \"Topic3\", \"Topic3\", \"Topic3\", \"Topic3\", \"Topic3\", \"Topic3\", \"Topic3\", \"Topic3\", \"Topic3\", \"Topic3\", \"Topic3\", \"Topic3\", \"Topic3\", \"Topic3\", \"Topic3\", \"Topic3\", \"Topic3\", \"Topic3\", \"Topic3\"], \"logprob\": [30.0, 29.0, 28.0, 27.0, 26.0, 25.0, 24.0, 23.0, 22.0, 21.0, 20.0, 19.0, 18.0, 17.0, 16.0, 15.0, 14.0, 13.0, 12.0, 11.0, 10.0, 9.0, 8.0, 7.0, 6.0, 5.0, 4.0, 3.0, 2.0, 1.0, -3.9768, -4.368, -4.368, -4.223, -4.4398, -4.5715, -4.6571, -4.9132, -4.9132, -4.8386, -4.9307, -5.0209, -5.0209, -5.0209, -5.0209, -5.0209, -5.0209, -5.0209, -5.0209, -5.0209, -5.0209, -5.0209, -5.0209, -5.0209, -5.0209, -5.0209, -5.0209, -5.0209, -5.021, -5.021, -4.4562, -3.317, -4.8081, -3.6924, -3.7175, -4.2766, -4.8161, -4.1709, -4.8219, -4.7109, -4.9235, -4.913, -4.8433, -5.0206, -4.2209, -4.5197, -4.521, -4.6169, -4.617, -3.9674, -4.7246, -4.7246, -4.7247, -4.7247, -4.7247, -4.7247, -4.7247, -4.3498, -4.3693, -5.3572, -5.5921, -5.5921, -5.5921, -5.5921, -5.5922, -5.5934, -5.5936, -5.5957, -5.9078, -5.9078, -5.9078, -5.9078, -5.9078, -5.9078, -4.3908, -5.1594, -4.5588, -4.6222, -4.6168, -5.1579, -4.7248, -4.2954, -4.4491, -5.1109, -5.4301, -5.3526, -5.325, -5.4318, -4.2382, -4.2947, -4.2947, -4.2948, -4.1392, -4.7484, -3.7713, -4.7493, -4.2372, -4.8402, -4.844, -4.9475, -4.9475, -4.9475, -4.9475, -4.9475, -4.9475, -4.9475, -4.9475, -4.9475, -4.9475, -4.9475, -4.9475, -4.9475, -4.9475, -4.9475, -4.9475, -4.9475, -4.9475, -4.9475, -4.174, -3.8908, -3.966, -4.3076, -4.8399, -3.9603, -4.0837, -4.6784, -4.7564, -4.8542], \"loglift\": [30.0, 29.0, 28.0, 27.0, 26.0, 25.0, 24.0, 23.0, 22.0, 21.0, 20.0, 19.0, 18.0, 17.0, 16.0, 15.0, 14.0, 13.0, 12.0, 11.0, 10.0, 9.0, 8.0, 7.0, 6.0, 5.0, 4.0, 3.0, 2.0, 1.0, 0.8261, 0.8244, 0.8243, 0.8226, 0.8143, 0.808, 0.7887, 0.7753, 0.7753, 0.7688, 0.7648, 0.7624, 0.7624, 0.7624, 0.7624, 0.7624, 0.7624, 0.7624, 0.7624, 0.7624, 0.7624, 0.7624, 0.7624, 0.7624, 0.7624, 0.7624, 0.7624, 0.7624, 0.7624, 0.7624, 0.7412, 0.6685, 0.7461, 0.5232, 0.4609, 0.5192, 0.6863, 0.3538, 0.5087, 0.286, 0.4772, 0.1204, -0.4528, 0.6445, 0.8901, 0.8832, 0.8826, 0.8758, 0.8757, 0.8736, 0.8667, 0.8667, 0.8667, 0.8667, 0.8667, 0.8667, 0.8667, 0.8383, 0.7985, 0.7885, 0.7516, 0.7516, 0.7516, 0.7515, 0.7515, 0.7508, 0.7507, 0.7486, 0.6843, 0.6843, 0.6843, 0.6843, 0.6843, 0.6843, 0.5663, 0.603, 0.5123, 0.4581, 0.4043, 0.5115, 0.3086, 0.0951, -0.2335, -0.3151, 0.3855, 0.0572, -0.0733, 0.1823, 1.417, 1.4107, 1.4107, 1.4105, 1.3236, 1.3228, 1.3216, 1.3213, 1.314, 1.3103, 1.3043, 1.2857, 1.2857, 1.2857, 1.2857, 1.2857, 1.2857, 1.2857, 1.2857, 1.2857, 1.2857, 1.2857, 1.2857, 1.2857, 1.2857, 1.2857, 1.2857, 1.2857, 1.2857, 1.2857, 1.1513, 0.6339, 0.4245, 0.6894, 1.1769, 0.2181, -0.0982, 0.7064, 0.6889, 0.3975]}, \"token.table\": {\"Topic\": [1, 1, 2, 3, 1, 3, 2, 1, 1, 3, 1, 2, 1, 2, 1, 3, 1, 2, 2, 1, 1, 1, 2, 1, 2, 3, 1, 2, 3, 2, 3, 3, 3, 3, 1, 1, 1, 2, 2, 3, 2, 1, 2, 1, 3, 1, 2, 1, 2, 3, 2, 1, 2, 1, 1, 1, 2, 2, 1, 1, 3, 2, 1, 2, 3, 3, 1, 1, 1, 1, 2, 1, 1, 3, 3, 1, 2, 1, 2, 3, 3, 2, 1, 2, 3, 1, 2, 3, 2, 3, 1, 2, 1, 2, 1, 1, 2, 3, 3, 3, 1, 1, 2, 3, 3, 2, 2, 1, 2, 2, 2, 3, 1, 2, 3, 3, 2, 2, 1, 1, 3, 1, 3, 1, 2, 1, 3, 3, 3, 3, 1, 1, 3, 2, 2, 1, 1, 2, 1, 2, 1, 1, 1, 3, 1, 2, 3, 2, 3, 2, 1, 2, 2, 1, 2, 3, 2, 2], \"Freq\": [0.9468126607890504, 0.8606000339084612, 0.2151500084771153, 0.7595474004999918, 0.8548378319258882, 0.8227696689076467, 0.8727835299738195, 0.8548503917492496, 0.8548504145144284, 0.7907164216064863, 0.9468224070526667, 0.9406732021755566, 0.7129919856032652, 0.2970799940013605, 0.5665889846505539, 0.4047064176075385, 0.27906449937056677, 0.8371934981117003, 0.998040172319583, 0.8548502724996341, 0.8548581614611283, 0.636834655157938, 0.318417327578969, 0.48117360621548283, 0.48117360621548283, 0.8209194150311204, 0.8548581614611283, 0.206800725754859, 0.827202903019436, 0.6397074506660134, 0.8937093432429821, 0.8937093432429821, 0.7907313975613879, 0.8937093432429821, 0.8548581614611283, 0.8548503917492496, 0.11105401507601242, 0.8884321206080994, 0.22590481027886927, 0.6777144308366079, 0.6397075479617524, 0.2943003482647084, 0.5886006965294168, 0.9538199641044944, 0.8937093432429821, 0.8548507805734431, 0.9406751132855368, 0.6297016958923632, 0.11449121743497515, 0.28622804358743786, 0.9406751132855368, 0.40383754303689395, 0.5384500573825253, 0.8548502724996341, 0.8548581614611283, 0.5830803466421924, 0.388720231094795, 0.9406732021755566, 0.9620745356139289, 0.9064114986312267, 0.8937093432429821, 0.9987321788336884, 0.4064319214686304, 0.2032159607343152, 0.4064319214686304, 0.8937093432429821, 0.8548504145144284, 0.8548503917492496, 0.7775180301533307, 0.15396953491852144, 0.9238172095111287, 0.7829218608858804, 0.8024893907183961, 0.18882103311021084, 0.8937093432429821, 0.25424213265591616, 0.7627263979677484, 0.14286345846988532, 0.14286345846988532, 0.7143172923494266, 0.8937093432429821, 0.9406751132855368, 0.2795571693578341, 0.6988929233945852, 0.8937093432429821, 0.33490466419196996, 0.33490466419196996, 0.33490466419196996, 0.9985967849162791, 0.8937093432429821, 0.42319815162959973, 0.5642642021727996, 0.15712940411344134, 0.9427764246806482, 0.8391784994666023, 0.8548507805734431, 0.6397079888304037, 0.8937093432429821, 0.8937093432429821, 0.7520619245309733, 0.9513822555563014, 0.1912863083914073, 0.3825726167828146, 0.3825726167828146, 0.8937093432429821, 0.8523350776996635, 0.818778365685123, 0.724791971438043, 0.3623959857190215, 0.973944587148985, 0.9745765699334218, 0.8937093432429821, 0.39223770608351, 0.39223770608351, 0.196118853041755, 0.8937093432429821, 0.9980348613090432, 0.9980297881474954, 0.8132733660647785, 0.3604863038645545, 0.720972607729109, 0.35985389021971975, 0.7197077804394395, 0.3988969064328666, 0.5318625419104889, 0.7930039999911586, 0.1586007999982317, 0.8937093432429821, 0.8937093432429821, 0.8937093432429821, 0.7775181703012095, 0.8548378319258882, 0.7599879227517304, 0.6397076829936953, 0.9406751132855368, 0.8548507805734431, 0.7595297384530022, 0.2531765794843341, 0.8548581614611283, 0.9406751132855368, 0.8548581614611283, 0.8548502724996341, 0.5191742680640451, 0.38938070104803385, 0.2494552435659046, 0.6236381089147615, 0.8937093432429821, 0.8523275327380226, 0.7906510994986632, 0.9980315018733329, 0.9558442656519657, 0.6397080304502083, 0.9986438278423633, 0.2830909063644948, 0.42463635954674217, 0.3538636329556185, 0.9980308448042979, 0.6397080449503636], \"Term\": [\"Ansatz\", \"Antwort\", \"Antwort\", \"Aufgabe\", \"Bed\\u00fcrfnisse\", \"Begriff\", \"Beispiel\", \"Bewertung\", \"Blickwinkel\", \"Datum\", \"Erwartung\", \"Formuliere\", \"Frage\", \"Frage\", \"Frau\", \"Frau\", \"Geburt\", \"Geburt\", \"Gef\\u00fchl\", \"Gesamt\", \"Hilfsmittel\", \"Kommunikation\", \"Kommunikation\", \"Lektion\", \"Lektion\", \"L\\u00f6sung\", \"Menge\", \"Mensch\", \"Mensch\", \"Patientin\", \"Personal\", \"Recht\", \"Richtlinie\", \"Richtlinien\", \"Schmerz\", \"Sinn\", \"Situation\", \"Situation\", \"Sprache\", \"Sprache\", \"Stromkreis\", \"Thema\", \"Thema\", \"Verantwortung\", \"Weise\", \"Zeit\", \"antwort\", \"app\", \"app\", \"app\", \"ausfallen\", \"beantworten\", \"beantworten\", \"begriffe\", \"benutzen\", \"bissch\", \"bissch\", \"botschafen\", \"dahingehend\", \"daran\", \"darstellen\", \"dar\\u00fcber\", \"einfach\", \"einfach\", \"einfach\", \"einf\\u00fcge\", \"einnehmen\", \"ergeben\", \"erinnern\", \"finden\", \"finden\", \"fr\\u00fch\", \"f\\u00e4llen\", \"f\\u00e4llen\", \"f\\u00f6rdern\", \"ganz\", \"ganz\", \"geben\", \"geben\", \"geben\", \"geburt\", \"gefasst\", \"gehen\", \"gehen\", \"gelten\", \"gerade\", \"gerade\", \"gerade\", \"grunds\\u00e4tzlich\", \"halten\", \"immer\", \"immer\", \"klar\", \"klar\", \"kommunizieren\", \"kompliziert\", \"k\\u00fcrz\", \"leitlinie\", \"leitlinien\", \"lernen\", \"liegen\", \"machen\", \"machen\", \"machen\", \"medizinisch\", \"nachdenken\", \"nat\\u00fcrlich\", \"negativ\", \"negativ\", \"offen\", \"pers\\u00f6nlich\", \"pr\\u00e4gnant\", \"richtig\", \"richtig\", \"richtig\", \"richtlini\", \"schlecht\", \"schlie\\u00dfen\", \"schwangere_frau\", \"schwangeren\", \"schwangeren\", \"schwangerschaft\", \"schwangerschaft\", \"schwer\", \"schwer\", \"schwierig\", \"schwierig\", \"sicherstell\", \"sinnvoll\", \"sogar\", \"stellen\", \"stressen\", \"suggerieren\", \"umfeld\", \"unterschiedlich\", \"verbringen\", \"verfolgen\", \"verfolgen\", \"verhalten\", \"verschieden\", \"verst\\u00e4rkt\", \"verwenden\", \"ver\\u00e4ndern\", \"ver\\u00e4ndern\", \"vielleicht\", \"vielleicht\", \"wann\", \"weit\", \"wenden\", \"wirklich\", \"wissen\", \"wollen\", \"zweiter\", \"\\u00e4ndern\", \"\\u00e4ndern\", \"\\u00e4ndern\", \"\\u00fcberlegen\", \"\\u00fcberpr\\u00fcfen\"]}, \"R\": 30, \"lambda.step\": 0.01, \"plot.opts\": {\"xlab\": \"PC1\", \"ylab\": \"PC2\"}, \"topic.order\": [2, 3, 1]};\n",
       "\n",
       "function LDAvis_load_lib(url, callback){\n",
       "  var s = document.createElement('script');\n",
       "  s.src = url;\n",
       "  s.async = true;\n",
       "  s.onreadystatechange = s.onload = callback;\n",
       "  s.onerror = function(){console.warn(\"failed to load library \" + url);};\n",
       "  document.getElementsByTagName(\"head\")[0].appendChild(s);\n",
       "}\n",
       "\n",
       "if(typeof(LDAvis) !== \"undefined\"){\n",
       "   // already loaded: just create the visualization\n",
       "   !function(LDAvis){\n",
       "       new LDAvis(\"#\" + \"ldavis_el12502020546740772167773093706\", ldavis_el12502020546740772167773093706_data);\n",
       "   }(LDAvis);\n",
       "}else if(typeof define === \"function\" && define.amd){\n",
       "   // require.js is available: use it to load d3/LDAvis\n",
       "   require.config({paths: {d3: \"https://d3js.org/d3.v5\"}});\n",
       "   require([\"d3\"], function(d3){\n",
       "      window.d3 = d3;\n",
       "      LDAvis_load_lib(\"https://cdn.jsdelivr.net/gh/bmabey/pyLDAvis@3.4.0/pyLDAvis/js/ldavis.v3.0.0.js\", function(){\n",
       "        new LDAvis(\"#\" + \"ldavis_el12502020546740772167773093706\", ldavis_el12502020546740772167773093706_data);\n",
       "      });\n",
       "    });\n",
       "}else{\n",
       "    // require.js not available: dynamically load d3 & LDAvis\n",
       "    LDAvis_load_lib(\"https://d3js.org/d3.v5.js\", function(){\n",
       "         LDAvis_load_lib(\"https://cdn.jsdelivr.net/gh/bmabey/pyLDAvis@3.4.0/pyLDAvis/js/ldavis.v3.0.0.js\", function(){\n",
       "                 new LDAvis(\"#\" + \"ldavis_el12502020546740772167773093706\", ldavis_el12502020546740772167773093706_data);\n",
       "            })\n",
       "         });\n",
       "}\n",
       "</script>"
      ],
      "text/plain": [
       "PreparedData(topic_coordinates=              x         y  topics  cluster       Freq\n",
       "topic                                                \n",
       "1     -0.073599  0.096829       1        1  40.810848\n",
       "2     -0.074305 -0.096521       2        1  38.319420\n",
       "0      0.147904 -0.000308       3        1  20.869732, topic_info=            Term       Freq      Total Category  logprob  loglift\n",
       "519       fällen  21.000000  21.000000  Default  30.0000  30.0000\n",
       "260        geben   6.000000   6.000000  Default  29.0000  29.0000\n",
       "503         Frau  12.000000  12.000000  Default  28.0000  28.0000\n",
       "68     Situation   9.000000   9.000000  Default  27.0000  27.0000\n",
       "506  dahingehend   9.000000   9.000000  Default  26.0000  26.0000\n",
       "..           ...        ...        ...      ...      ...      ...\n",
       "165          app   4.534037  17.468589   Topic3  -3.9603   0.2181\n",
       "519       fällen   4.007645  21.184081   Topic3  -4.0837  -0.0982\n",
       "196       machen   2.211123   5.227766   Topic3  -4.6784   0.7064\n",
       "4        einfach   2.045277   4.920873   Topic3  -4.7564   0.6889\n",
       "21        gerade   1.854650   5.971849   Topic3  -4.8542   0.3975\n",
       "\n",
       "[158 rows x 6 columns], token_table=      Topic      Freq         Term\n",
       "term                              \n",
       "563       1  0.946813       Ansatz\n",
       "322       1  0.860600      Antwort\n",
       "322       2  0.215150      Antwort\n",
       "427       3  0.759547      Aufgabe\n",
       "566       1  0.854838  Bedürfnisse\n",
       "...     ...       ...          ...\n",
       "285       1  0.283091       ändern\n",
       "285       2  0.424636       ändern\n",
       "285       3  0.353864       ändern\n",
       "275       2  0.998031    überlegen\n",
       "276       2  0.639708   überprüfen\n",
       "\n",
       "[158 rows x 3 columns], R=30, lambda_step=0.01, plot_opts={'xlab': 'PC1', 'ylab': 'PC2'}, topic_order=[2, 3, 1])"
      ]
     },
     "execution_count": 42,
     "metadata": {},
     "output_type": "execute_result"
    }
   ],
   "source": [
    "# Visualize the topics\n",
    "pyLDAvis.enable_notebook()\n",
    "vis = pyLDAvis.gensim.prepare(lda_model, corpus, id2word)\n",
    "vis"
   ]
  },
  {
   "cell_type": "code",
   "execution_count": 27,
   "id": "f63c4d5e-8760-4899-80b4-193ec224f1f2",
   "metadata": {
    "tags": []
   },
   "outputs": [],
   "source": [
    "def compute_coherence_values(dictionary, corpus, texts, limit, start=2, step=3):\n",
    "    \"\"\"\n",
    "    Compute c_v coherence for various number of topics\n",
    "\n",
    "    Parameters:\n",
    "    ----------\n",
    "    dictionary : Gensim dictionary\n",
    "    corpus : Gensim corpus\n",
    "    texts : List of input texts\n",
    "    limit : Max num of topics\n",
    "\n",
    "    Returns:\n",
    "    -------\n",
    "    model_list : List of LDA topic models\n",
    "    coherence_values : Coherence values corresponding to the LDA model with respective number of topics\n",
    "    \"\"\"\n",
    "    coherence_values = []\n",
    "    model_list = []\n",
    "    for num_topics in range(start, limit, step):\n",
    "        model = gensim.models.ldamodel.LdaModel(corpus=corpus,id2word=id2word, num_topics=num_topics, random_state=100)\n",
    "        model_list.append(model)\n",
    "        coherencemodel = CoherenceModel(model=model, texts=texts, dictionary=dictionary, coherence='c_v')\n",
    "        coherence_values.append(coherencemodel.get_coherence())\n",
    "\n",
    "    return model_list, coherence_values"
   ]
  },
  {
   "cell_type": "code",
   "execution_count": 28,
   "id": "3fe70221-20f5-484f-ab7a-ed4f5b42edac",
   "metadata": {
    "tags": []
   },
   "outputs": [],
   "source": [
    "model_list, coherence_values = compute_coherence_values(dictionary=id2word, \n",
    "                                                        corpus=corpus, \n",
    "                                                        texts=data_lemmatized, \n",
    "                                                        start=1, \n",
    "                                                        limit=30, \n",
    "                                                        step=1)"
   ]
  },
  {
   "cell_type": "code",
   "execution_count": 29,
   "id": "6c4b2403-3fe8-4f9e-9d2e-d7a2c29a96f0",
   "metadata": {
    "tags": []
   },
   "outputs": [],
   "source": [
    "os.chdir(\"C:\\\\Users\\\\vanandkuma\\\\Documents\\\\projects\\\\sentiment_analysis\")"
   ]
  },
  {
   "cell_type": "code",
   "execution_count": 30,
   "id": "b4ca5c43-51ae-4049-a7f1-6e9a0ff3b094",
   "metadata": {
    "tags": []
   },
   "outputs": [
    {
     "data": {
      "image/png": "[encoded data removed]",
      "text/plain": [
       "<Figure size 640x480 with 1 Axes>"
      ]
     },
     "metadata": {},
     "output_type": "display_data"
    }
   ],
   "source": [
    "# Show graph\n",
    "limit=30; start=1; step=1;\n",
    "x = range(start, limit, step)\n",
    "plt.title(\"LDA Diagnostics \\n Optimum topics for version two feedback\")\n",
    "plt.plot(x, coherence_values)\n",
    "plt.xlabel(\"Num Topics\")\n",
    "plt.ylabel(\"Coherence score\")\n",
    "plt.savefig('output/app_v1_lda_topic_coherence.png')"
   ]
  },
  {
   "cell_type": "code",
   "execution_count": 31,
   "id": "9a34f105-39c7-461f-b019-9a0e780eb0a0",
   "metadata": {
    "tags": []
   },
   "outputs": [
    {
     "name": "stdout",
     "output_type": "stream",
     "text": [
      "Num Topics = 1  has Coherence Value of 0.3518\n",
      "Num Topics = 2  has Coherence Value of 0.3777\n",
      "Num Topics = 3  has Coherence Value of 0.3959\n",
      "Num Topics = 4  has Coherence Value of 0.439\n",
      "Num Topics = 5  has Coherence Value of 0.4225\n",
      "Num Topics = 6  has Coherence Value of 0.406\n",
      "Num Topics = 7  has Coherence Value of 0.4374\n",
      "Num Topics = 8  has Coherence Value of 0.3842\n",
      "Num Topics = 9  has Coherence Value of 0.426\n",
      "Num Topics = 10  has Coherence Value of 0.4113\n",
      "Num Topics = 11  has Coherence Value of 0.4498\n",
      "Num Topics = 12  has Coherence Value of 0.3957\n",
      "Num Topics = 13  has Coherence Value of 0.4562\n",
      "Num Topics = 14  has Coherence Value of 0.4105\n",
      "Num Topics = 15  has Coherence Value of 0.4236\n",
      "Num Topics = 16  has Coherence Value of 0.4202\n",
      "Num Topics = 17  has Coherence Value of 0.4101\n",
      "Num Topics = 18  has Coherence Value of 0.3986\n",
      "Num Topics = 19  has Coherence Value of 0.413\n",
      "Num Topics = 20  has Coherence Value of 0.422\n",
      "Num Topics = 21  has Coherence Value of 0.4637\n",
      "Num Topics = 22  has Coherence Value of 0.4523\n",
      "Num Topics = 23  has Coherence Value of 0.4211\n",
      "Num Topics = 24  has Coherence Value of 0.427\n",
      "Num Topics = 25  has Coherence Value of 0.4156\n",
      "Num Topics = 26  has Coherence Value of 0.3821\n",
      "Num Topics = 27  has Coherence Value of 0.4479\n",
      "Num Topics = 28  has Coherence Value of 0.4527\n",
      "Num Topics = 29  has Coherence Value of 0.4559\n"
     ]
    }
   ],
   "source": [
    "# Print the coherence scores\n",
    "for m, cv in zip(x, coherence_values):\n",
    "    print(\"Num Topics =\", m, \" has Coherence Value of\", round(cv, 4))"
   ]
  },
  {
   "cell_type": "code",
   "execution_count": 30,
   "id": "2122fe83-34f8-42c5-8652-d42471f3ca87",
   "metadata": {
    "tags": []
   },
   "outputs": [
    {
     "name": "stdout",
     "output_type": "stream",
     "text": [
      "[(0,\n",
      "  '0.056*\"lernen\" + 0.029*\"mögen\" + 0.029*\"uber\" + 0.026*\"Frage\" + '\n",
      "  '0.020*\"geben\" + 0.019*\"stellen\" + 0.019*\"fur\" + 0.015*\"personlich\" + '\n",
      "  '0.015*\"Person\" + 0.015*\"hineinversetzen\"'),\n",
      " (1,\n",
      "  '0.052*\"finden\" + 0.041*\"gut\" + 0.029*\"Lektion\" + 0.020*\"einfach\" + '\n",
      "  '0.020*\"eigen\" + 0.016*\"Kommunikation\" + 0.013*\"Klicke\" + 0.013*\"personlich\" '\n",
      "  '+ 0.012*\"kurz\" + 0.011*\"mögen\"'),\n",
      " (2,\n",
      "  '0.055*\"gut\" + 0.055*\"finden\" + 0.035*\"Beispiel\" + 0.021*\"immer\" + '\n",
      "  '0.018*\"geben\" + 0.018*\"Alltag\" + 0.013*\"personlich\" + 0.013*\"wichtig\" + '\n",
      "  '0.013*\"mögen\" + 0.013*\"wirklich\"'),\n",
      " (3,\n",
      "  '0.027*\"Thema\" + 0.024*\"nie\" + 0.024*\"bissch\" + 0.024*\"mögen\" + '\n",
      "  '0.023*\"Geburt\" + 0.020*\"Seite\" + 0.020*\"finden\" + 0.017*\"Kommunikation\" + '\n",
      "  '0.016*\"fur\" + 0.014*\"spannend\"'),\n",
      " (4,\n",
      "  '0.051*\"Lektion\" + 0.039*\"gut\" + 0.039*\"Idee\" + 0.026*\"mögen\" + '\n",
      "  '0.026*\"finden\" + 0.026*\"kommen\" + 0.014*\"total\" + 0.014*\"folgen\" + '\n",
      "  '0.014*\"dazwischen\" + 0.014*\"Kleinigkeit\"'),\n",
      " (5,\n",
      "  '0.077*\"mögen\" + 0.028*\"neutral\" + 0.028*\"Aufforderung\" + 0.028*\"Fuhl\" + '\n",
      "  '0.028*\"bestatigen\" + 0.028*\"Dialog\" + 0.028*\"Erklarung\" + 0.003*\"gut\" + '\n",
      "  '0.003*\"finden\" + 0.003*\"lernen\"'),\n",
      " (6,\n",
      "  '0.057*\"gut\" + 0.038*\"Frage\" + 0.031*\"finden\" + 0.021*\"fallen\" + '\n",
      "  '0.017*\"nehmen\" + 0.016*\"wirklich\" + 0.016*\"nachst\" + 0.016*\"wichtig\" + '\n",
      "  '0.012*\"Termin\" + 0.012*\"Thema\"'),\n",
      " (7,\n",
      "  '0.033*\"gut\" + 0.033*\"verstehen\" + 0.027*\"auffrischen\" + 0.014*\"finden\" + '\n",
      "  '0.014*\"glauben\" + 0.014*\"lernen\" + 0.014*\"immer\" + 0.014*\"gerade\" + '\n",
      "  '0.014*\"klar\" + 0.014*\"Geburt\"')]\n"
     ]
    }
   ],
   "source": [
    "# Select the model and print the topics\n",
    "optimal_model = model_list[7]\n",
    "model_topics = optimal_model.show_topics(formatted=False)\n",
    "pprint(optimal_model.print_topics(num_words=10))"
   ]
  },
  {
   "cell_type": "code",
   "execution_count": 43,
   "id": "327e34e1-f90a-42ce-bb0e-960995f33845",
   "metadata": {},
   "outputs": [],
   "source": [
    "pyLDAvis.save_html(vis, 'output/ldavis_app_v1_improvements.html')"
   ]
  }
 ],
 "metadata": {
  "kernelspec": {
   "display_name": "Python 3 (ipykernel)",
   "language": "python",
   "name": "python3"
  },
  "language_info": {
   "codemirror_mode": {
    "name": "ipython",
    "version": 3
   },
   "file_extension": ".py",
   "mimetype": "text/x-python",
   "name": "python",
   "nbconvert_exporter": "python",
   "pygments_lexer": "ipython3",
   "version": "3.10.2"
  }
 },
 "nbformat": 4,
 "nbformat_minor": 5
}
