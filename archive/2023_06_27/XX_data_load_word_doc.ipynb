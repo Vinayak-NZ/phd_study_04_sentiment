{
 "cells": [
  {
   "cell_type": "code",
   "execution_count": 1,
   "id": "40af5fee-79ce-4ff4-9155-ccf192b54daa",
   "metadata": {
    "tags": []
   },
   "outputs": [],
   "source": [
    "import docx2txt\n",
    "import nltk\n",
    "import pandas as pd\n",
    "from textblob_de import TextBlobDE\n",
    "from itertools import groupby\n",
    "import matplotlib.pyplot as plt\n",
    "import os"
   ]
  },
  {
   "cell_type": "code",
   "execution_count": 2,
   "id": "a1c42deb-2066-4293-9508-5b9a15970415",
   "metadata": {
    "tags": []
   },
   "outputs": [],
   "source": [
    "os.chdir(\"C:\\\\Users\\\\vanandkuma\\\\Documents\\\\projects\\\\sentiment_analysis\")"
   ]
  },
  {
   "cell_type": "code",
   "execution_count": 3,
   "id": "9203871c-7e49-4067-b113-de357f366b14",
   "metadata": {
    "tags": []
   },
   "outputs": [],
   "source": [
    "my_text = docx2txt.process(\"input/app_v1_feedback_processed.docx\")"
   ]
  },
  {
   "cell_type": "code",
   "execution_count": 4,
   "id": "f0605f0d-444f-4637-990d-4da9811a0e7e",
   "metadata": {
    "tags": []
   },
   "outputs": [],
   "source": [
    "df = nltk.tokenize.sent_tokenize(my_text)"
   ]
  },
  {
   "cell_type": "code",
   "execution_count": 5,
   "id": "a7f8cf68-dea3-48cf-a3d2-0b42c6c39bd8",
   "metadata": {
    "tags": []
   },
   "outputs": [
    {
     "name": "stdout",
     "output_type": "stream",
     "text": [
      "['neutral', 'neutral', 'neutral', 'positive', 'positive', 'neutral', 'neutral', 'neutral', 'positive', 'neutral', 'neutral', 'positive', 'neutral', 'positive', 'neutral', 'positive', 'neutral', 'neutral', 'positive', 'neutral', 'neutral', 'neutral', 'neutral', 'neutral', 'positive', 'neutral', 'neutral', 'neutral', 'neutral', 'neutral', 'neutral', 'neutral', 'neutral', 'neutral', 'positive', 'neutral', 'positive', 'neutral', 'positive', 'neutral', 'neutral', 'positive', 'positive', 'positive', 'positive', 'positive', 'neutral', 'positive', 'positive', 'positive', 'positive']\n"
     ]
    }
   ],
   "source": [
    "sentiment_v = []\n",
    "for i in range(0, len(df)-1):\n",
    "    text_extract = df[i]\n",
    "    blob = TextBlobDE(text_extract)\n",
    "    sentiment = blob.sentiment\n",
    "    if sentiment.polarity > 0:\n",
    "        sentiment_v.append('positive')\n",
    "    elif sentiment.polarity < 0:\n",
    "        sentiment_v.append('negative')\n",
    "    else: \n",
    "        sentiment_v.append('neutral')\n",
    "print(sentiment_v)"
   ]
  },
  {
   "cell_type": "code",
   "execution_count": 67,
   "id": "7de4aa10-0294-4337-8a0d-f64d379fdbf3",
   "metadata": {
    "tags": []
   },
   "outputs": [
    {
     "data": {
      "text/plain": [
       "[31, 20]"
      ]
     },
     "execution_count": 67,
     "metadata": {},
     "output_type": "execute_result"
    }
   ],
   "source": [
    "[len(list(group)) for key, group in groupby(sorted(sentiment_v))]"
   ]
  },
  {
   "cell_type": "code",
   "execution_count": 68,
   "id": "a295da6e-fccd-4371-9824-39129fb81455",
   "metadata": {
    "tags": []
   },
   "outputs": [],
   "source": [
    "# This is a list of unique values appearing in the input list\n",
    "sentiment_v_unique = list(set(sentiment_v))"
   ]
  },
  {
   "cell_type": "code",
   "execution_count": 69,
   "id": "39c90d0b-7c8a-42c1-9d41-9a5752eea8da",
   "metadata": {
    "tags": []
   },
   "outputs": [],
   "source": [
    "# This is the corresponding count for each value\n",
    "counts = [sentiment_v.count(value) for value in sentiment_v_unique]"
   ]
  },
  {
   "cell_type": "code",
   "execution_count": 70,
   "id": "2b1546ec-7092-4848-ae39-bdcee32ea7c0",
   "metadata": {
    "tags": []
   },
   "outputs": [
    {
     "data": {
      "image/png": "[encoded data removed]",
      "text/plain": [
       "<Figure size 640x480 with 1 Axes>"
      ]
     },
     "metadata": {},
     "output_type": "display_data"
    }
   ],
   "source": [
    "barcontainer = plt.bar(range(len(sentiment_v_unique)),counts)\n",
    "\n",
    "# Some labels and formatting to look more like the example\n",
    "plt.bar_label(barcontainer,sentiment_v_unique, label_type='edge')\n",
    "plt.axis('off')\n",
    "plt.show()"
   ]
  },
  {
   "cell_type": "code",
   "execution_count": 6,
   "id": "6ab2d9ea-23e9-456a-9987-0273fbba5829",
   "metadata": {
    "tags": []
   },
   "outputs": [],
   "source": [
    "os.chdir('input/app_v1')\n",
    "\n",
    "path_v1 = (\"C:\\\\Users\\\\vanandkuma\\\\Documents\\\\projects\\\\sentiment_analysis\\\\input\\\\app_v1\")\n",
    "\n",
    "path_v2 = (\"C:\\\\Users\\\\vanandkuma\\\\Documents\\\\projects\\\\sentiment_analysis\\\\input\\\\app_v2\")"
   ]
  },
  {
   "cell_type": "code",
   "execution_count": 7,
   "id": "c6c0285a-c1f1-41ad-a9bc-37617d87a933",
   "metadata": {
    "tags": []
   },
   "outputs": [],
   "source": [
    "files = []\n",
    "for file in os.listdir(path_v1):\n",
    "    if file.endswith('.docx'):\n",
    "        files.append(file)"
   ]
  },
  {
   "cell_type": "code",
   "execution_count": 8,
   "id": "e4a2656d-e86c-4bf3-b907-7bae57b08281",
   "metadata": {
    "tags": []
   },
   "outputs": [],
   "source": [
    "pooled_doc = []\n",
    "for i in range(len(files)):\n",
    "    text = docx2txt.process(files[i])\n",
    "    pooled_doc.append(text)    "
   ]
  },
  {
   "cell_type": "code",
   "execution_count": 9,
   "id": "56aa3c36-ecb2-4947-9f84-03dee6f8fd33",
   "metadata": {
    "tags": []
   },
   "outputs": [],
   "source": [
    "df = []\n",
    "for i in range(len(pooled_doc)):\n",
    "    sentence = nltk.tokenize.sent_tokenize(pooled_doc[i])\n",
    "    for i in range(len(sentence)):\n",
    "        df.append(sentence[i])"
   ]
  },
  {
   "cell_type": "code",
   "execution_count": 97,
   "id": "f595cc88-5748-4727-b2bc-21912931cffb",
   "metadata": {
    "tags": []
   },
   "outputs": [
    {
     "data": {
      "text/plain": [
       "6714"
      ]
     },
     "execution_count": 97,
     "metadata": {},
     "output_type": "execute_result"
    }
   ],
   "source": [
    "len(df)"
   ]
  },
  {
   "cell_type": "code",
   "execution_count": 98,
   "id": "bd56e371-b27d-4403-9ad8-9a41a8e68dfe",
   "metadata": {
    "tags": []
   },
   "outputs": [],
   "source": [
    "sentiment_v = []\n",
    "for i in range(0, len(df)-1):\n",
    "    text_extract = df[i]\n",
    "    blob = TextBlobDE(text_extract)\n",
    "    sentiment = blob.sentiment\n",
    "    if sentiment.polarity > 0:\n",
    "        sentiment_v.append('positive')\n",
    "    elif sentiment.polarity < 0:\n",
    "        sentiment_v.append('negative')\n",
    "    else: \n",
    "        sentiment_v.append('neutral')"
   ]
  },
  {
   "cell_type": "code",
   "execution_count": 77,
   "id": "0c7df5ba-8cb9-4c87-b6b8-ecb472f6b533",
   "metadata": {
    "tags": []
   },
   "outputs": [],
   "source": [
    "# This is a list of unique values appearing in the input list\n",
    "sentiment_v_unique = list(set(sentiment_v))"
   ]
  },
  {
   "cell_type": "code",
   "execution_count": 78,
   "id": "961b741a-e90f-4f11-85a7-aefbc3fea991",
   "metadata": {
    "tags": []
   },
   "outputs": [],
   "source": [
    "# This is the corresponding count for each value\n",
    "counts = [sentiment_v.count(value) for value in sentiment_v_unique]"
   ]
  },
  {
   "cell_type": "code",
   "execution_count": 79,
   "id": "7a35976f-0fa2-450f-822b-940485f1c67a",
   "metadata": {
    "tags": []
   },
   "outputs": [
    {
     "data": {
      "image/png": "[encoded data removed]",
      "text/plain": [
       "<Figure size 640x480 with 1 Axes>"
      ]
     },
     "metadata": {},
     "output_type": "display_data"
    }
   ],
   "source": [
    "barcontainer = plt.bar(range(len(sentiment_v_unique)),counts)\n",
    "\n",
    "# Some labels and formatting to look more like the example\n",
    "plt.bar_label(barcontainer,sentiment_v_unique, label_type='edge')\n",
    "plt.axis('off')\n",
    "plt.show()"
   ]
  },
  {
   "cell_type": "code",
   "execution_count": 99,
   "id": "aa568b26-3cf6-40a9-a832-729044d446e5",
   "metadata": {
    "tags": []
   },
   "outputs": [],
   "source": [
    "sentiment_p = []\n",
    "for i in range(0, len(df)-1):\n",
    "    text_extract = df[i]\n",
    "    blob = TextBlobDE(text_extract)\n",
    "    sentiment_p.append(blob.sentiment.polarity)"
   ]
  },
  {
   "cell_type": "code",
   "execution_count": 100,
   "id": "5f3f34df-a24b-4e00-9754-ca0a08a3927b",
   "metadata": {
    "tags": []
   },
   "outputs": [],
   "source": [
    "# Python program to get average of a list\n",
    "def Average(lst):\n",
    "    return sum(lst) / len(lst)"
   ]
  },
  {
   "cell_type": "code",
   "execution_count": 101,
   "id": "42e59c1d-66f1-4b9e-b03f-d73fabd06ae0",
   "metadata": {
    "tags": []
   },
   "outputs": [
    {
     "name": "stdout",
     "output_type": "stream",
     "text": [
      "Average sentiment = 0.15\n"
     ]
    }
   ],
   "source": [
    "# Printing average of the list\n",
    "average = Average(sentiment_p)\n",
    "print(\"Average sentiment =\", round(average, 2))"
   ]
  }
 ],
 "metadata": {
  "kernelspec": {
   "display_name": "Python 3 (ipykernel)",
   "language": "python",
   "name": "python3"
  },
  "language_info": {
   "codemirror_mode": {
    "name": "ipython",
    "version": 3
   },
   "file_extension": ".py",
   "mimetype": "text/x-python",
   "name": "python",
   "nbconvert_exporter": "python",
   "pygments_lexer": "ipython3",
   "version": "3.10.2"
  }
 },
 "nbformat": 4,
 "nbformat_minor": 5
}
