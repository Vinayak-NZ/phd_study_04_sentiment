{
 "cells": [
  {
   "cell_type": "code",
   "execution_count": 1,
   "id": "7b8c6329-3a98-4a54-99fd-4b0d119b57ed",
   "metadata": {
    "tags": []
   },
   "outputs": [],
   "source": [
    "import docx2txt\n",
    "import nltk\n",
    "import pandas as pd\n",
    "from textblob_de import TextBlobDE\n",
    "from itertools import groupby\n",
    "import matplotlib.pyplot as plt\n",
    "import os"
   ]
  },
  {
   "cell_type": "code",
   "execution_count": 2,
   "id": "c00a3bb1-2319-4b31-8fbf-3b2d998009cb",
   "metadata": {
    "tags": []
   },
   "outputs": [],
   "source": [
    "plt.rcParams['axes.spines.right'] = False\n",
    "plt.rcParams['axes.spines.top'] = False"
   ]
  },
  {
   "cell_type": "code",
   "execution_count": 3,
   "id": "ee240cd6-8ff0-47c8-bd6b-37ec4dcaff98",
   "metadata": {
    "tags": []
   },
   "outputs": [],
   "source": [
    "os.chdir('input/app_v2')\n",
    "\n",
    "path_v2 = (\"C:\\\\Users\\\\vanandkuma\\\\Documents\\\\projects\\\\sentiment_analysis\\\\input\\\\app_v2\")"
   ]
  },
  {
   "cell_type": "code",
   "execution_count": 4,
   "id": "c5f87731-fb82-425b-9a05-de8925061329",
   "metadata": {
    "tags": []
   },
   "outputs": [],
   "source": [
    "files = []\n",
    "for file in os.listdir(path_v2):\n",
    "    if file.endswith('.docx'):\n",
    "        files.append(file)"
   ]
  },
  {
   "cell_type": "code",
   "execution_count": 5,
   "id": "b4ee1ab5-9dd4-48a8-b536-db507308192c",
   "metadata": {
    "tags": []
   },
   "outputs": [],
   "source": [
    "pooled_doc = []\n",
    "for i in range(len(files)):\n",
    "    text = docx2txt.process(files[i])\n",
    "    pooled_doc.append(text)    "
   ]
  },
  {
   "cell_type": "code",
   "execution_count": 6,
   "id": "1a886e87-8f16-42a5-81df-4c6e9fbdb8a4",
   "metadata": {
    "tags": []
   },
   "outputs": [],
   "source": [
    "df = []\n",
    "for i in range(len(pooled_doc)):\n",
    "    sentence = nltk.tokenize.sent_tokenize(pooled_doc[i])\n",
    "    for i in range(len(sentence)):\n",
    "        df.append(sentence[i])"
   ]
  },
  {
   "cell_type": "code",
   "execution_count": 7,
   "id": "14ef2ef0-67e0-44c2-925c-5321419df26f",
   "metadata": {
    "tags": []
   },
   "outputs": [],
   "source": [
    "sentiment_v = []\n",
    "for i in range(0, len(df)-1):\n",
    "    text_extract = df[i]\n",
    "    blob = TextBlobDE(text_extract)\n",
    "    sentiment = blob.sentiment\n",
    "    if sentiment.polarity > 0:\n",
    "        sentiment_v.append('positive')\n",
    "    elif sentiment.polarity < 0:\n",
    "        sentiment_v.append('negative')\n",
    "    else: \n",
    "        sentiment_v.append('neutral')"
   ]
  },
  {
   "cell_type": "code",
   "execution_count": 8,
   "id": "ff7b5fa7-529c-4017-aca1-c9b31ef8ca6f",
   "metadata": {
    "tags": []
   },
   "outputs": [],
   "source": [
    "# This is a list of unique values appearing in the input list\n",
    "sentiment_v_unique = sorted(list(set(sentiment_v)))"
   ]
  },
  {
   "cell_type": "code",
   "execution_count": 9,
   "id": "cf773ca1-04d0-464e-b7a2-abd70fb9f4a6",
   "metadata": {
    "tags": []
   },
   "outputs": [],
   "source": [
    "# This is the corresponding count for each value\n",
    "counts = [sentiment_v.count(value) for value in sentiment_v_unique]"
   ]
  },
  {
   "cell_type": "code",
   "execution_count": 38,
   "id": "799f6505-6d00-4086-8b40-8d64096f347d",
   "metadata": {
    "tags": []
   },
   "outputs": [],
   "source": [
    "proportions = [(x/sum(counts))*100 for x in counts]"
   ]
  },
  {
   "cell_type": "code",
   "execution_count": 39,
   "id": "e17089f9-86b1-4ef6-a758-3a9220b9a889",
   "metadata": {
    "tags": []
   },
   "outputs": [],
   "source": [
    "os.chdir(\"C:\\\\Users\\\\vanandkuma\\\\Documents\\\\projects\\\\sentiment_analysis\")"
   ]
  },
  {
   "cell_type": "code",
   "execution_count": 40,
   "id": "9394d60a-8dfc-46f7-b8e8-47444547dd7b",
   "metadata": {
    "tags": []
   },
   "outputs": [
    {
     "data": {
      "image/png": "[encoded data removed]",
      "text/plain": [
       "<Figure size 640x480 with 1 Axes>"
      ]
     },
     "metadata": {},
     "output_type": "display_data"
    }
   ],
   "source": [
    "barcontainer = plt.bar(range(len(sentiment_v_unique)), proportions)\n",
    "\n",
    "# Some labels and formatting to look more like the example\n",
    "plt.xticks([0, 1, 2], sentiment_v_unique) \n",
    "plt.title(\"TeamBaby web-app sentiment \\n Barplot of sentiments toward version two\")\n",
    "plt.ylabel(\"Percent of segments (%)\")\n",
    "plt.xlabel(\"Sentiment\")\n",
    "plt.savefig('output/app_v2_sentiment.png')"
   ]
  },
  {
   "cell_type": "code",
   "execution_count": 32,
   "id": "e86e4d71-3f03-4e13-b11f-9e6bc539259a",
   "metadata": {
    "tags": []
   },
   "outputs": [],
   "source": [
    "sentiment_p = []\n",
    "for i in range(0, len(df)-1):\n",
    "    text_extract = df[i]\n",
    "    blob = TextBlobDE(text_extract)\n",
    "    sentiment_p.append(blob.sentiment.polarity)"
   ]
  },
  {
   "cell_type": "code",
   "execution_count": 33,
   "id": "dc317764-80a7-4e40-859b-3b791662df2b",
   "metadata": {
    "tags": []
   },
   "outputs": [],
   "source": [
    "# Python program to get average of a list\n",
    "def Average(lst):\n",
    "    return sum(lst) / len(lst)"
   ]
  },
  {
   "cell_type": "code",
   "execution_count": 34,
   "id": "ab710226-83b9-402c-b8bc-1270832b62e4",
   "metadata": {
    "tags": []
   },
   "outputs": [
    {
     "name": "stdout",
     "output_type": "stream",
     "text": [
      "Average sentiment = 0.22\n"
     ]
    }
   ],
   "source": [
    "# Printing average of the list\n",
    "average = Average(sentiment_p)\n",
    "print(\"Average sentiment =\", round(average, 2))"
   ]
  }
 ],
 "metadata": {
  "kernelspec": {
   "display_name": "Python 3 (ipykernel)",
   "language": "python",
   "name": "python3"
  },
  "language_info": {
   "codemirror_mode": {
    "name": "ipython",
    "version": 3
   },
   "file_extension": ".py",
   "mimetype": "text/x-python",
   "name": "python",
   "nbconvert_exporter": "python",
   "pygments_lexer": "ipython3",
   "version": "3.10.2"
  }
 },
 "nbformat": 4,
 "nbformat_minor": 5
}
