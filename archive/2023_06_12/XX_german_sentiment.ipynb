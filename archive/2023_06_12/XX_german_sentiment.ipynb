{
 "cells": [
  {
   "cell_type": "code",
   "execution_count": 3,
   "id": "dd0fa744-37a6-4d02-81ba-247147ebee86",
   "metadata": {
    "tags": []
   },
   "outputs": [],
   "source": [
    "import germansentiment\n",
    "import csv"
   ]
  },
  {
   "cell_type": "code",
   "execution_count": 4,
   "id": "0e70e7c1-0386-4fb0-8e3d-cbf1745c04cd",
   "metadata": {
    "tags": []
   },
   "outputs": [
    {
     "name": "stderr",
     "output_type": "stream",
     "text": [
      "Downloading (…)lve/main/config.json: 100%|█████████████████████████████████████████████| 665/665 [00:00<00:00, 111kB/s]\n",
      "C:\\Users\\vanandkuma\\AppData\\Local\\Programs\\Python\\Python310\\lib\\site-packages\\huggingface_hub\\file_download.py:129: UserWarning: `huggingface_hub` cache-system uses symlinks by default to efficiently store duplicated files but your machine does not support them in C:\\Users\\vanandkuma\\.cache\\huggingface\\hub. Caching files will still work but in a degraded version that might require more space on your disk. This warning can be disabled by setting the `HF_HUB_DISABLE_SYMLINKS_WARNING` environment variable. For more details, see https://huggingface.co/docs/huggingface_hub/how-to-cache#limitations.\n",
      "To support symlinks on Windows, you either need to activate Developer Mode or to run Python as an administrator. In order to see activate developer mode, see this article: https://docs.microsoft.com/en-us/windows/apps/get-started/enable-your-device-for-development\n",
      "  warnings.warn(message)\n",
      "Downloading (…)\"pytorch_model.bin\";: 100%|██████████████████████████████████████████| 436M/436M [00:15<00:00, 28.9MB/s]\n",
      "C:\\Users\\vanandkuma\\AppData\\Local\\Programs\\Python\\Python310\\lib\\site-packages\\torch\\serialization.py:953: UserWarning: Failed to initialize NumPy: module compiled against API version 0x10 but this version of numpy is 0xf (Triggered internally at ..\\torch\\csrc\\utils\\tensor_numpy.cpp:77.)\n",
      "  obj = cast(Storage, torch.UntypedStorage(nbytes))\n",
      "Downloading (…)okenizer_config.json: 100%|████████████████████████████████████████████| 161/161 [00:00<00:00, 32.3kB/s]\n",
      "Downloading (…)solve/main/vocab.txt: 100%|███████████████████████████████████████████| 255k/255k [00:00<00:00, 845kB/s]\n",
      "Downloading (…)cial_tokens_map.json: 100%|████████████████████████████████████████████| 112/112 [00:00<00:00, 37.4kB/s]\n"
     ]
    }
   ],
   "source": [
    "# Initialize the model\n",
    "model = germansentiment.SentimentModel()"
   ]
  },
  {
   "cell_type": "code",
   "execution_count": 10,
   "id": "b24c71b2-3310-435a-9604-0266f4e01848",
   "metadata": {
    "tags": []
   },
   "outputs": [],
   "source": [
    "# Read in the texts from the input CSV file\n",
    "texts = []\n",
    "with open(\"H:/input/feedback.csv\", \"r\") as f:\n",
    "  reader = csv.reader(f)\n",
    "  for row in reader:\n",
    "    texts.append(row[0])"
   ]
  },
  {
   "cell_type": "code",
   "execution_count": 11,
   "id": "00c3ea1b-46c0-4e94-9837-e451a989bc3c",
   "metadata": {
    "tags": []
   },
   "outputs": [],
   "source": [
    "# Predict the sentiment of the texts\n",
    "predictions = model.predict_sentiment(texts)"
   ]
  },
  {
   "cell_type": "code",
   "execution_count": 12,
   "id": "6c7f930a-48b9-4289-b877-4935a58c65e8",
   "metadata": {
    "tags": []
   },
   "outputs": [],
   "source": [
    "# Write the results to an output CSV file\n",
    "with open(\"H:/output/sentiment.csv\", \"w\", newline=\"\") as f:\n",
    "  writer = csv.writer(f)\n",
    "  writer.writerow([\"text\", \"sentiment\"])\n",
    "  for text, prediction in zip(texts, predictions):\n",
    "    writer.writerow([text, prediction])"
   ]
  },
  {
   "cell_type": "code",
   "execution_count": 13,
   "id": "42357968-91f5-4109-8f1b-c61adb254a41",
   "metadata": {
    "tags": []
   },
   "outputs": [
    {
     "name": "stdout",
     "output_type": "stream",
     "text": [
      "ï»¿das ist groÃŸartig : positive\n",
      "so gut : positive\n",
      "Das ist okay : positive\n",
      "das ist nicht schÃ¶n : negative\n",
      "Das ist schrecklich : negative\n"
     ]
    }
   ],
   "source": [
    "# Print the results\n",
    "for text, prediction in zip(texts, predictions):\n",
    "  print(text, \":\", prediction)"
   ]
  }
 ],
 "metadata": {
  "kernelspec": {
   "display_name": "Python 3 (ipykernel)",
   "language": "python",
   "name": "python3"
  },
  "language_info": {
   "codemirror_mode": {
    "name": "ipython",
    "version": 3
   },
   "file_extension": ".py",
   "mimetype": "text/x-python",
   "name": "python",
   "nbconvert_exporter": "python",
   "pygments_lexer": "ipython3",
   "version": "3.10.2"
  }
 },
 "nbformat": 4,
 "nbformat_minor": 5
}
