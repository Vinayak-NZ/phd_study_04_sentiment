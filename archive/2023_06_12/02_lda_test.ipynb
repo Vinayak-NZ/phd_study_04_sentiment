{
 "cells": [
  {
   "cell_type": "code",
   "execution_count": 1,
   "id": "e1cdf5a2-0732-4666-bb33-22ddedf73ea2",
   "metadata": {
    "tags": []
   },
   "outputs": [],
   "source": [
    "import pandas as pd\n",
    "import re\n",
    "from wordcloud import WordCloud\n",
    "import gensim\n",
    "from gensim.utils import simple_preprocess\n",
    "import gensim.corpora as corpora\n",
    "import nltk\n",
    "from nltk.corpus import stopwords\n",
    "from pprint import pprint\n",
    "import pyLDAvis.gensim\n",
    "import pickle\n",
    "import pyLDAvis"
   ]
  },
  {
   "cell_type": "code",
   "execution_count": 2,
   "id": "e7f47e18-aadb-4906-b6a2-37b995bb36f3",
   "metadata": {
    "tags": []
   },
   "outputs": [],
   "source": [
    "df = pd.read_csv(\"input/app_v1_feedback.txt\", sep=\"\\t\", header=0, encoding = \"latin1\")"
   ]
  },
  {
   "cell_type": "code",
   "execution_count": 3,
   "id": "31a82ac8-e64d-467a-bcea-8f148e9b09bc",
   "metadata": {
    "tags": []
   },
   "outputs": [
    {
     "data": {
      "text/html": [
       "<div>\n",
       "<style scoped>\n",
       "    .dataframe tbody tr th:only-of-type {\n",
       "        vertical-align: middle;\n",
       "    }\n",
       "\n",
       "    .dataframe tbody tr th {\n",
       "        vertical-align: top;\n",
       "    }\n",
       "\n",
       "    .dataframe thead th {\n",
       "        text-align: right;\n",
       "    }\n",
       "</style>\n",
       "<table border=\"1\" class=\"dataframe\">\n",
       "  <thead>\n",
       "    <tr style=\"text-align: right;\">\n",
       "      <th></th>\n",
       "      <th>person_id</th>\n",
       "      <th>segment_id</th>\n",
       "      <th>text</th>\n",
       "      <th>tags</th>\n",
       "    </tr>\n",
       "  </thead>\n",
       "  <tbody>\n",
       "    <tr>\n",
       "      <th>0</th>\n",
       "      <td>1</td>\n",
       "      <td>1</td>\n",
       "      <td>Jetzt sehen Sie vermutlich die Startseite. OK....</td>\n",
       "      <td>{general}</td>\n",
       "    </tr>\n",
       "    <tr>\n",
       "      <th>1</th>\n",
       "      <td>1</td>\n",
       "      <td>2</td>\n",
       "      <td>Ja genau. Vielleicht hätte ich jetzt Lektion d...</td>\n",
       "      <td>{general}</td>\n",
       "    </tr>\n",
       "    <tr>\n",
       "      <th>2</th>\n",
       "      <td>1</td>\n",
       "      <td>3</td>\n",
       "      <td>OK, das heißt ich geb jetzt hier meine Initial...</td>\n",
       "      <td>{general}</td>\n",
       "    </tr>\n",
       "    <tr>\n",
       "      <th>3</th>\n",
       "      <td>1</td>\n",
       "      <td>4</td>\n",
       "      <td>Und den Code muss ich irgendwie kopieren, oder?</td>\n",
       "      <td>{general}</td>\n",
       "    </tr>\n",
       "    <tr>\n",
       "      <th>4</th>\n",
       "      <td>1</td>\n",
       "      <td>5</td>\n",
       "      <td>OK. Ach das steht auch da, muss ich mir nichts...</td>\n",
       "      <td>{general}</td>\n",
       "    </tr>\n",
       "  </tbody>\n",
       "</table>\n",
       "</div>"
      ],
      "text/plain": [
       "   person_id  segment_id                                               text   \n",
       "0          1           1  Jetzt sehen Sie vermutlich die Startseite. OK....  \\\n",
       "1          1           2  Ja genau. Vielleicht hätte ich jetzt Lektion d...   \n",
       "2          1           3  OK, das heißt ich geb jetzt hier meine Initial...   \n",
       "3          1           4    Und den Code muss ich irgendwie kopieren, oder?   \n",
       "4          1           5  OK. Ach das steht auch da, muss ich mir nichts...   \n",
       "\n",
       "        tags  \n",
       "0  {general}  \n",
       "1  {general}  \n",
       "2  {general}  \n",
       "3  {general}  \n",
       "4  {general}  "
      ]
     },
     "execution_count": 3,
     "metadata": {},
     "output_type": "execute_result"
    }
   ],
   "source": [
    "df.head()"
   ]
  },
  {
   "cell_type": "code",
   "execution_count": 4,
   "id": "7d192892-b760-495c-99a5-b3a9edecbc30",
   "metadata": {
    "tags": []
   },
   "outputs": [],
   "source": [
    "df = df.drop(columns=['person_id', 'segment_id', 'tags'], \n",
    "             axis = 1)"
   ]
  },
  {
   "cell_type": "code",
   "execution_count": 5,
   "id": "2124ff68-ee69-42af-9739-332ba00d5fdd",
   "metadata": {
    "tags": []
   },
   "outputs": [
    {
     "data": {
      "text/html": [
       "<div>\n",
       "<style scoped>\n",
       "    .dataframe tbody tr th:only-of-type {\n",
       "        vertical-align: middle;\n",
       "    }\n",
       "\n",
       "    .dataframe tbody tr th {\n",
       "        vertical-align: top;\n",
       "    }\n",
       "\n",
       "    .dataframe thead th {\n",
       "        text-align: right;\n",
       "    }\n",
       "</style>\n",
       "<table border=\"1\" class=\"dataframe\">\n",
       "  <thead>\n",
       "    <tr style=\"text-align: right;\">\n",
       "      <th></th>\n",
       "      <th>text</th>\n",
       "    </tr>\n",
       "  </thead>\n",
       "  <tbody>\n",
       "    <tr>\n",
       "      <th>0</th>\n",
       "      <td>Jetzt sehen Sie vermutlich die Startseite. OK....</td>\n",
       "    </tr>\n",
       "    <tr>\n",
       "      <th>1</th>\n",
       "      <td>Ja genau. Vielleicht hätte ich jetzt Lektion d...</td>\n",
       "    </tr>\n",
       "    <tr>\n",
       "      <th>2</th>\n",
       "      <td>OK, das heißt ich geb jetzt hier meine Initial...</td>\n",
       "    </tr>\n",
       "    <tr>\n",
       "      <th>3</th>\n",
       "      <td>Und den Code muss ich irgendwie kopieren, oder?</td>\n",
       "    </tr>\n",
       "    <tr>\n",
       "      <th>4</th>\n",
       "      <td>OK. Ach das steht auch da, muss ich mir nichts...</td>\n",
       "    </tr>\n",
       "  </tbody>\n",
       "</table>\n",
       "</div>"
      ],
      "text/plain": [
       "                                                text\n",
       "0  Jetzt sehen Sie vermutlich die Startseite. OK....\n",
       "1  Ja genau. Vielleicht hätte ich jetzt Lektion d...\n",
       "2  OK, das heißt ich geb jetzt hier meine Initial...\n",
       "3    Und den Code muss ich irgendwie kopieren, oder?\n",
       "4  OK. Ach das steht auch da, muss ich mir nichts..."
      ]
     },
     "execution_count": 5,
     "metadata": {},
     "output_type": "execute_result"
    }
   ],
   "source": [
    "df.head()"
   ]
  },
  {
   "cell_type": "code",
   "execution_count": 40,
   "id": "4acec199-4acc-4d7d-b43b-052d5aaf31fe",
   "metadata": {
    "tags": []
   },
   "outputs": [],
   "source": [
    "df['text_processed'] = \\\n",
    "df['text'].map(lambda x: re.sub('[,.!?]', '', x))"
   ]
  },
  {
   "cell_type": "code",
   "execution_count": 44,
   "id": "4ef521d6-fc5d-49a2-a6b8-f7e8b5295874",
   "metadata": {
    "tags": []
   },
   "outputs": [],
   "source": [
    "df['text_processed'] = \\\n",
    "df['text_processed'].map(lambda x: x.lower())"
   ]
  },
  {
   "cell_type": "code",
   "execution_count": 8,
   "id": "da6ed103-d481-48e3-8a8f-89b2ff164cb7",
   "metadata": {
    "tags": []
   },
   "outputs": [
    {
     "data": {
      "text/plain": [
       "0    jetzt sehen sie vermutlich die startseite ok w...\n",
       "1    ja genau vielleicht hätte ich jetzt lektion da...\n",
       "2    ok das heißt ich geb jetzt hier meine initiale...\n",
       "3        und den code muss ich irgendwie kopieren oder\n",
       "4    ok ach das steht auch da muss ich mir nichts m...\n",
       "Name: text_processed, dtype: object"
      ]
     },
     "execution_count": 8,
     "metadata": {},
     "output_type": "execute_result"
    }
   ],
   "source": [
    "df['text_processed'].head()"
   ]
  },
  {
   "cell_type": "code",
   "execution_count": 9,
   "id": "6decef8d-564f-4d77-8c8e-ab941e9b2e91",
   "metadata": {
    "tags": []
   },
   "outputs": [],
   "source": [
    "long_string = ','.join(list(df['text_processed'].values))"
   ]
  },
  {
   "cell_type": "code",
   "execution_count": 10,
   "id": "5e5ccd0d-b1fd-4d7e-8953-d4375d539bf0",
   "metadata": {
    "tags": []
   },
   "outputs": [
    {
     "name": "stderr",
     "output_type": "stream",
     "text": [
      "C:\\Users\\vanandkuma\\AppData\\Local\\Programs\\Python\\Python310\\lib\\site-packages\\wordcloud\\wordcloud.py:106: MatplotlibDeprecationWarning: The get_cmap function was deprecated in Matplotlib 3.7 and will be removed two minor releases later. Use ``matplotlib.colormaps[name]`` or ``matplotlib.colormaps.get_cmap(obj)`` instead.\n",
      "  self.colormap = plt.cm.get_cmap(colormap)\n"
     ]
    }
   ],
   "source": [
    "wordcloud = WordCloud(background_color = \"white\", max_words = 500, \n",
    "                      contour_width = 3, \n",
    "                      contour_color = 'steelblue')"
   ]
  },
  {
   "cell_type": "code",
   "execution_count": null,
   "id": "0004a869-aacb-4459-88ee-7c08d27a3f74",
   "metadata": {
    "tags": []
   },
   "outputs": [
    {
     "name": "stderr",
     "output_type": "stream",
     "text": [
      "C:\\Users\\vanandkuma\\AppData\\Local\\Programs\\Python\\Python310\\lib\\site-packages\\joblib\\_memmapping_reducer.py:611: UserWarning: Failed to delete temporary folder: C:\\Users\\VANAND~1\\AppData\\Local\\Temp\\joblib_memmapping_folder_83340_8344a9e856d7479e82c7bf7ffe662bf9_9cc97364a3cc4f4082ac31d90a49ba93\n",
      "  warnings.warn(\"Failed to delete temporary folder: {}\"\n",
      "C:\\Users\\vanandkuma\\AppData\\Local\\Programs\\Python\\Python310\\lib\\site-packages\\joblib\\_memmapping_reducer.py:611: UserWarning: Failed to delete temporary folder: C:\\Users\\VANAND~1\\AppData\\Local\\Temp\\joblib_memmapping_folder_83340_68e34167ea0d49e4be6d9f6c5ccf5234_f977f92e88c04e1885516fac19ead64a\n",
      "  warnings.warn(\"Failed to delete temporary folder: {}\"\n",
      "C:\\Users\\vanandkuma\\AppData\\Local\\Programs\\Python\\Python310\\lib\\site-packages\\joblib\\_memmapping_reducer.py:611: UserWarning: Failed to delete temporary folder: C:\\Users\\VANAND~1\\AppData\\Local\\Temp\\joblib_memmapping_folder_83340_8344a9e856d7479e82c7bf7ffe662bf9_dae2648794ec455885ef2581f6b5d5c8\n",
      "  warnings.warn(\"Failed to delete temporary folder: {}\"\n",
      "C:\\Users\\vanandkuma\\AppData\\Local\\Programs\\Python\\Python310\\lib\\site-packages\\joblib\\_memmapping_reducer.py:611: UserWarning: Failed to delete temporary folder: C:\\Users\\VANAND~1\\AppData\\Local\\Temp\\joblib_memmapping_folder_83340_8344a9e856d7479e82c7bf7ffe662bf9_d7380cdfa70b496e9cb8839aca8ac0a7\n",
      "  warnings.warn(\"Failed to delete temporary folder: {}\"\n"
     ]
    }
   ],
   "source": [
    "wordcloud.generate(long_string);"
   ]
  },
  {
   "cell_type": "code",
   "execution_count": 12,
   "id": "b128d7de-322d-4a5b-9cd0-cb6277f7f076",
   "metadata": {
    "tags": []
   },
   "outputs": [
    {
     "data": {
      "image/png": "[encoded data removed]",
      "text/plain": [
       "<PIL.Image.Image image mode=RGB size=400x200>"
      ]
     },
     "execution_count": 12,
     "metadata": {},
     "output_type": "execute_result"
    }
   ],
   "source": [
    "wordcloud.to_image()"
   ]
  },
  {
   "cell_type": "code",
   "execution_count": 13,
   "id": "165fa62d-99ea-4314-8092-2409962964df",
   "metadata": {
    "tags": []
   },
   "outputs": [],
   "source": [
    "stop_words = stopwords.words('german')"
   ]
  },
  {
   "cell_type": "code",
   "execution_count": 15,
   "id": "8fd13d42-e8b1-47fe-8b63-ac10347df0bb",
   "metadata": {
    "tags": []
   },
   "outputs": [],
   "source": [
    "def sent_to_words(sentences):\n",
    "    for sentence in sentences:\n",
    "        yield(gensim.utils.simple_preprocess(str(sentence), \n",
    "                                             deacc = True))"
   ]
  },
  {
   "cell_type": "code",
   "execution_count": 16,
   "id": "ae7b63f4-c4c0-4c83-b14f-edbe407986c7",
   "metadata": {
    "tags": []
   },
   "outputs": [],
   "source": [
    "def remove_stopwords(texts):\n",
    "    return[[word for word in simple_preprocess(str(doc)) \n",
    "            if word not in stop_words] for doc in texts]"
   ]
  },
  {
   "cell_type": "code",
   "execution_count": 17,
   "id": "7658f3f2-d8c9-4c10-8f17-77dc9138e55d",
   "metadata": {
    "tags": []
   },
   "outputs": [],
   "source": [
    "data = df.text_processed.values.tolist()\n",
    "data_words = list(sent_to_words(data))"
   ]
  },
  {
   "cell_type": "code",
   "execution_count": 18,
   "id": "5914bde9-2aea-468d-96dc-112643ec5628",
   "metadata": {
    "tags": []
   },
   "outputs": [],
   "source": [
    "data_words = remove_stopwords(data_words)"
   ]
  },
  {
   "cell_type": "code",
   "execution_count": 133,
   "id": "225f1a36-30c6-4e13-9a93-29db99b11238",
   "metadata": {
    "tags": []
   },
   "outputs": [],
   "source": [
    "#print(data_words)"
   ]
  },
  {
   "cell_type": "code",
   "execution_count": 19,
   "id": "8b6476e4-2389-4ae3-a2ac-118830338c07",
   "metadata": {
    "tags": []
   },
   "outputs": [],
   "source": [
    "id2word = corpora.Dictionary(data_words)"
   ]
  },
  {
   "cell_type": "code",
   "execution_count": 20,
   "id": "3b2a7771-c815-42d5-98a8-a1ee2dd536de",
   "metadata": {
    "tags": []
   },
   "outputs": [],
   "source": [
    "texts = data_words"
   ]
  },
  {
   "cell_type": "code",
   "execution_count": 21,
   "id": "20057784-fc4c-4d0d-8aca-5a4738dc956e",
   "metadata": {
    "tags": []
   },
   "outputs": [],
   "source": [
    "corpus = [id2word.doc2bow(text) for text in texts]"
   ]
  },
  {
   "cell_type": "code",
   "execution_count": 137,
   "id": "c40c6192-6c61-44c2-adbe-7c021b0cf47a",
   "metadata": {
    "tags": []
   },
   "outputs": [],
   "source": [
    "#pprint(corpus)"
   ]
  },
  {
   "cell_type": "code",
   "execution_count": 30,
   "id": "2efc3340-edc1-40e1-b44e-b46104fe18a5",
   "metadata": {
    "tags": []
   },
   "outputs": [],
   "source": [
    "num_topics = 2"
   ]
  },
  {
   "cell_type": "code",
   "execution_count": 31,
   "id": "1b8757c4-2d99-487e-aadf-06ee82fc2711",
   "metadata": {
    "tags": []
   },
   "outputs": [],
   "source": [
    "lda_model = gensim.models.LdaMulticore(corpus = corpus, \n",
    "                                       id2word = id2word, \n",
    "                                       num_topics = num_topics)"
   ]
  },
  {
   "cell_type": "code",
   "execution_count": 32,
   "id": "826c7c60-19a9-4a41-a67b-544f12e3d5fa",
   "metadata": {
    "tags": []
   },
   "outputs": [
    {
     "name": "stdout",
     "output_type": "stream",
     "text": [
      "[(0,\n",
      "  '0.038*\"ja\" + 0.026*\"ok\" + 0.015*\"genau\" + 0.014*\"immer\" + 0.013*\"nochmal\" + '\n",
      "  '0.013*\"heißt\" + 0.013*\"ach\" + 0.012*\"finde\" + 0.011*\"ne\" + 0.011*\"gedacht\"'),\n",
      " (1,\n",
      "  '0.040*\"ok\" + 0.022*\"ja\" + 0.014*\"okay\" + 0.014*\"nochmal\" + 0.013*\"geburt\" + '\n",
      "  '0.013*\"immer\" + 0.011*\"genau\" + 0.010*\"sozusagen\" + 0.010*\"kommunikation\" + '\n",
      "  '0.010*\"training\"')]\n"
     ]
    }
   ],
   "source": [
    "pprint(lda_model.print_topics())\n",
    "doc_lda = lda_model[corpus]"
   ]
  },
  {
   "cell_type": "code",
   "execution_count": 33,
   "id": "5e8d542b-fc9d-4a05-bd73-94acd8baa180",
   "metadata": {
    "tags": []
   },
   "outputs": [],
   "source": [
    "pyLDAvis.enable_notebook()\n",
    "\n",
    "LDAvis_data_filepath = 'output/ldavis_prepared_topics_three'"
   ]
  },
  {
   "cell_type": "code",
   "execution_count": 34,
   "id": "2ddb3e2b-abd6-4b65-b8b9-afb802c2461b",
   "metadata": {
    "tags": []
   },
   "outputs": [],
   "source": [
    "if __name__ == '__main__':\n",
    "    if 1 == 1:\n",
    "        LDAvis_prepared = pyLDAvis.gensim.prepare(lda_model, corpus, \n",
    "                                                  id2word)\n",
    "        with open(LDAvis_data_filepath, 'wb') as f:\n",
    "            pickle.dump(LDAvis_prepared, f)"
   ]
  },
  {
   "cell_type": "code",
   "execution_count": 35,
   "id": "574f3862-a57d-4de1-8e03-914a61b4e7c6",
   "metadata": {
    "tags": []
   },
   "outputs": [],
   "source": [
    "with open(LDAvis_data_filepath, 'rb') as f:\n",
    "    LDAvis_prepared = pickle.load(f)"
   ]
  },
  {
   "cell_type": "code",
   "execution_count": 36,
   "id": "64c4302d-6185-45f7-8674-8b71529e4367",
   "metadata": {
    "tags": []
   },
   "outputs": [],
   "source": [
    "pyLDAvis.save_html(LDAvis_prepared, 'output/ldavis_prepared_topics_three.html')"
   ]
  },
  {
   "cell_type": "code",
   "execution_count": 37,
   "id": "5d928b7a-a7d6-4f9b-a277-9a56f8fb09b3",
   "metadata": {
    "tags": []
   },
   "outputs": [
    {
     "data": {
      "text/html": [
       "\n",
       "<link rel=\"stylesheet\" type=\"text/css\" href=\"https://cdn.jsdelivr.net/gh/bmabey/pyLDAvis@3.4.0/pyLDAvis/js/ldavis.v1.0.0.css\">\n",
       "\n",
       "\n",
       "<div id=\"ldavis_el8334021382300603361484597925\" style=\"background-color:white;\"></div>\n",
       "<script type=\"text/javascript\">\n",
       "\n",
       "var ldavis_el8334021382300603361484597925_data = {\"mdsDat\": {\"x\": [0.015571333956692994, -0.015571333956692994], \"y\": [0.0, 0.0], \"topics\": [1, 2], \"cluster\": [1, 1], \"Freq\": [52.580218049842046, 47.41978195015796]}, \"tinfo\": {\"Term\": [\"ja\", \"training\", \"ne\", \"gedacht\", \"hei\\u00dft\", \"okay\", \"ach\", \"richtig\", \"na\", \"finde\", \"unserer\", \"gebe\", \"private\", \"mutter\", \"merken\", \"eigentlich\", \"steht\", \"emailadresse\", \"registrieren\", \"sonderzeichen\", \"hilfreich\", \"ersparen\", \"ware\", \"tippen\", \"spracheingabe\", \"finden\", \"webbasiert\", \"nutzen\", \"einfuhrung\", \"tipp\", \"training\", \"sonderzeichen\", \"hilfreich\", \"ersparen\", \"ware\", \"tippen\", \"spracheingabe\", \"finden\", \"webbasiert\", \"nutzen\", \"einfuhrung\", \"tipp\", \"wissen\", \"handytastatur\", \"hinschreiben\", \"kennenzulernen\", \"stellen\", \"synonyme\", \"kommunikations\", \"lesson\", \"darunter\", \"okay\", \"uberbegriffe\", \"starten\", \"informationen\", \"begriff\", \"code\", \"kopieren\", \"ausreichende\", \"vielleicht\", \"ok\", \"allgemein\", \"geburt\", \"einfach\", \"sozusagen\", \"nochmal\", \"ja\", \"immer\", \"kommunikation\", \"thema\", \"genau\", \"fur\", \"kurz\", \"irgendwie\", \"gut\", \"naturlich\", \"ah\", \"gibt\", \"alltag\", \"lektion\", \"finde\", \"sowas\", \"eben\", \"eher\", \"moment\", \"ne\", \"gedacht\", \"na\", \"hei\\u00dft\", \"richtig\", \"unserer\", \"gebe\", \"private\", \"mutter\", \"merken\", \"eigentlich\", \"steht\", \"emailadresse\", \"ach\", \"realitat\", \"registrieren\", \"finde\", \"quatsch\", \"druber\", \"sache\", \"individuell\", \"ahnung\", \"wahrscheinlich\", \"initialen\", \"personlichen\", \"beziehung\", \"essen\", \"gestolpert\", \"vaters\", \"wegen\", \"ja\", \"genau\", \"gut\", \"immer\", \"lektion\", \"gibt\", \"nochmal\", \"partner\", \"ok\", \"irgendwie\", \"kurz\", \"kommunikation\", \"darum\", \"geburt\", \"sozusagen\", \"fur\"], \"Freq\": [9.0, 1.0, 2.0, 2.0, 2.0, 3.0, 2.0, 2.0, 1.0, 2.0, 1.0, 1.0, 1.0, 1.0, 1.0, 1.0, 1.0, 1.0, 2.0, 1.0, 1.0, 1.0, 1.0, 1.0, 1.0, 1.0, 1.0, 1.0, 1.0, 1.0, 1.6584766315160537, 1.0043757938013225, 1.0042877276924977, 1.0032726952727236, 1.0025184137516763, 1.001820701385942, 1.000945994945621, 1.0002462454634902, 0.9998413294044094, 0.9992952255089385, 0.9988052990156271, 0.9979828524459343, 0.9930639215045339, 0.9910771062130918, 0.988335460946188, 0.9877473611127009, 0.9831408924862414, 0.9797424338827906, 0.9770622155102985, 0.9769533864843575, 0.9739715965345817, 2.43086858743015, 1.391176873678704, 1.346052394981634, 0.8517388148096277, 0.8410917476137101, 0.8261849916824885, 0.8229922034844338, 0.8177080019030498, 1.2142023083990945, 6.702449538151943, 1.1946517105906043, 2.2374472062237127, 1.5049162903424183, 1.7574624677314223, 2.291188530575891, 3.7847494640215222, 2.1179203418780963, 1.7129767033752246, 1.454608133923059, 1.8585554658068766, 1.3223881540133289, 1.2603458153981006, 1.2476245719575916, 1.3440934725146951, 1.1242930793393537, 1.1174219640852483, 1.11393011153009, 1.063244070019216, 1.1077106384709101, 1.0982477627062905, 1.042925244277427, 1.030494995079067, 1.028472843653212, 1.0252482450991227, 1.6664134744218895, 1.6645160857440424, 1.2008587922222205, 1.9822047499217053, 1.5725595801570504, 1.1793163081017113, 1.1790337348363042, 1.1749675486502953, 1.1720921413261618, 1.171098789246869, 1.168718291437842, 1.1603277945000499, 1.1593746485192857, 1.9305747491761416, 0.7484729851798702, 1.4865101913096184, 1.8578466512233334, 0.7420782370063084, 0.739978828582075, 0.7387197912119767, 0.7362618489671193, 0.7362258118665048, 0.7336158071892503, 0.7325595668363359, 0.730846320676531, 0.730204153675776, 0.7297418188731858, 0.7296633145226313, 0.7285847452995322, 0.7273798342413373, 5.732094575734283, 2.3481249042740346, 1.6641938716679594, 2.1438312874999434, 1.3058224299796553, 1.3009147421638059, 2.007363168453486, 1.0141541776482774, 3.9786010513873853, 1.1956105184750727, 1.1855987053145336, 1.373665875596615, 0.9730625556981148, 1.5051314797899191, 1.3386212791295746, 1.136727874578376], \"Total\": [9.0, 1.0, 2.0, 2.0, 2.0, 3.0, 2.0, 2.0, 1.0, 2.0, 1.0, 1.0, 1.0, 1.0, 1.0, 1.0, 1.0, 1.0, 2.0, 1.0, 1.0, 1.0, 1.0, 1.0, 1.0, 1.0, 1.0, 1.0, 1.0, 1.0, 1.9859270749708742, 1.3024510893170602, 1.3024346027825935, 1.3022199826318612, 1.3020571688572729, 1.301908245005113, 1.3017225184658552, 1.3015739953011638, 1.3014882548959574, 1.3013722997259594, 1.3012688888019843, 1.301092071621145, 1.3000482242410238, 1.2996259490736153, 1.2990442333616827, 1.2989195989064917, 1.2979427375912427, 1.297218373175355, 1.2966482683658085, 1.2966283661852074, 1.295994499331942, 3.2390934172413437, 1.9291568715250376, 1.9195787882558202, 1.2700345492548428, 1.267772644092607, 1.264606598889153, 1.2639303662201906, 1.2628079904634073, 1.8915802415718486, 10.681050589539328, 1.8874249051288405, 3.7425786860136316, 2.4978813594391536, 3.096083746860997, 4.298551699029376, 9.516844039755807, 4.26175162937804, 3.0866425789718397, 2.4871959951454965, 4.206680370080911, 2.459116028591705, 2.4459445207126342, 2.4432350904326645, 3.0082873441826545, 1.87248539910032, 1.8710274803244102, 2.4148448536938956, 1.859519633215458, 2.4135330684505654, 2.956094413929624, 1.8552058731103347, 1.8525616752363105, 1.8521334942333247, 1.851447815409003, 2.3162946213982516, 2.3168201476219172, 1.7504301340268773, 2.922545670220322, 2.3416121538431893, 1.7562363684552285, 1.7563133070584538, 1.7574115243396, 1.7581822419623294, 1.758455937106223, 1.7590975406464295, 1.7613589294683385, 1.7616150079453579, 2.936468508095234, 1.1810110889845644, 2.364809556499313, 2.956094413929624, 1.1827353073837905, 1.183299585348987, 1.183641682291069, 1.184303544631837, 1.1843122849166259, 1.185014513973817, 1.1853008900273287, 1.1857624614971558, 1.1859345926005083, 1.186058438040955, 1.1860817503349002, 1.1863725934339018, 1.186694696991314, 9.516844039755807, 4.206680370080911, 3.0082873441826545, 4.26175162937804, 2.4135330684505654, 2.4148448536938956, 4.298551699029376, 1.8007739029285812, 10.681050589539328, 2.4432350904326645, 2.4459445207126342, 3.0866425789718397, 1.8118522834333697, 3.7425786860136316, 3.096083746860997, 2.459116028591705], \"Category\": [\"Default\", \"Default\", \"Default\", \"Default\", \"Default\", \"Default\", \"Default\", \"Default\", \"Default\", \"Default\", \"Default\", \"Default\", \"Default\", \"Default\", \"Default\", \"Default\", \"Default\", \"Default\", \"Default\", \"Default\", \"Default\", \"Default\", \"Default\", \"Default\", \"Default\", \"Default\", \"Default\", \"Default\", \"Default\", \"Default\", \"Topic1\", \"Topic1\", \"Topic1\", \"Topic1\", \"Topic1\", \"Topic1\", \"Topic1\", \"Topic1\", \"Topic1\", \"Topic1\", \"Topic1\", \"Topic1\", \"Topic1\", \"Topic1\", \"Topic1\", \"Topic1\", \"Topic1\", \"Topic1\", \"Topic1\", \"Topic1\", \"Topic1\", \"Topic1\", \"Topic1\", \"Topic1\", \"Topic1\", \"Topic1\", \"Topic1\", \"Topic1\", \"Topic1\", \"Topic1\", \"Topic1\", \"Topic1\", \"Topic1\", \"Topic1\", \"Topic1\", \"Topic1\", \"Topic1\", \"Topic1\", \"Topic1\", \"Topic1\", \"Topic1\", \"Topic1\", \"Topic1\", \"Topic1\", \"Topic1\", \"Topic1\", \"Topic1\", \"Topic1\", \"Topic1\", \"Topic1\", \"Topic1\", \"Topic1\", \"Topic1\", \"Topic1\", \"Topic1\", \"Topic2\", \"Topic2\", \"Topic2\", \"Topic2\", \"Topic2\", \"Topic2\", \"Topic2\", \"Topic2\", \"Topic2\", \"Topic2\", \"Topic2\", \"Topic2\", \"Topic2\", \"Topic2\", \"Topic2\", \"Topic2\", \"Topic2\", \"Topic2\", \"Topic2\", \"Topic2\", \"Topic2\", \"Topic2\", \"Topic2\", \"Topic2\", \"Topic2\", \"Topic2\", \"Topic2\", \"Topic2\", \"Topic2\", \"Topic2\", \"Topic2\", \"Topic2\", \"Topic2\", \"Topic2\", \"Topic2\", \"Topic2\", \"Topic2\", \"Topic2\", \"Topic2\", \"Topic2\", \"Topic2\", \"Topic2\", \"Topic2\", \"Topic2\", \"Topic2\", \"Topic2\"], \"logprob\": [30.0, 29.0, 28.0, 27.0, 26.0, 25.0, 24.0, 23.0, 22.0, 21.0, 20.0, 19.0, 18.0, 17.0, 16.0, 15.0, 14.0, 13.0, 12.0, 11.0, 10.0, 9.0, 8.0, 7.0, 6.0, 5.0, 4.0, 3.0, 2.0, 1.0, -4.6196, -5.1211, -5.1212, -5.1222, -5.123, -5.1237, -5.1245, -5.1252, -5.1256, -5.1262, -5.1267, -5.1275, -5.1325, -5.1345, -5.1372, -5.1378, -5.1425, -5.146, -5.1487, -5.1488, -5.1519, -4.2372, -4.7953, -4.8283, -5.286, -5.2985, -5.3164, -5.3203, -5.3267, -4.9314, -3.223, -4.9476, -4.3202, -4.7168, -4.5616, -4.2964, -3.7945, -4.3751, -4.5873, -4.7508, -4.5057, -4.8461, -4.8941, -4.9042, -4.8298, -5.0083, -5.0145, -5.0176, -5.0642, -5.0232, -5.0318, -5.0835, -5.0955, -5.0974, -5.1006, -4.5115, -4.5127, -4.8392, -4.338, -4.5695, -4.8573, -4.8575, -4.8609, -4.8634, -4.8642, -4.8663, -4.8735, -4.8743, -4.3644, -5.3119, -4.6258, -4.4028, -5.3205, -5.3233, -5.325, -5.3284, -5.3284, -5.332, -5.3334, -5.3357, -5.3366, -5.3373, -5.3374, -5.3388, -5.3405, -3.2761, -4.1686, -4.5128, -4.2596, -4.7554, -4.7591, -4.3254, -5.0081, -3.6413, -4.8435, -4.8519, -4.7047, -5.0495, -4.6133, -4.7306, -4.894], \"loglift\": [30.0, 29.0, 28.0, 27.0, 26.0, 25.0, 24.0, 23.0, 22.0, 21.0, 20.0, 19.0, 18.0, 17.0, 16.0, 15.0, 14.0, 13.0, 12.0, 11.0, 10.0, 9.0, 8.0, 7.0, 6.0, 5.0, 4.0, 3.0, 2.0, 1.0, 0.4626, 0.3829, 0.3829, 0.382, 0.3814, 0.3808, 0.3801, 0.3795, 0.3792, 0.3787, 0.3783, 0.3776, 0.3735, 0.3718, 0.3695, 0.369, 0.365, 0.3621, 0.3598, 0.3597, 0.3572, 0.3558, 0.3159, 0.2879, 0.2433, 0.2325, 0.2171, 0.2138, 0.2082, 0.1995, 0.1768, 0.1855, 0.1284, 0.1361, 0.0766, 0.0136, -0.2793, -0.0564, 0.054, 0.1064, -0.174, 0.0225, -0.0202, -0.0293, -0.1628, 0.1327, 0.1274, -0.1309, 0.0838, -0.136, -0.3473, 0.0669, 0.0563, 0.0546, 0.0518, 0.4168, 0.4155, 0.3693, 0.3579, 0.348, 0.3479, 0.3476, 0.3435, 0.3406, 0.3396, 0.3372, 0.3287, 0.3278, 0.3267, 0.29, 0.2819, 0.2817, 0.28, 0.2767, 0.2747, 0.2708, 0.2708, 0.2666, 0.2649, 0.2622, 0.2612, 0.2604, 0.2603, 0.2586, 0.2567, 0.2391, 0.1631, 0.1541, 0.059, 0.1319, 0.1276, -0.0153, 0.172, -0.2414, 0.0315, 0.0219, -0.0635, 0.1245, -0.1648, -0.0924, -0.0255]}, \"token.table\": {\"Topic\": [1, 2, 1, 2, 2, 1, 2, 1, 2, 1, 1, 2, 1, 1, 2, 1, 2, 1, 2, 1, 2, 1, 2, 1, 2, 1, 1, 2, 1, 2, 1, 2, 1, 1, 2, 1, 2, 1, 2, 1, 2, 1, 2, 2, 1, 2, 1, 2, 1, 1, 2, 1, 1, 1, 2, 2, 1, 2, 1, 2, 1, 2, 1, 1, 2, 1, 1, 1, 2, 1, 2, 1, 1, 2, 1, 2, 1, 2, 1, 2, 1, 2, 1, 2, 1, 2, 1, 1, 2, 1, 2, 1, 2, 2, 1, 2, 2, 2, 1, 2, 1, 2, 2, 1, 1, 2, 1, 2, 1, 1, 2, 1, 2, 1, 1, 1, 2, 1, 1, 1, 1, 2, 1, 2, 2, 1, 2, 2, 1, 1, 2, 1], \"Freq\": [0.3405451130305698, 0.6810902260611396, 0.5344656935913169, 0.5344656935913169, 0.8443718880028326, 0.5298224036795453, 0.5298224036795453, 0.5377732948540116, 0.5377732948540116, 0.7918860250741954, 0.7887849644489987, 0.8432168234566864, 0.79075975159264, 0.5519213730299525, 0.5519213730299525, 0.7716082132412436, 0.845094524143751, 0.5397930948088091, 0.5397930948088091, 0.5399178855700905, 0.5399178855700905, 0.5684733091222003, 0.5684733091222003, 0.8006785400124279, 0.40033927000621394, 0.7684806795931715, 0.567660922216109, 0.567660922216109, 0.7679194094218572, 0.8431287767335708, 0.3382841885184142, 0.6765683770368284, 0.7683005373571679, 0.4066501898947336, 0.4066501898947336, 0.5693744937085521, 0.5693744937085521, 0.5343909020468128, 0.5343909020468128, 0.4316260806979094, 0.8632521613958188, 0.47543426741536154, 0.47543426741536154, 0.8431122051390147, 0.41410527822122334, 0.41410527822122334, 0.332415054011969, 0.664830108023938, 0.76945216484236, 0.3421674501752484, 0.6843349003504968, 0.7677928687271857, 0.7697967277158744, 0.4692906048802004, 0.4692906048802004, 0.844378119556223, 0.7873801548050184, 0.84366763613663, 0.409293401161373, 0.409293401161373, 0.4203074026736532, 0.6304611040104797, 0.7698705915607555, 0.6479532206369679, 0.32397661031848396, 0.7712191689889193, 0.7911828267806559, 0.4088400172333617, 0.4088400172333617, 0.41433034959076726, 0.41433034959076726, 0.771231006569821, 0.5686807265956492, 0.5686807265956492, 0.5401178427376254, 0.5401178427376254, 0.5687692527731866, 0.5687692527731866, 0.5712881540147465, 0.5712881540147465, 0.5340495581329893, 0.5340495581329893, 0.4317240090107109, 0.8634480180214218, 0.4652729896098737, 0.4652729896098737, 0.768419613826557, 0.6553662433595784, 0.3744949962054734, 0.6174567208695546, 0.3087283604347773, 0.5553167992793041, 0.5553167992793041, 0.8433392289526435, 0.5690186880820529, 0.5690186880820529, 0.8454977151328974, 0.8467321004240543, 0.4228670326756989, 0.4228670326756989, 0.4270562049990824, 0.8541124099981648, 0.8448502743367315, 0.7677831499410467, 0.5390237355832944, 0.5390237355832944, 0.6459773583410735, 0.32298867917053675, 0.768212876257645, 0.5209476194038518, 0.5209476194038518, 0.5677434526657479, 0.5677434526657479, 0.7704500137315974, 0.7708802316391662, 0.4020591871134393, 0.4020591871134393, 0.768585115390037, 0.7681032851866398, 1.00708632517603, 0.5183611632419917, 0.5183611632419917, 0.569399437320383, 0.569399437320383, 0.8429055134403816, 0.5286585142002905, 0.5286585142002905, 0.8438715207348887, 0.7680154327460385, 0.7683511520278308, 0.8426767242959371, 0.7692022352353938], \"Term\": [\"ach\", \"ach\", \"ah\", \"ah\", \"ahnung\", \"allgemein\", \"allgemein\", \"alltag\", \"alltag\", \"ausreichende\", \"begriff\", \"beziehung\", \"code\", \"darum\", \"darum\", \"darunter\", \"druber\", \"eben\", \"eben\", \"eher\", \"eher\", \"eigentlich\", \"eigentlich\", \"einfach\", \"einfach\", \"einfuhrung\", \"emailadresse\", \"emailadresse\", \"ersparen\", \"essen\", \"finde\", \"finde\", \"finden\", \"fur\", \"fur\", \"gebe\", \"gebe\", \"geburt\", \"geburt\", \"gedacht\", \"gedacht\", \"genau\", \"genau\", \"gestolpert\", \"gibt\", \"gibt\", \"gut\", \"gut\", \"handytastatur\", \"hei\\u00dft\", \"hei\\u00dft\", \"hilfreich\", \"hinschreiben\", \"immer\", \"immer\", \"individuell\", \"informationen\", \"initialen\", \"irgendwie\", \"irgendwie\", \"ja\", \"ja\", \"kennenzulernen\", \"kommunikation\", \"kommunikation\", \"kommunikations\", \"kopieren\", \"kurz\", \"kurz\", \"lektion\", \"lektion\", \"lesson\", \"merken\", \"merken\", \"moment\", \"moment\", \"mutter\", \"mutter\", \"na\", \"na\", \"naturlich\", \"naturlich\", \"ne\", \"ne\", \"nochmal\", \"nochmal\", \"nutzen\", \"ok\", \"ok\", \"okay\", \"okay\", \"partner\", \"partner\", \"personlichen\", \"private\", \"private\", \"quatsch\", \"realitat\", \"registrieren\", \"registrieren\", \"richtig\", \"richtig\", \"sache\", \"sonderzeichen\", \"sowas\", \"sowas\", \"sozusagen\", \"sozusagen\", \"spracheingabe\", \"starten\", \"starten\", \"steht\", \"steht\", \"stellen\", \"synonyme\", \"thema\", \"thema\", \"tipp\", \"tippen\", \"training\", \"uberbegriffe\", \"uberbegriffe\", \"unserer\", \"unserer\", \"vaters\", \"vielleicht\", \"vielleicht\", \"wahrscheinlich\", \"ware\", \"webbasiert\", \"wegen\", \"wissen\"]}, \"R\": 30, \"lambda.step\": 0.01, \"plot.opts\": {\"xlab\": \"PC1\", \"ylab\": \"PC2\"}, \"topic.order\": [2, 1]};\n",
       "\n",
       "function LDAvis_load_lib(url, callback){\n",
       "  var s = document.createElement('script');\n",
       "  s.src = url;\n",
       "  s.async = true;\n",
       "  s.onreadystatechange = s.onload = callback;\n",
       "  s.onerror = function(){console.warn(\"failed to load library \" + url);};\n",
       "  document.getElementsByTagName(\"head\")[0].appendChild(s);\n",
       "}\n",
       "\n",
       "if(typeof(LDAvis) !== \"undefined\"){\n",
       "   // already loaded: just create the visualization\n",
       "   !function(LDAvis){\n",
       "       new LDAvis(\"#\" + \"ldavis_el8334021382300603361484597925\", ldavis_el8334021382300603361484597925_data);\n",
       "   }(LDAvis);\n",
       "}else if(typeof define === \"function\" && define.amd){\n",
       "   // require.js is available: use it to load d3/LDAvis\n",
       "   require.config({paths: {d3: \"https://d3js.org/d3.v5\"}});\n",
       "   require([\"d3\"], function(d3){\n",
       "      window.d3 = d3;\n",
       "      LDAvis_load_lib(\"https://cdn.jsdelivr.net/gh/bmabey/pyLDAvis@3.4.0/pyLDAvis/js/ldavis.v3.0.0.js\", function(){\n",
       "        new LDAvis(\"#\" + \"ldavis_el8334021382300603361484597925\", ldavis_el8334021382300603361484597925_data);\n",
       "      });\n",
       "    });\n",
       "}else{\n",
       "    // require.js not available: dynamically load d3 & LDAvis\n",
       "    LDAvis_load_lib(\"https://d3js.org/d3.v5.js\", function(){\n",
       "         LDAvis_load_lib(\"https://cdn.jsdelivr.net/gh/bmabey/pyLDAvis@3.4.0/pyLDAvis/js/ldavis.v3.0.0.js\", function(){\n",
       "                 new LDAvis(\"#\" + \"ldavis_el8334021382300603361484597925\", ldavis_el8334021382300603361484597925_data);\n",
       "            })\n",
       "         });\n",
       "}\n",
       "</script>"
      ],
      "text/plain": [
       "PreparedData(topic_coordinates=              x    y  topics  cluster       Freq\n",
       "topic                                           \n",
       "1      0.015571  0.0       1        1  52.580218\n",
       "0     -0.015571  0.0       2        1  47.419782, topic_info=              Term      Freq     Total Category  logprob  loglift\n",
       "33              ja  9.000000  9.000000  Default  30.0000  30.0000\n",
       "68        training  1.000000  1.000000  Default  29.0000  29.0000\n",
       "43              ne  2.000000  2.000000  Default  28.0000  28.0000\n",
       "124        gedacht  2.000000  2.000000  Default  27.0000  27.0000\n",
       "9            heißt  2.000000  2.000000  Default  26.0000  26.0000\n",
       "..             ...       ...       ...      ...      ...      ...\n",
       "157  kommunikation  1.373666  3.086643   Topic2  -4.7047  -0.0635\n",
       "90           darum  0.973063  1.811852   Topic2  -5.0495   0.1245\n",
       "7           geburt  1.505131  3.742579   Topic2  -4.6133  -0.1648\n",
       "168      sozusagen  1.338621  3.096084   Topic2  -4.7306  -0.0924\n",
       "6              fur  1.136728  2.459116   Topic2  -4.8940  -0.0255\n",
       "\n",
       "[131 rows x 6 columns], token_table=      Topic      Freq            Term\n",
       "term                                 \n",
       "38        1  0.340545             ach\n",
       "38        2  0.681090             ach\n",
       "87        1  0.534466              ah\n",
       "87        2  0.534466              ah\n",
       "116       2  0.844372          ahnung\n",
       "...     ...       ...             ...\n",
       "46        2  0.843872  wahrscheinlich\n",
       "69        1  0.768015            ware\n",
       "70        1  0.768351      webbasiert\n",
       "141       2  0.842677           wegen\n",
       "71        1  0.769202          wissen\n",
       "\n",
       "[132 rows x 3 columns], R=30, lambda_step=0.01, plot_opts={'xlab': 'PC1', 'ylab': 'PC2'}, topic_order=[2, 1])"
      ]
     },
     "execution_count": 37,
     "metadata": {},
     "output_type": "execute_result"
    }
   ],
   "source": [
    "LDAvis_prepared"
   ]
  }
 ],
 "metadata": {
  "kernelspec": {
   "display_name": "Python 3 (ipykernel)",
   "language": "python",
   "name": "python3"
  },
  "language_info": {
   "codemirror_mode": {
    "name": "ipython",
    "version": 3
   },
   "file_extension": ".py",
   "mimetype": "text/x-python",
   "name": "python",
   "nbconvert_exporter": "python",
   "pygments_lexer": "ipython3",
   "version": "3.10.2"
  }
 },
 "nbformat": 4,
 "nbformat_minor": 5
}
