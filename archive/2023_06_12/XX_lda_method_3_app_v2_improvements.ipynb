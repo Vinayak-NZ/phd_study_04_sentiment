{
 "cells": [
  {
   "cell_type": "code",
   "execution_count": 1,
   "id": "a63cbda1-339d-48d7-aa2f-87f55fce9cc3",
   "metadata": {
    "tags": []
   },
   "outputs": [],
   "source": [
    "import os\n",
    "import re\n",
    "import numpy as np\n",
    "import pandas as pd\n",
    "from pprint import pprint\n",
    "\n",
    "# reading docfiles\n",
    "import docx2txt\n",
    "\n",
    "#nltk\n",
    "import nltk\n",
    "from nltk.tokenize import word_tokenize\n",
    "\n",
    "# Gensim\n",
    "import gensim\n",
    "import gensim.corpora as corpora\n",
    "from gensim.utils import simple_preprocess\n",
    "from gensim.models import CoherenceModel\n",
    "\n",
    "# spacy for lemmatization\n",
    "import spacy\n",
    "\n",
    "# Plotting tools\n",
    "import pyLDAvis\n",
    "import pyLDAvis.gensim  # don't skip this\n",
    "import matplotlib.pyplot as plt\n",
    "%matplotlib inline\n",
    "\n",
    "# Enable logging for gensim - optional\n",
    "import logging\n",
    "logging.basicConfig(format='%(asctime)s : %(levelname)s : %(message)s', level=logging.ERROR)\n",
    "\n",
    "import warnings\n",
    "warnings.filterwarnings(\"ignore\",category=DeprecationWarning)"
   ]
  },
  {
   "cell_type": "code",
   "execution_count": 2,
   "id": "7b222ed7-905b-4058-9307-46c9edf6407c",
   "metadata": {
    "tags": []
   },
   "outputs": [],
   "source": [
    "word_exclusions = pd.read_excel(\"input/word_exclusions.xlsx\")\n",
    "\n",
    "word_exclusions = word_exclusions[word_exclusions[\"exclude\"] == 1]\n",
    "\n",
    "word_exclusions = word_exclusions.drop(columns=['exclude', 'exclude_short_list'], axis = 1)"
   ]
  },
  {
   "cell_type": "code",
   "execution_count": 3,
   "id": "2d89047e-92e5-4a22-a426-396eba7086f7",
   "metadata": {
    "tags": []
   },
   "outputs": [],
   "source": [
    "# NLTK Stop words\n",
    "from nltk.corpus import stopwords\n",
    "stop_words = stopwords.words('german')\n",
    "stop_words.extend(word_exclusions[\"word\"])\n",
    "stop_words.extend([\"gut\"])"
   ]
  },
  {
   "cell_type": "code",
   "execution_count": 4,
   "id": "e702800b-847d-4af0-84f5-03b89c8e6650",
   "metadata": {
    "tags": []
   },
   "outputs": [],
   "source": [
    "df = pd.read_excel(\"input/app_v2/app_v2_feedback.xlsx\")"
   ]
  },
  {
   "cell_type": "code",
   "execution_count": 5,
   "id": "a0db0e57-68c9-4e6b-b15c-9a12607e15a7",
   "metadata": {
    "tags": []
   },
   "outputs": [
    {
     "data": {
      "text/html": [
       "<div>\n",
       "<style scoped>\n",
       "    .dataframe tbody tr th:only-of-type {\n",
       "        vertical-align: middle;\n",
       "    }\n",
       "\n",
       "    .dataframe tbody tr th {\n",
       "        vertical-align: top;\n",
       "    }\n",
       "\n",
       "    .dataframe thead th {\n",
       "        text-align: right;\n",
       "    }\n",
       "</style>\n",
       "<table border=\"1\" class=\"dataframe\">\n",
       "  <thead>\n",
       "    <tr style=\"text-align: right;\">\n",
       "      <th></th>\n",
       "      <th>transcript_id</th>\n",
       "      <th>person_id</th>\n",
       "      <th>segment_id</th>\n",
       "      <th>context</th>\n",
       "      <th>lesson</th>\n",
       "      <th>text</th>\n",
       "      <th>category_id</th>\n",
       "    </tr>\n",
       "  </thead>\n",
       "  <tbody>\n",
       "    <tr>\n",
       "      <th>0</th>\n",
       "      <td>tn_01</td>\n",
       "      <td>p01</td>\n",
       "      <td>s_001</td>\n",
       "      <td>NaN</td>\n",
       "      <td>NaN</td>\n",
       "      <td>Ja, ich höre Sie ein bisschen schlecht. Das ha...</td>\n",
       "      <td>2</td>\n",
       "    </tr>\n",
       "    <tr>\n",
       "      <th>1</th>\n",
       "      <td>tn_01</td>\n",
       "      <td>p01</td>\n",
       "      <td>s_002</td>\n",
       "      <td>NaN</td>\n",
       "      <td>NaN</td>\n",
       "      <td>Ja, jetzt ist es ein bisschen besser. Ja.</td>\n",
       "      <td>2</td>\n",
       "    </tr>\n",
       "    <tr>\n",
       "      <th>2</th>\n",
       "      <td>tn_01</td>\n",
       "      <td>p01</td>\n",
       "      <td>s_003</td>\n",
       "      <td>Ok, gut. Also… Ich habe jetzt das Aufnahmeger...</td>\n",
       "      <td>NaN</td>\n",
       "      <td>Ok. Ja.</td>\n",
       "      <td>1</td>\n",
       "    </tr>\n",
       "    <tr>\n",
       "      <th>3</th>\n",
       "      <td>tn_01</td>\n",
       "      <td>p01</td>\n",
       "      <td>s_004</td>\n",
       "      <td>NaN</td>\n",
       "      <td>NaN</td>\n",
       "      <td>So ein Diktiergerät quasi. Ja, ja. Mhm.</td>\n",
       "      <td>2</td>\n",
       "    </tr>\n",
       "    <tr>\n",
       "      <th>4</th>\n",
       "      <td>tn_01</td>\n",
       "      <td>p01</td>\n",
       "      <td>s_005</td>\n",
       "      <td>Und ich spreche Sie jetzt auch nicht mit dem N...</td>\n",
       "      <td>NaN</td>\n",
       "      <td>Ok, dann machen wir das so. Ja!</td>\n",
       "      <td>1</td>\n",
       "    </tr>\n",
       "  </tbody>\n",
       "</table>\n",
       "</div>"
      ],
      "text/plain": [
       "  transcript_id person_id segment_id   \n",
       "0         tn_01       p01      s_001  \\\n",
       "1         tn_01       p01      s_002   \n",
       "2         tn_01       p01      s_003   \n",
       "3         tn_01       p01      s_004   \n",
       "4         tn_01       p01      s_005   \n",
       "\n",
       "                                             context lesson   \n",
       "0                                                NaN    NaN  \\\n",
       "1                                                NaN    NaN   \n",
       "2   Ok, gut. Also… Ich habe jetzt das Aufnahmeger...    NaN   \n",
       "3                                                NaN    NaN   \n",
       "4  Und ich spreche Sie jetzt auch nicht mit dem N...    NaN   \n",
       "\n",
       "                                                text  category_id  \n",
       "0  Ja, ich höre Sie ein bisschen schlecht. Das ha...            2  \n",
       "1          Ja, jetzt ist es ein bisschen besser. Ja.            2  \n",
       "2                                            Ok. Ja.            1  \n",
       "3            So ein Diktiergerät quasi. Ja, ja. Mhm.            2  \n",
       "4                    Ok, dann machen wir das so. Ja!            1  "
      ]
     },
     "execution_count": 5,
     "metadata": {},
     "output_type": "execute_result"
    }
   ],
   "source": [
    "df.head()"
   ]
  },
  {
   "cell_type": "code",
   "execution_count": 6,
   "id": "0db4fec8-4258-467c-8e27-bfdd97d073d7",
   "metadata": {
    "tags": []
   },
   "outputs": [],
   "source": [
    "improvements = df[df[\"category_id\"] == 10]"
   ]
  },
  {
   "cell_type": "code",
   "execution_count": 7,
   "id": "a97f985b-fee3-42cc-b009-8a8589d56c99",
   "metadata": {
    "tags": []
   },
   "outputs": [],
   "source": [
    "improvements = improvements.drop(columns=['transcript_id', 'person_id', 'segment_id', 'context', 'lesson', 'category_id'], \n",
    "             axis = 1)"
   ]
  },
  {
   "cell_type": "code",
   "execution_count": 8,
   "id": "7ded6587-ac14-4737-9894-87650f6e169d",
   "metadata": {
    "tags": []
   },
   "outputs": [],
   "source": [
    "improvements['text_processed'] = \\\n",
    "improvements['text'].map(lambda x: re.sub('[,.!?]', '', x))"
   ]
  },
  {
   "cell_type": "code",
   "execution_count": 9,
   "id": "1bce4c78-2219-4486-8a93-3dcb231771d1",
   "metadata": {
    "tags": []
   },
   "outputs": [],
   "source": [
    "improvements['text_processed'] = \\\n",
    "improvements['text_processed'].map(lambda x: x.lower())"
   ]
  },
  {
   "cell_type": "code",
   "execution_count": 10,
   "id": "eca9e7d5-4065-4f53-8f17-5de237c5de83",
   "metadata": {
    "tags": []
   },
   "outputs": [
    {
     "data": {
      "text/plain": [
       "23    [was, mir, nicht, gefallen, hat, sind, diese, ...\n",
       "24    [genau…, dann, fand, ich, es, hat, sich, sehr,...\n",
       "25    [ja, also, die, übungen, wo, man, irgendwie, e...\n",
       "28    [*, lacht, *, da, ist, ja, eine, übung, und, i...\n",
       "29    [dann, beim, punkt, neun, –, der, verhaltenspl...\n",
       "Name: text_processed, dtype: object"
      ]
     },
     "execution_count": 10,
     "metadata": {},
     "output_type": "execute_result"
    }
   ],
   "source": [
    "feedback = improvements['text_processed']\n",
    "\n",
    "feedback_token = feedback.apply(word_tokenize)\n",
    "feedback_token.head()"
   ]
  },
  {
   "cell_type": "code",
   "execution_count": 11,
   "id": "abba0e62-762a-428a-891e-f91388b7f010",
   "metadata": {
    "tags": []
   },
   "outputs": [],
   "source": [
    "def sent_to_words(sentences):\n",
    "    for sentence in sentences:\n",
    "        yield(gensim.utils.simple_preprocess(str(sentence), \n",
    "                                             deacc = True))"
   ]
  },
  {
   "cell_type": "code",
   "execution_count": 12,
   "id": "90bdeee0-329e-464d-a3e5-c0830f05a272",
   "metadata": {
    "tags": []
   },
   "outputs": [],
   "source": [
    "data = improvements.text_processed.values.tolist()\n",
    "data_words = list(sent_to_words(data))"
   ]
  },
  {
   "cell_type": "code",
   "execution_count": 13,
   "id": "f93b643c-d637-46ef-ae5a-581618d51d3c",
   "metadata": {
    "tags": []
   },
   "outputs": [
    {
     "name": "stdout",
     "output_type": "stream",
     "text": [
      "['was', 'mir', 'nicht', 'gefallen', 'hat', 'sind', 'diese', 'uberprufungen', 'einfach', 'weil', 'es', 'fur_mich', 'keinen', 'sinn', 'gemacht', 'hat', 'weil', 'ich', 'ja', 'dann', 'auch', 'nicht', 'wirklich', 'mehr', 'mit', 'arzten', 'gesprochen', 'habe', 'da', 'kam', 'ja', 'glaube', 'ich', 'drei', 'mal', 'oder', 'zwei', 'mal', 'kommt', 'ja', 'diese', 'uberprufung', 'zum', 'anfang', 'vom', 'introduction', 'kapitel', 'und', 'es', 'hat', 'sich', 'halt', 'nichts', 'geandert', 'an', 'meiner', 'kommunikation', 'mochte', 'ich', 'mal', 'behaupten']\n"
     ]
    }
   ],
   "source": [
    "# Build the bigram and trigram models\n",
    "bigram = gensim.models.Phrases(data_words, min_count=5, threshold=10) # higher threshold fewer phrases.\n",
    "trigram = gensim.models.Phrases(bigram[data_words], threshold=10)  \n",
    "\n",
    "# Faster way to get a sentence clubbed as a trigram/bigram\n",
    "bigram_mod = gensim.models.phrases.Phraser(bigram)\n",
    "trigram_mod = gensim.models.phrases.Phraser(trigram)\n",
    "\n",
    "# See trigram example\n",
    "print(trigram_mod[bigram_mod[data_words[0]]])"
   ]
  },
  {
   "cell_type": "code",
   "execution_count": 14,
   "id": "2af4afc7-6a3d-48b7-82ff-90eed9de2196",
   "metadata": {
    "tags": []
   },
   "outputs": [],
   "source": [
    "# Define functions for stopwords, bigrams, trigrams and lemmatization\n",
    "def remove_stopwords(texts):\n",
    "    return [[word for word in simple_preprocess(str(doc)) if word not in stop_words] for doc in texts]\n",
    "\n",
    "def make_bigrams(texts):\n",
    "    return [bigram_mod[doc] for doc in texts]\n",
    "\n",
    "def make_trigrams(texts):\n",
    "    return [trigram_mod[bigram_mod[doc]] for doc in texts]\n",
    "\n",
    "def lemmatization(texts, allowed_postags=['NOUN', 'ADJ', 'VERB', 'ADV']):\n",
    "    \"\"\"https://spacy.io/api/annotation\"\"\"\n",
    "    texts_out = []\n",
    "    for sent in texts:\n",
    "        doc = nlp(\" \".join(sent)) \n",
    "        texts_out.append([token.lemma_ for token in doc if token.pos_ in allowed_postags])\n",
    "    return texts_out"
   ]
  },
  {
   "cell_type": "code",
   "execution_count": 15,
   "id": "1b69d6e8-5363-4e0c-b957-5f3955ab01b6",
   "metadata": {
    "tags": []
   },
   "outputs": [],
   "source": [
    "# Remove Stop Words\n",
    "data_words_nostops = remove_stopwords(feedback_token)"
   ]
  },
  {
   "cell_type": "code",
   "execution_count": 16,
   "id": "f2d6824d-d63c-40f8-84bd-ba140c374d8b",
   "metadata": {
    "tags": []
   },
   "outputs": [],
   "source": [
    "# Form Bigrams\n",
    "data_words_bigrams = make_bigrams(data_words_nostops)"
   ]
  },
  {
   "cell_type": "code",
   "execution_count": 17,
   "id": "0945842d-b7ab-472a-98b6-48aae1d916ea",
   "metadata": {
    "tags": []
   },
   "outputs": [],
   "source": [
    "# Initialize spacy 'en' model, keeping only tagger component (for efficiency)\n",
    "# python3 -m spacy download en\n",
    "nlp = spacy.load(\"de_core_news_sm\", disable = ['parser', 'ner'])"
   ]
  },
  {
   "cell_type": "code",
   "execution_count": 18,
   "id": "a344947a-84c8-409c-adda-e7ec17a156d5",
   "metadata": {
    "tags": []
   },
   "outputs": [
    {
     "name": "stdout",
     "output_type": "stream",
     "text": [
      "[['fallen', 'überprüfungen', 'einfach', 'Sinn', 'machen', 'wirklich', 'mehr', 'ärzten', 'sprechen', 'kommen', 'glauben', 'kommen', 'Überprüfung', 'Anfang', 'Introduction', 'Kapitel', 'ändern', 'Kommunikation', 'behaupten']]\n"
     ]
    }
   ],
   "source": [
    "# Do lemmatization keeping only noun, adj, vb, adv\n",
    "data_lemmatized = lemmatization(data_words_bigrams, allowed_postags=['NOUN', 'ADJ', 'VERB', 'ADV'])\n",
    "\n",
    "print(data_lemmatized[:1])"
   ]
  },
  {
   "cell_type": "code",
   "execution_count": 19,
   "id": "e4fc1c71-d11b-47b4-b9b0-ce77aff86e78",
   "metadata": {
    "tags": []
   },
   "outputs": [
    {
     "name": "stdout",
     "output_type": "stream",
     "text": [
      "[[(0, 1), (1, 1), (2, 1), (3, 1), (4, 1), (5, 1), (6, 1), (7, 1), (8, 1), (9, 2), (10, 1), (11, 1), (12, 1), (13, 1), (14, 1), (15, 1), (16, 1), (17, 1)]]\n"
     ]
    }
   ],
   "source": [
    "# Create Dictionary\n",
    "id2word = corpora.Dictionary(data_lemmatized)\n",
    "\n",
    "# Create Corpus\n",
    "texts = data_lemmatized\n",
    "\n",
    "# Term Document Frequency\n",
    "corpus = [id2word.doc2bow(text) for text in texts]\n",
    "\n",
    "# View\n",
    "print(corpus[:1])"
   ]
  },
  {
   "cell_type": "code",
   "execution_count": 20,
   "id": "f39484e3-e8d1-4a52-aa71-25f88f96c76e",
   "metadata": {
    "tags": []
   },
   "outputs": [
    {
     "data": {
      "text/plain": [
       "[[('Anfang', 1),\n",
       "  ('Introduction', 1),\n",
       "  ('Kapitel', 1),\n",
       "  ('Kommunikation', 1),\n",
       "  ('Sinn', 1),\n",
       "  ('behaupten', 1),\n",
       "  ('einfach', 1),\n",
       "  ('fallen', 1),\n",
       "  ('glauben', 1),\n",
       "  ('kommen', 2),\n",
       "  ('machen', 1),\n",
       "  ('mehr', 1),\n",
       "  ('sprechen', 1),\n",
       "  ('wirklich', 1),\n",
       "  ('Überprüfung', 1),\n",
       "  ('ändern', 1),\n",
       "  ('ärzten', 1),\n",
       "  ('überprüfungen', 1)]]"
      ]
     },
     "execution_count": 20,
     "metadata": {},
     "output_type": "execute_result"
    }
   ],
   "source": [
    "# Human readable format of corpus (term-frequency)\n",
    "[[(id2word[id], freq) for id, freq in cp] for cp in corpus[:1]]"
   ]
  },
  {
   "cell_type": "code",
   "execution_count": 21,
   "id": "e73fe189-e116-4403-a711-bef5c8a843f4",
   "metadata": {
    "tags": []
   },
   "outputs": [],
   "source": [
    "# Build LDA model\n",
    "lda_model = gensim.models.ldamodel.LdaModel(corpus=corpus,\n",
    "                                           id2word=id2word,\n",
    "                                           num_topics=2, \n",
    "                                           random_state=100,\n",
    "                                           update_every=1,\n",
    "                                           chunksize=100,\n",
    "                                           passes=10,\n",
    "                                           alpha='auto',\n",
    "                                           per_word_topics=True)"
   ]
  },
  {
   "cell_type": "code",
   "execution_count": 22,
   "id": "940657c6-5ebd-4e42-8fc9-f9b5b1db19d8",
   "metadata": {
    "tags": []
   },
   "outputs": [
    {
     "name": "stdout",
     "output_type": "stream",
     "text": [
      "[(0,\n",
      "  '0.027*\"vielleicht\" + 0.023*\"einfach\" + 0.022*\"finden\" + 0.021*\"sagen\" + '\n",
      "  '0.015*\"bissch\" + 0.013*\"Frage\" + 0.012*\"Beispiel\" + 0.012*\"wirklich\" + '\n",
      "  '0.012*\"geben\" + 0.011*\"immer\"'),\n",
      " (1,\n",
      "  '0.015*\"machen\" + 0.013*\"wissen\" + 0.011*\"app\" + 0.011*\"Frage\" + '\n",
      "  '0.010*\"finden\" + 0.010*\"vielleicht\" + 0.009*\"bissch\" + 0.009*\"immer\" + '\n",
      "  '0.008*\"kommen\" + 0.007*\"denken\"')]\n"
     ]
    }
   ],
   "source": [
    "# Print the Keyword in the 10 topics\n",
    "pprint(lda_model.print_topics())\n",
    "doc_lda = lda_model[corpus]"
   ]
  },
  {
   "cell_type": "code",
   "execution_count": 23,
   "id": "da9ea0b7-09b6-47a1-b96a-c949f8877f2a",
   "metadata": {
    "tags": []
   },
   "outputs": [
    {
     "name": "stdout",
     "output_type": "stream",
     "text": [
      "\n",
      "Perplexity:  -6.54075771501872\n",
      "\n",
      "Coherence Score:  0.5550335347480755\n"
     ]
    }
   ],
   "source": [
    "# Compute Perplexity\n",
    "print('\\nPerplexity: ', lda_model.log_perplexity(corpus))  # a measure of how good the model is. lower the better.\n",
    "\n",
    "# Compute Coherence Score\n",
    "coherence_model_lda = CoherenceModel(model=lda_model, texts=data_lemmatized, dictionary=id2word, coherence='c_v')\n",
    "coherence_lda = coherence_model_lda.get_coherence()\n",
    "print('\\nCoherence Score: ', coherence_lda)"
   ]
  },
  {
   "cell_type": "code",
   "execution_count": 24,
   "id": "35834e7c-9f91-4ba1-a9e3-46c49c04f2e7",
   "metadata": {
    "tags": []
   },
   "outputs": [
    {
     "data": {
      "text/html": [
       "\n",
       "<link rel=\"stylesheet\" type=\"text/css\" href=\"https://cdn.jsdelivr.net/gh/bmabey/pyLDAvis@3.4.0/pyLDAvis/js/ldavis.v1.0.0.css\">\n",
       "\n",
       "\n",
       "<div id=\"ldavis_el12552026917917460164618935501\" style=\"background-color:white;\"></div>\n",
       "<script type=\"text/javascript\">\n",
       "\n",
       "var ldavis_el12552026917917460164618935501_data = {\"mdsDat\": {\"x\": [0.07011182575771353, -0.07011182575771353], \"y\": [0.0, 0.0], \"topics\": [1, 2], \"cluster\": [1, 1], \"Freq\": [67.41219563903981, 32.5878043609602]}, \"tinfo\": {\"Term\": [\"einfach\", \"wissen\", \"machen\", \"app\", \"selber\", \"fragen\", \"gehen\", \"Antwort\", \"Geburt\", \"Lektion\", \"schreiben\", \"situation\", \"nat\\u00fcrlich\", \"Mann\", \"kommen\", \"beantworten\", \"n\\u00e4chster\", \"kurz\", \"oft\", \"lang\", \"praktisch\", \"einzig\", \"sinnvoll\", \"theoretisch\", \"manchmal\", \"\\u00fcbung\", \"dauern\", \"Methode\", \"Siri\", \"schauen\", \"einfach\", \"gehen\", \"M\\u00f6glichkeit\", \"richtig\", \"Kommunikation\", \"Seite\", \"funktionieren\", \"sch\\u00f6n\", \"gleichzeitig\", \"sehen\", \"Alltag\", \"f\\u00e4nd\", \"Macht\", \"vorher\", \"letzter\", \"umsetzen\", \"Plan\", \"generell\", \"Woche\", \"liegen\", \"versuch\", \"arztbesuch\", \"Idee\", \"falsch\", \"Babyzeit\", \"Bl\\u00f6d\", \"\\u00fcberlegen\", \"Text\", \"Definition\", \"Ziel\", \"gut\", \"sagen\", \"eigen\", \"vielleicht\", \"finden\", \"bisschen\", \"wirklich\", \"helfen\", \"mehr\", \"Beispiel\", \"gerade\", \"bissch\", \"geben\", \"konkret\", \"ganz\", \"Frage\", \"glauben\", \"immer\", \"wichtig\", \"denken\", \"Sache\", \"Punkt\", \"Situation\", \"machen\", \"kommen\", \"wissen\", \"app\", \"selber\", \"Antwort\", \"schreiben\", \"situation\", \"Mann\", \"praktisch\", \"einzig\", \"Siri\", \"schauen\", \"Methode\", \"Strategie\", \"strategin\", \"Tastatur\", \"vorbereiten\", \"h\\u00e4ufig\", \"fertig\", \"vergissen\", \"Schwerpunkt\", \"w\\u00e4hlen\", \"xxxx\", \"einsch\\u00e4tzen\", \"runtergeh\", \"wenig\", \"Touch\", \"negativ\", \"tendenziell\", \"Spracheingabe\", \"sprech\", \"lassen\", \"ver\\u00e4ndern\", \"fragen\", \"beantworten\", \"Lektion\", \"Geburt\", \"lang\", \"wissen\", \"oft\", \"theoretisch\", \"app\", \"machen\", \"nat\\u00fcrlich\", \"kurz\", \"kommen\", \"n\\u00e4chster\", \"sinnvoll\", \"Frage\", \"manchmal\", \"dauern\", \"immer\", \"\\u00fcbung\", \"denken\", \"bissch\", \"finden\", \"erster\", \"hilfreich\", \"vielleicht\", \"glauben\", \"geben\", \"Gef\\u00fchl\", \"sagen\", \"ganz\", \"Beispiel\", \"wirklich\"], \"Freq\": [42.0, 21.0, 26.0, 18.0, 5.0, 7.0, 18.0, 4.0, 7.0, 7.0, 3.0, 3.0, 8.0, 3.0, 16.0, 5.0, 12.0, 7.0, 4.0, 4.0, 2.0, 2.0, 5.0, 3.0, 7.0, 4.0, 3.0, 2.0, 2.0, 2.0, 41.75449586667939, 17.735473637292994, 7.727117922825093, 8.837299852551556, 8.264650633960931, 6.203710336837733, 6.202210472955482, 5.649129512434734, 5.648462340385244, 5.694810850568887, 5.093922683723212, 5.09390910261279, 8.14574886103402, 4.197103818416727, 4.126265595273963, 4.054765292998116, 4.054660888211746, 4.054648580330426, 5.493387279848819, 4.140546981702301, 3.571089748470592, 3.571079987047476, 3.5710757429504687, 3.5710579177430395, 3.5709917098297317, 3.5706568505758844, 3.568809395148765, 3.5658160335297735, 3.4994005838779367, 3.499001002144734, 10.001354652045261, 38.224439321300956, 7.191909279210252, 48.457113387792845, 39.73380658556997, 18.014504341472186, 21.951977223128424, 6.224434686932301, 12.915287995552225, 22.172537851662465, 14.048588370494869, 26.562475612866923, 21.445778680194792, 9.32794377995477, 16.583932982233943, 24.12930933420863, 15.559022600751428, 19.158996400222122, 8.592934932725015, 13.824860796774253, 8.74373873403366, 8.312584314376664, 8.958147968365848, 12.93645076086761, 8.951215660314718, 9.367882430428837, 8.69036242361623, 4.594681799422245, 4.160928223399707, 3.3915319015671734, 3.391468300614099, 3.3047972302159896, 2.4783855262533785, 2.477831582468537, 2.0811713132651675, 2.080989947966723, 2.1265097655751535, 2.022520565983619, 2.022520565983619, 2.0225127697377583, 2.022237439160256, 2.0219093813410107, 2.020735020517147, 2.006098389571084, 1.9807607956880735, 1.9807607956880735, 1.6832602595120627, 1.624869968391572, 1.6248696606450248, 1.6248696606450248, 1.6248676090013772, 1.6248670960904654, 1.6248612489060699, 1.62485478622858, 1.6248520165096558, 1.6247637958328107, 1.6241225546107656, 5.452792423561494, 3.752967911314302, 4.812177363157619, 5.082666471980756, 3.1509032350480934, 11.789331989624696, 3.450089914555852, 2.7921708812997204, 10.064541436159066, 13.126384872110197, 5.09775343870746, 4.4870090788258805, 7.34667821547289, 5.902632937424555, 3.327614379877972, 9.624384269983763, 3.90609110396381, 2.471425120014664, 8.011871146117084, 2.830814410058986, 6.593784904812606, 8.256688858635753, 8.930905738699378, 3.369107641663699, 4.091609339479572, 8.898951799217349, 5.507508118327021, 6.015033875971089, 3.5826917467849984, 6.181789420001179, 4.88694130931838, 5.078611603475718, 4.405866982893582], \"Total\": [42.0, 21.0, 26.0, 18.0, 5.0, 7.0, 18.0, 4.0, 7.0, 7.0, 3.0, 3.0, 8.0, 3.0, 16.0, 5.0, 12.0, 7.0, 4.0, 4.0, 2.0, 2.0, 5.0, 3.0, 7.0, 4.0, 3.0, 2.0, 2.0, 2.0, 42.53136894216564, 18.142583696959758, 8.041954617013081, 9.210892466403577, 8.652588750525426, 6.518960488511796, 6.518691380008171, 5.963869984535652, 5.963751345060883, 6.030624216193722, 5.4086620274201245, 5.408659858577492, 8.69001683797807, 4.512210483263189, 4.4409757286944425, 4.369592241878779, 4.369573570151331, 4.369567571074227, 5.936052118763446, 4.502103807614725, 3.8857837508428927, 3.8857823242220952, 3.885781490982652, 3.885777693888663, 3.8857659058231064, 3.8857054539071205, 3.8853755223494653, 3.884837567847874, 3.814334500329274, 3.8142609504172147, 11.06748173335724, 44.40622874130214, 8.0051734351862, 57.356065187010195, 48.66471232426935, 21.210646729277723, 26.357844206022005, 6.978868628098629, 15.178447896601892, 27.251149455138183, 16.69061627670753, 34.819164471502674, 27.46081255616588, 10.947637246259182, 21.470874291552324, 33.75369360419239, 21.06653071907845, 27.170867546339206, 10.758082687621586, 20.418645701586858, 11.417191871160371, 10.766829791144113, 12.309417389171466, 26.06283563297781, 16.297893875787608, 21.157214420053535, 18.754903859775297, 5.036658480767682, 4.575456313455212, 3.7744860054139737, 3.7744990634630873, 3.7218699216832154, 2.8619201960451215, 2.862038543751785, 2.4641232154866457, 2.464163100270294, 2.525580376870485, 2.4054595502348324, 2.4054595502348324, 2.4054599238757097, 2.405517224401126, 2.4055902602746424, 2.405841279430558, 2.4089823750783603, 2.4144270311074103, 2.4144270311074103, 2.066449300653803, 2.0077841246752945, 2.007784241338448, 2.0077844535432985, 2.007784789204217, 2.0077849129078564, 2.0077861745859478, 2.0077869268733695, 2.0077875259064446, 2.0078063891022055, 2.007943382643201, 7.142703786710405, 5.218802199354076, 7.138852457356682, 7.706771279703481, 4.3815899331409875, 21.157214420053535, 4.943274967449547, 3.8327682941392696, 18.754903859775297, 26.06283563297781, 8.671226672057147, 7.764489013283903, 16.297893875787608, 12.16920683912902, 5.3110222396493665, 33.75369360419239, 7.549121691979568, 3.418405180050973, 27.170867546339206, 4.379578884126409, 20.418645701586858, 34.819164471502674, 48.66471232426935, 6.483761945631231, 9.928197221433052, 57.356065187010195, 21.06653071907845, 27.46081255616588, 7.476541252945745, 44.40622874130214, 21.470874291552324, 27.251149455138183, 26.357844206022005], \"Category\": [\"Default\", \"Default\", \"Default\", \"Default\", \"Default\", \"Default\", \"Default\", \"Default\", \"Default\", \"Default\", \"Default\", \"Default\", \"Default\", \"Default\", \"Default\", \"Default\", \"Default\", \"Default\", \"Default\", \"Default\", \"Default\", \"Default\", \"Default\", \"Default\", \"Default\", \"Default\", \"Default\", \"Default\", \"Default\", \"Default\", \"Topic1\", \"Topic1\", \"Topic1\", \"Topic1\", \"Topic1\", \"Topic1\", \"Topic1\", \"Topic1\", \"Topic1\", \"Topic1\", \"Topic1\", \"Topic1\", \"Topic1\", \"Topic1\", \"Topic1\", \"Topic1\", \"Topic1\", \"Topic1\", \"Topic1\", \"Topic1\", \"Topic1\", \"Topic1\", \"Topic1\", \"Topic1\", \"Topic1\", \"Topic1\", \"Topic1\", \"Topic1\", \"Topic1\", \"Topic1\", \"Topic1\", \"Topic1\", \"Topic1\", \"Topic1\", \"Topic1\", \"Topic1\", \"Topic1\", \"Topic1\", \"Topic1\", \"Topic1\", \"Topic1\", \"Topic1\", \"Topic1\", \"Topic1\", \"Topic1\", \"Topic1\", \"Topic1\", \"Topic1\", \"Topic1\", \"Topic1\", \"Topic1\", \"Topic1\", \"Topic1\", \"Topic1\", \"Topic1\", \"Topic1\", \"Topic1\", \"Topic2\", \"Topic2\", \"Topic2\", \"Topic2\", \"Topic2\", \"Topic2\", \"Topic2\", \"Topic2\", \"Topic2\", \"Topic2\", \"Topic2\", \"Topic2\", \"Topic2\", \"Topic2\", \"Topic2\", \"Topic2\", \"Topic2\", \"Topic2\", \"Topic2\", \"Topic2\", \"Topic2\", \"Topic2\", \"Topic2\", \"Topic2\", \"Topic2\", \"Topic2\", \"Topic2\", \"Topic2\", \"Topic2\", \"Topic2\", \"Topic2\", \"Topic2\", \"Topic2\", \"Topic2\", \"Topic2\", \"Topic2\", \"Topic2\", \"Topic2\", \"Topic2\", \"Topic2\", \"Topic2\", \"Topic2\", \"Topic2\", \"Topic2\", \"Topic2\", \"Topic2\", \"Topic2\", \"Topic2\", \"Topic2\", \"Topic2\", \"Topic2\", \"Topic2\", \"Topic2\", \"Topic2\", \"Topic2\", \"Topic2\", \"Topic2\", \"Topic2\", \"Topic2\", \"Topic2\", \"Topic2\", \"Topic2\", \"Topic2\"], \"logprob\": [30.0, 29.0, 28.0, 27.0, 26.0, 25.0, 24.0, 23.0, 22.0, 21.0, 20.0, 19.0, 18.0, 17.0, 16.0, 15.0, 14.0, 13.0, 12.0, 11.0, 10.0, 9.0, 8.0, 7.0, 6.0, 5.0, 4.0, 3.0, 2.0, 1.0, -3.7763, -4.6326, -5.4634, -5.3292, -5.3962, -5.683, -5.6832, -5.7766, -5.7768, -5.7686, -5.8801, -5.8801, -5.4106, -6.0737, -6.0908, -6.1083, -6.1083, -6.1083, -5.8046, -6.0873, -6.2353, -6.2353, -6.2353, -6.2353, -6.2353, -6.2354, -6.2359, -6.2368, -6.2556, -6.2557, -5.2054, -3.8647, -5.5352, -3.6275, -3.8259, -4.617, -4.4193, -5.6797, -4.9497, -4.4093, -4.8656, -4.2286, -4.4426, -5.2751, -4.6997, -4.3247, -4.7635, -4.5554, -5.3572, -4.8817, -5.3398, -5.3904, -5.3156, -4.9481, -5.3164, -5.2709, -5.3459, -5.2564, -5.3555, -5.56, -5.56, -5.5859, -5.8736, -5.8739, -6.0483, -6.0484, -6.0268, -6.0769, -6.0769, -6.0769, -6.0771, -6.0772, -6.0778, -6.0851, -6.0978, -6.0978, -6.2605, -6.2958, -6.2958, -6.2958, -6.2958, -6.2958, -6.2958, -6.2958, -6.2958, -6.2959, -6.2963, -5.0851, -5.4587, -5.2101, -5.1554, -5.6336, -4.3141, -5.5429, -5.7544, -4.4722, -4.2066, -5.1525, -5.2801, -4.787, -5.0059, -5.579, -4.517, -5.4187, -5.8765, -4.7003, -5.7407, -4.8951, -4.6702, -4.5917, -5.5666, -5.3723, -4.5953, -5.0751, -4.987, -5.5051, -4.9596, -5.1947, -5.1562, -5.2983], \"loglift\": [30.0, 29.0, 28.0, 27.0, 26.0, 25.0, 24.0, 23.0, 22.0, 21.0, 20.0, 19.0, 18.0, 17.0, 16.0, 15.0, 14.0, 13.0, 12.0, 11.0, 10.0, 9.0, 8.0, 7.0, 6.0, 5.0, 4.0, 3.0, 2.0, 1.0, 0.3759, 0.3716, 0.3544, 0.3529, 0.3485, 0.3448, 0.3446, 0.3401, 0.34, 0.337, 0.3344, 0.3344, 0.3297, 0.322, 0.3208, 0.3196, 0.3195, 0.3195, 0.3168, 0.3106, 0.3099, 0.3099, 0.3099, 0.3099, 0.3099, 0.3098, 0.3094, 0.3087, 0.3082, 0.3081, 0.2931, 0.2444, 0.2872, 0.2257, 0.1916, 0.231, 0.2114, 0.2799, 0.2329, 0.1881, 0.222, 0.1237, 0.1471, 0.2342, 0.1361, 0.0587, 0.0913, 0.045, 0.1696, 0.0044, 0.1276, 0.1356, 0.0765, -0.3061, -0.2049, -0.4203, -0.3749, 1.0294, 1.0263, 1.0142, 1.0142, 1.0024, 0.9773, 0.9771, 0.9523, 0.9522, 0.9492, 0.9478, 0.9478, 0.9478, 0.9477, 0.9475, 0.9468, 0.9382, 0.9233, 0.9233, 0.9161, 0.9096, 0.9096, 0.9096, 0.9096, 0.9096, 0.9096, 0.9096, 0.9096, 0.9096, 0.9091, 0.8513, 0.7915, 0.7268, 0.705, 0.7915, 0.5364, 0.7616, 0.8045, 0.4988, 0.4353, 0.59, 0.5729, 0.3244, 0.3977, 0.6537, -0.1336, 0.4623, 0.7969, -0.1, 0.6848, -0.0091, -0.3179, -0.5742, 0.4666, 0.2348, -0.7421, -0.2203, -0.3973, 0.3856, -0.8505, -0.3589, -0.5588, -0.6676]}, \"token.table\": {\"Topic\": [1, 2, 1, 1, 2, 1, 1, 1, 2, 1, 2, 1, 2, 1, 1, 1, 2, 1, 2, 2, 2, 1, 1, 1, 2, 1, 2, 2, 1, 2, 1, 2, 2, 2, 2, 1, 2, 1, 1, 1, 2, 1, 1, 2, 1, 2, 1, 2, 1, 2, 1, 2, 1, 2, 1, 2, 2, 2, 1, 2, 1, 2, 1, 2, 1, 2, 1, 1, 1, 2, 1, 2, 1, 1, 1, 2, 1, 2, 1, 1, 2, 1, 2, 1, 2, 2, 1, 2, 1, 2, 1, 2, 1, 2, 1, 2, 2, 1, 1, 1, 2, 1, 2, 1, 2, 1, 2, 2, 1, 2, 1, 2, 2, 1, 2, 1, 2, 2, 2, 1, 1, 2, 1, 2, 2, 2, 2, 2, 1, 2, 1, 2, 1, 2, 1, 2, 2, 1, 2, 1, 2, 1, 2, 1, 2, 2, 2, 1, 1, 2], \"Freq\": [0.9244430461085674, 0.8742297436513716, 1.0293980895775798, 0.8073053959142966, 0.18347849907143104, 1.0294141044525016, 0.7865067942365893, 0.7110332955389235, 0.2962638731412181, 0.38926807233799543, 0.6487801205633257, 0.5350067450539387, 0.5350067450539387, 1.0293939608499354, 0.9245787856858679, 0.2801570717348239, 0.7003926793370597, 0.9205966051800405, 0.11507457564750506, 0.8060464398614045, 0.7918971885892834, 0.994783032358287, 0.9154211356742228, 0.7430227982781084, 0.1857556995695271, 0.7882849041657821, 0.2627616347219274, 0.8283538803335351, 0.9203921408288411, 0.811647724200762, 0.7311475202650335, 0.2437158400883445, 0.9961216368285176, 0.8314419586913239, 0.8314418295431723, 1.0296440791000494, 0.9961226973896428, 0.8423106637145839, 0.7865219603477448, 0.47987449401448595, 0.5331938822383178, 1.0293937401140374, 0.19161484988332547, 0.7664593995333019, 0.7754350344074977, 0.22975852871333266, 0.8486304180038996, 0.14143840300064994, 0.29253407578357593, 0.5850681515671519, 0.6856478242781779, 0.34282391213908897, 0.8744345212099931, 0.1249192173157133, 0.9875064227796617, 0.023512057685230042, 0.9961230270826285, 0.6988026084995497, 0.4626943470713641, 0.4626943470713641, 1.0293949667504088, 0.8313100357449112, 0.8219508158903014, 0.18493893357531782, 0.28000601169002226, 0.7000150292250557, 0.9204301370058846, 0.9244434168051063, 0.7917702730292925, 0.23287360971449778, 0.7647260967623768, 0.21849317050353623, 0.992140937622702, 0.915422392476386, 0.838794671682531, 0.17974171536054234, 0.7594985720885663, 0.28481196453321234, 1.006078163364262, 0.9035479109814236, 0.09035479109814236, 0.8597382068266101, 0.14328970113776834, 0.6043393242679712, 0.4028928828453141, 0.8313967814999647, 0.6992783711302554, 0.29443299837063386, 0.5522185914690814, 0.4295033489203966, 0.8220951971234988, 0.18268782158299973, 0.3863744278428934, 0.5151659037905245, 0.2282276560013775, 0.6846829680041325, 0.9961119811429148, 0.900702963575061, 0.8884735161447229, 0.49879453575461485, 0.49879453575461485, 0.5298629646213983, 0.5298629646213983, 0.8564775587436976, 0.13176577826826116, 0.46129574871914253, 0.5766196858989282, 0.9961226360165335, 0.4930477457830304, 0.4930477457830304, 0.20229503852907135, 0.606885115587214, 0.6988315057714725, 0.9771040138430885, 0.9961229692024783, 0.8557358072755294, 0.1351161800961362, 0.8116345869234954, 0.7948102061305614, 1.0060581494160727, 0.9949218828605688, 0.9927216663770909, 0.3765753389373945, 0.5648630084060917, 0.7948074564489394, 0.9961213396308313, 0.8314419586913239, 0.9961220100603824, 0.2609080234589478, 0.7827240703768434, 0.9154172239833832, 0.8302260824697579, 1.029393362183969, 0.9960440206074214, 0.8368774922668663, 0.15691452980003742, 0.8314220242168157, 0.8864834685431688, 0.996122863921194, 0.8365802960740892, 0.18590673246090872, 0.834666136882835, 0.15175747943324272, 0.42538681233336134, 0.5671824164444819, 0.8283538803335351, 0.9678437304835985, 1.0295015184481375, 0.4566649106947045, 0.6849973660420567], \"Term\": [\"Alltag\", \"Antwort\", \"Babyzeit\", \"Beispiel\", \"Beispiel\", \"Bl\\u00f6d\", \"Definition\", \"Frage\", \"Frage\", \"Geburt\", \"Geburt\", \"Gef\\u00fchl\", \"Gef\\u00fchl\", \"Idee\", \"Kommunikation\", \"Lektion\", \"Lektion\", \"Macht\", \"Macht\", \"Mann\", \"Methode\", \"M\\u00f6glichkeit\", \"Plan\", \"Punkt\", \"Punkt\", \"Sache\", \"Sache\", \"Schwerpunkt\", \"Seite\", \"Siri\", \"Situation\", \"Situation\", \"Spracheingabe\", \"Strategie\", \"Tastatur\", \"Text\", \"Touch\", \"Woche\", \"Ziel\", \"app\", \"app\", \"arztbesuch\", \"beantworten\", \"beantworten\", \"bissch\", \"bissch\", \"bisschen\", \"bisschen\", \"dauern\", \"dauern\", \"denken\", \"denken\", \"eigen\", \"eigen\", \"einfach\", \"einfach\", \"einsch\\u00e4tzen\", \"einzig\", \"erster\", \"erster\", \"falsch\", \"fertig\", \"finden\", \"finden\", \"fragen\", \"fragen\", \"funktionieren\", \"f\\u00e4nd\", \"ganz\", \"ganz\", \"geben\", \"geben\", \"gehen\", \"generell\", \"gerade\", \"gerade\", \"glauben\", \"glauben\", \"gleichzeitig\", \"gut\", \"gut\", \"helfen\", \"helfen\", \"hilfreich\", \"hilfreich\", \"h\\u00e4ufig\", \"immer\", \"immer\", \"kommen\", \"kommen\", \"konkret\", \"konkret\", \"kurz\", \"kurz\", \"lang\", \"lang\", \"lassen\", \"letzter\", \"liegen\", \"machen\", \"machen\", \"manchmal\", \"manchmal\", \"mehr\", \"mehr\", \"nat\\u00fcrlich\", \"nat\\u00fcrlich\", \"negativ\", \"n\\u00e4chster\", \"n\\u00e4chster\", \"oft\", \"oft\", \"praktisch\", \"richtig\", \"runtergeh\", \"sagen\", \"sagen\", \"schauen\", \"schreiben\", \"sch\\u00f6n\", \"sehen\", \"selber\", \"sinnvoll\", \"sinnvoll\", \"situation\", \"sprech\", \"strategin\", \"tendenziell\", \"theoretisch\", \"theoretisch\", \"umsetzen\", \"vergissen\", \"versuch\", \"ver\\u00e4ndern\", \"vielleicht\", \"vielleicht\", \"vorbereiten\", \"vorher\", \"wenig\", \"wichtig\", \"wichtig\", \"wirklich\", \"wirklich\", \"wissen\", \"wissen\", \"w\\u00e4hlen\", \"xxxx\", \"\\u00fcberlegen\", \"\\u00fcbung\", \"\\u00fcbung\"]}, \"R\": 30, \"lambda.step\": 0.01, \"plot.opts\": {\"xlab\": \"PC1\", \"ylab\": \"PC2\"}, \"topic.order\": [1, 2]};\n",
       "\n",
       "function LDAvis_load_lib(url, callback){\n",
       "  var s = document.createElement('script');\n",
       "  s.src = url;\n",
       "  s.async = true;\n",
       "  s.onreadystatechange = s.onload = callback;\n",
       "  s.onerror = function(){console.warn(\"failed to load library \" + url);};\n",
       "  document.getElementsByTagName(\"head\")[0].appendChild(s);\n",
       "}\n",
       "\n",
       "if(typeof(LDAvis) !== \"undefined\"){\n",
       "   // already loaded: just create the visualization\n",
       "   !function(LDAvis){\n",
       "       new LDAvis(\"#\" + \"ldavis_el12552026917917460164618935501\", ldavis_el12552026917917460164618935501_data);\n",
       "   }(LDAvis);\n",
       "}else if(typeof define === \"function\" && define.amd){\n",
       "   // require.js is available: use it to load d3/LDAvis\n",
       "   require.config({paths: {d3: \"https://d3js.org/d3.v5\"}});\n",
       "   require([\"d3\"], function(d3){\n",
       "      window.d3 = d3;\n",
       "      LDAvis_load_lib(\"https://cdn.jsdelivr.net/gh/bmabey/pyLDAvis@3.4.0/pyLDAvis/js/ldavis.v3.0.0.js\", function(){\n",
       "        new LDAvis(\"#\" + \"ldavis_el12552026917917460164618935501\", ldavis_el12552026917917460164618935501_data);\n",
       "      });\n",
       "    });\n",
       "}else{\n",
       "    // require.js not available: dynamically load d3 & LDAvis\n",
       "    LDAvis_load_lib(\"https://d3js.org/d3.v5.js\", function(){\n",
       "         LDAvis_load_lib(\"https://cdn.jsdelivr.net/gh/bmabey/pyLDAvis@3.4.0/pyLDAvis/js/ldavis.v3.0.0.js\", function(){\n",
       "                 new LDAvis(\"#\" + \"ldavis_el12552026917917460164618935501\", ldavis_el12552026917917460164618935501_data);\n",
       "            })\n",
       "         });\n",
       "}\n",
       "</script>"
      ],
      "text/plain": [
       "PreparedData(topic_coordinates=              x    y  topics  cluster       Freq\n",
       "topic                                           \n",
       "0      0.070112  0.0       1        1  67.412196\n",
       "1     -0.070112  0.0       2        1  32.587804, topic_info=         Term       Freq      Total Category  logprob  loglift\n",
       "6     einfach  42.000000  42.000000  Default  30.0000  30.0000\n",
       "63     wissen  21.000000  21.000000  Default  29.0000  29.0000\n",
       "10     machen  26.000000  26.000000  Default  28.0000  28.0000\n",
       "183       app  18.000000  18.000000  Default  27.0000  27.0000\n",
       "297    selber   5.000000   5.000000  Default  26.0000  26.0000\n",
       "..        ...        ...        ...      ...      ...      ...\n",
       "136    Gefühl   3.582692   7.476541   Topic2  -5.5051   0.3856\n",
       "60      sagen   6.181789  44.406229   Topic2  -4.9596  -0.8505\n",
       "156      ganz   4.886941  21.470874   Topic2  -5.1947  -0.3589\n",
       "24   Beispiel   5.078612  27.251149   Topic2  -5.1562  -0.5588\n",
       "13   wirklich   4.405867  26.357844   Topic2  -5.2983  -0.6676\n",
       "\n",
       "[150 rows x 6 columns], token_table=      Topic      Freq       Term\n",
       "term                            \n",
       "501       1  0.924443     Alltag\n",
       "485       2  0.874230    Antwort\n",
       "466       1  1.029398   Babyzeit\n",
       "24        1  0.807305   Beispiel\n",
       "24        2  0.183478   Beispiel\n",
       "...     ...       ...        ...\n",
       "793       2  0.828354     wählen\n",
       "260       2  0.967844       xxxx\n",
       "554       1  1.029502  überlegen\n",
       "50        1  0.456665      übung\n",
       "50        2  0.684997      übung\n",
       "\n",
       "[150 rows x 3 columns], R=30, lambda_step=0.01, plot_opts={'xlab': 'PC1', 'ylab': 'PC2'}, topic_order=[1, 2])"
      ]
     },
     "execution_count": 24,
     "metadata": {},
     "output_type": "execute_result"
    }
   ],
   "source": [
    "# Visualize the topics\n",
    "pyLDAvis.enable_notebook()\n",
    "vis = pyLDAvis.gensim.prepare(lda_model, corpus, id2word)\n",
    "vis"
   ]
  },
  {
   "cell_type": "code",
   "execution_count": 28,
   "id": "f63c4d5e-8760-4899-80b4-193ec224f1f2",
   "metadata": {
    "tags": []
   },
   "outputs": [],
   "source": [
    "def compute_coherence_values(dictionary, corpus, texts, limit, start=2, step=3):\n",
    "    \"\"\"\n",
    "    Compute c_v coherence for various number of topics\n",
    "\n",
    "    Parameters:\n",
    "    ----------\n",
    "    dictionary : Gensim dictionary\n",
    "    corpus : Gensim corpus\n",
    "    texts : List of input texts\n",
    "    limit : Max num of topics\n",
    "\n",
    "    Returns:\n",
    "    -------\n",
    "    model_list : List of LDA topic models\n",
    "    coherence_values : Coherence values corresponding to the LDA model with respective number of topics\n",
    "    \"\"\"\n",
    "    coherence_values = []\n",
    "    model_list = []\n",
    "    for num_topics in range(start, limit, step):\n",
    "        model = gensim.models.ldamodel.LdaModel(corpus=corpus,id2word=id2word, num_topics=num_topics, random_state=100)\n",
    "        model_list.append(model)\n",
    "        coherencemodel = CoherenceModel(model=model, texts=texts, dictionary=dictionary, coherence='c_v')\n",
    "        coherence_values.append(coherencemodel.get_coherence())\n",
    "\n",
    "    return model_list, coherence_values"
   ]
  },
  {
   "cell_type": "code",
   "execution_count": 29,
   "id": "3fe70221-20f5-484f-ab7a-ed4f5b42edac",
   "metadata": {
    "tags": []
   },
   "outputs": [],
   "source": [
    "model_list, coherence_values = compute_coherence_values(dictionary=id2word, \n",
    "                                                        corpus=corpus, \n",
    "                                                        texts=data_lemmatized, \n",
    "                                                        start=1, \n",
    "                                                        limit=10, \n",
    "                                                        step=1)"
   ]
  },
  {
   "cell_type": "code",
   "execution_count": 30,
   "id": "6c4b2403-3fe8-4f9e-9d2e-d7a2c29a96f0",
   "metadata": {
    "tags": []
   },
   "outputs": [],
   "source": [
    "os.chdir(\"C:\\\\Users\\\\vanandkuma\\\\Documents\\\\projects\\\\sentiment_analysis\")"
   ]
  },
  {
   "cell_type": "code",
   "execution_count": 32,
   "id": "b4ca5c43-51ae-4049-a7f1-6e9a0ff3b094",
   "metadata": {
    "tags": []
   },
   "outputs": [
    {
     "data": {
      "image/png": "[encoded data removed]",
      "text/plain": [
       "<Figure size 640x480 with 1 Axes>"
      ]
     },
     "metadata": {},
     "output_type": "display_data"
    }
   ],
   "source": [
    "# Show graph\n",
    "limit=10; start=1; step=1;\n",
    "x = range(start, limit, step)\n",
    "plt.title(\"LDA Diagnostics \\n Optimum topics for version two feedback\")\n",
    "plt.plot(x, coherence_values)\n",
    "plt.xlabel(\"Num Topics\")\n",
    "plt.ylabel(\"Coherence score\")\n",
    "plt.savefig('output/app_v1_lda_topic_coherence.png')"
   ]
  },
  {
   "cell_type": "code",
   "execution_count": 33,
   "id": "9a34f105-39c7-461f-b019-9a0e780eb0a0",
   "metadata": {
    "tags": []
   },
   "outputs": [
    {
     "name": "stdout",
     "output_type": "stream",
     "text": [
      "Num Topics = 1  has Coherence Value of 0.5478\n",
      "Num Topics = 2  has Coherence Value of 0.5727\n",
      "Num Topics = 3  has Coherence Value of 0.5204\n",
      "Num Topics = 4  has Coherence Value of 0.468\n",
      "Num Topics = 5  has Coherence Value of 0.4498\n",
      "Num Topics = 6  has Coherence Value of 0.4618\n",
      "Num Topics = 7  has Coherence Value of 0.4174\n",
      "Num Topics = 8  has Coherence Value of 0.4154\n",
      "Num Topics = 9  has Coherence Value of 0.4145\n"
     ]
    }
   ],
   "source": [
    "# Print the coherence scores\n",
    "for m, cv in zip(x, coherence_values):\n",
    "    print(\"Num Topics =\", m, \" has Coherence Value of\", round(cv, 4))"
   ]
  },
  {
   "cell_type": "code",
   "execution_count": 30,
   "id": "2122fe83-34f8-42c5-8652-d42471f3ca87",
   "metadata": {
    "tags": []
   },
   "outputs": [
    {
     "name": "stdout",
     "output_type": "stream",
     "text": [
      "[(0,\n",
      "  '0.056*\"lernen\" + 0.029*\"mögen\" + 0.029*\"uber\" + 0.026*\"Frage\" + '\n",
      "  '0.020*\"geben\" + 0.019*\"stellen\" + 0.019*\"fur\" + 0.015*\"personlich\" + '\n",
      "  '0.015*\"Person\" + 0.015*\"hineinversetzen\"'),\n",
      " (1,\n",
      "  '0.052*\"finden\" + 0.041*\"gut\" + 0.029*\"Lektion\" + 0.020*\"einfach\" + '\n",
      "  '0.020*\"eigen\" + 0.016*\"Kommunikation\" + 0.013*\"Klicke\" + 0.013*\"personlich\" '\n",
      "  '+ 0.012*\"kurz\" + 0.011*\"mögen\"'),\n",
      " (2,\n",
      "  '0.055*\"gut\" + 0.055*\"finden\" + 0.035*\"Beispiel\" + 0.021*\"immer\" + '\n",
      "  '0.018*\"geben\" + 0.018*\"Alltag\" + 0.013*\"personlich\" + 0.013*\"wichtig\" + '\n",
      "  '0.013*\"mögen\" + 0.013*\"wirklich\"'),\n",
      " (3,\n",
      "  '0.027*\"Thema\" + 0.024*\"nie\" + 0.024*\"bissch\" + 0.024*\"mögen\" + '\n",
      "  '0.023*\"Geburt\" + 0.020*\"Seite\" + 0.020*\"finden\" + 0.017*\"Kommunikation\" + '\n",
      "  '0.016*\"fur\" + 0.014*\"spannend\"'),\n",
      " (4,\n",
      "  '0.051*\"Lektion\" + 0.039*\"gut\" + 0.039*\"Idee\" + 0.026*\"mögen\" + '\n",
      "  '0.026*\"finden\" + 0.026*\"kommen\" + 0.014*\"total\" + 0.014*\"folgen\" + '\n",
      "  '0.014*\"dazwischen\" + 0.014*\"Kleinigkeit\"'),\n",
      " (5,\n",
      "  '0.077*\"mögen\" + 0.028*\"neutral\" + 0.028*\"Aufforderung\" + 0.028*\"Fuhl\" + '\n",
      "  '0.028*\"bestatigen\" + 0.028*\"Dialog\" + 0.028*\"Erklarung\" + 0.003*\"gut\" + '\n",
      "  '0.003*\"finden\" + 0.003*\"lernen\"'),\n",
      " (6,\n",
      "  '0.057*\"gut\" + 0.038*\"Frage\" + 0.031*\"finden\" + 0.021*\"fallen\" + '\n",
      "  '0.017*\"nehmen\" + 0.016*\"wirklich\" + 0.016*\"nachst\" + 0.016*\"wichtig\" + '\n",
      "  '0.012*\"Termin\" + 0.012*\"Thema\"'),\n",
      " (7,\n",
      "  '0.033*\"gut\" + 0.033*\"verstehen\" + 0.027*\"auffrischen\" + 0.014*\"finden\" + '\n",
      "  '0.014*\"glauben\" + 0.014*\"lernen\" + 0.014*\"immer\" + 0.014*\"gerade\" + '\n",
      "  '0.014*\"klar\" + 0.014*\"Geburt\"')]\n"
     ]
    }
   ],
   "source": [
    "# Select the model and print the topics\n",
    "optimal_model = model_list[7]\n",
    "model_topics = optimal_model.show_topics(formatted=False)\n",
    "pprint(optimal_model.print_topics(num_words=10))"
   ]
  },
  {
   "cell_type": "code",
   "execution_count": 26,
   "id": "327e34e1-f90a-42ce-bb0e-960995f33845",
   "metadata": {},
   "outputs": [
    {
     "name": "stderr",
     "output_type": "stream",
     "text": [
      "C:\\Users\\vanandkuma\\AppData\\Local\\Programs\\Python\\Python310\\lib\\site-packages\\joblib\\_memmapping_reducer.py:611: UserWarning: Failed to delete temporary folder: C:\\Users\\VANAND~1\\AppData\\Local\\Temp\\joblib_memmapping_folder_125520_ea82bf33d87b4bbdba3d89e13caa6aba_803323dde39c4dce8d6e56c9ba1d6309\n",
      "  warnings.warn(\"Failed to delete temporary folder: {}\"\n",
      "C:\\Users\\vanandkuma\\AppData\\Local\\Programs\\Python\\Python310\\lib\\site-packages\\joblib\\_memmapping_reducer.py:611: UserWarning: Failed to delete temporary folder: C:\\Users\\VANAND~1\\AppData\\Local\\Temp\\joblib_memmapping_folder_125520_ea82bf33d87b4bbdba3d89e13caa6aba_fbd517443f82406b9a88eb3ce37d6713\n",
      "  warnings.warn(\"Failed to delete temporary folder: {}\"\n"
     ]
    }
   ],
   "source": [
    "pyLDAvis.save_html(vis, 'output/ldavis_app_v2_improvements.html')"
   ]
  }
 ],
 "metadata": {
  "kernelspec": {
   "display_name": "Python 3 (ipykernel)",
   "language": "python",
   "name": "python3"
  },
  "language_info": {
   "codemirror_mode": {
    "name": "ipython",
    "version": 3
   },
   "file_extension": ".py",
   "mimetype": "text/x-python",
   "name": "python",
   "nbconvert_exporter": "python",
   "pygments_lexer": "ipython3",
   "version": "3.10.2"
  }
 },
 "nbformat": 4,
 "nbformat_minor": 5
}
