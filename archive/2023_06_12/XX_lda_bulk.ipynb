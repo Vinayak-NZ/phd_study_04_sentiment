{
 "cells": [
  {
   "cell_type": "code",
   "execution_count": 186,
   "id": "f8ca0864-f96b-4557-abd4-4e2052ea2cae",
   "metadata": {
    "tags": []
   },
   "outputs": [],
   "source": [
    "import pandas as pd\n",
    "import re\n",
    "from wordcloud import WordCloud\n",
    "import nltk\n",
    "from nltk.corpus import stopwords\n",
    "from pprint import pprint\n",
    "import pyLDAvis.gensim\n",
    "import pickle\n",
    "import pyLDAvis\n",
    "import docx2txt\n",
    "import os\n",
    "import nltk\n",
    "\n",
    "# Gensim\n",
    "import gensim\n",
    "import gensim.corpora as corpora\n",
    "from gensim.utils import simple_preprocess\n",
    "from gensim.models import CoherenceModel"
   ]
  },
  {
   "cell_type": "code",
   "execution_count": 145,
   "id": "a1f9bde7-4d89-446a-ae1c-a2526e864ce1",
   "metadata": {
    "tags": []
   },
   "outputs": [],
   "source": [
    "os.chdir(\"C:\\\\Users\\\\vanandkuma\\\\Documents\\\\projects\\\\sentiment_analysis\")"
   ]
  },
  {
   "cell_type": "code",
   "execution_count": 146,
   "id": "9430c8d2-6462-4477-bc9e-c56a7c01d0e6",
   "metadata": {
    "tags": []
   },
   "outputs": [],
   "source": [
    "os.chdir('input/app_v1')\n",
    "\n",
    "path_v1 = (\"C:\\\\Users\\\\vanandkuma\\\\Documents\\\\projects\\\\sentiment_analysis\\\\input\\\\app_v1\")\n",
    "\n",
    "path_v2 = (\"C:\\\\Users\\\\vanandkuma\\\\Documents\\\\projects\\\\sentiment_analysis\\\\input\\\\app_v2\")"
   ]
  },
  {
   "cell_type": "code",
   "execution_count": 147,
   "id": "2818b224-9565-4ce3-b904-2e45db5645f0",
   "metadata": {
    "tags": []
   },
   "outputs": [],
   "source": [
    "files = []\n",
    "for file in os.listdir(path_v1):\n",
    "    if file.endswith('.docx'):\n",
    "        files.append(file)"
   ]
  },
  {
   "cell_type": "code",
   "execution_count": 148,
   "id": "a787e0b5-9de0-43ce-ac4f-64f36f717734",
   "metadata": {
    "tags": []
   },
   "outputs": [],
   "source": [
    "pooled_doc = []\n",
    "for i in range(len(files)):\n",
    "    text = docx2txt.process(files[i])\n",
    "    pooled_doc.append(text) "
   ]
  },
  {
   "cell_type": "code",
   "execution_count": 149,
   "id": "0f40e4b8-9050-4df9-bdca-4eec7363cff8",
   "metadata": {
    "tags": []
   },
   "outputs": [
    {
     "data": {
      "text/plain": [
       "4"
      ]
     },
     "execution_count": 149,
     "metadata": {},
     "output_type": "execute_result"
    }
   ],
   "source": [
    "len(pooled_doc)"
   ]
  },
  {
   "cell_type": "code",
   "execution_count": 150,
   "id": "acc76543-8b1b-497f-82c0-e0e0e14fd56f",
   "metadata": {
    "tags": []
   },
   "outputs": [],
   "source": [
    "df = []\n",
    "for i in range(len(pooled_doc)):\n",
    "    sentence = nltk.tokenize.sent_tokenize(pooled_doc[i])\n",
    "    for i in range(len(sentence)):\n",
    "        df.append(sentence[i])"
   ]
  },
  {
   "cell_type": "code",
   "execution_count": 151,
   "id": "7934c131-53b5-40b0-813e-9da86cf5bc64",
   "metadata": {
    "tags": []
   },
   "outputs": [],
   "source": [
    "for i in range(len(df)):\n",
    "    df[i] = df[i].replace('\\n', '')"
   ]
  },
  {
   "cell_type": "code",
   "execution_count": 153,
   "id": "c4da802b-2850-483a-8405-56510139e694",
   "metadata": {
    "tags": []
   },
   "outputs": [],
   "source": [
    "df = pd.DataFrame(df, columns=['text'])"
   ]
  },
  {
   "cell_type": "code",
   "execution_count": 154,
   "id": "05d2278b-799d-44f1-a366-8ac6f22ac808",
   "metadata": {
    "tags": []
   },
   "outputs": [],
   "source": [
    "df['text_processed'] = \\\n",
    "df['text'].map(lambda x: re.sub('[,.!?]', '', x))"
   ]
  },
  {
   "cell_type": "code",
   "execution_count": 155,
   "id": "a0df0ccb-4124-43c9-b348-4788c122221e",
   "metadata": {
    "tags": []
   },
   "outputs": [],
   "source": [
    "df['text_processed'] = \\\n",
    "df['text_processed'].map(lambda x: x.lower())"
   ]
  },
  {
   "cell_type": "code",
   "execution_count": 156,
   "id": "a3b97de6-6b88-45c0-9d3a-1932176c9d4b",
   "metadata": {
    "tags": []
   },
   "outputs": [
    {
     "data": {
      "text/html": [
       "<div>\n",
       "<style scoped>\n",
       "    .dataframe tbody tr th:only-of-type {\n",
       "        vertical-align: middle;\n",
       "    }\n",
       "\n",
       "    .dataframe tbody tr th {\n",
       "        vertical-align: top;\n",
       "    }\n",
       "\n",
       "    .dataframe thead th {\n",
       "        text-align: right;\n",
       "    }\n",
       "</style>\n",
       "<table border=\"1\" class=\"dataframe\">\n",
       "  <thead>\n",
       "    <tr style=\"text-align: right;\">\n",
       "      <th></th>\n",
       "      <th>text</th>\n",
       "      <th>text_processed</th>\n",
       "    </tr>\n",
       "  </thead>\n",
       "  <tbody>\n",
       "    <tr>\n",
       "      <th>0</th>\n",
       "      <td>Startseite OK.Komm, wir gehen Baby.</td>\n",
       "      <td>startseite okkomm wir gehen baby</td>\n",
       "    </tr>\n",
       "    <tr>\n",
       "      <th>1</th>\n",
       "      <td>Unterstützung beim Ärztepflegende, Schwangere ...</td>\n",
       "      <td>unterstützung beim ärztepflegende schwangere u...</td>\n",
       "    </tr>\n",
       "    <tr>\n",
       "      <th>2</th>\n",
       "      <td>Schöne und sichere Gebot füralle Beteiligten O...</td>\n",
       "      <td>schöne und sichere gebot füralle beteiligten o...</td>\n",
       "    </tr>\n",
       "    <tr>\n",
       "      <th>3</th>\n",
       "      <td>Aber jetzt starten kommt danndie Registration ...</td>\n",
       "      <td>aber jetzt starten kommt danndie registration ...</td>\n",
       "    </tr>\n",
       "    <tr>\n",
       "      <th>4</th>\n",
       "      <td>Nur so ist jetzt eine ganzkomische kleine Sach...</td>\n",
       "      <td>nur so ist jetzt eine ganzkomische kleine sach...</td>\n",
       "    </tr>\n",
       "  </tbody>\n",
       "</table>\n",
       "</div>"
      ],
      "text/plain": [
       "                                                text   \n",
       "0                Startseite OK.Komm, wir gehen Baby.  \\\n",
       "1  Unterstützung beim Ärztepflegende, Schwangere ...   \n",
       "2  Schöne und sichere Gebot füralle Beteiligten O...   \n",
       "3  Aber jetzt starten kommt danndie Registration ...   \n",
       "4  Nur so ist jetzt eine ganzkomische kleine Sach...   \n",
       "\n",
       "                                      text_processed  \n",
       "0                   startseite okkomm wir gehen baby  \n",
       "1  unterstützung beim ärztepflegende schwangere u...  \n",
       "2  schöne und sichere gebot füralle beteiligten o...  \n",
       "3  aber jetzt starten kommt danndie registration ...  \n",
       "4  nur so ist jetzt eine ganzkomische kleine sach...  "
      ]
     },
     "execution_count": 156,
     "metadata": {},
     "output_type": "execute_result"
    }
   ],
   "source": [
    "df.head()"
   ]
  },
  {
   "cell_type": "code",
   "execution_count": 168,
   "id": "ac00134c-3cdd-4ee6-9e4f-60b8d9f47a5e",
   "metadata": {
    "tags": []
   },
   "outputs": [],
   "source": [
    "stop_words = stopwords.words('german')\n",
    "stop_words.extend(['ja', 'ne', 'ok', 'okay', 'genau', 'also', 'mhm'])"
   ]
  },
  {
   "cell_type": "code",
   "execution_count": 169,
   "id": "49c77a44-e3f3-40a6-87e8-832a5987d57e",
   "metadata": {
    "tags": []
   },
   "outputs": [],
   "source": [
    "def sent_to_words(sentences):\n",
    "    for sentence in sentences:\n",
    "        yield(gensim.utils.simple_preprocess(str(sentence), \n",
    "                                             deacc = True))"
   ]
  },
  {
   "cell_type": "code",
   "execution_count": 170,
   "id": "1eba4c8d-6e44-4c80-a3a3-ab7469b906f2",
   "metadata": {
    "tags": []
   },
   "outputs": [],
   "source": [
    "def remove_stopwords(texts):\n",
    "    return[[word for word in simple_preprocess(str(doc)) \n",
    "            if word not in stop_words] for doc in texts]"
   ]
  },
  {
   "cell_type": "code",
   "execution_count": 171,
   "id": "804cf4be-7809-4ac8-98f7-dcd107fa7a46",
   "metadata": {
    "tags": []
   },
   "outputs": [],
   "source": [
    "data = df.text_processed.values.tolist()\n",
    "data_words = list(sent_to_words(data))"
   ]
  },
  {
   "cell_type": "code",
   "execution_count": 172,
   "id": "9dabea99-67a3-47ac-b494-7b6080c2dc47",
   "metadata": {
    "tags": []
   },
   "outputs": [],
   "source": [
    "data_words = remove_stopwords(data_words)"
   ]
  },
  {
   "cell_type": "code",
   "execution_count": null,
   "id": "e2cc1873-3a26-4bdb-9e44-755b20739724",
   "metadata": {
    "tags": []
   },
   "outputs": [],
   "source": [
    "#print(data_words)"
   ]
  },
  {
   "cell_type": "code",
   "execution_count": 173,
   "id": "9cf07d1e-5908-49c4-9ebf-2e790a95b4e6",
   "metadata": {
    "tags": []
   },
   "outputs": [],
   "source": [
    "id2word = corpora.Dictionary(data_words)"
   ]
  },
  {
   "cell_type": "code",
   "execution_count": 174,
   "id": "c47ba1fd-1fe1-4168-91c7-f83b2aa2a4df",
   "metadata": {
    "tags": []
   },
   "outputs": [],
   "source": [
    "texts = data_words"
   ]
  },
  {
   "cell_type": "code",
   "execution_count": 175,
   "id": "9b7ec046-70f1-423a-bfd5-8fa09421c549",
   "metadata": {
    "tags": []
   },
   "outputs": [],
   "source": [
    "corpus = [id2word.doc2bow(text) for text in texts]"
   ]
  },
  {
   "cell_type": "code",
   "execution_count": 176,
   "id": "d2c56411-e7bd-47df-8028-af227ee773ac",
   "metadata": {
    "tags": []
   },
   "outputs": [],
   "source": [
    "num_topics = 2"
   ]
  },
  {
   "cell_type": "code",
   "execution_count": 177,
   "id": "683f0ca7-72ff-4d96-88e8-5d72eefc239e",
   "metadata": {
    "tags": []
   },
   "outputs": [],
   "source": [
    "lda_model = gensim.models.LdaMulticore(corpus = corpus, \n",
    "                                       id2word = id2word, \n",
    "                                       num_topics = num_topics)"
   ]
  },
  {
   "cell_type": "code",
   "execution_count": 188,
   "id": "855b4803-cc40-41cc-9b68-d2028e2ae309",
   "metadata": {
    "tags": []
   },
   "outputs": [
    {
     "name": "stdout",
     "output_type": "stream",
     "text": [
      "\n",
      "Perplexity:  -7.7072971706798725\n",
      "\n",
      "Coherence Score:  0.5932079125791875\n"
     ]
    },
    {
     "name": "stderr",
     "output_type": "stream",
     "text": [
      "C:\\Users\\vanandkuma\\AppData\\Local\\Programs\\Python\\Python310\\lib\\site-packages\\joblib\\_memmapping_reducer.py:611: UserWarning: Failed to delete temporary folder: C:\\Users\\VANAND~1\\AppData\\Local\\Temp\\joblib_memmapping_folder_83356_cf8b2b48ab284b5eb1cdbf9e208dc622_24d9f9dd0c00418aab282ecaa889abbd\n",
      "  warnings.warn(\"Failed to delete temporary folder: {}\"\n",
      "C:\\Users\\vanandkuma\\AppData\\Local\\Programs\\Python\\Python310\\lib\\site-packages\\joblib\\_memmapping_reducer.py:611: UserWarning: Failed to delete temporary folder: C:\\Users\\VANAND~1\\AppData\\Local\\Temp\\joblib_memmapping_folder_83356_926db34164c14416b3c7e2915cca10d8_2f8d8b9b70ca4c50b96b469f99ccec60\n",
      "  warnings.warn(\"Failed to delete temporary folder: {}\"\n",
      "C:\\Users\\vanandkuma\\AppData\\Local\\Programs\\Python\\Python310\\lib\\site-packages\\joblib\\_memmapping_reducer.py:611: UserWarning: Failed to delete temporary folder: C:\\Users\\VANAND~1\\AppData\\Local\\Temp\\joblib_memmapping_folder_83356_cf8b2b48ab284b5eb1cdbf9e208dc622_6d8c2d5fdd834e0194f715b2acb7713c\n",
      "  warnings.warn(\"Failed to delete temporary folder: {}\"\n",
      "C:\\Users\\vanandkuma\\AppData\\Local\\Programs\\Python\\Python310\\lib\\site-packages\\joblib\\_memmapping_reducer.py:611: UserWarning: Failed to delete temporary folder: C:\\Users\\VANAND~1\\AppData\\Local\\Temp\\joblib_memmapping_folder_83356_d107ee8817af4cdca788e2bbb80102eb_50781aef315d458e84a1e672a6bc245c\n",
      "  warnings.warn(\"Failed to delete temporary folder: {}\"\n",
      "C:\\Users\\vanandkuma\\AppData\\Local\\Programs\\Python\\Python310\\lib\\site-packages\\joblib\\_memmapping_reducer.py:611: UserWarning: Failed to delete temporary folder: C:\\Users\\VANAND~1\\AppData\\Local\\Temp\\joblib_memmapping_folder_83356_cf8b2b48ab284b5eb1cdbf9e208dc622_8f86c00dcea34c5aac7dad80864215ca\n",
      "  warnings.warn(\"Failed to delete temporary folder: {}\"\n",
      "C:\\Users\\vanandkuma\\AppData\\Local\\Programs\\Python\\Python310\\lib\\site-packages\\joblib\\_memmapping_reducer.py:611: UserWarning: Failed to delete temporary folder: C:\\Users\\VANAND~1\\AppData\\Local\\Temp\\joblib_memmapping_folder_83356_5dbd0e49a4ca4303be9b1913b9e538f4_fb51d992b75343878600e2c4ad3d710a\n",
      "  warnings.warn(\"Failed to delete temporary folder: {}\"\n",
      "C:\\Users\\vanandkuma\\AppData\\Local\\Programs\\Python\\Python310\\lib\\site-packages\\joblib\\_memmapping_reducer.py:611: UserWarning: Failed to delete temporary folder: C:\\Users\\VANAND~1\\AppData\\Local\\Temp\\joblib_memmapping_folder_83356_cf8b2b48ab284b5eb1cdbf9e208dc622_c287decdae23461da5f0271e395cf0bc\n",
      "  warnings.warn(\"Failed to delete temporary folder: {}\"\n",
      "C:\\Users\\vanandkuma\\AppData\\Local\\Programs\\Python\\Python310\\lib\\site-packages\\joblib\\_memmapping_reducer.py:611: UserWarning: Failed to delete temporary folder: C:\\Users\\VANAND~1\\AppData\\Local\\Temp\\joblib_memmapping_folder_83356_cf698aeefd614fceb3e29f35108c8428_f2ef3e36e8a346d98e4dacd52067e6b1\n",
      "  warnings.warn(\"Failed to delete temporary folder: {}\"\n",
      "C:\\Users\\vanandkuma\\AppData\\Local\\Programs\\Python\\Python310\\lib\\site-packages\\joblib\\_memmapping_reducer.py:611: UserWarning: Failed to delete temporary folder: C:\\Users\\VANAND~1\\AppData\\Local\\Temp\\joblib_memmapping_folder_83356_cf8b2b48ab284b5eb1cdbf9e208dc622_783ce132f0694d49862f24e455102cdb\n",
      "  warnings.warn(\"Failed to delete temporary folder: {}\"\n",
      "C:\\Users\\vanandkuma\\AppData\\Local\\Programs\\Python\\Python310\\lib\\site-packages\\joblib\\_memmapping_reducer.py:611: UserWarning: Failed to delete temporary folder: C:\\Users\\VANAND~1\\AppData\\Local\\Temp\\joblib_memmapping_folder_83356_08d8465098254e1db1fbf0337f48d34d_475325f0c18a4a88885040e12dce4f97\n",
      "  warnings.warn(\"Failed to delete temporary folder: {}\"\n",
      "C:\\Users\\vanandkuma\\AppData\\Local\\Programs\\Python\\Python310\\lib\\site-packages\\joblib\\_memmapping_reducer.py:611: UserWarning: Failed to delete temporary folder: C:\\Users\\VANAND~1\\AppData\\Local\\Temp\\joblib_memmapping_folder_83356_cf8b2b48ab284b5eb1cdbf9e208dc622_fbbbb61ed00c461ebbe4e5409533f7dd\n",
      "  warnings.warn(\"Failed to delete temporary folder: {}\"\n",
      "C:\\Users\\vanandkuma\\AppData\\Local\\Programs\\Python\\Python310\\lib\\site-packages\\joblib\\_memmapping_reducer.py:611: UserWarning: Failed to delete temporary folder: C:\\Users\\VANAND~1\\AppData\\Local\\Temp\\joblib_memmapping_folder_83356_cf8b2b48ab284b5eb1cdbf9e208dc622_cc43bc80288346aca9df52f2be14e08a\n",
      "  warnings.warn(\"Failed to delete temporary folder: {}\"\n"
     ]
    }
   ],
   "source": [
    "# Compute Perplexity\n",
    "print('\\nPerplexity: ', lda_model.log_perplexity(corpus))  # a measure of how good the model is. lower the better.\n",
    "\n",
    "# Compute Coherence Score\n",
    "coherence_model_lda = CoherenceModel(model=lda_model, texts=data_words, dictionary=id2word, coherence='c_v')\n",
    "coherence_lda = coherence_model_lda.get_coherence()\n",
    "print('\\nCoherence Score: ', coherence_lda)"
   ]
  },
  {
   "cell_type": "code",
   "execution_count": 178,
   "id": "c74fc43f-42ad-4736-a50f-a1ad49d3de81",
   "metadata": {
    "tags": []
   },
   "outputs": [
    {
     "name": "stdout",
     "output_type": "stream",
     "text": [
      "[(0,\n",
      "  '0.013*\"gut\" + 0.010*\"mal\" + 0.008*\"schon\" + 0.008*\"fur\" + 0.007*\"irgendwie\" '\n",
      "  '+ 0.007*\"ganz\" + 0.007*\"einfach\" + 0.006*\"super\" + 0.006*\"konnen\" + '\n",
      "  '0.006*\"immer\"'),\n",
      " (1,\n",
      "  '0.018*\"schon\" + 0.015*\"mal\" + 0.013*\"gut\" + 0.010*\"einfach\" + 0.008*\"immer\" '\n",
      "  '+ 0.007*\"vielleicht\" + 0.007*\"geburt\" + 0.006*\"bisschen\" + 0.006*\"nochmal\" '\n",
      "  '+ 0.006*\"halt\"')]\n"
     ]
    }
   ],
   "source": [
    "pprint(lda_model.print_topics())\n",
    "doc_lda = lda_model[corpus]"
   ]
  },
  {
   "cell_type": "code",
   "execution_count": 179,
   "id": "30da02cb-4bef-418a-bb87-e48f4884b75f",
   "metadata": {
    "tags": []
   },
   "outputs": [],
   "source": [
    "pyLDAvis.enable_notebook()\n",
    "\n",
    "LDAvis_data_filepath = 'output/ldavis_prepared_topics_three'"
   ]
  },
  {
   "cell_type": "code",
   "execution_count": 181,
   "id": "dfb85db5-3643-4994-ab54-9ecdc221d4ea",
   "metadata": {
    "tags": []
   },
   "outputs": [],
   "source": [
    "os.chdir(\"C:\\\\Users\\\\vanandkuma\\\\Documents\\\\projects\\\\sentiment_analysis\")"
   ]
  },
  {
   "cell_type": "code",
   "execution_count": 182,
   "id": "46be0e6e-0534-4dbf-a133-fd340482ce15",
   "metadata": {
    "tags": []
   },
   "outputs": [],
   "source": [
    "if __name__ == '__main__':\n",
    "    if 1 == 1:\n",
    "        LDAvis_prepared = pyLDAvis.gensim.prepare(lda_model, corpus, \n",
    "                                                  id2word)\n",
    "        with open(LDAvis_data_filepath, 'wb') as f:\n",
    "            pickle.dump(LDAvis_prepared, f)"
   ]
  },
  {
   "cell_type": "code",
   "execution_count": 183,
   "id": "691f3bb4-2fa6-40fd-b6a3-1c85fad9f29c",
   "metadata": {
    "tags": []
   },
   "outputs": [],
   "source": [
    "with open(LDAvis_data_filepath, 'rb') as f:\n",
    "    LDAvis_prepared = pickle.load(f)"
   ]
  },
  {
   "cell_type": "code",
   "execution_count": 184,
   "id": "4f4e879e-5c0d-4817-88a1-15cfa72942fa",
   "metadata": {
    "tags": []
   },
   "outputs": [
    {
     "data": {
      "text/html": [
       "\n",
       "<link rel=\"stylesheet\" type=\"text/css\" href=\"https://cdn.jsdelivr.net/gh/bmabey/pyLDAvis@3.4.0/pyLDAvis/js/ldavis.v1.0.0.css\">\n",
       "\n",
       "\n",
       "<div id=\"ldavis_el8335626091491973607154470694\" style=\"background-color:white;\"></div>\n",
       "<script type=\"text/javascript\">\n",
       "\n",
       "var ldavis_el8335626091491973607154470694_data = {\"mdsDat\": {\"x\": [0.018004846600152075, -0.018004846600152075], \"y\": [0.0, 0.0], \"topics\": [1, 2], \"cluster\": [1, 1], \"Freq\": [51.72777277570112, 48.27222722429888]}, \"tinfo\": {\"Term\": [\"schon\", \"wichtig\", \"hast\", \"gibt\", \"super\", \"app\", \"macht\", \"nehmen\", \"gesagt\", \"irgendwie\", \"vielleicht\", \"sowas\", \"gefuhl\", \"nein\", \"mal\", \"gemacht\", \"hei\\u00dft\", \"ah\", \"nee\", \"denken\", \"musst\", \"dabei\", \"au\\u00dfern\", \"jemand\", \"kannst\", \"hebamme\", \"fur\", \"danke\", \"gemeint\", \"geburt\", \"verloren\", \"standig\", \"angst\", \"bla\", \"deutlich\", \"informieren\", \"blut\", \"bi\\u00dfchen\", \"einzelnen\", \"erstellung\", \"zuhause\", \"foto\", \"merkt\", \"reihenfolge\", \"ubertragen\", \"nehmen\", \"sicherzustellen\", \"haus\", \"mitteilung\", \"fehler\", \"gelesen\", \"achten\", \"hauslichen\", \"entbindung\", \"uberhaupt\", \"mitdenken\", \"sturzgeburt\", \"kinderarzt\", \"ausnahmezustand\", \"bekommst\", \"wusste\", \"dabei\", \"passen\", \"geh\", \"macht\", \"vermeiden\", \"wert\", \"krankenhaus\", \"kannst\", \"schon\", \"nein\", \"tochter\", \"gro\\u00dfe\", \"hebamme\", \"vielleicht\", \"mal\", \"cool\", \"guck\", \"problem\", \"geburt\", \"einfach\", \"bisschen\", \"klar\", \"paar\", \"mehr\", \"immer\", \"schwierig\", \"nochmal\", \"total\", \"naja\", \"arztin\", \"schwangerschaft\", \"situation\", \"wei\\u00df\", \"gut\", \"gar\", \"naturlich\", \"beim\", \"wurde\", \"halt\", \"eigentlich\", \"mach\", \"konnen\", \"ganz\", \"kind\", \"wirklich\", \"fur\", \"kommunikation\", \"geht\", \"sagen\", \"glaube\", \"irgendwie\", \"fragen\", \"komm\", \"ausgehen\", \"hoffe\", \"lang\", \"au\\u00dfern\", \"registrieren\", \"email\", \"gemeint\", \"wichtig\", \"samstagmorgen\", \"alters\", \"durchschlafen\", \"verpeilt\", \"losungen\", \"danke\", \"normalen\", \"holen\", \"vergleiche\", \"ehrlichkeit\", \"beschaftigt\", \"beiden\", \"strategien\", \"gefahrdet\", \"geschlechts\", \"aufgestanden\", \"sachlich\", \"mitarbeitenden\", \"angehorigen\", \"verhalten\", \"interpretiert\", \"hast\", \"musst\", \"ausreichende\", \"denken\", \"gefuhl\", \"falsch\", \"reagieren\", \"app\", \"up\", \"besonders\", \"gibt\", \"sowas\", \"hei\\u00dft\", \"jemand\", \"super\", \"gemacht\", \"gesagt\", \"nee\", \"bisher\", \"ah\", \"irgendwie\", \"fur\", \"besser\", \"mutter\", \"los\", \"sagen\", \"gut\", \"ganz\", \"geht\", \"viele\", \"konnen\", \"fragen\", \"richtig\", \"gerade\", \"halt\", \"mal\", \"immer\", \"einfach\", \"schon\", \"nochmal\", \"glaube\", \"wei\\u00df\", \"kommunikation\", \"wurde\", \"bisschen\", \"geburt\", \"eigentlich\"], \"Freq\": [285.0, 48.0, 54.0, 80.0, 100.0, 58.0, 63.0, 45.0, 92.0, 123.0, 109.0, 42.0, 33.0, 76.0, 270.0, 48.0, 36.0, 55.0, 44.0, 22.0, 20.0, 27.0, 14.0, 26.0, 34.0, 41.0, 143.0, 14.0, 13.0, 115.0, 4.220141317791466, 2.8086338940292266, 5.550177296532122, 2.7715808235311408, 8.901175679164771, 2.7274273485879927, 6.124944288913406, 5.435607261244166, 2.017504046414474, 2.0161627908750397, 3.359425540815301, 2.0137603257028918, 2.0119256866385005, 2.0098014949306244, 2.6761671850856503, 36.11154906992404, 2.00483752815944, 4.00131653999829, 2.664855779647368, 3.991973190201363, 3.326750403162772, 6.651081261253447, 1.9949110447972551, 1.9912225920638118, 13.92819177309523, 1.9892561477337718, 1.9785580073823572, 1.9771698626836278, 1.9765577255146816, 2.6322687807238245, 12.498235479289379, 21.432261929040124, 8.509012152979892, 5.886566248300635, 48.45138362350777, 9.114241952576846, 6.4895363449080365, 18.870187992224025, 25.492246958578303, 198.76276340581677, 54.71586811691084, 8.952813050646187, 6.448469175659545, 30.10277323712405, 75.81526535429279, 170.33354966344686, 19.22549244979326, 11.171129831307992, 18.43681485687032, 74.1392798692213, 110.2218098668688, 71.10098609558563, 40.41821554954857, 16.1007060628131, 56.5464415205898, 89.99870301938115, 25.898988340501248, 69.57358156053557, 24.621172061151608, 17.591661446846295, 30.77936930395546, 31.163026395440937, 45.08502686593559, 57.66472766726355, 141.37634142905182, 42.93631615602665, 48.8299463931366, 33.28669861654838, 49.54650298060468, 63.758449254544665, 46.81627646199854, 32.108649577688915, 60.205948657552575, 63.05791296870474, 38.98278208631739, 39.561214489680296, 61.79681049937365, 40.53047109726223, 48.20136482542373, 47.2697793873607, 39.65723833172115, 47.340470837416014, 40.488241850292646, 5.454487148106309, 3.3430822267739884, 6.680898595393503, 4.006547874929761, 11.87743147163898, 2.6079924871560807, 2.5923720452142476, 10.317752252243036, 37.77124088711418, 1.9197407664529376, 3.196996314692345, 1.9148953348946922, 1.9109289497890756, 5.722926823188949, 11.436678843375233, 1.9053619062010383, 3.8060651368640444, 3.170050518539244, 1.9016702419077638, 2.531793324300228, 5.6907013351021, 3.7842095700154896, 1.8924958900065965, 2.5197000449720295, 1.8894647886737046, 5.659257154809956, 1.8811860236134295, 1.877915237017881, 5.0060092563204535, 2.5028299015132967, 41.64320263008617, 15.589851245575367, 8.074878611039134, 17.241007834099108, 24.95291875186333, 12.246982239442813, 12.846653715206118, 41.927158392297414, 4.371272157438269, 7.357075080828372, 56.874203235392606, 30.470137878701248, 26.21152320792951, 19.284515664546586, 66.96118399058157, 33.090253267517234, 60.60578700390556, 30.09362811845341, 9.017900278128028, 36.75556000099218, 76.60223106643397, 81.33437479885265, 24.208355880785344, 17.766395523967486, 21.639755080114913, 62.12781548786418, 139.13754398012208, 72.04004313150166, 57.19989129939597, 27.609569753213332, 65.08680553967596, 47.62724805177795, 43.15010297420456, 44.87487932721802, 56.83355357719593, 100.0850304859279, 62.368374083020996, 67.22581576755161, 86.5388783378352, 47.20623923388299, 36.30747065796336, 40.863665559126254, 35.47246855267187, 37.33893889358149, 40.90757758335719, 41.22511935577355, 35.90978920073808], \"Total\": [285.0, 48.0, 54.0, 80.0, 100.0, 58.0, 63.0, 45.0, 92.0, 123.0, 109.0, 42.0, 33.0, 76.0, 270.0, 48.0, 36.0, 55.0, 44.0, 22.0, 20.0, 27.0, 14.0, 26.0, 34.0, 41.0, 143.0, 14.0, 13.0, 115.0, 5.0224054836942615, 3.348638813699459, 6.693337511243685, 3.3470498393102406, 10.872138419258162, 3.3451857765093607, 7.524800503040437, 6.688559114804837, 2.507899379565623, 2.5076130624712847, 4.179319730650377, 2.5077696585060596, 2.5076183422736156, 2.507553541679935, 3.3428446759078865, 45.11674512692828, 2.5072525359110145, 5.013377862883129, 3.342374592773413, 5.012516349004205, 4.1776934580104905, 8.354919738232654, 2.506866022214206, 2.506692552353949, 17.542106016563444, 2.506613855018078, 2.5059277620498, 2.5061949718901357, 2.5059737141692917, 3.3410649417712985, 15.867107479444007, 27.5476374320764, 10.854906249179272, 7.515262793968368, 63.40046624243704, 11.687950725877418, 8.347866709651626, 25.018145052796317, 34.17908444872029, 285.301641743652, 76.5854323442172, 11.67980160198575, 8.346387004938958, 41.64143470131481, 109.76632373279276, 270.41858014937475, 26.64467879369186, 15.005652555812432, 25.80642514612786, 115.36439922499486, 177.4476256344204, 112.0085636789428, 61.45525091071036, 22.48069168994749, 89.58314483000206, 152.36707710240216, 38.23539212917785, 116.77982079441855, 36.56635176018106, 24.96444989652511, 47.32232704171122, 48.14166758355914, 73.76176803466991, 98.5283932263898, 280.5138854091739, 70.44639096281931, 82.80078346718788, 53.08022879098834, 86.88544187418617, 120.59200283174059, 82.72606566273663, 51.41782666040223, 125.29275419722853, 135.0979561002064, 68.66722626081267, 70.30960380178217, 143.13118529822628, 76.00293964993409, 105.4012561248197, 109.39759487522488, 75.96470898968451, 123.94270190384998, 88.11548990207059, 6.507913422074023, 4.070599034379024, 8.140310304580263, 4.884674273503077, 14.658392060602788, 3.2593131218569673, 3.2598376567563543, 13.039069508320777, 48.09745320437481, 2.4461702723623966, 4.076764317234397, 2.4464755988396427, 2.4467113525150084, 7.3386444311082935, 14.676576666245527, 2.446816970697713, 4.8932844762753245, 4.078336475538558, 2.4470747915710733, 3.2625251813740674, 7.340762915803948, 4.8938004363036045, 2.447516947017676, 3.2631204952659316, 2.4474139608909926, 7.342092807679135, 2.447821976549159, 2.4478393123905953, 6.527422774766501, 3.2639676059477836, 54.67748271273538, 20.398764429182215, 10.60781713890168, 22.853965686649538, 33.48092053096448, 16.32714862095156, 17.14418857134065, 58.02321227707897, 5.711785607445614, 9.796473280781402, 80.9784949854523, 42.510650086029614, 36.79260501485985, 26.980373116664527, 100.76852436335793, 48.29982811869119, 92.62137755237504, 44.207049795190116, 12.253116597100831, 55.72062715969818, 123.94270190384998, 143.13118529822628, 36.87960494584286, 26.202972788048157, 32.774371307953416, 109.39759487522488, 280.5138854091739, 135.0979561002064, 105.4012561248197, 44.31828029370952, 125.29275419722853, 88.11548990207059, 79.03352129896102, 83.18680934928327, 120.59200283174059, 270.41858014937475, 152.36707710240216, 177.4476256344204, 285.301641743652, 116.77982079441855, 75.96470898968451, 98.5283932263898, 76.00293964993409, 86.88544187418617, 112.0085636789428, 115.36439922499486, 82.72606566273663], \"Category\": [\"Default\", \"Default\", \"Default\", \"Default\", \"Default\", \"Default\", \"Default\", \"Default\", \"Default\", \"Default\", \"Default\", \"Default\", \"Default\", \"Default\", \"Default\", \"Default\", \"Default\", \"Default\", \"Default\", \"Default\", \"Default\", \"Default\", \"Default\", \"Default\", \"Default\", \"Default\", \"Default\", \"Default\", \"Default\", \"Default\", \"Topic1\", \"Topic1\", \"Topic1\", \"Topic1\", \"Topic1\", \"Topic1\", \"Topic1\", \"Topic1\", \"Topic1\", \"Topic1\", \"Topic1\", \"Topic1\", \"Topic1\", \"Topic1\", \"Topic1\", \"Topic1\", \"Topic1\", \"Topic1\", \"Topic1\", \"Topic1\", \"Topic1\", \"Topic1\", \"Topic1\", \"Topic1\", \"Topic1\", \"Topic1\", \"Topic1\", \"Topic1\", \"Topic1\", \"Topic1\", \"Topic1\", \"Topic1\", \"Topic1\", \"Topic1\", \"Topic1\", \"Topic1\", \"Topic1\", \"Topic1\", \"Topic1\", \"Topic1\", \"Topic1\", \"Topic1\", \"Topic1\", \"Topic1\", \"Topic1\", \"Topic1\", \"Topic1\", \"Topic1\", \"Topic1\", \"Topic1\", \"Topic1\", \"Topic1\", \"Topic1\", \"Topic1\", \"Topic1\", \"Topic1\", \"Topic1\", \"Topic1\", \"Topic1\", \"Topic1\", \"Topic1\", \"Topic1\", \"Topic1\", \"Topic1\", \"Topic1\", \"Topic1\", \"Topic1\", \"Topic1\", \"Topic1\", \"Topic1\", \"Topic1\", \"Topic1\", \"Topic1\", \"Topic1\", \"Topic1\", \"Topic1\", \"Topic1\", \"Topic1\", \"Topic1\", \"Topic1\", \"Topic1\", \"Topic1\", \"Topic1\", \"Topic2\", \"Topic2\", \"Topic2\", \"Topic2\", \"Topic2\", \"Topic2\", \"Topic2\", \"Topic2\", \"Topic2\", \"Topic2\", \"Topic2\", \"Topic2\", \"Topic2\", \"Topic2\", \"Topic2\", \"Topic2\", \"Topic2\", \"Topic2\", \"Topic2\", \"Topic2\", \"Topic2\", \"Topic2\", \"Topic2\", \"Topic2\", \"Topic2\", \"Topic2\", \"Topic2\", \"Topic2\", \"Topic2\", \"Topic2\", \"Topic2\", \"Topic2\", \"Topic2\", \"Topic2\", \"Topic2\", \"Topic2\", \"Topic2\", \"Topic2\", \"Topic2\", \"Topic2\", \"Topic2\", \"Topic2\", \"Topic2\", \"Topic2\", \"Topic2\", \"Topic2\", \"Topic2\", \"Topic2\", \"Topic2\", \"Topic2\", \"Topic2\", \"Topic2\", \"Topic2\", \"Topic2\", \"Topic2\", \"Topic2\", \"Topic2\", \"Topic2\", \"Topic2\", \"Topic2\", \"Topic2\", \"Topic2\", \"Topic2\", \"Topic2\", \"Topic2\", \"Topic2\", \"Topic2\", \"Topic2\", \"Topic2\", \"Topic2\", \"Topic2\", \"Topic2\", \"Topic2\", \"Topic2\", \"Topic2\", \"Topic2\", \"Topic2\"], \"logprob\": [30.0, 29.0, 28.0, 27.0, 26.0, 25.0, 24.0, 23.0, 22.0, 21.0, 20.0, 19.0, 18.0, 17.0, 16.0, 15.0, 14.0, 13.0, 12.0, 11.0, 10.0, 9.0, 8.0, 7.0, 6.0, 5.0, 4.0, 3.0, 2.0, 1.0, -7.8724, -8.2796, -7.5984, -8.2928, -7.1261, -8.3089, -7.4999, -7.6193, -8.6104, -8.6111, -8.1005, -8.6122, -8.6132, -8.6142, -8.3279, -5.7256, -8.6167, -7.9256, -8.3321, -7.928, -8.1103, -7.4175, -8.6217, -8.6235, -6.6783, -8.6245, -8.6299, -8.6306, -8.6309, -8.3444, -6.7867, -6.2474, -7.1711, -7.5396, -5.4317, -7.1024, -7.4421, -6.3747, -6.0739, -4.0201, -5.3101, -7.1203, -7.4484, -5.9076, -4.984, -4.1745, -6.356, -6.8989, -6.3979, -5.0063, -4.6098, -5.0481, -5.613, -6.5334, -5.2772, -4.8125, -6.058, -5.0699, -6.1086, -6.4448, -5.8854, -5.873, -5.5037, -5.2576, -4.3608, -5.5525, -5.4239, -5.8071, -5.4093, -5.1571, -5.466, -5.8431, -5.2145, -5.1682, -5.6491, -5.6344, -5.1884, -5.6102, -5.4369, -5.4564, -5.632, -5.4549, -5.6112, -7.5467, -8.0362, -7.3439, -7.8552, -6.7685, -8.2845, -8.2905, -6.9092, -5.6116, -8.5909, -8.0809, -8.5934, -8.5955, -7.4986, -6.8063, -8.5984, -7.9065, -8.0894, -8.6004, -8.3142, -7.5043, -7.9123, -8.6052, -8.319, -8.6068, -7.5098, -8.6112, -8.613, -7.6325, -8.3257, -5.514, -6.4965, -7.1544, -6.3958, -6.0261, -6.7378, -6.69, -5.5072, -7.7681, -7.2475, -5.2023, -5.8264, -5.9769, -6.2838, -5.039, -5.7439, -5.1387, -5.8388, -7.0439, -5.6388, -4.9045, -4.8445, -6.0564, -6.3658, -6.1686, -5.1139, -4.3076, -4.9659, -5.1966, -5.925, -5.0674, -5.3797, -5.4784, -5.4392, -5.203, -4.6371, -5.1101, -5.0351, -4.7825, -5.3886, -5.6511, -5.5329, -5.6744, -5.6231, -5.5318, -5.5241, -5.6621], \"loglift\": [30.0, 29.0, 28.0, 27.0, 26.0, 25.0, 24.0, 23.0, 22.0, 21.0, 20.0, 19.0, 18.0, 17.0, 16.0, 15.0, 14.0, 13.0, 12.0, 11.0, 10.0, 9.0, 8.0, 7.0, 6.0, 5.0, 4.0, 3.0, 2.0, 1.0, 0.4851, 0.4833, 0.4719, 0.4705, 0.4592, 0.455, 0.4533, 0.4517, 0.4416, 0.441, 0.4408, 0.4398, 0.4389, 0.4379, 0.4367, 0.4365, 0.4356, 0.4337, 0.4326, 0.4315, 0.4314, 0.4311, 0.4307, 0.429, 0.4285, 0.428, 0.4229, 0.4221, 0.4219, 0.4207, 0.4205, 0.4082, 0.4157, 0.4149, 0.3903, 0.4105, 0.4074, 0.3772, 0.3659, 0.2977, 0.3229, 0.3933, 0.4012, 0.3347, 0.2891, 0.197, 0.3328, 0.3641, 0.3229, 0.217, 0.183, 0.2047, 0.2401, 0.3254, 0.1991, 0.1327, 0.2696, 0.1413, 0.2637, 0.3091, 0.229, 0.2243, 0.1669, 0.1235, -0.026, 0.164, 0.1311, 0.1925, 0.0975, 0.0219, 0.0899, 0.1883, -0.0737, -0.1028, 0.093, 0.0841, -0.1807, 0.0305, -0.1232, -0.1799, 0.0092, -0.3033, -0.1185, 0.5517, 0.5314, 0.5307, 0.5301, 0.5179, 0.5054, 0.4992, 0.4942, 0.4866, 0.486, 0.4852, 0.4833, 0.4812, 0.4796, 0.4789, 0.4782, 0.477, 0.4764, 0.4762, 0.4747, 0.4737, 0.4712, 0.4711, 0.4698, 0.4696, 0.468, 0.465, 0.4633, 0.4629, 0.4628, 0.456, 0.4595, 0.4555, 0.4465, 0.4343, 0.4408, 0.4397, 0.4034, 0.4608, 0.442, 0.375, 0.3953, 0.3892, 0.3925, 0.3196, 0.3501, 0.3042, 0.3437, 0.4217, 0.3123, 0.2471, 0.1631, 0.3074, 0.3397, 0.3132, 0.1625, 0.0272, 0.0995, 0.1171, 0.2551, 0.0734, 0.1131, 0.1231, 0.1111, -0.024, -0.2656, -0.1649, -0.2423, -0.4646, -0.1775, -0.0099, -0.1518, -0.0337, -0.1162, -0.2789, -0.3007, -0.1062]}, \"token.table\": {\"Topic\": [1, 2, 1, 2, 1, 2, 1, 2, 1, 2, 1, 2, 1, 2, 1, 2, 1, 2, 1, 2, 1, 2, 1, 2, 1, 2, 1, 2, 1, 2, 1, 2, 1, 2, 1, 2, 1, 2, 1, 2, 1, 2, 1, 2, 1, 2, 1, 2, 1, 2, 1, 2, 1, 2, 1, 2, 1, 2, 1, 2, 1, 2, 1, 2, 1, 1, 2, 1, 2, 1, 1, 2, 1, 2, 1, 1, 2, 1, 2, 1, 2, 1, 2, 1, 2, 1, 2, 1, 2, 1, 2, 1, 2, 1, 2, 1, 2, 1, 2, 1, 2, 1, 2, 1, 2, 1, 2, 1, 2, 1, 2, 1, 2, 1, 2, 1, 2, 1, 2, 1, 2, 1, 2, 1, 2, 1, 2, 1, 2, 1, 2, 1, 2, 1, 2, 1, 2, 1, 2, 1, 2, 1, 2, 1, 2, 1, 2, 1, 2, 1, 2, 1, 2, 1, 2, 1, 2, 1, 2, 1, 2, 1, 2, 1, 2, 1, 2, 1, 2, 1, 2, 1, 1, 2, 1, 2, 1, 2, 1, 2, 1, 2, 1, 2, 1, 2, 1, 2, 1, 2, 1, 2, 1, 2, 1, 2, 1, 2, 1, 2, 1, 2, 1, 2, 1, 2, 1, 1, 2, 1, 2, 1, 2, 1, 2, 1, 2, 1, 2, 1, 2, 1, 2, 1, 2, 1, 2, 1, 2, 1, 2, 1, 2, 1, 2, 1, 2, 1, 2, 1, 2, 1, 2, 1, 2, 1, 2, 1, 2, 1, 2, 1, 2, 1, 2, 1, 2, 1, 2, 1, 2, 1, 2, 1, 2, 1, 2, 1, 2, 1, 2, 1, 2], \"Freq\": [0.8378297122314109, 0.23937991778040313, 0.340986829626756, 0.6640269840099986, 0.24529257081959105, 0.7358777124587731, 0.4085235476602365, 0.817047095320473, 0.8964137830971478, 0.14940229718285797, 0.27575170991214687, 0.7238482385193856, 0.6550819018827145, 0.35923846232277895, 0.40859454754272356, 0.8171890950854471, 0.2456640881487733, 0.7369922644463199, 0.7980929682907637, 0.39904648414538185, 0.2828103049588029, 0.7541608132234744, 0.20466091966956387, 0.8186436786782555, 0.2724512455911353, 0.817353736773406, 0.6217004099575877, 0.3767881272470228, 0.8979172965160984, 0.29930576550536614, 0.30651104417800484, 0.9195331325340145, 0.20415510180827776, 0.7145428563289722, 0.3524983529267817, 0.650766190018674, 0.24483566905009457, 0.7345070071502837, 0.6338801040562556, 0.3660434403705138, 0.7475451609499444, 0.1495090321899889, 0.8963117204786647, 0.2987705734928882, 0.7973633317688179, 0.13289388862813634, 0.7130879732916224, 0.2627166217390188, 0.7623158266032517, 0.21780452188664337, 0.20440734022802892, 0.7494935808361061, 0.26253649288994, 0.7438533965214967, 0.8278040301674247, 0.18395645114831657, 0.408751266709669, 0.817502533419338, 0.4086511795407688, 0.8173023590815376, 0.5681401578024133, 0.4351711846997209, 0.6199012221590569, 0.3775761989514256, 0.7974801606061273, 0.30676374264448275, 0.9202912279334483, 0.7978641010928399, 0.39893205054641995, 0.7975712162023013, 0.2449907263578811, 0.7349721790736433, 0.7980023847293081, 0.19950059618232702, 0.7975214123897845, 0.45394969765764254, 0.5447396371891711, 0.43316905306706993, 0.5659144080392365, 0.46632829850712854, 0.5329466268652898, 0.6103932282733241, 0.3974653579454203, 0.6414457189316959, 0.3553956010297234, 0.40857735478338975, 0.8171547095667795, 0.26880981338838766, 0.7466939260788547, 0.7983752750223858, 0.2661250916741286, 0.4554025422918755, 0.5407905189716021, 0.7180995997319214, 0.2393665332439738, 0.3105601113763646, 0.6832322450280021, 0.23007776728895987, 0.7669258909631995, 0.45680319148251364, 0.5409511478082398, 0.3454925941033949, 0.6585952575095965, 0.3064551252246981, 0.9193653756740944, 0.29637498207779206, 0.7038905824347561, 0.5265603005921042, 0.47390427053289386, 0.7188739267002012, 0.2396246422334004, 0.7330570902589075, 0.2665662146396027, 0.5026489144889537, 0.4955191426522309, 0.5307151261870807, 0.47266815926036876, 0.2377578365906019, 0.7681407028311754, 0.797865253607605, 0.19946631340190124, 0.7978088905738515, 0.39890444528692576, 0.7204362725536151, 0.28817450902144603, 0.2989731223314387, 0.7066637436924915, 0.12284543986453877, 0.8599180790517714, 0.204361713456149, 0.817446853824596, 0.5906787851519473, 0.40691205199356373, 0.8968111789386013, 0.29893705964620043, 0.3063755896895987, 0.9191267690687962, 0.3792074827968557, 0.6212548122416571, 0.2965118371568691, 0.704215613247564, 0.7314414766582793, 0.26331893159698055, 0.5679565365268977, 0.43688964348222903, 0.7980225091951362, 0.3990112545975681, 0.650880102305934, 0.3417120537106153, 0.15365908166634884, 0.7682954083317441, 0.5394528183889208, 0.46050850350273725, 0.4788784505890221, 0.5187849881381074, 0.7594487904640372, 0.2398259338307486, 0.20472194132257734, 0.8188877652903094, 0.33562810089146117, 0.6712562017829223, 0.27252989551068313, 0.8175896865320494, 0.6223522478176574, 0.3695216471417341, 0.7570922241557783, 0.23659132004868072, 0.6286550277207091, 0.36979707512982896, 0.6362804086434604, 0.3683728681620034, 0.7975695369123171, 0.40852644088511686, 0.8170528817702337, 0.7978891507346176, 0.3989445753673088, 0.8975654633344613, 0.29918848777815377, 0.2451128850160681, 0.7843612320514178, 0.30530886952067526, 0.6869449564215194, 0.7210253009622889, 0.28039872815200123, 0.5917818400766415, 0.41062413393073083, 0.3166915698935252, 0.6786247926289826, 0.7979299016079314, 0.19948247540198286, 0.7181522427502877, 0.28726089710011504, 0.5994186283538604, 0.4024667933233063, 0.40869423907700325, 0.8173884781540065, 0.711721873182158, 0.26689570244330924, 0.829118169554019, 0.18424848212311531, 0.6975007153480466, 0.271250278190907, 0.23331521251969092, 0.7582744406889955, 0.306813111417248, 0.9204393342517438, 0.7975901478299444, 0.4555029234218526, 0.5440729363094351, 0.2724018958066274, 0.8172056874198821, 0.4296255329343079, 0.566740064721853, 0.40880228629147997, 0.8176045725829599, 0.6975073777486518, 0.3049404113775513, 0.643932824848527, 0.35312445233628903, 0.6799982569070898, 0.31384534934173375, 0.797685901740766, 0.398842950870383, 0.6100721444047932, 0.3931576041719778, 0.2822822040057108, 0.7057055100142771, 0.8958864084495589, 0.29862880281651966, 0.20434016732307173, 0.8173606692922869, 0.7981076032152017, 0.39905380160760084, 0.33740694542077954, 0.6648901571527126, 0.7705610340564225, 0.25685367801880754, 0.6836886590153016, 0.32817055632734476, 0.7980797737045399, 0.22802279248701138, 0.8974392443720787, 0.2991464147906929, 0.1750765992855977, 0.7003063971423908, 0.2451980129638388, 0.7355940388915164, 0.30639964178994733, 0.7659991044748683, 0.7964311151272826, 0.19910777878182065, 0.7700237801374173, 0.2566745933791391, 0.4087118813472158, 0.8174237626944316, 0.3835888912506598, 0.6317934679422632, 0.692379934168233, 0.3097489179173674, 0.5886628016629962, 0.4161237046238422, 0.7187465023923929, 0.239582167464131, 0.2079112163695692, 0.790062622204363, 0.5689123226006018, 0.44090705001546643, 0.57547040012068, 0.4258480960893032, 0.7562815097550778, 0.18907037743876945, 0.7178201701101117, 0.23927339003670392], \"Term\": [\"achten\", \"achten\", \"ah\", \"ah\", \"alters\", \"alters\", \"angehorigen\", \"angehorigen\", \"angst\", \"angst\", \"app\", \"app\", \"arztin\", \"arztin\", \"aufgestanden\", \"aufgestanden\", \"ausgehen\", \"ausgehen\", \"ausnahmezustand\", \"ausnahmezustand\", \"ausreichende\", \"ausreichende\", \"au\\u00dfern\", \"au\\u00dfern\", \"beiden\", \"beiden\", \"beim\", \"beim\", \"bekommst\", \"bekommst\", \"beschaftigt\", \"beschaftigt\", \"besonders\", \"besonders\", \"besser\", \"besser\", \"bisher\", \"bisher\", \"bisschen\", \"bisschen\", \"bi\\u00dfchen\", \"bi\\u00dfchen\", \"bla\", \"bla\", \"blut\", \"blut\", \"cool\", \"cool\", \"dabei\", \"dabei\", \"danke\", \"danke\", \"denken\", \"denken\", \"deutlich\", \"deutlich\", \"durchschlafen\", \"durchschlafen\", \"ehrlichkeit\", \"ehrlichkeit\", \"eigentlich\", \"eigentlich\", \"einfach\", \"einfach\", \"einzelnen\", \"email\", \"email\", \"entbindung\", \"entbindung\", \"erstellung\", \"falsch\", \"falsch\", \"fehler\", \"fehler\", \"foto\", \"fragen\", \"fragen\", \"fur\", \"fur\", \"ganz\", \"ganz\", \"gar\", \"gar\", \"geburt\", \"geburt\", \"gefahrdet\", \"gefahrdet\", \"gefuhl\", \"gefuhl\", \"geh\", \"geh\", \"geht\", \"geht\", \"gelesen\", \"gelesen\", \"gemacht\", \"gemacht\", \"gemeint\", \"gemeint\", \"gerade\", \"gerade\", \"gesagt\", \"gesagt\", \"geschlechts\", \"geschlechts\", \"gibt\", \"gibt\", \"glaube\", \"glaube\", \"gro\\u00dfe\", \"gro\\u00dfe\", \"guck\", \"guck\", \"gut\", \"gut\", \"halt\", \"halt\", \"hast\", \"hast\", \"haus\", \"haus\", \"hauslichen\", \"hauslichen\", \"hebamme\", \"hebamme\", \"hei\\u00dft\", \"hei\\u00dft\", \"hoffe\", \"hoffe\", \"holen\", \"holen\", \"immer\", \"immer\", \"informieren\", \"informieren\", \"interpretiert\", \"interpretiert\", \"irgendwie\", \"irgendwie\", \"jemand\", \"jemand\", \"kannst\", \"kannst\", \"kind\", \"kind\", \"kinderarzt\", \"kinderarzt\", \"klar\", \"klar\", \"komm\", \"komm\", \"kommunikation\", \"kommunikation\", \"konnen\", \"konnen\", \"krankenhaus\", \"krankenhaus\", \"lang\", \"lang\", \"los\", \"los\", \"losungen\", \"losungen\", \"mach\", \"mach\", \"macht\", \"macht\", \"mal\", \"mal\", \"mehr\", \"mehr\", \"merkt\", \"mitarbeitenden\", \"mitarbeitenden\", \"mitdenken\", \"mitdenken\", \"mitteilung\", \"mitteilung\", \"musst\", \"musst\", \"mutter\", \"mutter\", \"naja\", \"naja\", \"naturlich\", \"naturlich\", \"nee\", \"nee\", \"nehmen\", \"nehmen\", \"nein\", \"nein\", \"nochmal\", \"nochmal\", \"normalen\", \"normalen\", \"paar\", \"paar\", \"passen\", \"passen\", \"problem\", \"problem\", \"reagieren\", \"reagieren\", \"registrieren\", \"registrieren\", \"reihenfolge\", \"richtig\", \"richtig\", \"sachlich\", \"sachlich\", \"sagen\", \"sagen\", \"samstagmorgen\", \"samstagmorgen\", \"schon\", \"schon\", \"schwangerschaft\", \"schwangerschaft\", \"schwierig\", \"schwierig\", \"sicherzustellen\", \"sicherzustellen\", \"situation\", \"situation\", \"sowas\", \"sowas\", \"standig\", \"standig\", \"strategien\", \"strategien\", \"sturzgeburt\", \"sturzgeburt\", \"super\", \"super\", \"tochter\", \"tochter\", \"total\", \"total\", \"uberhaupt\", \"uberhaupt\", \"ubertragen\", \"ubertragen\", \"up\", \"up\", \"vergleiche\", \"vergleiche\", \"verhalten\", \"verhalten\", \"verloren\", \"verloren\", \"vermeiden\", \"vermeiden\", \"verpeilt\", \"verpeilt\", \"viele\", \"viele\", \"vielleicht\", \"vielleicht\", \"wei\\u00df\", \"wei\\u00df\", \"wert\", \"wert\", \"wichtig\", \"wichtig\", \"wirklich\", \"wirklich\", \"wurde\", \"wurde\", \"wusste\", \"wusste\", \"zuhause\", \"zuhause\"]}, \"R\": 30, \"lambda.step\": 0.01, \"plot.opts\": {\"xlab\": \"PC1\", \"ylab\": \"PC2\"}, \"topic.order\": [2, 1]};\n",
       "\n",
       "function LDAvis_load_lib(url, callback){\n",
       "  var s = document.createElement('script');\n",
       "  s.src = url;\n",
       "  s.async = true;\n",
       "  s.onreadystatechange = s.onload = callback;\n",
       "  s.onerror = function(){console.warn(\"failed to load library \" + url);};\n",
       "  document.getElementsByTagName(\"head\")[0].appendChild(s);\n",
       "}\n",
       "\n",
       "if(typeof(LDAvis) !== \"undefined\"){\n",
       "   // already loaded: just create the visualization\n",
       "   !function(LDAvis){\n",
       "       new LDAvis(\"#\" + \"ldavis_el8335626091491973607154470694\", ldavis_el8335626091491973607154470694_data);\n",
       "   }(LDAvis);\n",
       "}else if(typeof define === \"function\" && define.amd){\n",
       "   // require.js is available: use it to load d3/LDAvis\n",
       "   require.config({paths: {d3: \"https://d3js.org/d3.v5\"}});\n",
       "   require([\"d3\"], function(d3){\n",
       "      window.d3 = d3;\n",
       "      LDAvis_load_lib(\"https://cdn.jsdelivr.net/gh/bmabey/pyLDAvis@3.4.0/pyLDAvis/js/ldavis.v3.0.0.js\", function(){\n",
       "        new LDAvis(\"#\" + \"ldavis_el8335626091491973607154470694\", ldavis_el8335626091491973607154470694_data);\n",
       "      });\n",
       "    });\n",
       "}else{\n",
       "    // require.js not available: dynamically load d3 & LDAvis\n",
       "    LDAvis_load_lib(\"https://d3js.org/d3.v5.js\", function(){\n",
       "         LDAvis_load_lib(\"https://cdn.jsdelivr.net/gh/bmabey/pyLDAvis@3.4.0/pyLDAvis/js/ldavis.v3.0.0.js\", function(){\n",
       "                 new LDAvis(\"#\" + \"ldavis_el8335626091491973607154470694\", ldavis_el8335626091491973607154470694_data);\n",
       "            })\n",
       "         });\n",
       "}\n",
       "</script>"
      ],
      "text/plain": [
       "PreparedData(topic_coordinates=              x    y  topics  cluster       Freq\n",
       "topic                                           \n",
       "1      0.018005  0.0       1        1  51.727773\n",
       "0     -0.018005  0.0       2        1  48.272227, topic_info=              Term        Freq       Total Category  logprob  loglift\n",
       "135          schon  285.000000  285.000000  Default  30.0000  30.0000\n",
       "263        wichtig   48.000000   48.000000  Default  29.0000  29.0000\n",
       "74            hast   54.000000   54.000000  Default  28.0000  28.0000\n",
       "799           gibt   80.000000   80.000000  Default  27.0000  27.0000\n",
       "41           super  100.000000  100.000000  Default  26.0000  26.0000\n",
       "..             ...         ...         ...      ...      ...      ...\n",
       "275  kommunikation   35.472469   76.002940   Topic2  -5.6744  -0.0337\n",
       "140          wurde   37.338939   86.885442   Topic2  -5.6231  -0.1162\n",
       "35        bisschen   40.907578  112.008564   Topic2  -5.5318  -0.2789\n",
       "220         geburt   41.225119  115.364399   Topic2  -5.5241  -0.3007\n",
       "587     eigentlich   35.909789   82.726066   Topic2  -5.6621  -0.1062\n",
       "\n",
       "[190 rows x 6 columns], token_table=      Topic      Freq     Term\n",
       "term                          \n",
       "2016      1  0.837830   achten\n",
       "2016      2  0.239380   achten\n",
       "398       1  0.340987       ah\n",
       "398       2  0.664027       ah\n",
       "1991      1  0.245293   alters\n",
       "...     ...       ...      ...\n",
       "140       2  0.425848    wurde\n",
       "649       1  0.756282   wusste\n",
       "649       2  0.189070   wusste\n",
       "1374      1  0.717820  zuhause\n",
       "1374      2  0.239273  zuhause\n",
       "\n",
       "[273 rows x 3 columns], R=30, lambda_step=0.01, plot_opts={'xlab': 'PC1', 'ylab': 'PC2'}, topic_order=[2, 1])"
      ]
     },
     "execution_count": 184,
     "metadata": {},
     "output_type": "execute_result"
    }
   ],
   "source": [
    "LDAvis_prepared"
   ]
  }
 ],
 "metadata": {
  "kernelspec": {
   "display_name": "Python 3 (ipykernel)",
   "language": "python",
   "name": "python3"
  },
  "language_info": {
   "codemirror_mode": {
    "name": "ipython",
    "version": 3
   },
   "file_extension": ".py",
   "mimetype": "text/x-python",
   "name": "python",
   "nbconvert_exporter": "python",
   "pygments_lexer": "ipython3",
   "version": "3.10.2"
  }
 },
 "nbformat": 4,
 "nbformat_minor": 5
}
