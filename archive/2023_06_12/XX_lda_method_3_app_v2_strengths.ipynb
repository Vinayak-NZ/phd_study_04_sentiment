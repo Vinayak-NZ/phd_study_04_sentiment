{
 "cells": [
  {
   "cell_type": "code",
   "execution_count": 1,
   "id": "a63cbda1-339d-48d7-aa2f-87f55fce9cc3",
   "metadata": {
    "tags": []
   },
   "outputs": [],
   "source": [
    "import os\n",
    "import re\n",
    "import numpy as np\n",
    "import pandas as pd\n",
    "from pprint import pprint\n",
    "\n",
    "# reading docfiles\n",
    "import docx2txt\n",
    "\n",
    "#nltk\n",
    "import nltk\n",
    "from nltk.tokenize import word_tokenize\n",
    "\n",
    "# Gensim\n",
    "import gensim\n",
    "import gensim.corpora as corpora\n",
    "from gensim.utils import simple_preprocess\n",
    "from gensim.models import CoherenceModel\n",
    "\n",
    "# spacy for lemmatization\n",
    "import spacy\n",
    "\n",
    "# Plotting tools\n",
    "import pyLDAvis\n",
    "import pyLDAvis.gensim  # don't skip this\n",
    "import matplotlib.pyplot as plt\n",
    "%matplotlib inline\n",
    "\n",
    "# Enable logging for gensim - optional\n",
    "import logging\n",
    "logging.basicConfig(format='%(asctime)s : %(levelname)s : %(message)s', level=logging.ERROR)\n",
    "\n",
    "import warnings\n",
    "warnings.filterwarnings(\"ignore\",category=DeprecationWarning)"
   ]
  },
  {
   "cell_type": "code",
   "execution_count": 2,
   "id": "7b222ed7-905b-4058-9307-46c9edf6407c",
   "metadata": {
    "tags": []
   },
   "outputs": [],
   "source": [
    "word_exclusions = pd.read_excel(\"input/word_exclusions.xlsx\")\n",
    "\n",
    "word_exclusions = word_exclusions[word_exclusions[\"exclude\"] == 1]\n",
    "\n",
    "word_exclusions = word_exclusions.drop(columns=['exclude', 'exclude_short_list'], axis = 1)"
   ]
  },
  {
   "cell_type": "code",
   "execution_count": 3,
   "id": "2d89047e-92e5-4a22-a426-396eba7086f7",
   "metadata": {
    "tags": []
   },
   "outputs": [],
   "source": [
    "# NLTK Stop words\n",
    "from nltk.corpus import stopwords\n",
    "stop_words = stopwords.words('german')\n",
    "stop_words.extend(word_exclusions[\"word\"])\n",
    "stop_words.extend([\"gut\"])"
   ]
  },
  {
   "cell_type": "code",
   "execution_count": 4,
   "id": "e702800b-847d-4af0-84f5-03b89c8e6650",
   "metadata": {
    "tags": []
   },
   "outputs": [],
   "source": [
    "df = pd.read_excel(\"input/app_v2/app_v2_feedback.xlsx\")"
   ]
  },
  {
   "cell_type": "code",
   "execution_count": 5,
   "id": "a0db0e57-68c9-4e6b-b15c-9a12607e15a7",
   "metadata": {
    "tags": []
   },
   "outputs": [
    {
     "data": {
      "text/html": [
       "<div>\n",
       "<style scoped>\n",
       "    .dataframe tbody tr th:only-of-type {\n",
       "        vertical-align: middle;\n",
       "    }\n",
       "\n",
       "    .dataframe tbody tr th {\n",
       "        vertical-align: top;\n",
       "    }\n",
       "\n",
       "    .dataframe thead th {\n",
       "        text-align: right;\n",
       "    }\n",
       "</style>\n",
       "<table border=\"1\" class=\"dataframe\">\n",
       "  <thead>\n",
       "    <tr style=\"text-align: right;\">\n",
       "      <th></th>\n",
       "      <th>transcript_id</th>\n",
       "      <th>person_id</th>\n",
       "      <th>segment_id</th>\n",
       "      <th>context</th>\n",
       "      <th>lesson</th>\n",
       "      <th>text</th>\n",
       "      <th>category_id</th>\n",
       "    </tr>\n",
       "  </thead>\n",
       "  <tbody>\n",
       "    <tr>\n",
       "      <th>0</th>\n",
       "      <td>tn_01</td>\n",
       "      <td>p01</td>\n",
       "      <td>s_001</td>\n",
       "      <td>NaN</td>\n",
       "      <td>NaN</td>\n",
       "      <td>Ja, ich höre Sie ein bisschen schlecht. Das ha...</td>\n",
       "      <td>2</td>\n",
       "    </tr>\n",
       "    <tr>\n",
       "      <th>1</th>\n",
       "      <td>tn_01</td>\n",
       "      <td>p01</td>\n",
       "      <td>s_002</td>\n",
       "      <td>NaN</td>\n",
       "      <td>NaN</td>\n",
       "      <td>Ja, jetzt ist es ein bisschen besser. Ja.</td>\n",
       "      <td>2</td>\n",
       "    </tr>\n",
       "    <tr>\n",
       "      <th>2</th>\n",
       "      <td>tn_01</td>\n",
       "      <td>p01</td>\n",
       "      <td>s_003</td>\n",
       "      <td>Ok, gut. Also… Ich habe jetzt das Aufnahmeger...</td>\n",
       "      <td>NaN</td>\n",
       "      <td>Ok. Ja.</td>\n",
       "      <td>1</td>\n",
       "    </tr>\n",
       "    <tr>\n",
       "      <th>3</th>\n",
       "      <td>tn_01</td>\n",
       "      <td>p01</td>\n",
       "      <td>s_004</td>\n",
       "      <td>NaN</td>\n",
       "      <td>NaN</td>\n",
       "      <td>So ein Diktiergerät quasi. Ja, ja. Mhm.</td>\n",
       "      <td>2</td>\n",
       "    </tr>\n",
       "    <tr>\n",
       "      <th>4</th>\n",
       "      <td>tn_01</td>\n",
       "      <td>p01</td>\n",
       "      <td>s_005</td>\n",
       "      <td>Und ich spreche Sie jetzt auch nicht mit dem N...</td>\n",
       "      <td>NaN</td>\n",
       "      <td>Ok, dann machen wir das so. Ja!</td>\n",
       "      <td>1</td>\n",
       "    </tr>\n",
       "  </tbody>\n",
       "</table>\n",
       "</div>"
      ],
      "text/plain": [
       "  transcript_id person_id segment_id   \n",
       "0         tn_01       p01      s_001  \\\n",
       "1         tn_01       p01      s_002   \n",
       "2         tn_01       p01      s_003   \n",
       "3         tn_01       p01      s_004   \n",
       "4         tn_01       p01      s_005   \n",
       "\n",
       "                                             context lesson   \n",
       "0                                                NaN    NaN  \\\n",
       "1                                                NaN    NaN   \n",
       "2   Ok, gut. Also… Ich habe jetzt das Aufnahmeger...    NaN   \n",
       "3                                                NaN    NaN   \n",
       "4  Und ich spreche Sie jetzt auch nicht mit dem N...    NaN   \n",
       "\n",
       "                                                text  category_id  \n",
       "0  Ja, ich höre Sie ein bisschen schlecht. Das ha...            2  \n",
       "1          Ja, jetzt ist es ein bisschen besser. Ja.            2  \n",
       "2                                            Ok. Ja.            1  \n",
       "3            So ein Diktiergerät quasi. Ja, ja. Mhm.            2  \n",
       "4                    Ok, dann machen wir das so. Ja!            1  "
      ]
     },
     "execution_count": 5,
     "metadata": {},
     "output_type": "execute_result"
    }
   ],
   "source": [
    "df.head()"
   ]
  },
  {
   "cell_type": "code",
   "execution_count": 6,
   "id": "0db4fec8-4258-467c-8e27-bfdd97d073d7",
   "metadata": {
    "tags": []
   },
   "outputs": [],
   "source": [
    "strengths = df[df[\"category_id\"] == 9]"
   ]
  },
  {
   "cell_type": "code",
   "execution_count": 7,
   "id": "a97f985b-fee3-42cc-b009-8a8589d56c99",
   "metadata": {
    "tags": []
   },
   "outputs": [],
   "source": [
    "strengths = strengths.drop(columns=['transcript_id', 'person_id', 'segment_id', 'context', 'lesson', 'category_id'], \n",
    "             axis = 1)"
   ]
  },
  {
   "cell_type": "code",
   "execution_count": 8,
   "id": "7ded6587-ac14-4737-9894-87650f6e169d",
   "metadata": {
    "tags": []
   },
   "outputs": [],
   "source": [
    "strengths['text_processed'] = \\\n",
    "strengths['text'].map(lambda x: re.sub('[,.!?]', '', x))"
   ]
  },
  {
   "cell_type": "code",
   "execution_count": 9,
   "id": "1bce4c78-2219-4486-8a93-3dcb231771d1",
   "metadata": {
    "tags": []
   },
   "outputs": [],
   "source": [
    "strengths['text_processed'] = \\\n",
    "strengths['text_processed'].map(lambda x: x.lower())"
   ]
  },
  {
   "cell_type": "code",
   "execution_count": 10,
   "id": "a0e61a81-3b28-4c33-8bee-a59d0c777a22",
   "metadata": {},
   "outputs": [
    {
     "data": {
      "text/plain": [
       "21    [also, was, mir, jetzt, besonders, gefallen, h...\n",
       "22    [das, finde, ich, halt, richtig, toll, dass, d...\n",
       "27    [ja, also, quasi…, es, gibt, ja, dieses, eine,...\n",
       "33    [genau, also…, bei, empathie, das, fand, ich, ...\n",
       "39    [ja, genau, dann, das, siebte, kapitel, –, mit...\n",
       "Name: text_processed, dtype: object"
      ]
     },
     "execution_count": 10,
     "metadata": {},
     "output_type": "execute_result"
    }
   ],
   "source": [
    "feedback = strengths['text_processed']\n",
    "\n",
    "feedback_token = feedback.apply(word_tokenize)\n",
    "feedback_token.head()"
   ]
  },
  {
   "cell_type": "code",
   "execution_count": 11,
   "id": "782b5d92-a548-4bfd-bc0a-8ee2930e5d69",
   "metadata": {
    "tags": []
   },
   "outputs": [],
   "source": [
    "def sent_to_words(sentences):\n",
    "    for sentence in sentences:\n",
    "        yield(gensim.utils.simple_preprocess(str(sentence), \n",
    "                                             deacc = True))"
   ]
  },
  {
   "cell_type": "code",
   "execution_count": 12,
   "id": "f20fb659-7d52-4c45-bf2c-ce8111782388",
   "metadata": {
    "tags": []
   },
   "outputs": [],
   "source": [
    "data = strengths.text_processed.values.tolist()\n",
    "data_words = list(sent_to_words(data))"
   ]
  },
  {
   "cell_type": "code",
   "execution_count": 13,
   "id": "f93b643c-d637-46ef-ae5a-581618d51d3c",
   "metadata": {
    "tags": []
   },
   "outputs": [
    {
     "name": "stdout",
     "output_type": "stream",
     "text": [
      "['also', 'was', 'mir', 'jetzt', 'besonders', 'gefallen', 'hat', 'ist', 'diese']\n"
     ]
    }
   ],
   "source": [
    "# Build the bigram and trigram models\n",
    "bigram = gensim.models.Phrases(data_words, min_count=5, threshold=10) # higher threshold fewer phrases.\n",
    "trigram = gensim.models.Phrases(bigram[data_words], threshold=10)  \n",
    "\n",
    "# Faster way to get a sentence clubbed as a trigram/bigram\n",
    "bigram_mod = gensim.models.phrases.Phraser(bigram)\n",
    "trigram_mod = gensim.models.phrases.Phraser(trigram)\n",
    "\n",
    "# See trigram example\n",
    "print(trigram_mod[bigram_mod[data_words[0]]])"
   ]
  },
  {
   "cell_type": "code",
   "execution_count": 14,
   "id": "2af4afc7-6a3d-48b7-82ff-90eed9de2196",
   "metadata": {
    "tags": []
   },
   "outputs": [],
   "source": [
    "# Define functions for stopwords, bigrams, trigrams and lemmatization\n",
    "def remove_stopwords(texts):\n",
    "    return [[word for word in simple_preprocess(str(doc)) if word not in stop_words] for doc in texts]\n",
    "\n",
    "def make_bigrams(texts):\n",
    "    return [bigram_mod[doc] for doc in texts]\n",
    "\n",
    "def make_trigrams(texts):\n",
    "    return [trigram_mod[bigram_mod[doc]] for doc in texts]\n",
    "\n",
    "def lemmatization(texts, allowed_postags=['NOUN', 'ADJ', 'VERB', 'ADV']):\n",
    "    \"\"\"https://spacy.io/api/annotation\"\"\"\n",
    "    texts_out = []\n",
    "    for sent in texts:\n",
    "        doc = nlp(\" \".join(sent)) \n",
    "        texts_out.append([token.lemma_ for token in doc if token.pos_ in allowed_postags])\n",
    "    return texts_out"
   ]
  },
  {
   "cell_type": "code",
   "execution_count": 15,
   "id": "1b69d6e8-5363-4e0c-b957-5f3955ab01b6",
   "metadata": {
    "tags": []
   },
   "outputs": [],
   "source": [
    "# Remove Stop Words\n",
    "data_words_nostops = remove_stopwords(feedback_token)"
   ]
  },
  {
   "cell_type": "code",
   "execution_count": 16,
   "id": "f2d6824d-d63c-40f8-84bd-ba140c374d8b",
   "metadata": {
    "tags": []
   },
   "outputs": [],
   "source": [
    "# Form Bigrams\n",
    "data_words_bigrams = make_bigrams(data_words_nostops)"
   ]
  },
  {
   "cell_type": "code",
   "execution_count": 17,
   "id": "0945842d-b7ab-472a-98b6-48aae1d916ea",
   "metadata": {
    "tags": []
   },
   "outputs": [],
   "source": [
    "# Initialize spacy 'en' model, keeping only tagger component (for efficiency)\n",
    "# python3 -m spacy download en\n",
    "nlp = spacy.load(\"de_core_news_sm\", disable = ['parser', 'ner'])"
   ]
  },
  {
   "cell_type": "code",
   "execution_count": 18,
   "id": "a344947a-84c8-409c-adda-e7ec17a156d5",
   "metadata": {
    "tags": []
   },
   "outputs": [
    {
     "name": "stdout",
     "output_type": "stream",
     "text": [
      "[['besonders', 'fallen']]\n"
     ]
    }
   ],
   "source": [
    "# Do lemmatization keeping only noun, adj, vb, adv\n",
    "data_lemmatized = lemmatization(data_words_bigrams, allowed_postags=['NOUN', 'ADJ', 'VERB', 'ADV'])\n",
    "\n",
    "print(data_lemmatized[:1])"
   ]
  },
  {
   "cell_type": "code",
   "execution_count": 19,
   "id": "e4fc1c71-d11b-47b4-b9b0-ce77aff86e78",
   "metadata": {
    "tags": []
   },
   "outputs": [
    {
     "name": "stdout",
     "output_type": "stream",
     "text": [
      "[[(0, 1), (1, 1)]]\n"
     ]
    }
   ],
   "source": [
    "# Create Dictionary\n",
    "id2word = corpora.Dictionary(data_lemmatized)\n",
    "\n",
    "# Create Corpus\n",
    "texts = data_lemmatized\n",
    "\n",
    "# Term Document Frequency\n",
    "corpus = [id2word.doc2bow(text) for text in texts]\n",
    "\n",
    "# View\n",
    "print(corpus[:1])"
   ]
  },
  {
   "cell_type": "code",
   "execution_count": 20,
   "id": "f39484e3-e8d1-4a52-aa71-25f88f96c76e",
   "metadata": {
    "tags": []
   },
   "outputs": [
    {
     "data": {
      "text/plain": [
       "[[('besonders', 1), ('fallen', 1)]]"
      ]
     },
     "execution_count": 20,
     "metadata": {},
     "output_type": "execute_result"
    }
   ],
   "source": [
    "# Human readable format of corpus (term-frequency)\n",
    "[[(id2word[id], freq) for id, freq in cp] for cp in corpus[:1]]"
   ]
  },
  {
   "cell_type": "code",
   "execution_count": 25,
   "id": "e73fe189-e116-4403-a711-bef5c8a843f4",
   "metadata": {
    "tags": []
   },
   "outputs": [],
   "source": [
    "# Build LDA model\n",
    "lda_model = gensim.models.ldamodel.LdaModel(corpus=corpus,\n",
    "                                           id2word=id2word,\n",
    "                                           num_topics=2, \n",
    "                                           random_state=100,\n",
    "                                           update_every=1,\n",
    "                                           chunksize=100,\n",
    "                                           passes=10,\n",
    "                                           alpha='auto',\n",
    "                                           per_word_topics=True)"
   ]
  },
  {
   "cell_type": "code",
   "execution_count": 26,
   "id": "940657c6-5ebd-4e42-8fc9-f9b5b1db19d8",
   "metadata": {
    "tags": []
   },
   "outputs": [
    {
     "name": "stdout",
     "output_type": "stream",
     "text": [
      "[(0,\n",
      "  '0.052*\"finden\" + 0.022*\"immer\" + 0.018*\"vielleicht\" + 0.016*\"reingegucken\" '\n",
      "  '+ 0.016*\"abend\" + 0.015*\"glauben\" + 0.015*\"sagen\" + 0.013*\"funktionieren\" + '\n",
      "  '0.012*\"app\" + 0.011*\"Problem\"'),\n",
      " (1,\n",
      "  '0.056*\"finden\" + 0.026*\"machen\" + 0.023*\"Fall\" + 0.021*\"einfach\" + '\n",
      "  '0.018*\"Fand\" + 0.016*\"sagen\" + 0.013*\"verstehen\" + 0.012*\"wissen\" + '\n",
      "  '0.011*\"wirklich\" + 0.011*\"gestalten\"')]\n"
     ]
    }
   ],
   "source": [
    "# Print the Keyword in the 10 topics\n",
    "pprint(lda_model.print_topics())\n",
    "doc_lda = lda_model[corpus]"
   ]
  },
  {
   "cell_type": "code",
   "execution_count": 27,
   "id": "da9ea0b7-09b6-47a1-b96a-c949f8877f2a",
   "metadata": {
    "tags": []
   },
   "outputs": [
    {
     "name": "stdout",
     "output_type": "stream",
     "text": [
      "\n",
      "Perplexity:  -6.32012261145823\n",
      "\n",
      "Coherence Score:  0.3902114491616201\n"
     ]
    }
   ],
   "source": [
    "# Compute Perplexity\n",
    "print('\\nPerplexity: ', lda_model.log_perplexity(corpus))  # a measure of how good the model is. lower the better.\n",
    "\n",
    "# Compute Coherence Score\n",
    "coherence_model_lda = CoherenceModel(model=lda_model, texts=data_lemmatized, dictionary=id2word, coherence='c_v')\n",
    "coherence_lda = coherence_model_lda.get_coherence()\n",
    "print('\\nCoherence Score: ', coherence_lda)"
   ]
  },
  {
   "cell_type": "code",
   "execution_count": 28,
   "id": "35834e7c-9f91-4ba1-a9e3-46c49c04f2e7",
   "metadata": {
    "tags": []
   },
   "outputs": [
    {
     "data": {
      "text/html": [
       "\n",
       "<link rel=\"stylesheet\" type=\"text/css\" href=\"https://cdn.jsdelivr.net/gh/bmabey/pyLDAvis@3.4.0/pyLDAvis/js/ldavis.v1.0.0.css\">\n",
       "\n",
       "\n",
       "<div id=\"ldavis_el12557621465035229286251685325\" style=\"background-color:white;\"></div>\n",
       "<script type=\"text/javascript\">\n",
       "\n",
       "var ldavis_el12557621465035229286251685325_data = {\"mdsDat\": {\"x\": [0.09629082029022652, -0.09629082029022652], \"y\": [0.0, 0.0], \"topics\": [1, 2], \"cluster\": [1, 1], \"Freq\": [56.33865619899559, 43.66134380100441]}, \"tinfo\": {\"Term\": [\"Fall\", \"machen\", \"reingegucken\", \"abend\", \"Fand\", \"immer\", \"funktionieren\", \"app\", \"Problem\", \"Punkt\", \"verstehen\", \"vielleicht\", \"richtig\", \"insgesamt\", \"letzter\", \"schnell\", \"gestalten\", \"laufen\", \"Tag\", \"weiterhilfen\", \"halten\", \"zuerst\", \"nachlesen\", \"grundz\\u00fcge\", \"Version\", \"Gestaltung\", \"beenden\", \"gemach\", \"leiden\", \"maximal\", \"Fall\", \"Fand\", \"verstehen\", \"fallen\", \"gestalten\", \"kurz\", \"erster\", \"bleiben\", \"r\\u00fcckfragen\", \"spannend\", \"auffallen\", \"weniger\", \"einerseits\", \"konzentriert\", \"h\\u00e4ngen\", \"Spa\\u00df\", \"Studie\", \"mitzumach\", \"nie\", \"farbig\", \"allerbesen\", \"machen\", \"stellen\", \"M\\u00f6glichkeit\", \"Sinn\", \"intuitiv\", \"Geburt\", \"gerade\", \"fragen\", \"lerneinheit\", \"grunds\\u00e4tzlich\", \"geben\", \"einfach\", \"gut\", \"finden\", \"sagen\", \"wissen\", \"wirklich\", \"reingegucken\", \"abend\", \"app\", \"Problem\", \"Punkt\", \"funktionieren\", \"insgesamt\", \"letzter\", \"schnell\", \"Tag\", \"halten\", \"laufen\", \"weiterhilfen\", \"Gestaltung\", \"Version\", \"grundz\\u00fcge\", \"nachlesen\", \"zuerst\", \"Mitch\", \"Wisse\", \"angesproch\", \"anspornen\", \"beenden\", \"dauern\", \"gemach\", \"leiden\", \"maximal\", \"weitermachen\", \"Angefang\", \"Erinnerung\", \"richtig\", \"immer\", \"vielleicht\", \"finden\", \"glauben\", \"Idee\", \"nat\\u00fcrlich\", \"sagen\", \"gehen\", \"positiv\", \"einfach\", \"wissen\", \"wirklich\", \"heute\"], \"Freq\": [14.0, 17.0, 8.0, 8.0, 12.0, 13.0, 6.0, 6.0, 6.0, 5.0, 8.0, 11.0, 5.0, 5.0, 4.0, 4.0, 7.0, 4.0, 4.0, 4.0, 4.0, 4.0, 4.0, 4.0, 4.0, 4.0, 4.0, 4.0, 4.0, 4.0, 14.451745500740124, 11.787807774058859, 8.467613372989604, 6.529876343112641, 7.251146431006894, 6.131496340614589, 6.131490990303498, 6.131350098778096, 6.131285895045002, 6.131200884546553, 6.131131924981377, 6.105147247448425, 5.732849417040987, 5.732849417040987, 5.732623515017136, 5.732611030957924, 5.732611030957924, 5.732611030957924, 5.732611030957924, 5.732562283679092, 5.732128314001694, 16.81752822467884, 6.417480574582668, 6.131712730974278, 5.765166484989885, 2.423029863656588, 2.4020292981445985, 2.0357859392158693, 1.6372571683455313, 1.6372099072642254, 2.833042928664445, 3.353901955422857, 13.581329546388432, 4.156708703670538, 35.435747638549465, 10.29330299903653, 7.53680845735148, 7.328980378845704, 8.016787060939736, 8.014430992709613, 5.895080356131096, 5.617611627827037, 5.328333994385214, 6.386534351305928, 4.7477870804623, 4.458830561521141, 4.457988845319257, 4.168939263065137, 4.168939263065137, 4.168939263065137, 4.168939263065137, 4.168838828400654, 4.168838828400654, 4.168838828400654, 4.168838828400654, 4.168838828400654, 4.167766757463717, 4.167766757463717, 4.167766757463717, 4.167766757463717, 4.167766757463717, 4.167766757463717, 4.167766757463717, 4.167766757463717, 4.167766757463717, 4.167766757463717, 4.167406943367564, 4.167406943367564, 5.228109413420424, 10.963055450513055, 8.938441884400895, 25.944883294438533, 7.477924679162563, 4.749379753100457, 5.035308028694607, 7.229120833379043, 4.742686565918754, 4.4557198511789835, 5.127896810901857, 4.5963472705436805, 4.457647459601908, 4.169162246448669], \"Total\": [14.0, 17.0, 8.0, 8.0, 12.0, 13.0, 6.0, 6.0, 6.0, 5.0, 8.0, 11.0, 5.0, 5.0, 4.0, 4.0, 7.0, 4.0, 4.0, 4.0, 4.0, 4.0, 4.0, 4.0, 4.0, 4.0, 4.0, 4.0, 4.0, 4.0, 14.80898045889641, 12.133565969810988, 8.82905000151326, 6.851294508906169, 7.627697353555931, 6.4527806415127085, 6.452779408792507, 6.4527409099468365, 6.452723065104171, 6.452700970242733, 6.452679463752978, 6.445583903288724, 6.0541919688927335, 6.0541919688927335, 6.054130309794975, 6.054128047727131, 6.054128047727131, 6.054128047727131, 6.054128047727131, 6.054112788267908, 6.053993627130302, 17.853089087883795, 6.82059767524986, 6.742617519543005, 6.352779530410554, 2.7525219053250436, 2.746785220444511, 2.357058290462108, 1.9585106017091538, 1.9584968572417982, 3.4439852650549856, 4.165730436675373, 18.709226357290287, 5.254220017547006, 61.380630932988, 17.522423832415573, 12.133155727895161, 11.786627838447611, 8.458754970404629, 8.459638292610602, 6.354621176600362, 6.060160826299026, 5.770123337217438, 6.967331761416027, 5.190788714615939, 4.900626852326797, 4.900941806503941, 4.61080964081743, 4.61080964081743, 4.61080964081743, 4.61080964081743, 4.610847608297494, 4.610847608297494, 4.610847608297494, 4.610847608297494, 4.610847608297494, 4.611250031080379, 4.611250031080379, 4.611250031080379, 4.611250031080379, 4.611250031080379, 4.611250031080379, 4.611250031080379, 4.611250031080379, 4.611250031080379, 4.611250031080379, 4.61138378318239, 4.61138378318239, 5.8076692668511765, 13.331770888028514, 11.98831776237712, 61.380630932988, 10.941995187503927, 5.987229584908548, 7.075636530646662, 17.522423832415573, 7.185404831292214, 6.097383446567379, 18.709226357290287, 12.133155727895161, 11.786627838447611, 5.009214962428144], \"Category\": [\"Default\", \"Default\", \"Default\", \"Default\", \"Default\", \"Default\", \"Default\", \"Default\", \"Default\", \"Default\", \"Default\", \"Default\", \"Default\", \"Default\", \"Default\", \"Default\", \"Default\", \"Default\", \"Default\", \"Default\", \"Default\", \"Default\", \"Default\", \"Default\", \"Default\", \"Default\", \"Default\", \"Default\", \"Default\", \"Default\", \"Topic1\", \"Topic1\", \"Topic1\", \"Topic1\", \"Topic1\", \"Topic1\", \"Topic1\", \"Topic1\", \"Topic1\", \"Topic1\", \"Topic1\", \"Topic1\", \"Topic1\", \"Topic1\", \"Topic1\", \"Topic1\", \"Topic1\", \"Topic1\", \"Topic1\", \"Topic1\", \"Topic1\", \"Topic1\", \"Topic1\", \"Topic1\", \"Topic1\", \"Topic1\", \"Topic1\", \"Topic1\", \"Topic1\", \"Topic1\", \"Topic1\", \"Topic1\", \"Topic1\", \"Topic1\", \"Topic1\", \"Topic1\", \"Topic1\", \"Topic1\", \"Topic2\", \"Topic2\", \"Topic2\", \"Topic2\", \"Topic2\", \"Topic2\", \"Topic2\", \"Topic2\", \"Topic2\", \"Topic2\", \"Topic2\", \"Topic2\", \"Topic2\", \"Topic2\", \"Topic2\", \"Topic2\", \"Topic2\", \"Topic2\", \"Topic2\", \"Topic2\", \"Topic2\", \"Topic2\", \"Topic2\", \"Topic2\", \"Topic2\", \"Topic2\", \"Topic2\", \"Topic2\", \"Topic2\", \"Topic2\", \"Topic2\", \"Topic2\", \"Topic2\", \"Topic2\", \"Topic2\", \"Topic2\", \"Topic2\", \"Topic2\", \"Topic2\", \"Topic2\", \"Topic2\", \"Topic2\", \"Topic2\", \"Topic2\"], \"logprob\": [30.0, 29.0, 28.0, 27.0, 26.0, 25.0, 24.0, 23.0, 22.0, 21.0, 20.0, 19.0, 18.0, 17.0, 16.0, 15.0, 14.0, 13.0, 12.0, 11.0, 10.0, 9.0, 8.0, 7.0, 6.0, 5.0, 4.0, 3.0, 2.0, 1.0, -3.788, -3.9918, -4.3226, -4.5824, -4.4777, -4.6454, -4.6454, -4.6454, -4.6454, -4.6454, -4.6455, -4.6497, -4.7126, -4.7126, -4.7127, -4.7127, -4.7127, -4.7127, -4.7127, -4.7127, -4.7127, -3.6364, -4.5998, -4.6454, -4.707, -5.5738, -5.5825, -5.748, -5.9658, -5.9658, -5.4175, -5.2487, -3.8501, -5.0341, -2.8911, -4.1273, -4.439, -4.467, -4.1224, -4.1227, -4.4298, -4.478, -4.5309, -4.3497, -4.6462, -4.709, -4.7092, -4.7763, -4.7763, -4.7763, -4.7763, -4.7763, -4.7763, -4.7763, -4.7763, -4.7763, -4.7765, -4.7765, -4.7765, -4.7765, -4.7765, -4.7765, -4.7765, -4.7765, -4.7765, -4.7765, -4.7766, -4.7766, -4.5499, -3.8094, -4.0136, -2.9479, -4.192, -4.6459, -4.5874, -4.2258, -4.6473, -4.7097, -4.5692, -4.6787, -4.7093, -4.7762], \"loglift\": [30.0, 29.0, 28.0, 27.0, 26.0, 25.0, 24.0, 23.0, 22.0, 21.0, 20.0, 19.0, 18.0, 17.0, 16.0, 15.0, 14.0, 13.0, 12.0, 11.0, 10.0, 9.0, 8.0, 7.0, 6.0, 5.0, 4.0, 3.0, 2.0, 1.0, 0.5494, 0.5449, 0.532, 0.5257, 0.5232, 0.5227, 0.5227, 0.5227, 0.5227, 0.5227, 0.5227, 0.5195, 0.5193, 0.5193, 0.5192, 0.5192, 0.5192, 0.5192, 0.5192, 0.5192, 0.5192, 0.514, 0.5129, 0.4788, 0.4767, 0.4463, 0.4397, 0.4273, 0.3946, 0.3946, 0.3785, 0.357, 0.2535, 0.3395, 0.0244, 0.0418, 0.0976, 0.0987, 0.775, 0.7746, 0.7536, 0.7529, 0.7491, 0.7417, 0.7395, 0.7342, 0.734, 0.728, 0.728, 0.728, 0.728, 0.7279, 0.7279, 0.7279, 0.7279, 0.7279, 0.7276, 0.7276, 0.7276, 0.7276, 0.7276, 0.7276, 0.7276, 0.7276, 0.7276, 0.7276, 0.7275, 0.7275, 0.7236, 0.6331, 0.5351, -0.0324, 0.4481, 0.5971, 0.4885, -0.0567, 0.4133, 0.515, -0.4656, -0.142, -0.1436, 0.6451]}, \"token.table\": {\"Topic\": [2, 2, 1, 1, 1, 2, 1, 2, 2, 1, 2, 2, 2, 1, 2, 1, 1, 2, 2, 2, 2, 1, 2, 2, 2, 1, 2, 1, 2, 1, 1, 2, 1, 1, 1, 1, 2, 1, 1, 2, 1, 2, 1, 2, 2, 1, 1, 1, 2, 1, 2, 2, 1, 2, 2, 1, 2, 1, 1, 2, 2, 1, 1, 1, 2, 2, 1, 2, 1, 2, 2, 1, 2, 1, 2, 1, 1, 2, 2, 1, 2, 1, 1, 2, 2, 1, 1, 1, 1, 2, 2, 2, 1, 1, 2, 1, 2, 2], \"Freq\": [0.8674185858457297, 0.8674185858457297, 0.9453723055991731, 0.9889920267344895, 0.728123911951274, 0.8675194540807991, 0.16702215704582413, 0.8351107852291206, 0.867443745847551, 0.8898621318218659, 0.1483103553036443, 0.990072734367387, 0.8665326038613207, 0.9444684757716194, 0.15741141262860325, 0.9910593156767716, 0.9910593156767716, 0.8675265976261075, 0.8675194540807991, 0.867443745847551, 0.9456669095400815, 0.991081320784955, 0.867443745847551, 0.867443745847551, 0.9441947573670978, 0.9298462807124015, 0.867443745847551, 0.9298374262557263, 0.867443745847551, 0.9910488519077064, 0.7482939023047697, 0.26724782225170346, 0.9298318786203116, 1.0217047290698897, 0.9910618136528987, 0.5702124508659919, 0.4235863920718797, 1.0211841581325316, 0.14352696760298406, 0.8611618056179045, 0.7201618169019763, 0.24005393896732544, 0.27834200674262116, 0.6958550168565529, 0.867443745847551, 0.8485152904758644, 0.9177081464482454, 0.2741730323027455, 0.6397370753730728, 0.8710838662522857, 0.29036128875076195, 0.8675194540807991, 0.7612928249372105, 0.19032320623430263, 0.8675265976261075, 0.1996320795774483, 0.7985283183097932, 0.9910589453769441, 0.15001757956971293, 0.8250966876334211, 0.9632447542935572, 0.7266063881747097, 0.9910488519077064, 0.9298317009879691, 0.8675265976261075, 0.867443745847551, 1.021191324665515, 0.8162221120958877, 0.9522161636182752, 0.05601271550695737, 0.867443745847551, 0.9910593156767716, 0.8675194540807991, 0.28266008172373075, 0.7066502043093268, 0.9910593156767716, 0.3280095499202912, 0.6560190998405824, 0.9457656626761605, 0.17218611357705355, 0.8609305678852678, 0.9298399976976446, 0.5706973016769815, 0.39948811117388705, 0.8161696583892672, 0.9298431815869961, 0.8796883038230519, 0.9060997501009549, 0.25024361711656373, 0.7507308513496912, 0.8675265976261075, 0.867443745847551, 0.9308698932518163, 0.593893359147747, 0.3393676337987126, 0.6593503107857849, 0.4120939442411155, 0.8675194540807991], \"Term\": [\"Angefang\", \"Erinnerung\", \"Fall\", \"Fand\", \"Geburt\", \"Gestaltung\", \"Idee\", \"Idee\", \"Mitch\", \"M\\u00f6glichkeit\", \"M\\u00f6glichkeit\", \"Problem\", \"Punkt\", \"Sinn\", \"Sinn\", \"Spa\\u00df\", \"Studie\", \"Tag\", \"Version\", \"Wisse\", \"abend\", \"allerbesen\", \"angesproch\", \"anspornen\", \"app\", \"auffallen\", \"beenden\", \"bleiben\", \"dauern\", \"einerseits\", \"einfach\", \"einfach\", \"erster\", \"fallen\", \"farbig\", \"finden\", \"finden\", \"fragen\", \"funktionieren\", \"funktionieren\", \"geben\", \"geben\", \"gehen\", \"gehen\", \"gemach\", \"gerade\", \"gestalten\", \"glauben\", \"glauben\", \"grunds\\u00e4tzlich\", \"grunds\\u00e4tzlich\", \"grundz\\u00fcge\", \"gut\", \"gut\", \"halten\", \"heute\", \"heute\", \"h\\u00e4ngen\", \"immer\", \"immer\", \"insgesamt\", \"intuitiv\", \"konzentriert\", \"kurz\", \"laufen\", \"leiden\", \"lerneinheit\", \"letzter\", \"machen\", \"machen\", \"maximal\", \"mitzumach\", \"nachlesen\", \"nat\\u00fcrlich\", \"nat\\u00fcrlich\", \"nie\", \"positiv\", \"positiv\", \"reingegucken\", \"richtig\", \"richtig\", \"r\\u00fcckfragen\", \"sagen\", \"sagen\", \"schnell\", \"spannend\", \"stellen\", \"verstehen\", \"vielleicht\", \"vielleicht\", \"weiterhilfen\", \"weitermachen\", \"weniger\", \"wirklich\", \"wirklich\", \"wissen\", \"wissen\", \"zuerst\"]}, \"R\": 30, \"lambda.step\": 0.01, \"plot.opts\": {\"xlab\": \"PC1\", \"ylab\": \"PC2\"}, \"topic.order\": [2, 1]};\n",
       "\n",
       "function LDAvis_load_lib(url, callback){\n",
       "  var s = document.createElement('script');\n",
       "  s.src = url;\n",
       "  s.async = true;\n",
       "  s.onreadystatechange = s.onload = callback;\n",
       "  s.onerror = function(){console.warn(\"failed to load library \" + url);};\n",
       "  document.getElementsByTagName(\"head\")[0].appendChild(s);\n",
       "}\n",
       "\n",
       "if(typeof(LDAvis) !== \"undefined\"){\n",
       "   // already loaded: just create the visualization\n",
       "   !function(LDAvis){\n",
       "       new LDAvis(\"#\" + \"ldavis_el12557621465035229286251685325\", ldavis_el12557621465035229286251685325_data);\n",
       "   }(LDAvis);\n",
       "}else if(typeof define === \"function\" && define.amd){\n",
       "   // require.js is available: use it to load d3/LDAvis\n",
       "   require.config({paths: {d3: \"https://d3js.org/d3.v5\"}});\n",
       "   require([\"d3\"], function(d3){\n",
       "      window.d3 = d3;\n",
       "      LDAvis_load_lib(\"https://cdn.jsdelivr.net/gh/bmabey/pyLDAvis@3.4.0/pyLDAvis/js/ldavis.v3.0.0.js\", function(){\n",
       "        new LDAvis(\"#\" + \"ldavis_el12557621465035229286251685325\", ldavis_el12557621465035229286251685325_data);\n",
       "      });\n",
       "    });\n",
       "}else{\n",
       "    // require.js not available: dynamically load d3 & LDAvis\n",
       "    LDAvis_load_lib(\"https://d3js.org/d3.v5.js\", function(){\n",
       "         LDAvis_load_lib(\"https://cdn.jsdelivr.net/gh/bmabey/pyLDAvis@3.4.0/pyLDAvis/js/ldavis.v3.0.0.js\", function(){\n",
       "                 new LDAvis(\"#\" + \"ldavis_el12557621465035229286251685325\", ldavis_el12557621465035229286251685325_data);\n",
       "            })\n",
       "         });\n",
       "}\n",
       "</script>"
      ],
      "text/plain": [
       "PreparedData(topic_coordinates=              x    y  topics  cluster       Freq\n",
       "topic                                           \n",
       "1      0.096291  0.0       1        1  56.338656\n",
       "0     -0.096291  0.0       2        1  43.661344, topic_info=             Term       Freq      Total Category  logprob  loglift\n",
       "57           Fall  14.000000  14.000000  Default  30.0000  30.0000\n",
       "11         machen  17.000000  17.000000  Default  29.0000  29.0000\n",
       "475  reingegucken   8.000000   8.000000  Default  28.0000  28.0000\n",
       "452         abend   8.000000   8.000000  Default  27.0000  27.0000\n",
       "81           Fand  12.000000  12.000000  Default  26.0000  26.0000\n",
       "..            ...        ...        ...      ...      ...      ...\n",
       "200       positiv   4.455720   6.097383   Topic2  -4.7097   0.5150\n",
       "70        einfach   5.127897  18.709226   Topic2  -4.5692  -0.4656\n",
       "185        wissen   4.596347  12.133156   Topic2  -4.6787  -0.1420\n",
       "18       wirklich   4.457647  11.786628   Topic2  -4.7093  -0.1436\n",
       "227         heute   4.169162   5.009215   Topic2  -4.7762   0.6451\n",
       "\n",
       "[112 rows x 6 columns], token_table=      Topic      Freq        Term\n",
       "term                             \n",
       "461       2  0.867419    Angefang\n",
       "462       2  0.867419  Erinnerung\n",
       "57        1  0.945372        Fall\n",
       "81        1  0.988992        Fand\n",
       "160       1  0.728124      Geburt\n",
       "...     ...       ...         ...\n",
       "18        1  0.593893    wirklich\n",
       "18        2  0.339368    wirklich\n",
       "185       1  0.659350      wissen\n",
       "185       2  0.412094      wissen\n",
       "470       2  0.867519      zuerst\n",
       "\n",
       "[98 rows x 3 columns], R=30, lambda_step=0.01, plot_opts={'xlab': 'PC1', 'ylab': 'PC2'}, topic_order=[2, 1])"
      ]
     },
     "execution_count": 28,
     "metadata": {},
     "output_type": "execute_result"
    }
   ],
   "source": [
    "# Visualize the topics\n",
    "pyLDAvis.enable_notebook()\n",
    "vis = pyLDAvis.gensim.prepare(lda_model, corpus, id2word)\n",
    "vis"
   ]
  },
  {
   "cell_type": "code",
   "execution_count": 24,
   "id": "f63c4d5e-8760-4899-80b4-193ec224f1f2",
   "metadata": {
    "tags": []
   },
   "outputs": [],
   "source": [
    "def compute_coherence_values(dictionary, corpus, texts, limit, start=2, step=3):\n",
    "    \"\"\"\n",
    "    Compute c_v coherence for various number of topics\n",
    "\n",
    "    Parameters:\n",
    "    ----------\n",
    "    dictionary : Gensim dictionary\n",
    "    corpus : Gensim corpus\n",
    "    texts : List of input texts\n",
    "    limit : Max num of topics\n",
    "\n",
    "    Returns:\n",
    "    -------\n",
    "    model_list : List of LDA topic models\n",
    "    coherence_values : Coherence values corresponding to the LDA model with respective number of topics\n",
    "    \"\"\"\n",
    "    coherence_values = []\n",
    "    model_list = []\n",
    "    for num_topics in range(start, limit, step):\n",
    "        model = gensim.models.ldamodel.LdaModel(corpus=corpus,id2word=id2word, num_topics=num_topics, random_state=100)\n",
    "        model_list.append(model)\n",
    "        coherencemodel = CoherenceModel(model=model, texts=texts, dictionary=dictionary, coherence='c_v')\n",
    "        coherence_values.append(coherencemodel.get_coherence())\n",
    "\n",
    "    return model_list, coherence_values"
   ]
  },
  {
   "cell_type": "code",
   "execution_count": 25,
   "id": "3fe70221-20f5-484f-ab7a-ed4f5b42edac",
   "metadata": {
    "tags": []
   },
   "outputs": [],
   "source": [
    "model_list, coherence_values = compute_coherence_values(dictionary=id2word, \n",
    "                                                        corpus=corpus, \n",
    "                                                        texts=data_lemmatized, \n",
    "                                                        start=1, \n",
    "                                                        limit=30, \n",
    "                                                        step=1)"
   ]
  },
  {
   "cell_type": "code",
   "execution_count": 26,
   "id": "6c4b2403-3fe8-4f9e-9d2e-d7a2c29a96f0",
   "metadata": {
    "tags": []
   },
   "outputs": [],
   "source": [
    "os.chdir(\"C:\\\\Users\\\\vanandkuma\\\\Documents\\\\projects\\\\sentiment_analysis\")"
   ]
  },
  {
   "cell_type": "code",
   "execution_count": 27,
   "id": "b4ca5c43-51ae-4049-a7f1-6e9a0ff3b094",
   "metadata": {
    "tags": []
   },
   "outputs": [
    {
     "data": {
      "image/png": "[encoded data removed]",
      "text/plain": [
       "<Figure size 640x480 with 1 Axes>"
      ]
     },
     "metadata": {},
     "output_type": "display_data"
    }
   ],
   "source": [
    "# Show graph\n",
    "limit=30; start=1; step=1;\n",
    "x = range(start, limit, step)\n",
    "plt.title(\"LDA Diagnostics \\n Optimum topics for version two feedback\")\n",
    "plt.plot(x, coherence_values)\n",
    "plt.xlabel(\"Num Topics\")\n",
    "plt.ylabel(\"Coherence score\")\n",
    "plt.savefig('output/app_v1_lda_topic_coherence.png')"
   ]
  },
  {
   "cell_type": "code",
   "execution_count": 28,
   "id": "9a34f105-39c7-461f-b019-9a0e780eb0a0",
   "metadata": {
    "tags": []
   },
   "outputs": [
    {
     "name": "stdout",
     "output_type": "stream",
     "text": [
      "Num Topics = 1  has Coherence Value of 0.3657\n",
      "Num Topics = 2  has Coherence Value of 0.3691\n",
      "Num Topics = 3  has Coherence Value of 0.3421\n",
      "Num Topics = 4  has Coherence Value of 0.3625\n",
      "Num Topics = 5  has Coherence Value of 0.3653\n",
      "Num Topics = 6  has Coherence Value of 0.3556\n",
      "Num Topics = 7  has Coherence Value of 0.4023\n",
      "Num Topics = 8  has Coherence Value of 0.3887\n",
      "Num Topics = 9  has Coherence Value of 0.3731\n",
      "Num Topics = 10  has Coherence Value of 0.3702\n",
      "Num Topics = 11  has Coherence Value of 0.3802\n",
      "Num Topics = 12  has Coherence Value of 0.3849\n",
      "Num Topics = 13  has Coherence Value of 0.3867\n",
      "Num Topics = 14  has Coherence Value of 0.3803\n",
      "Num Topics = 15  has Coherence Value of 0.3845\n",
      "Num Topics = 16  has Coherence Value of 0.4557\n",
      "Num Topics = 17  has Coherence Value of 0.404\n",
      "Num Topics = 18  has Coherence Value of 0.3921\n",
      "Num Topics = 19  has Coherence Value of 0.4109\n",
      "Num Topics = 20  has Coherence Value of 0.4118\n",
      "Num Topics = 21  has Coherence Value of 0.4393\n",
      "Num Topics = 22  has Coherence Value of 0.4211\n",
      "Num Topics = 23  has Coherence Value of 0.4237\n",
      "Num Topics = 24  has Coherence Value of 0.405\n",
      "Num Topics = 25  has Coherence Value of 0.4736\n",
      "Num Topics = 26  has Coherence Value of 0.4239\n",
      "Num Topics = 27  has Coherence Value of 0.4691\n",
      "Num Topics = 28  has Coherence Value of 0.4997\n",
      "Num Topics = 29  has Coherence Value of 0.464\n"
     ]
    }
   ],
   "source": [
    "# Print the coherence scores\n",
    "for m, cv in zip(x, coherence_values):\n",
    "    print(\"Num Topics =\", m, \" has Coherence Value of\", round(cv, 4))"
   ]
  },
  {
   "cell_type": "code",
   "execution_count": 30,
   "id": "2122fe83-34f8-42c5-8652-d42471f3ca87",
   "metadata": {
    "tags": []
   },
   "outputs": [
    {
     "name": "stdout",
     "output_type": "stream",
     "text": [
      "[(0,\n",
      "  '0.056*\"lernen\" + 0.029*\"mögen\" + 0.029*\"uber\" + 0.026*\"Frage\" + '\n",
      "  '0.020*\"geben\" + 0.019*\"stellen\" + 0.019*\"fur\" + 0.015*\"personlich\" + '\n",
      "  '0.015*\"Person\" + 0.015*\"hineinversetzen\"'),\n",
      " (1,\n",
      "  '0.052*\"finden\" + 0.041*\"gut\" + 0.029*\"Lektion\" + 0.020*\"einfach\" + '\n",
      "  '0.020*\"eigen\" + 0.016*\"Kommunikation\" + 0.013*\"Klicke\" + 0.013*\"personlich\" '\n",
      "  '+ 0.012*\"kurz\" + 0.011*\"mögen\"'),\n",
      " (2,\n",
      "  '0.055*\"gut\" + 0.055*\"finden\" + 0.035*\"Beispiel\" + 0.021*\"immer\" + '\n",
      "  '0.018*\"geben\" + 0.018*\"Alltag\" + 0.013*\"personlich\" + 0.013*\"wichtig\" + '\n",
      "  '0.013*\"mögen\" + 0.013*\"wirklich\"'),\n",
      " (3,\n",
      "  '0.027*\"Thema\" + 0.024*\"nie\" + 0.024*\"bissch\" + 0.024*\"mögen\" + '\n",
      "  '0.023*\"Geburt\" + 0.020*\"Seite\" + 0.020*\"finden\" + 0.017*\"Kommunikation\" + '\n",
      "  '0.016*\"fur\" + 0.014*\"spannend\"'),\n",
      " (4,\n",
      "  '0.051*\"Lektion\" + 0.039*\"gut\" + 0.039*\"Idee\" + 0.026*\"mögen\" + '\n",
      "  '0.026*\"finden\" + 0.026*\"kommen\" + 0.014*\"total\" + 0.014*\"folgen\" + '\n",
      "  '0.014*\"dazwischen\" + 0.014*\"Kleinigkeit\"'),\n",
      " (5,\n",
      "  '0.077*\"mögen\" + 0.028*\"neutral\" + 0.028*\"Aufforderung\" + 0.028*\"Fuhl\" + '\n",
      "  '0.028*\"bestatigen\" + 0.028*\"Dialog\" + 0.028*\"Erklarung\" + 0.003*\"gut\" + '\n",
      "  '0.003*\"finden\" + 0.003*\"lernen\"'),\n",
      " (6,\n",
      "  '0.057*\"gut\" + 0.038*\"Frage\" + 0.031*\"finden\" + 0.021*\"fallen\" + '\n",
      "  '0.017*\"nehmen\" + 0.016*\"wirklich\" + 0.016*\"nachst\" + 0.016*\"wichtig\" + '\n",
      "  '0.012*\"Termin\" + 0.012*\"Thema\"'),\n",
      " (7,\n",
      "  '0.033*\"gut\" + 0.033*\"verstehen\" + 0.027*\"auffrischen\" + 0.014*\"finden\" + '\n",
      "  '0.014*\"glauben\" + 0.014*\"lernen\" + 0.014*\"immer\" + 0.014*\"gerade\" + '\n",
      "  '0.014*\"klar\" + 0.014*\"Geburt\"')]\n"
     ]
    }
   ],
   "source": [
    "# Select the model and print the topics\n",
    "optimal_model = model_list[7]\n",
    "model_topics = optimal_model.show_topics(formatted=False)\n",
    "pprint(optimal_model.print_topics(num_words=10))"
   ]
  },
  {
   "cell_type": "code",
   "execution_count": 29,
   "id": "327e34e1-f90a-42ce-bb0e-960995f33845",
   "metadata": {},
   "outputs": [
    {
     "name": "stderr",
     "output_type": "stream",
     "text": [
      "C:\\Users\\vanandkuma\\AppData\\Local\\Programs\\Python\\Python310\\lib\\site-packages\\joblib\\_memmapping_reducer.py:611: UserWarning: Failed to delete temporary folder: C:\\Users\\VANAND~1\\AppData\\Local\\Temp\\joblib_memmapping_folder_125576_90ca2727f41549cbb85a80d5cf0b3d96_de8be880c8a4489998569f2c01a5f140\n",
      "  warnings.warn(\"Failed to delete temporary folder: {}\"\n",
      "C:\\Users\\vanandkuma\\AppData\\Local\\Programs\\Python\\Python310\\lib\\site-packages\\joblib\\_memmapping_reducer.py:611: UserWarning: Failed to delete temporary folder: C:\\Users\\VANAND~1\\AppData\\Local\\Temp\\joblib_memmapping_folder_125576_100ec96b104d480082926de9f8f9efd2_ecbb76d8e51b45e6adb02cab8b8e01d3\n",
      "  warnings.warn(\"Failed to delete temporary folder: {}\"\n",
      "C:\\Users\\vanandkuma\\AppData\\Local\\Programs\\Python\\Python310\\lib\\site-packages\\joblib\\_memmapping_reducer.py:611: UserWarning: Failed to delete temporary folder: C:\\Users\\VANAND~1\\AppData\\Local\\Temp\\joblib_memmapping_folder_125576_90ca2727f41549cbb85a80d5cf0b3d96_858b8474fb3049aca2efa8f43b418cc7\n",
      "  warnings.warn(\"Failed to delete temporary folder: {}\"\n",
      "C:\\Users\\vanandkuma\\AppData\\Local\\Programs\\Python\\Python310\\lib\\site-packages\\joblib\\_memmapping_reducer.py:611: UserWarning: Failed to delete temporary folder: C:\\Users\\VANAND~1\\AppData\\Local\\Temp\\joblib_memmapping_folder_125576_90ca2727f41549cbb85a80d5cf0b3d96_3215d5bcb6274333a380dc7235cb3cdc\n",
      "  warnings.warn(\"Failed to delete temporary folder: {}\"\n"
     ]
    }
   ],
   "source": [
    "pyLDAvis.save_html(vis, 'output/ldavis_app_v2_strengths.html')"
   ]
  }
 ],
 "metadata": {
  "kernelspec": {
   "display_name": "Python 3 (ipykernel)",
   "language": "python",
   "name": "python3"
  },
  "language_info": {
   "codemirror_mode": {
    "name": "ipython",
    "version": 3
   },
   "file_extension": ".py",
   "mimetype": "text/x-python",
   "name": "python",
   "nbconvert_exporter": "python",
   "pygments_lexer": "ipython3",
   "version": "3.10.2"
  }
 },
 "nbformat": 4,
 "nbformat_minor": 5
}
