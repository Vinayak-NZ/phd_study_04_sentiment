{
 "cells": [
  {
   "cell_type": "code",
   "execution_count": 1,
   "id": "a63cbda1-339d-48d7-aa2f-87f55fce9cc3",
   "metadata": {
    "tags": []
   },
   "outputs": [],
   "source": [
    "import os\n",
    "import re\n",
    "import numpy as np\n",
    "import pandas as pd\n",
    "from pprint import pprint\n",
    "\n",
    "# reading docfiles\n",
    "import docx2txt\n",
    "\n",
    "#nltk\n",
    "import nltk\n",
    "from nltk.tokenize import word_tokenize\n",
    "\n",
    "# Gensim\n",
    "import gensim\n",
    "import gensim.corpora as corpora\n",
    "from gensim.utils import simple_preprocess\n",
    "from gensim.models import CoherenceModel\n",
    "\n",
    "# spacy for lemmatization\n",
    "import spacy\n",
    "\n",
    "# Plotting tools\n",
    "import pyLDAvis\n",
    "import pyLDAvis.gensim  # don't skip this\n",
    "import matplotlib.pyplot as plt\n",
    "%matplotlib inline\n",
    "\n",
    "# Enable logging for gensim - optional\n",
    "import logging\n",
    "logging.basicConfig(format='%(asctime)s : %(levelname)s : %(message)s', level=logging.ERROR)\n",
    "\n",
    "import warnings\n",
    "warnings.filterwarnings(\"ignore\",category=DeprecationWarning)"
   ]
  },
  {
   "cell_type": "code",
   "execution_count": 2,
   "id": "7b222ed7-905b-4058-9307-46c9edf6407c",
   "metadata": {
    "tags": []
   },
   "outputs": [],
   "source": [
    "word_exclusions = pd.read_excel(\"input/word_exclusions.xlsx\")\n",
    "\n",
    "word_exclusions = word_exclusions[word_exclusions[\"exclude\"] == 1]\n",
    "\n",
    "word_exclusions = word_exclusions.drop(columns=['exclude', 'exclude_short_list'], axis = 1)"
   ]
  },
  {
   "cell_type": "code",
   "execution_count": 3,
   "id": "2d89047e-92e5-4a22-a426-396eba7086f7",
   "metadata": {
    "tags": []
   },
   "outputs": [],
   "source": [
    "# NLTK Stop words\n",
    "from nltk.corpus import stopwords\n",
    "stop_words = stopwords.words('german')\n",
    "stop_words.extend(word_exclusions[\"word\"])\n",
    "stop_words.extend([\"gut\"])"
   ]
  },
  {
   "cell_type": "code",
   "execution_count": 4,
   "id": "e702800b-847d-4af0-84f5-03b89c8e6650",
   "metadata": {
    "tags": []
   },
   "outputs": [],
   "source": [
    "df = pd.read_excel(\"input/app_v1/app_v1_feedback.xlsx\")"
   ]
  },
  {
   "cell_type": "code",
   "execution_count": 5,
   "id": "a0db0e57-68c9-4e6b-b15c-9a12607e15a7",
   "metadata": {
    "tags": []
   },
   "outputs": [
    {
     "data": {
      "text/html": [
       "<div>\n",
       "<style scoped>\n",
       "    .dataframe tbody tr th:only-of-type {\n",
       "        vertical-align: middle;\n",
       "    }\n",
       "\n",
       "    .dataframe tbody tr th {\n",
       "        vertical-align: top;\n",
       "    }\n",
       "\n",
       "    .dataframe thead th {\n",
       "        text-align: right;\n",
       "    }\n",
       "</style>\n",
       "<table border=\"1\" class=\"dataframe\">\n",
       "  <thead>\n",
       "    <tr style=\"text-align: right;\">\n",
       "      <th></th>\n",
       "      <th>transcript_id</th>\n",
       "      <th>person_id</th>\n",
       "      <th>segment_id</th>\n",
       "      <th>context</th>\n",
       "      <th>lesson</th>\n",
       "      <th>text</th>\n",
       "      <th>category_id</th>\n",
       "    </tr>\n",
       "  </thead>\n",
       "  <tbody>\n",
       "    <tr>\n",
       "      <th>0</th>\n",
       "      <td>ss_01</td>\n",
       "      <td>p_01</td>\n",
       "      <td>s_001</td>\n",
       "      <td>NaN</td>\n",
       "      <td>NaN</td>\n",
       "      <td>Das ist in Ordnung.</td>\n",
       "      <td>1</td>\n",
       "    </tr>\n",
       "    <tr>\n",
       "      <th>1</th>\n",
       "      <td>ss_01</td>\n",
       "      <td>p_01</td>\n",
       "      <td>s_002</td>\n",
       "      <td>NaN</td>\n",
       "      <td>NaN</td>\n",
       "      <td>Eine kurze Zwischenfrage, wann soll die App ei...</td>\n",
       "      <td>1</td>\n",
       "    </tr>\n",
       "    <tr>\n",
       "      <th>2</th>\n",
       "      <td>ss_01</td>\n",
       "      <td>p_01</td>\n",
       "      <td>s_003</td>\n",
       "      <td>In der ersten Version läuft die jetzt schon se...</td>\n",
       "      <td>NaN</td>\n",
       "      <td>Interessant. Okay.</td>\n",
       "      <td>1</td>\n",
       "    </tr>\n",
       "    <tr>\n",
       "      <th>3</th>\n",
       "      <td>ss_01</td>\n",
       "      <td>p_01</td>\n",
       "      <td>s_004</td>\n",
       "      <td>Ich würde einfach anfangen, ein bisschen allge...</td>\n",
       "      <td>NaN</td>\n",
       "      <td>Nein, soweit nicht. Alles klar.</td>\n",
       "      <td>1</td>\n",
       "    </tr>\n",
       "    <tr>\n",
       "      <th>4</th>\n",
       "      <td>ss_01</td>\n",
       "      <td>p_01</td>\n",
       "      <td>s_005</td>\n",
       "      <td>Perfekt, klasse. Ist das Ihre erste Schwangers...</td>\n",
       "      <td>NaN</td>\n",
       "      <td>Ja.</td>\n",
       "      <td>12</td>\n",
       "    </tr>\n",
       "  </tbody>\n",
       "</table>\n",
       "</div>"
      ],
      "text/plain": [
       "  transcript_id person_id segment_id   \n",
       "0         ss_01      p_01      s_001  \\\n",
       "1         ss_01      p_01      s_002   \n",
       "2         ss_01      p_01      s_003   \n",
       "3         ss_01      p_01      s_004   \n",
       "4         ss_01      p_01      s_005   \n",
       "\n",
       "                                             context lesson   \n",
       "0                                                NaN    NaN  \\\n",
       "1                                                NaN    NaN   \n",
       "2  In der ersten Version läuft die jetzt schon se...    NaN   \n",
       "3  Ich würde einfach anfangen, ein bisschen allge...    NaN   \n",
       "4  Perfekt, klasse. Ist das Ihre erste Schwangers...    NaN   \n",
       "\n",
       "                                                text  category_id  \n",
       "0                                Das ist in Ordnung.            1  \n",
       "1  Eine kurze Zwischenfrage, wann soll die App ei...            1  \n",
       "2                                 Interessant. Okay.            1  \n",
       "3                    Nein, soweit nicht. Alles klar.            1  \n",
       "4                                                Ja.           12  "
      ]
     },
     "execution_count": 5,
     "metadata": {},
     "output_type": "execute_result"
    }
   ],
   "source": [
    "df.head()"
   ]
  },
  {
   "cell_type": "code",
   "execution_count": 6,
   "id": "0db4fec8-4258-467c-8e27-bfdd97d073d7",
   "metadata": {
    "tags": []
   },
   "outputs": [],
   "source": [
    "strengths = df[df[\"category_id\"] == 9]"
   ]
  },
  {
   "cell_type": "code",
   "execution_count": 7,
   "id": "a97f985b-fee3-42cc-b009-8a8589d56c99",
   "metadata": {
    "tags": []
   },
   "outputs": [],
   "source": [
    "strengths = strengths.drop(columns=['transcript_id', 'person_id', 'segment_id', 'context', 'lesson', 'category_id'], \n",
    "             axis = 1)"
   ]
  },
  {
   "cell_type": "code",
   "execution_count": 8,
   "id": "7ded6587-ac14-4737-9894-87650f6e169d",
   "metadata": {
    "tags": []
   },
   "outputs": [],
   "source": [
    "strengths['text_processed'] = \\\n",
    "strengths['text'].map(lambda x: re.sub('[,.!?]', '', x))"
   ]
  },
  {
   "cell_type": "code",
   "execution_count": 9,
   "id": "1bce4c78-2219-4486-8a93-3dcb231771d1",
   "metadata": {
    "tags": []
   },
   "outputs": [],
   "source": [
    "strengths['text_processed'] = \\\n",
    "strengths['text_processed'].map(lambda x: x.lower())"
   ]
  },
  {
   "cell_type": "code",
   "execution_count": 10,
   "id": "75dde788-674d-4f05-ba50-49d238a33487",
   "metadata": {},
   "outputs": [
    {
     "data": {
      "text/plain": [
       "74    [inhaltlicher, natur, waren, mir, viele, kommu...\n",
       "75    [das, macht, einem, das, immer, noch, einmal, ...\n",
       "76    [ich, hatte, mir, jetzt, auch, noch, einmal, a...\n",
       "78    [genau, dann, noch, eine, kleinigkeit, :, nach...\n",
       "83    [nein, fand, ich, nicht, der, hintergrund, ist...\n",
       "Name: text_processed, dtype: object"
      ]
     },
     "execution_count": 10,
     "metadata": {},
     "output_type": "execute_result"
    }
   ],
   "source": [
    "feedback = strengths['text_processed']\n",
    "\n",
    "feedback_token = feedback.apply(word_tokenize)\n",
    "feedback_token.head()"
   ]
  },
  {
   "cell_type": "code",
   "execution_count": 11,
   "id": "e186756e-29af-4f1b-9527-c50788bdf093",
   "metadata": {
    "tags": []
   },
   "outputs": [],
   "source": [
    "def sent_to_words(sentences):\n",
    "    for sentence in sentences:\n",
    "        yield(gensim.utils.simple_preprocess(str(sentence), \n",
    "                                             deacc = True))"
   ]
  },
  {
   "cell_type": "code",
   "execution_count": 12,
   "id": "baa9fdc0-3aa5-41c1-a076-19eaea102897",
   "metadata": {
    "tags": []
   },
   "outputs": [],
   "source": [
    "data = strengths.text_processed.values.tolist()\n",
    "data_words = list(sent_to_words(data))"
   ]
  },
  {
   "cell_type": "code",
   "execution_count": 13,
   "id": "f93b643c-d637-46ef-ae5a-581618d51d3c",
   "metadata": {
    "tags": []
   },
   "outputs": [
    {
     "name": "stdout",
     "output_type": "stream",
     "text": [
      "['inhaltlicher', 'natur', 'waren', 'mir', 'viele', 'schon', 'vor', 'dem', 'studium', 'bekannt', 'aber', 'ich', 'fand', 'es', 'gut', 'dass', 'ich', 'das', 'jetzt', 'noch_einmal', 'wiederholen', 'und', 'auffrischen', 'konnte']\n"
     ]
    }
   ],
   "source": [
    "# Build the bigram and trigram models\n",
    "bigram = gensim.models.Phrases(data_words, min_count=5, threshold=10) # higher threshold fewer phrases.\n",
    "trigram = gensim.models.Phrases(bigram[data_words], threshold=10)  \n",
    "\n",
    "# Faster way to get a sentence clubbed as a trigram/bigram\n",
    "bigram_mod = gensim.models.phrases.Phraser(bigram)\n",
    "trigram_mod = gensim.models.phrases.Phraser(trigram)\n",
    "\n",
    "# See trigram example\n",
    "print(trigram_mod[bigram_mod[data_words[0]]])"
   ]
  },
  {
   "cell_type": "code",
   "execution_count": 14,
   "id": "2af4afc7-6a3d-48b7-82ff-90eed9de2196",
   "metadata": {
    "tags": []
   },
   "outputs": [],
   "source": [
    "# Define functions for stopwords, bigrams, trigrams and lemmatization\n",
    "def remove_stopwords(texts):\n",
    "    return [[word for word in simple_preprocess(str(doc)) if word not in stop_words] for doc in texts]\n",
    "\n",
    "def make_bigrams(texts):\n",
    "    return [bigram_mod[doc] for doc in texts]\n",
    "\n",
    "def make_trigrams(texts):\n",
    "    return [trigram_mod[bigram_mod[doc]] for doc in texts]\n",
    "\n",
    "def lemmatization(texts, allowed_postags=['NOUN', 'ADJ', 'VERB', 'ADV']):\n",
    "    \"\"\"https://spacy.io/api/annotation\"\"\"\n",
    "    texts_out = []\n",
    "    for sent in texts:\n",
    "        doc = nlp(\" \".join(sent)) \n",
    "        texts_out.append([token.lemma_ for token in doc if token.pos_ in allowed_postags])\n",
    "    return texts_out"
   ]
  },
  {
   "cell_type": "code",
   "execution_count": 15,
   "id": "1b69d6e8-5363-4e0c-b957-5f3955ab01b6",
   "metadata": {
    "tags": []
   },
   "outputs": [],
   "source": [
    "# Remove Stop Words\n",
    "data_words_nostops = remove_stopwords(feedback_token)"
   ]
  },
  {
   "cell_type": "code",
   "execution_count": 16,
   "id": "f2d6824d-d63c-40f8-84bd-ba140c374d8b",
   "metadata": {
    "tags": []
   },
   "outputs": [],
   "source": [
    "# Form Bigrams\n",
    "data_words_bigrams = make_bigrams(data_words_nostops)"
   ]
  },
  {
   "cell_type": "code",
   "execution_count": 17,
   "id": "0945842d-b7ab-472a-98b6-48aae1d916ea",
   "metadata": {
    "tags": []
   },
   "outputs": [],
   "source": [
    "# Initialize spacy 'en' model, keeping only tagger component (for efficiency)\n",
    "# python3 -m spacy download en\n",
    "nlp = spacy.load(\"de_core_news_sm\", disable = ['parser', 'ner'])"
   ]
  },
  {
   "cell_type": "code",
   "execution_count": 18,
   "id": "a344947a-84c8-409c-adda-e7ec17a156d5",
   "metadata": {
    "tags": []
   },
   "outputs": [
    {
     "name": "stdout",
     "output_type": "stream",
     "text": [
      "[['inhaltlich', 'Natur', 'Studium', 'bekannt', 'finden', 'wiederholen', 'auffrischen']]\n"
     ]
    }
   ],
   "source": [
    "# Do lemmatization keeping only noun, adj, vb, adv\n",
    "data_lemmatized = lemmatization(data_words_bigrams, allowed_postags=['NOUN', 'ADJ', 'VERB', 'ADV'])\n",
    "\n",
    "print(data_lemmatized[:1])"
   ]
  },
  {
   "cell_type": "code",
   "execution_count": 19,
   "id": "e4fc1c71-d11b-47b4-b9b0-ce77aff86e78",
   "metadata": {
    "tags": []
   },
   "outputs": [
    {
     "name": "stdout",
     "output_type": "stream",
     "text": [
      "[[(0, 1), (1, 1), (2, 1), (3, 1), (4, 1), (5, 1), (6, 1)]]\n"
     ]
    }
   ],
   "source": [
    "# Create Dictionary\n",
    "id2word = corpora.Dictionary(data_lemmatized)\n",
    "\n",
    "# Create Corpus\n",
    "texts = data_lemmatized\n",
    "\n",
    "# Term Document Frequency\n",
    "corpus = [id2word.doc2bow(text) for text in texts]\n",
    "\n",
    "# View\n",
    "print(corpus[:1])"
   ]
  },
  {
   "cell_type": "code",
   "execution_count": 20,
   "id": "f39484e3-e8d1-4a52-aa71-25f88f96c76e",
   "metadata": {
    "tags": []
   },
   "outputs": [
    {
     "data": {
      "text/plain": [
       "[[('Natur', 1),\n",
       "  ('Studium', 1),\n",
       "  ('auffrischen', 1),\n",
       "  ('bekannt', 1),\n",
       "  ('finden', 1),\n",
       "  ('inhaltlich', 1),\n",
       "  ('wiederholen', 1)]]"
      ]
     },
     "execution_count": 20,
     "metadata": {},
     "output_type": "execute_result"
    }
   ],
   "source": [
    "# Human readable format of corpus (term-frequency)\n",
    "[[(id2word[id], freq) for id, freq in cp] for cp in corpus[:1]]"
   ]
  },
  {
   "cell_type": "code",
   "execution_count": 21,
   "id": "e73fe189-e116-4403-a711-bef5c8a843f4",
   "metadata": {
    "tags": []
   },
   "outputs": [],
   "source": [
    "# Build LDA model\n",
    "lda_model = gensim.models.ldamodel.LdaModel(corpus=corpus,\n",
    "                                           id2word=id2word,\n",
    "                                           num_topics=3, \n",
    "                                           random_state=100,\n",
    "                                           update_every=1,\n",
    "                                           chunksize=100,\n",
    "                                           passes=10,\n",
    "                                           alpha='auto',\n",
    "                                           per_word_topics=True)"
   ]
  },
  {
   "cell_type": "code",
   "execution_count": 22,
   "id": "940657c6-5ebd-4e42-8fc9-f9b5b1db19d8",
   "metadata": {
    "tags": []
   },
   "outputs": [
    {
     "name": "stdout",
     "output_type": "stream",
     "text": [
      "[(0,\n",
      "  '0.032*\"finden\" + 0.027*\"mögen\" + 0.022*\"lernen\" + 0.017*\"Kommunikation\" + '\n",
      "  '0.017*\"Thema\" + 0.017*\"Geburt\" + 0.012*\"kurz\" + 0.012*\"einfach\" + '\n",
      "  '0.012*\"bissch\" + 0.012*\"ganz\"'),\n",
      " (1,\n",
      "  '0.041*\"finden\" + 0.024*\"mögen\" + 0.015*\"Idee\" + 0.015*\"Lektion\" + '\n",
      "  '0.015*\"glauben\" + 0.015*\"immer\" + 0.010*\"Beispiel\" + 0.010*\"neutral\" + '\n",
      "  '0.010*\"Aufforderung\" + 0.010*\"fällen\"'),\n",
      " (2,\n",
      "  '0.020*\"Frage\" + 0.015*\"Lektion\" + 0.015*\"persönlich\" + 0.015*\"geben\" + '\n",
      "  '0.011*\"finden\" + 0.011*\"kommen\" + 0.011*\"total\" + 0.011*\"Alltag\" + '\n",
      "  '0.011*\"nächster\" + 0.011*\"sagen\"')]\n"
     ]
    }
   ],
   "source": [
    "# Print the Keyword in the 10 topics\n",
    "pprint(lda_model.print_topics())\n",
    "doc_lda = lda_model[corpus]"
   ]
  },
  {
   "cell_type": "code",
   "execution_count": 23,
   "id": "da9ea0b7-09b6-47a1-b96a-c949f8877f2a",
   "metadata": {
    "tags": []
   },
   "outputs": [
    {
     "name": "stdout",
     "output_type": "stream",
     "text": [
      "\n",
      "Perplexity:  -5.890992828755799\n",
      "\n",
      "Coherence Score:  0.4525040396990481\n"
     ]
    }
   ],
   "source": [
    "# Compute Perplexity\n",
    "print('\\nPerplexity: ', lda_model.log_perplexity(corpus))  # a measure of how good the model is. lower the better.\n",
    "\n",
    "# Compute Coherence Score\n",
    "coherence_model_lda = CoherenceModel(model=lda_model, texts=data_lemmatized, dictionary=id2word, coherence='c_v')\n",
    "coherence_lda = coherence_model_lda.get_coherence()\n",
    "print('\\nCoherence Score: ', coherence_lda)"
   ]
  },
  {
   "cell_type": "code",
   "execution_count": 24,
   "id": "35834e7c-9f91-4ba1-a9e3-46c49c04f2e7",
   "metadata": {
    "tags": []
   },
   "outputs": [
    {
     "data": {
      "text/html": [
       "\n",
       "<link rel=\"stylesheet\" type=\"text/css\" href=\"https://cdn.jsdelivr.net/gh/bmabey/pyLDAvis@3.4.0/pyLDAvis/js/ldavis.v1.0.0.css\">\n",
       "\n",
       "\n",
       "<div id=\"ldavis_el9188823061815877762883843385\" style=\"background-color:white;\"></div>\n",
       "<script type=\"text/javascript\">\n",
       "\n",
       "var ldavis_el9188823061815877762883843385_data = {\"mdsDat\": {\"x\": [0.03188059544359203, -0.10524534554684231, 0.07336475010325023], \"y\": [-0.07689853999447661, 0.017860529745655145, 0.059038010248821486], \"topics\": [1, 2, 3], \"cluster\": [1, 1, 1], \"Freq\": [36.378325357395106, 34.369295551178844, 29.252379091426057]}, \"tinfo\": {\"Term\": [\"m\\u00f6gen\", \"finden\", \"geben\", \"Geburt\", \"glauben\", \"Thema\", \"konkret\", \"Modell\", \"vorher\", \"lernen\", \"Lektion\", \"kommen\", \"total\", \"Alltag\", \"eigen\", \"sagen\", \"stellen\", \"gut\", \"daran\", \"denken\", \"Termin\", \"pers\\u00f6nlich\", \"kurz\", \"einfach\", \"bissch\", \"ganz\", \"Idee\", \"Frage\", \"Kommunikation\", \"neutral\", \"glauben\", \"neutral\", \"Aufforderung\", \"f\\u00e4llen\", \"besch\\u00e4ftigen\", \"gerade\", \"nie\", \"fachbegriffen\", \"melden\", \"Kannte\", \"sehen\", \"w\\u00fcnschen\", \"Perspektive\", \"erm\\u00e4chtigen\", \"Wort\", \"ausw\\u00e4hlen\", \"neuerdings\", \"Prozentsatz\", \"hineinversetzt\", \"Information\", \"Einf\\u00fchrung\", \"m\\u00e4nnlich\", \"erhalten\", \"F\\u00fchle\", \"w\\u00e4hlen\", \"Reflexion\", \"fallen\", \"best\\u00e4tigen\", \"nutz\", \"M\\u00f6glichkeit\", \"Idee\", \"finden\", \"immer\", \"m\\u00f6gen\", \"Beispiel\", \"Lektion\", \"eigen\", \"verstehen\", \"wirklich\", \"wichtig\", \"Thema\", \"pers\\u00f6nlich\", \"Person\", \"Situation\", \"dar\\u00fcber\", \"lernen\", \"nachfragen\", \"geben\", \"kommen\", \"total\", \"Alltag\", \"sagen\", \"stellen\", \"gut\", \"daran\", \"denken\", \"Termin\", \"Abschlussfrag\", \"dazwischen\", \"herumdrehen\", \"Zusammenfassung\", \"lektionen\", \"Kleinigkeit\", \"folgen\", \"durchgegangen\", \"meinung\", \"teilhaben\", \"Aufmerksamkeit\", \"bild\", \"schenken\", \"nachdenken\", \"bed\\u00fcrfnisse\", \"hineinversetzen\", \"ausdr\\u00fccken\", \"Gef\\u00fchl\", \"Wann\", \"zur\\u00fcckzuschau\", \"Frage\", \"pers\\u00f6nlich\", \"n\\u00e4chster\", \"nehmen\", \"Lektion\", \"wichtig\", \"verstehen\", \"lernen\", \"finden\", \"integrieren\", \"Kommunikation\", \"Situation\", \"vielleicht\", \"Idee\", \"immer\", \"spannend\", \"wirklich\", \"konkret\", \"Modell\", \"vorher\", \"zwischenfragen\", \"warum\", \"durchgeklickt\", \"beurteilen\", \"merken\", \"\\u00e4ndern\", \"lektion\", \"F\\u00fclle\", \"Vorstellung\", \"Unterhaltung\", \"Beruf\", \"verschieden\", \"Wiederholung\", \"beispiel\", \"Ohr\", \"bringen\", \"priorisier\", \"\\u00fcberlegen\", \"gefall\", \"lesen\", \"Vorfeld\", \"praktisch\", \"bed\\u00fcrfni\\u00df\", \"Dialog\", \"daraus\", \"Anleitung\", \"Praxis\", \"Geburt\", \"lernen\", \"Kommunikation\", \"Thema\", \"kurz\", \"einfach\", \"bissch\", \"m\\u00f6gen\", \"ganz\", \"finden\", \"eigen\", \"gehen\", \"wirklich\", \"immer\", \"Frage\", \"auffrischen\", \"n\\u00e4chster\", \"Ansicht\"], \"Freq\": [6.0, 10.0, 2.0, 2.0, 2.0, 3.0, 1.0, 1.0, 1.0, 4.0, 4.0, 1.0, 1.0, 1.0, 2.0, 1.0, 1.0, 1.0, 1.0, 1.0, 1.0, 3.0, 2.0, 2.0, 2.0, 2.0, 3.0, 4.0, 3.0, 1.0, 2.0523569208474126, 1.4449509958669193, 1.4449353026711997, 1.444929679276067, 1.4410666683730973, 1.4402604304430113, 1.4357330742545855, 0.8257843938493356, 0.8257608540557564, 0.8257566038152491, 0.8257277021797991, 0.8257151476232235, 0.825704423939482, 0.8256592406134731, 0.825659371390104, 0.8256523748403458, 0.8256395587305083, 0.8256252386894143, 0.8255746281332191, 0.8255684816315624, 0.8255657353223115, 0.8255554039684628, 0.8255182634052601, 0.8255217943742971, 0.8254974699209319, 0.8254639257150816, 0.8254653642580225, 0.8254445053853788, 0.8253601544583868, 0.8250287664754448, 2.0631679633785307, 5.770595739326037, 2.0451642061426716, 3.3091710860449406, 1.448312086060129, 2.0571213750678328, 1.444705920460434, 1.443212189781206, 1.4279496415076391, 1.436189746250021, 1.44148750757164, 1.4375715321331173, 0.8269615143049242, 0.8266052133737775, 0.8262193569240259, 0.8260393428914609, 0.8258553401716505, 2.022416704224047, 1.4167387790855748, 1.4161144589080423, 1.4158066849990314, 1.4141661302162734, 1.4140335563887467, 1.4132670251436623, 1.4128290249399513, 1.4123883065403355, 1.4114601661932895, 0.8095516992254584, 0.80954261798005, 0.8095391584579897, 0.8095352047184922, 0.8095313127561743, 0.8095242701576943, 0.8095205017497357, 0.8095189573202445, 0.8094374114431079, 0.8094256120017949, 0.8094178898543388, 0.809413441897404, 0.8094075112881578, 0.8093955265153059, 0.8093621050611157, 0.809322814774859, 0.8093213938997271, 0.8093176872689481, 0.8092985981204367, 0.8092982892345384, 2.624387257257425, 2.022452534988243, 1.4151512291229558, 1.41319882313733, 2.025897601188547, 1.4135987685983773, 1.4121020310898422, 1.413764949211633, 1.423813007481537, 0.8157674719330185, 0.8212974561692954, 0.8161080495244233, 0.8112702168089333, 0.8108878160669062, 0.8107052027238639, 0.8106218653085174, 0.8099431812128939, 1.3177596402347636, 1.3175803432366102, 1.3139793654607952, 0.7532797948046394, 0.7532797422248745, 0.75327958448558, 0.7532790061081666, 0.7532747471472133, 0.7532725913768543, 0.7532686478944902, 0.7532487727433753, 0.7530854599937377, 0.7530501789715204, 0.7530472870844535, 0.7530307770382891, 0.7530292522251084, 0.7530249406843903, 0.7530240468283877, 0.7529689432348204, 0.7529471226324059, 0.752926511364583, 0.7529216214464516, 0.7529156273532581, 0.7529091074624162, 0.7528713026114859, 0.752870881973367, 0.75286441466229, 0.752847063339888, 0.7528444869314102, 0.7528371257643306, 1.8686410965591966, 2.4511592715988426, 1.8826756873941193, 1.8758011986180023, 1.3387268730657322, 1.3299948463568407, 1.3276008896630223, 3.0075122834135493, 1.3204830617351593, 3.582303967167378, 1.3187647550197192, 0.7645882299913939, 0.7690181803399024, 0.7703985569066236, 0.7609372488592024, 0.7550896428906909, 0.7546580681807664, 0.7542241799611883], \"Total\": [6.0, 10.0, 2.0, 2.0, 2.0, 3.0, 1.0, 1.0, 1.0, 4.0, 4.0, 1.0, 1.0, 1.0, 2.0, 1.0, 1.0, 1.0, 1.0, 1.0, 1.0, 3.0, 2.0, 2.0, 2.0, 2.0, 3.0, 4.0, 3.0, 1.0, 2.454746787713795, 1.8362037759901495, 1.8362076893404708, 1.8362041010103305, 1.8359652265501305, 1.835778665670786, 1.8356429672954078, 1.2167176622633336, 1.2167189013334976, 1.2167165821877577, 1.2167144217815271, 1.216712437136798, 1.216713270491658, 1.2167120201177106, 1.216712805419489, 1.2167105274909567, 1.216709558067295, 1.216708902643637, 1.2167061013066187, 1.2167001616691646, 1.2167033607647806, 1.216704837325862, 1.2166950720967808, 1.2167103043547247, 1.2167015597722453, 1.216691474965824, 1.2166984909832386, 1.2167074261544777, 1.2166771881666874, 1.2166484385901133, 3.062867664426574, 10.776712713974952, 3.626267965773159, 6.52032254470576, 2.4015072341500305, 4.276814410785236, 2.9661919653921984, 3.0501253387175957, 3.0069110030604356, 3.049611023228155, 3.53173281826758, 3.6570647904617326, 1.8239294117182387, 2.3894288946988933, 1.8238929793785736, 4.690963563701937, 1.823848750683547, 2.418800424248658, 1.8116617904837369, 1.811628038409757, 1.8116057254853213, 1.8114871740648912, 1.8114835863849368, 1.8114272305613386, 1.8113904742588531, 1.8113592616430676, 1.8112946623729826, 1.204443368718204, 1.2044434483901543, 1.2044434205708634, 1.2044433945162274, 1.2044424439032448, 1.2044427266655304, 1.2044430533138502, 1.2044428804930907, 1.2044402088987431, 1.2044405061211745, 1.2044411862619098, 1.204438771651709, 1.204440602720985, 1.204440703349221, 1.2044413975758606, 1.204435835580397, 1.2044382089534205, 1.2044382815253767, 1.2044341889518064, 1.2044367769838051, 4.209986117200553, 3.6570647904617326, 2.3765643392097036, 2.4308329825824595, 4.276814410785236, 3.049611023228155, 3.0501253387175957, 4.690963563701937, 10.776712713974952, 1.7699742013464983, 3.518773215845563, 2.3894288946988933, 1.8236937482677702, 3.062867664426574, 3.626267965773159, 1.8234637902142965, 3.0069110030604356, 1.7272970217690216, 1.7273131549347043, 1.7275960231094456, 1.1622433078327201, 1.1622432462920074, 1.162243246345971, 1.1622433452940197, 1.1622436216661103, 1.1622437669686498, 1.1622442231040928, 1.162245759961507, 1.1622592748718097, 1.1622629140073988, 1.1622620632987788, 1.1622635052174297, 1.1622642450111118, 1.1622644998258107, 1.1622645181528837, 1.1622678669162985, 1.162270401963338, 1.1622721926535837, 1.1622718071327287, 1.1622721873969226, 1.1622732289253033, 1.1622765543681277, 1.1622763006615537, 1.162277421312948, 1.1622773288417942, 1.1622790203722138, 1.1622782017452924, 2.912837449824699, 4.690963563701937, 3.518773215845563, 3.53173281826758, 2.344690432576143, 2.3455673998368125, 2.3457866400237175, 6.52032254470576, 2.3465237858061623, 10.776712713974952, 2.9661919653921984, 1.78053810547086, 3.0069110030604356, 3.626267965773159, 4.209986117200553, 1.7815525332184579, 2.3765643392097036, 1.781636278353179], \"Category\": [\"Default\", \"Default\", \"Default\", \"Default\", \"Default\", \"Default\", \"Default\", \"Default\", \"Default\", \"Default\", \"Default\", \"Default\", \"Default\", \"Default\", \"Default\", \"Default\", \"Default\", \"Default\", \"Default\", \"Default\", \"Default\", \"Default\", \"Default\", \"Default\", \"Default\", \"Default\", \"Default\", \"Default\", \"Default\", \"Default\", \"Topic1\", \"Topic1\", \"Topic1\", \"Topic1\", \"Topic1\", \"Topic1\", \"Topic1\", \"Topic1\", \"Topic1\", \"Topic1\", \"Topic1\", \"Topic1\", \"Topic1\", \"Topic1\", \"Topic1\", \"Topic1\", \"Topic1\", \"Topic1\", \"Topic1\", \"Topic1\", \"Topic1\", \"Topic1\", \"Topic1\", \"Topic1\", \"Topic1\", \"Topic1\", \"Topic1\", \"Topic1\", \"Topic1\", \"Topic1\", \"Topic1\", \"Topic1\", \"Topic1\", \"Topic1\", \"Topic1\", \"Topic1\", \"Topic1\", \"Topic1\", \"Topic1\", \"Topic1\", \"Topic1\", \"Topic1\", \"Topic1\", \"Topic1\", \"Topic1\", \"Topic1\", \"Topic1\", \"Topic2\", \"Topic2\", \"Topic2\", \"Topic2\", \"Topic2\", \"Topic2\", \"Topic2\", \"Topic2\", \"Topic2\", \"Topic2\", \"Topic2\", \"Topic2\", \"Topic2\", \"Topic2\", \"Topic2\", \"Topic2\", \"Topic2\", \"Topic2\", \"Topic2\", \"Topic2\", \"Topic2\", \"Topic2\", \"Topic2\", \"Topic2\", \"Topic2\", \"Topic2\", \"Topic2\", \"Topic2\", \"Topic2\", \"Topic2\", \"Topic2\", \"Topic2\", \"Topic2\", \"Topic2\", \"Topic2\", \"Topic2\", \"Topic2\", \"Topic2\", \"Topic2\", \"Topic2\", \"Topic2\", \"Topic2\", \"Topic2\", \"Topic2\", \"Topic2\", \"Topic2\", \"Topic2\", \"Topic3\", \"Topic3\", \"Topic3\", \"Topic3\", \"Topic3\", \"Topic3\", \"Topic3\", \"Topic3\", \"Topic3\", \"Topic3\", \"Topic3\", \"Topic3\", \"Topic3\", \"Topic3\", \"Topic3\", \"Topic3\", \"Topic3\", \"Topic3\", \"Topic3\", \"Topic3\", \"Topic3\", \"Topic3\", \"Topic3\", \"Topic3\", \"Topic3\", \"Topic3\", \"Topic3\", \"Topic3\", \"Topic3\", \"Topic3\", \"Topic3\", \"Topic3\", \"Topic3\", \"Topic3\", \"Topic3\", \"Topic3\", \"Topic3\", \"Topic3\", \"Topic3\", \"Topic3\", \"Topic3\", \"Topic3\", \"Topic3\", \"Topic3\", \"Topic3\", \"Topic3\", \"Topic3\", \"Topic3\"], \"logprob\": [30.0, 29.0, 28.0, 27.0, 26.0, 25.0, 24.0, 23.0, 22.0, 21.0, 20.0, 19.0, 18.0, 17.0, 16.0, 15.0, 14.0, 13.0, 12.0, 11.0, 10.0, 9.0, 8.0, 7.0, 6.0, 5.0, 4.0, 3.0, 2.0, 1.0, -4.2257, -4.5766, -4.5766, -4.5766, -4.5793, -4.5798, -4.583, -5.1361, -5.1361, -5.1361, -5.1361, -5.1361, -5.1362, -5.1362, -5.1362, -5.1362, -5.1362, -5.1363, -5.1363, -5.1363, -5.1363, -5.1363, -5.1364, -5.1364, -5.1364, -5.1365, -5.1364, -5.1365, -5.1366, -5.137, -4.2204, -3.1919, -4.2292, -3.7479, -4.5742, -4.2233, -4.5767, -4.5778, -4.5884, -4.5826, -4.579, -4.5817, -5.1346, -5.1351, -5.1355, -5.1358, -5.136, -4.1835, -4.5395, -4.5399, -4.5401, -4.5413, -4.5414, -4.5419, -4.5422, -4.5425, -4.5432, -5.0991, -5.0991, -5.0991, -5.0991, -5.0991, -5.0991, -5.0991, -5.0991, -5.0992, -5.0993, -5.0993, -5.0993, -5.0993, -5.0993, -5.0993, -5.0994, -5.0994, -5.0994, -5.0994, -5.0994, -3.923, -4.1835, -4.5406, -4.542, -4.1818, -4.5417, -4.5428, -4.5416, -4.5345, -5.0915, -5.0847, -5.091, -5.097, -5.0975, -5.0977, -5.0978, -5.0986, -4.4507, -4.4508, -4.4536, -5.0099, -5.0099, -5.0099, -5.0099, -5.01, -5.01, -5.01, -5.01, -5.0102, -5.0103, -5.0103, -5.0103, -5.0103, -5.0103, -5.0103, -5.0104, -5.0104, -5.0104, -5.0104, -5.0104, -5.0104, -5.0105, -5.0105, -5.0105, -5.0105, -5.0105, -5.0105, -4.1014, -3.8301, -4.0939, -4.0976, -4.4349, -4.4415, -4.4433, -3.6255, -4.4486, -3.4506, -4.4499, -4.995, -4.9893, -4.9875, -4.9998, -5.0075, -5.0081, -5.0087], \"loglift\": [30.0, 29.0, 28.0, 27.0, 26.0, 25.0, 24.0, 23.0, 22.0, 21.0, 20.0, 19.0, 18.0, 17.0, 16.0, 15.0, 14.0, 13.0, 12.0, 11.0, 10.0, 9.0, 8.0, 7.0, 6.0, 5.0, 4.0, 3.0, 2.0, 1.0, 0.8322, 0.7716, 0.7716, 0.7716, 0.769, 0.7686, 0.7655, 0.6236, 0.6236, 0.6236, 0.6236, 0.6235, 0.6235, 0.6235, 0.6235, 0.6235, 0.6234, 0.6234, 0.6234, 0.6234, 0.6234, 0.6234, 0.6233, 0.6233, 0.6233, 0.6233, 0.6232, 0.6232, 0.6231, 0.6228, 0.6161, 0.3866, 0.4385, 0.333, 0.5055, 0.2793, 0.2918, 0.2629, 0.2665, 0.2582, 0.1151, 0.0775, 0.2202, -0.0503, 0.2193, -0.7256, 0.2189, 0.889, 0.8221, 0.8217, 0.8215, 0.8204, 0.8203, 0.8198, 0.8195, 0.8192, 0.8186, 0.6707, 0.6707, 0.6707, 0.6707, 0.6707, 0.6707, 0.6707, 0.6707, 0.6706, 0.6706, 0.6706, 0.6705, 0.6705, 0.6705, 0.6705, 0.6704, 0.6704, 0.6704, 0.6704, 0.6704, 0.5954, 0.4757, 0.5496, 0.5256, 0.3208, 0.2991, 0.2979, -0.1314, -0.956, 0.2934, -0.387, -0.0063, 0.258, -0.261, -0.43, 0.2573, -0.2437, 0.9586, 0.9584, 0.9555, 0.7955, 0.7955, 0.7955, 0.7955, 0.7955, 0.7955, 0.7955, 0.7955, 0.7953, 0.7952, 0.7952, 0.7952, 0.7952, 0.7952, 0.7952, 0.7951, 0.7951, 0.795, 0.795, 0.795, 0.795, 0.795, 0.795, 0.795, 0.7949, 0.7949, 0.7949, 0.7853, 0.5801, 0.6038, 0.5965, 0.6688, 0.6619, 0.66, 0.4554, 0.6543, 0.1278, 0.4186, 0.3839, -0.1343, -0.3198, -0.4815, 0.3708, 0.0821, 0.3696]}, \"token.table\": {\"Topic\": [2, 2, 3, 1, 3, 1, 2, 1, 3, 3, 3, 1, 1, 2, 3, 1, 3, 1, 3, 2, 1, 2, 1, 1, 2, 1, 2, 3, 1, 2, 3, 1, 3, 1, 2, 1, 3, 1, 1, 1, 2, 3, 2, 1, 3, 3, 3, 3, 2, 3, 1, 2, 1, 3, 2, 1, 2, 3, 3, 1, 1, 3, 2, 1, 3, 3, 2, 3, 1, 2, 2, 2, 2, 3, 1, 3, 1, 3, 1, 1, 1, 1, 1, 2, 3, 2, 1, 1, 3, 2, 3, 1, 3, 1, 1, 2, 2, 2, 1, 1, 2, 3, 2, 3, 2, 3, 1, 3, 3, 2, 1, 2, 3, 3, 2, 1, 3, 1, 1, 3, 2, 1, 2, 1, 2, 1, 1, 1, 1, 2, 3, 1, 2, 3, 3, 2, 2, 1, 1, 2, 2, 2, 2, 3, 1, 2, 1, 2, 3, 3, 1, 2, 1, 2, 3, 1, 1, 2, 3, 3, 3], \"Freq\": [0.8302590441128194, 0.551996489044052, 0.8603786031341728, 0.561281790312628, 0.561281790312628, 0.5446007038338784, 0.830260548548318, 0.41640515830214925, 0.41640515830214925, 0.8603911558136552, 0.8603797868415666, 0.8218930203097591, 0.2375304744864465, 0.7125914234593396, 0.2375304744864465, 0.8218883298850208, 0.8604032249023816, 0.3433078629431183, 0.6866157258862366, 0.8302625508826711, 0.6529828314911664, 0.3264914157455832, 0.8218951813305603, 0.821884089228008, 0.8302594866992763, 0.28418995446960044, 0.28418995446960044, 0.5683799089392009, 0.46763778081097374, 0.46763778081097374, 0.5789338181922211, 0.8219301223604317, 0.8603893385554255, 0.5482668318057039, 0.5482668318057039, 0.821886326263141, 0.8603792091242757, 0.8218892767425495, 0.8219010493421015, 0.4185100474086366, 0.4185100474086366, 0.4185100474086366, 0.5520912862901595, 0.2831471267666646, 0.5662942535333292, 0.8603905260575441, 0.8603828902818752, 0.8603932200156407, 0.8302653720501565, 0.8603895407540817, 0.8218866404181779, 0.8302590263294661, 0.5613081743895889, 0.5613081743895889, 0.8302626009091291, 0.8218881791564285, 0.8302604028827529, 0.8603806164083463, 0.8603893521224046, 0.5446726253519787, 0.8218902741151153, 0.8604050124692466, 0.8302622130211305, 0.42629622956241636, 0.42629622956241636, 0.8603868595740982, 0.5520620839132762, 0.860379855293656, 0.5482777834589364, 0.5482777834589364, 0.830258989192551, 0.5520715968255293, 0.8302593806612123, 0.8604050857201753, 0.3371325968337242, 0.3371325968337242, 0.4263360754713647, 0.4263360754713647, 0.8218986194105797, 0.8218871708880259, 0.8218833596446721, 0.8218963098999817, 0.5567560497571176, 0.0927926749595196, 0.3711706998380784, 0.8302592615305848, 0.5446017680985312, 0.4261623112660859, 0.4261623112660859, 0.8268561473488462, 0.8603839427775111, 0.5616279690546425, 0.5616279690546425, 0.544727977669685, 0.8147479854175431, 0.5520508818287514, 0.830259008369223, 0.8302642369637874, 0.821891169055618, 0.5515312213209755, 0.27576561066048777, 0.27576561066048777, 0.5649799862841252, 0.5649799862841252, 0.5519794065607506, 0.5789392255049708, 0.4264955348076746, 0.4264955348076746, 0.860404362629762, 0.8302596816160789, 0.2131758190871209, 0.2131758190871209, 0.4263516381742418, 0.8603836612830298, 0.8302612222771364, 0.8218825226632229, 0.8604048078719251, 0.8218920228819445, 0.4600999382209826, 0.4600999382209826, 0.8302608814359003, 0.5482910793042555, 0.5482910793042555, 0.4113816157528123, 0.4113816157528123, 0.8218888340028072, 0.5446018644966367, 0.5447682462311154, 0.8219107004930529, 0.42077547975517354, 0.42077547975517354, 0.27344333701939755, 0.5468866740387951, 0.8603804286008768, 0.860384982970205, 0.5520326140405661, 0.8302609508022831, 0.8218855485708706, 0.5484068317487557, 0.5484068317487557, 0.5520337073523458, 0.8302610173917495, 0.5519896903769483, 0.8603900884016191, 0.3278553793531787, 0.3278553793531787, 0.5483376805726548, 0.5483376805726548, 0.5788390263831075, 0.8604050857601244, 0.3279106720113615, 0.3279106720113615, 0.3325672090002662, 0.3325672090002662, 0.3325672090002662, 0.821894236896672, 0.8218868891923453, 0.8302635880184901, 0.8604050402017273, 0.8604047003049867, 0.8603836573917336], \"Term\": [\"Abschlussfrag\", \"Alltag\", \"Anleitung\", \"Ansicht\", \"Ansicht\", \"Aufforderung\", \"Aufmerksamkeit\", \"Beispiel\", \"Beispiel\", \"Beruf\", \"Dialog\", \"Einf\\u00fchrung\", \"Frage\", \"Frage\", \"Frage\", \"F\\u00fchle\", \"F\\u00fclle\", \"Geburt\", \"Geburt\", \"Gef\\u00fchl\", \"Idee\", \"Idee\", \"Information\", \"Kannte\", \"Kleinigkeit\", \"Kommunikation\", \"Kommunikation\", \"Kommunikation\", \"Lektion\", \"Lektion\", \"Modell\", \"M\\u00f6glichkeit\", \"Ohr\", \"Person\", \"Person\", \"Perspektive\", \"Praxis\", \"Prozentsatz\", \"Reflexion\", \"Situation\", \"Situation\", \"Situation\", \"Termin\", \"Thema\", \"Thema\", \"Unterhaltung\", \"Vorfeld\", \"Vorstellung\", \"Wann\", \"Wiederholung\", \"Wort\", \"Zusammenfassung\", \"auffrischen\", \"auffrischen\", \"ausdr\\u00fccken\", \"ausw\\u00e4hlen\", \"bed\\u00fcrfnisse\", \"bed\\u00fcrfni\\u00df\", \"beispiel\", \"besch\\u00e4ftigen\", \"best\\u00e4tigen\", \"beurteilen\", \"bild\", \"bissch\", \"bissch\", \"bringen\", \"daran\", \"daraus\", \"dar\\u00fcber\", \"dar\\u00fcber\", \"dazwischen\", \"denken\", \"durchgegangen\", \"durchgeklickt\", \"eigen\", \"eigen\", \"einfach\", \"einfach\", \"erhalten\", \"erm\\u00e4chtigen\", \"fachbegriffen\", \"fallen\", \"finden\", \"finden\", \"finden\", \"folgen\", \"f\\u00e4llen\", \"ganz\", \"ganz\", \"geben\", \"gefall\", \"gehen\", \"gehen\", \"gerade\", \"glauben\", \"gut\", \"herumdrehen\", \"hineinversetzen\", \"hineinversetzt\", \"immer\", \"immer\", \"immer\", \"integrieren\", \"integrieren\", \"kommen\", \"konkret\", \"kurz\", \"kurz\", \"lektion\", \"lektionen\", \"lernen\", \"lernen\", \"lernen\", \"lesen\", \"meinung\", \"melden\", \"merken\", \"m\\u00e4nnlich\", \"m\\u00f6gen\", \"m\\u00f6gen\", \"nachdenken\", \"nachfragen\", \"nachfragen\", \"nehmen\", \"nehmen\", \"neuerdings\", \"neutral\", \"nie\", \"nutz\", \"n\\u00e4chster\", \"n\\u00e4chster\", \"pers\\u00f6nlich\", \"pers\\u00f6nlich\", \"praktisch\", \"priorisier\", \"sagen\", \"schenken\", \"sehen\", \"spannend\", \"spannend\", \"stellen\", \"teilhaben\", \"total\", \"verschieden\", \"verstehen\", \"verstehen\", \"vielleicht\", \"vielleicht\", \"vorher\", \"warum\", \"wichtig\", \"wichtig\", \"wirklich\", \"wirklich\", \"wirklich\", \"w\\u00e4hlen\", \"w\\u00fcnschen\", \"zur\\u00fcckzuschau\", \"zwischenfragen\", \"\\u00e4ndern\", \"\\u00fcberlegen\"]}, \"R\": 30, \"lambda.step\": 0.01, \"plot.opts\": {\"xlab\": \"PC1\", \"ylab\": \"PC2\"}, \"topic.order\": [2, 3, 1]};\n",
       "\n",
       "function LDAvis_load_lib(url, callback){\n",
       "  var s = document.createElement('script');\n",
       "  s.src = url;\n",
       "  s.async = true;\n",
       "  s.onreadystatechange = s.onload = callback;\n",
       "  s.onerror = function(){console.warn(\"failed to load library \" + url);};\n",
       "  document.getElementsByTagName(\"head\")[0].appendChild(s);\n",
       "}\n",
       "\n",
       "if(typeof(LDAvis) !== \"undefined\"){\n",
       "   // already loaded: just create the visualization\n",
       "   !function(LDAvis){\n",
       "       new LDAvis(\"#\" + \"ldavis_el9188823061815877762883843385\", ldavis_el9188823061815877762883843385_data);\n",
       "   }(LDAvis);\n",
       "}else if(typeof define === \"function\" && define.amd){\n",
       "   // require.js is available: use it to load d3/LDAvis\n",
       "   require.config({paths: {d3: \"https://d3js.org/d3.v5\"}});\n",
       "   require([\"d3\"], function(d3){\n",
       "      window.d3 = d3;\n",
       "      LDAvis_load_lib(\"https://cdn.jsdelivr.net/gh/bmabey/pyLDAvis@3.4.0/pyLDAvis/js/ldavis.v3.0.0.js\", function(){\n",
       "        new LDAvis(\"#\" + \"ldavis_el9188823061815877762883843385\", ldavis_el9188823061815877762883843385_data);\n",
       "      });\n",
       "    });\n",
       "}else{\n",
       "    // require.js not available: dynamically load d3 & LDAvis\n",
       "    LDAvis_load_lib(\"https://d3js.org/d3.v5.js\", function(){\n",
       "         LDAvis_load_lib(\"https://cdn.jsdelivr.net/gh/bmabey/pyLDAvis@3.4.0/pyLDAvis/js/ldavis.v3.0.0.js\", function(){\n",
       "                 new LDAvis(\"#\" + \"ldavis_el9188823061815877762883843385\", ldavis_el9188823061815877762883843385_data);\n",
       "            })\n",
       "         });\n",
       "}\n",
       "</script>"
      ],
      "text/plain": [
       "PreparedData(topic_coordinates=              x         y  topics  cluster       Freq\n",
       "topic                                                \n",
       "1      0.031881 -0.076899       1        1  36.378325\n",
       "2     -0.105245  0.017861       2        1  34.369296\n",
       "0      0.073365  0.059038       3        1  29.252379, topic_info=            Term       Freq      Total Category  logprob  loglift\n",
       "209        mögen   6.000000   6.000000  Default  30.0000  30.0000\n",
       "4         finden  10.000000  10.000000  Default  29.0000  29.0000\n",
       "109        geben   2.000000   2.000000  Default  28.0000  28.0000\n",
       "7         Geburt   2.000000   2.000000  Default  27.0000  27.0000\n",
       "15       glauben   2.000000   2.000000  Default  26.0000  26.0000\n",
       "..           ...        ...        ...      ...      ...      ...\n",
       "16         immer   0.770399   3.626268   Topic3  -4.9875  -0.3198\n",
       "132        Frage   0.760937   4.209986   Topic3  -4.9998  -0.4815\n",
       "2    auffrischen   0.755090   1.781553   Topic3  -5.0075   0.3708\n",
       "51      nächster   0.754658   2.376564   Topic3  -5.0081   0.0821\n",
       "146      Ansicht   0.754224   1.781636   Topic3  -5.0087   0.3696\n",
       "\n",
       "[172 rows x 6 columns], token_table=      Topic      Freq            Term\n",
       "term                                 \n",
       "41        2  0.830259   Abschlussfrag\n",
       "103       2  0.551996          Alltag\n",
       "130       3  0.860379       Anleitung\n",
       "146       1  0.561282         Ansicht\n",
       "146       3  0.561282         Ansicht\n",
       "...     ...       ...             ...\n",
       "246       1  0.821887        wünschen\n",
       "227       2  0.830264   zurückzuschau\n",
       "154       3  0.860405  zwischenfragen\n",
       "155       3  0.860405          ändern\n",
       "144       3  0.860384       überlegen\n",
       "\n",
       "[161 rows x 3 columns], R=30, lambda_step=0.01, plot_opts={'xlab': 'PC1', 'ylab': 'PC2'}, topic_order=[2, 3, 1])"
      ]
     },
     "execution_count": 24,
     "metadata": {},
     "output_type": "execute_result"
    }
   ],
   "source": [
    "# Visualize the topics\n",
    "pyLDAvis.enable_notebook()\n",
    "vis = pyLDAvis.gensim.prepare(lda_model, corpus, id2word)\n",
    "vis"
   ]
  },
  {
   "cell_type": "code",
   "execution_count": 88,
   "id": "f63c4d5e-8760-4899-80b4-193ec224f1f2",
   "metadata": {
    "tags": []
   },
   "outputs": [],
   "source": [
    "def compute_coherence_values(dictionary, corpus, texts, limit, start=2, step=3):\n",
    "    \"\"\"\n",
    "    Compute c_v coherence for various number of topics\n",
    "\n",
    "    Parameters:\n",
    "    ----------\n",
    "    dictionary : Gensim dictionary\n",
    "    corpus : Gensim corpus\n",
    "    texts : List of input texts\n",
    "    limit : Max num of topics\n",
    "\n",
    "    Returns:\n",
    "    -------\n",
    "    model_list : List of LDA topic models\n",
    "    coherence_values : Coherence values corresponding to the LDA model with respective number of topics\n",
    "    \"\"\"\n",
    "    coherence_values = []\n",
    "    model_list = []\n",
    "    for num_topics in range(start, limit, step):\n",
    "        model = gensim.models.ldamodel.LdaModel(corpus=corpus,id2word=id2word, num_topics=num_topics, random_state=100)\n",
    "        model_list.append(model)\n",
    "        coherencemodel = CoherenceModel(model=model, texts=texts, dictionary=dictionary, coherence='c_v')\n",
    "        coherence_values.append(coherencemodel.get_coherence())\n",
    "\n",
    "    return model_list, coherence_values"
   ]
  },
  {
   "cell_type": "code",
   "execution_count": 92,
   "id": "3fe70221-20f5-484f-ab7a-ed4f5b42edac",
   "metadata": {
    "tags": []
   },
   "outputs": [],
   "source": [
    "model_list, coherence_values = compute_coherence_values(dictionary=id2word, \n",
    "                                                        corpus=corpus, \n",
    "                                                        texts=data_lemmatized, \n",
    "                                                        start=1, \n",
    "                                                        limit=30, \n",
    "                                                        step=1)"
   ]
  },
  {
   "cell_type": "code",
   "execution_count": 93,
   "id": "6c4b2403-3fe8-4f9e-9d2e-d7a2c29a96f0",
   "metadata": {
    "tags": []
   },
   "outputs": [],
   "source": [
    "os.chdir(\"C:\\\\Users\\\\vanandkuma\\\\Documents\\\\projects\\\\sentiment_analysis\")"
   ]
  },
  {
   "cell_type": "code",
   "execution_count": 95,
   "id": "b4ca5c43-51ae-4049-a7f1-6e9a0ff3b094",
   "metadata": {
    "tags": []
   },
   "outputs": [
    {
     "data": {
      "image/png": "[encoded data removed]",
      "text/plain": [
       "<Figure size 640x480 with 1 Axes>"
      ]
     },
     "metadata": {},
     "output_type": "display_data"
    }
   ],
   "source": [
    "# Show graph\n",
    "limit=30; start=1; step=1;\n",
    "x = range(start, limit, step)\n",
    "plt.title(\"LDA Diagnostics \\n Optimum topics for version two feedback\")\n",
    "plt.plot(x, coherence_values)\n",
    "plt.xlabel(\"Num Topics\")\n",
    "plt.ylabel(\"Coherence score\")\n",
    "plt.savefig('output/app_v1_lda_topic_coherence.png')"
   ]
  },
  {
   "cell_type": "code",
   "execution_count": 96,
   "id": "9a34f105-39c7-461f-b019-9a0e780eb0a0",
   "metadata": {
    "tags": []
   },
   "outputs": [
    {
     "name": "stdout",
     "output_type": "stream",
     "text": [
      "Num Topics = 1  has Coherence Value of 0.4002\n",
      "Num Topics = 2  has Coherence Value of 0.4579\n",
      "Num Topics = 3  has Coherence Value of 0.4827\n",
      "Num Topics = 4  has Coherence Value of 0.4363\n",
      "Num Topics = 5  has Coherence Value of 0.4682\n",
      "Num Topics = 6  has Coherence Value of 0.4489\n",
      "Num Topics = 7  has Coherence Value of 0.5268\n",
      "Num Topics = 8  has Coherence Value of 0.4545\n",
      "Num Topics = 9  has Coherence Value of 0.5646\n",
      "Num Topics = 10  has Coherence Value of 0.5029\n",
      "Num Topics = 11  has Coherence Value of 0.5246\n",
      "Num Topics = 12  has Coherence Value of 0.536\n",
      "Num Topics = 13  has Coherence Value of 0.5396\n",
      "Num Topics = 14  has Coherence Value of 0.5827\n",
      "Num Topics = 15  has Coherence Value of 0.5628\n",
      "Num Topics = 16  has Coherence Value of 0.6197\n",
      "Num Topics = 17  has Coherence Value of 0.5938\n",
      "Num Topics = 18  has Coherence Value of 0.5249\n",
      "Num Topics = 19  has Coherence Value of 0.6164\n",
      "Num Topics = 20  has Coherence Value of 0.4659\n",
      "Num Topics = 21  has Coherence Value of 0.5706\n",
      "Num Topics = 22  has Coherence Value of 0.5514\n",
      "Num Topics = 23  has Coherence Value of 0.5675\n",
      "Num Topics = 24  has Coherence Value of 0.5538\n",
      "Num Topics = 25  has Coherence Value of 0.5556\n",
      "Num Topics = 26  has Coherence Value of 0.4996\n",
      "Num Topics = 27  has Coherence Value of 0.5722\n",
      "Num Topics = 28  has Coherence Value of 0.5948\n",
      "Num Topics = 29  has Coherence Value of 0.5669\n"
     ]
    }
   ],
   "source": [
    "# Print the coherence scores\n",
    "for m, cv in zip(x, coherence_values):\n",
    "    print(\"Num Topics =\", m, \" has Coherence Value of\", round(cv, 4))"
   ]
  },
  {
   "cell_type": "code",
   "execution_count": 30,
   "id": "2122fe83-34f8-42c5-8652-d42471f3ca87",
   "metadata": {
    "tags": []
   },
   "outputs": [
    {
     "name": "stdout",
     "output_type": "stream",
     "text": [
      "[(0,\n",
      "  '0.056*\"lernen\" + 0.029*\"mögen\" + 0.029*\"uber\" + 0.026*\"Frage\" + '\n",
      "  '0.020*\"geben\" + 0.019*\"stellen\" + 0.019*\"fur\" + 0.015*\"personlich\" + '\n",
      "  '0.015*\"Person\" + 0.015*\"hineinversetzen\"'),\n",
      " (1,\n",
      "  '0.052*\"finden\" + 0.041*\"gut\" + 0.029*\"Lektion\" + 0.020*\"einfach\" + '\n",
      "  '0.020*\"eigen\" + 0.016*\"Kommunikation\" + 0.013*\"Klicke\" + 0.013*\"personlich\" '\n",
      "  '+ 0.012*\"kurz\" + 0.011*\"mögen\"'),\n",
      " (2,\n",
      "  '0.055*\"gut\" + 0.055*\"finden\" + 0.035*\"Beispiel\" + 0.021*\"immer\" + '\n",
      "  '0.018*\"geben\" + 0.018*\"Alltag\" + 0.013*\"personlich\" + 0.013*\"wichtig\" + '\n",
      "  '0.013*\"mögen\" + 0.013*\"wirklich\"'),\n",
      " (3,\n",
      "  '0.027*\"Thema\" + 0.024*\"nie\" + 0.024*\"bissch\" + 0.024*\"mögen\" + '\n",
      "  '0.023*\"Geburt\" + 0.020*\"Seite\" + 0.020*\"finden\" + 0.017*\"Kommunikation\" + '\n",
      "  '0.016*\"fur\" + 0.014*\"spannend\"'),\n",
      " (4,\n",
      "  '0.051*\"Lektion\" + 0.039*\"gut\" + 0.039*\"Idee\" + 0.026*\"mögen\" + '\n",
      "  '0.026*\"finden\" + 0.026*\"kommen\" + 0.014*\"total\" + 0.014*\"folgen\" + '\n",
      "  '0.014*\"dazwischen\" + 0.014*\"Kleinigkeit\"'),\n",
      " (5,\n",
      "  '0.077*\"mögen\" + 0.028*\"neutral\" + 0.028*\"Aufforderung\" + 0.028*\"Fuhl\" + '\n",
      "  '0.028*\"bestatigen\" + 0.028*\"Dialog\" + 0.028*\"Erklarung\" + 0.003*\"gut\" + '\n",
      "  '0.003*\"finden\" + 0.003*\"lernen\"'),\n",
      " (6,\n",
      "  '0.057*\"gut\" + 0.038*\"Frage\" + 0.031*\"finden\" + 0.021*\"fallen\" + '\n",
      "  '0.017*\"nehmen\" + 0.016*\"wirklich\" + 0.016*\"nachst\" + 0.016*\"wichtig\" + '\n",
      "  '0.012*\"Termin\" + 0.012*\"Thema\"'),\n",
      " (7,\n",
      "  '0.033*\"gut\" + 0.033*\"verstehen\" + 0.027*\"auffrischen\" + 0.014*\"finden\" + '\n",
      "  '0.014*\"glauben\" + 0.014*\"lernen\" + 0.014*\"immer\" + 0.014*\"gerade\" + '\n",
      "  '0.014*\"klar\" + 0.014*\"Geburt\"')]\n"
     ]
    }
   ],
   "source": [
    "# Select the model and print the topics\n",
    "optimal_model = model_list[7]\n",
    "model_topics = optimal_model.show_topics(formatted=False)\n",
    "pprint(optimal_model.print_topics(num_words=10))"
   ]
  },
  {
   "cell_type": "code",
   "execution_count": 25,
   "id": "327e34e1-f90a-42ce-bb0e-960995f33845",
   "metadata": {},
   "outputs": [],
   "source": [
    "pyLDAvis.save_html(vis, 'output/ldavis_app_v1_strengths.html')"
   ]
  }
 ],
 "metadata": {
  "kernelspec": {
   "display_name": "Python 3 (ipykernel)",
   "language": "python",
   "name": "python3"
  },
  "language_info": {
   "codemirror_mode": {
    "name": "ipython",
    "version": 3
   },
   "file_extension": ".py",
   "mimetype": "text/x-python",
   "name": "python",
   "nbconvert_exporter": "python",
   "pygments_lexer": "ipython3",
   "version": "3.10.2"
  }
 },
 "nbformat": 4,
 "nbformat_minor": 5
}
