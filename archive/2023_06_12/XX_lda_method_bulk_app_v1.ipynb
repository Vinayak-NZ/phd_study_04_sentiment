{
 "cells": [
  {
   "cell_type": "code",
   "execution_count": 1,
   "id": "a63cbda1-339d-48d7-aa2f-87f55fce9cc3",
   "metadata": {
    "tags": []
   },
   "outputs": [],
   "source": [
    "import os\n",
    "import re\n",
    "import numpy as np\n",
    "import pandas as pd\n",
    "from pprint import pprint\n",
    "\n",
    "# reading docfiles\n",
    "import docx2txt\n",
    "\n",
    "#nltk\n",
    "import nltk\n",
    "\n",
    "# Gensim\n",
    "import gensim\n",
    "import gensim.corpora as corpora\n",
    "from gensim.utils import simple_preprocess\n",
    "from gensim.models import CoherenceModel\n",
    "\n",
    "# spacy for lemmatization\n",
    "import spacy\n",
    "\n",
    "# Plotting tools\n",
    "import pyLDAvis\n",
    "import pyLDAvis.gensim  # don't skip this\n",
    "import matplotlib.pyplot as plt\n",
    "%matplotlib inline\n",
    "\n",
    "# Enable logging for gensim - optional\n",
    "import logging\n",
    "logging.basicConfig(format='%(asctime)s : %(levelname)s : %(message)s', level=logging.ERROR)\n",
    "\n",
    "import warnings\n",
    "warnings.filterwarnings(\"ignore\",category=DeprecationWarning)"
   ]
  },
  {
   "cell_type": "code",
   "execution_count": 2,
   "id": "2d89047e-92e5-4a22-a426-396eba7086f7",
   "metadata": {
    "tags": []
   },
   "outputs": [],
   "source": [
    "# NLTK Stop words\n",
    "from nltk.corpus import stopwords\n",
    "stop_words = stopwords.words('german')\n",
    "stop_words.extend(['ja', 'ne', 'ok', 'okay', 'genau', 'also', 'mhm'])"
   ]
  },
  {
   "cell_type": "code",
   "execution_count": 3,
   "id": "71eefb79-2cc4-4756-8109-42fbabdce728",
   "metadata": {
    "tags": []
   },
   "outputs": [],
   "source": [
    "os.chdir('input/app_v1')\n",
    "\n",
    "path_v1 = (\"C:\\\\Users\\\\vanandkuma\\\\Documents\\\\projects\\\\sentiment_analysis\\\\input\\\\app_v1\")"
   ]
  },
  {
   "cell_type": "code",
   "execution_count": 4,
   "id": "4e54db31-d479-4ca3-96b2-4a31179017a5",
   "metadata": {
    "tags": []
   },
   "outputs": [],
   "source": [
    "files = []\n",
    "for file in os.listdir(path_v1):\n",
    "    if file.endswith('.docx'):\n",
    "        files.append(file)"
   ]
  },
  {
   "cell_type": "code",
   "execution_count": 5,
   "id": "ef7dc0e7-161b-4509-af81-f3c8a185c24a",
   "metadata": {
    "tags": []
   },
   "outputs": [],
   "source": [
    "pooled_doc = []\n",
    "for i in range(len(files)):\n",
    "    text = docx2txt.process(files[i])\n",
    "    pooled_doc.append(text) "
   ]
  },
  {
   "cell_type": "code",
   "execution_count": 6,
   "id": "e52c4d85-1d9c-4a47-a356-a4135157be52",
   "metadata": {
    "tags": []
   },
   "outputs": [],
   "source": [
    "df = []\n",
    "for i in range(len(pooled_doc)):\n",
    "    sentence = nltk.tokenize.sent_tokenize(pooled_doc[i])\n",
    "    for i in range(len(sentence)):\n",
    "        df.append(sentence[i])"
   ]
  },
  {
   "cell_type": "code",
   "execution_count": 7,
   "id": "babf492c-673b-485c-ab49-f7b07894408b",
   "metadata": {
    "tags": []
   },
   "outputs": [],
   "source": [
    "for i in range(len(df)):\n",
    "    df[i] = df[i].replace('\\n', '')"
   ]
  },
  {
   "cell_type": "code",
   "execution_count": null,
   "id": "a9d24eee-0c49-44ce-88f2-e37fc6965c77",
   "metadata": {
    "tags": []
   },
   "outputs": [],
   "source": [
    "print(df)"
   ]
  },
  {
   "cell_type": "code",
   "execution_count": 9,
   "id": "ddc0b241-52f7-44e5-9dd0-76e85a96bf63",
   "metadata": {
    "tags": []
   },
   "outputs": [],
   "source": [
    "df = pd.DataFrame(df, columns=['text'])"
   ]
  },
  {
   "cell_type": "code",
   "execution_count": 10,
   "id": "05e89057-8e52-4c9e-a731-27ecc6f42288",
   "metadata": {
    "tags": []
   },
   "outputs": [],
   "source": [
    "df['text_processed'] = \\\n",
    "df['text'].map(lambda x: re.sub('[,.!?]', '', x))"
   ]
  },
  {
   "cell_type": "code",
   "execution_count": 11,
   "id": "5ad76250-8312-497a-ad8e-db6d042bb810",
   "metadata": {
    "tags": []
   },
   "outputs": [],
   "source": [
    "df['text_processed'] = \\\n",
    "df['text_processed'].map(lambda x: x.lower())"
   ]
  },
  {
   "cell_type": "code",
   "execution_count": 12,
   "id": "5b44e8a0-4384-4e5c-bbc1-7f5b25d2f48e",
   "metadata": {
    "tags": []
   },
   "outputs": [],
   "source": [
    "def sent_to_words(sentences):\n",
    "    for sentence in sentences:\n",
    "        yield(gensim.utils.simple_preprocess(str(sentence), \n",
    "                                             deacc = True))"
   ]
  },
  {
   "cell_type": "code",
   "execution_count": 13,
   "id": "2f4157ac-13ef-43d3-b5f8-ca0a5866d165",
   "metadata": {
    "tags": []
   },
   "outputs": [],
   "source": [
    "data = df.text_processed.values.tolist()\n",
    "data_words = list(sent_to_words(data))"
   ]
  },
  {
   "cell_type": "code",
   "execution_count": 14,
   "id": "f93b643c-d637-46ef-ae5a-581618d51d3c",
   "metadata": {
    "tags": []
   },
   "outputs": [
    {
     "name": "stdout",
     "output_type": "stream",
     "text": [
      "['ich', 'finde', 'den', 'inhalt', 'und', 'den', 'aufbau', 'der_app', 'gut', 'und', 'selbsterklarend']\n"
     ]
    }
   ],
   "source": [
    "# Build the bigram and trigram models\n",
    "bigram = gensim.models.Phrases(data_words, min_count=3, threshold=10) # higher threshold fewer phrases.\n",
    "trigram = gensim.models.Phrases(bigram[data_words], threshold=10)  \n",
    "\n",
    "# Faster way to get a sentence clubbed as a trigram/bigram\n",
    "bigram_mod = gensim.models.phrases.Phraser(bigram)\n",
    "trigram_mod = gensim.models.phrases.Phraser(trigram)\n",
    "\n",
    "# See trigram example\n",
    "print(trigram_mod[bigram_mod[data_words[0]]])"
   ]
  },
  {
   "cell_type": "code",
   "execution_count": 15,
   "id": "2af4afc7-6a3d-48b7-82ff-90eed9de2196",
   "metadata": {
    "tags": []
   },
   "outputs": [],
   "source": [
    "# Define functions for stopwords, bigrams, trigrams and lemmatization\n",
    "def remove_stopwords(texts):\n",
    "    return [[word for word in simple_preprocess(str(doc)) if word not in stop_words] for doc in texts]\n",
    "\n",
    "def make_bigrams(texts):\n",
    "    return [bigram_mod[doc] for doc in texts]\n",
    "\n",
    "def make_trigrams(texts):\n",
    "    return [trigram_mod[bigram_mod[doc]] for doc in texts]\n",
    "\n",
    "def lemmatization(texts, allowed_postags=['NOUN', 'ADJ', 'VERB', 'ADV']):\n",
    "    \"\"\"https://spacy.io/api/annotation\"\"\"\n",
    "    texts_out = []\n",
    "    for sent in texts:\n",
    "        doc = nlp(\" \".join(sent)) \n",
    "        texts_out.append([token.lemma_ for token in doc if token.pos_ in allowed_postags])\n",
    "    return texts_out"
   ]
  },
  {
   "cell_type": "code",
   "execution_count": 16,
   "id": "1b69d6e8-5363-4e0c-b957-5f3955ab01b6",
   "metadata": {
    "tags": []
   },
   "outputs": [],
   "source": [
    "# Remove Stop Words\n",
    "data_words_nostops = remove_stopwords(data_words)"
   ]
  },
  {
   "cell_type": "code",
   "execution_count": 17,
   "id": "f2d6824d-d63c-40f8-84bd-ba140c374d8b",
   "metadata": {
    "tags": []
   },
   "outputs": [],
   "source": [
    "# Form Bigrams\n",
    "data_words_bigrams = make_bigrams(data_words_nostops)"
   ]
  },
  {
   "cell_type": "code",
   "execution_count": 18,
   "id": "0945842d-b7ab-472a-98b6-48aae1d916ea",
   "metadata": {
    "tags": []
   },
   "outputs": [],
   "source": [
    "# Initialize spacy 'en' model, keeping only tagger component (for efficiency)\n",
    "# python3 -m spacy download en\n",
    "nlp = spacy.load(\"de_core_news_sm\", disable = ['parser', 'ner'])"
   ]
  },
  {
   "cell_type": "code",
   "execution_count": 19,
   "id": "a344947a-84c8-409c-adda-e7ec17a156d5",
   "metadata": {
    "tags": []
   },
   "outputs": [
    {
     "name": "stdout",
     "output_type": "stream",
     "text": [
      "[['finden', 'Inhalt', 'Aufbau', 'app', 'gut', 'selbsterklarend']]\n"
     ]
    }
   ],
   "source": [
    "# Do lemmatization keeping only noun, adj, vb, adv\n",
    "data_lemmatized = lemmatization(data_words_bigrams, allowed_postags=['NOUN', 'ADJ', 'VERB', 'ADV'])\n",
    "\n",
    "print(data_lemmatized[:1])"
   ]
  },
  {
   "cell_type": "code",
   "execution_count": 20,
   "id": "e4fc1c71-d11b-47b4-b9b0-ce77aff86e78",
   "metadata": {
    "tags": []
   },
   "outputs": [
    {
     "name": "stdout",
     "output_type": "stream",
     "text": [
      "[[(0, 1), (1, 1), (2, 1), (3, 1), (4, 1), (5, 1)]]\n"
     ]
    }
   ],
   "source": [
    "# Create Dictionary\n",
    "id2word = corpora.Dictionary(data_lemmatized)\n",
    "\n",
    "# Create Corpus\n",
    "texts = data_lemmatized\n",
    "\n",
    "# Term Document Frequency\n",
    "corpus = [id2word.doc2bow(text) for text in texts]\n",
    "\n",
    "# View\n",
    "print(corpus[:1])"
   ]
  },
  {
   "cell_type": "code",
   "execution_count": 21,
   "id": "f39484e3-e8d1-4a52-aa71-25f88f96c76e",
   "metadata": {
    "tags": []
   },
   "outputs": [
    {
     "data": {
      "text/plain": [
       "[[('Aufbau', 1),\n",
       "  ('Inhalt', 1),\n",
       "  ('app', 1),\n",
       "  ('finden', 1),\n",
       "  ('gut', 1),\n",
       "  ('selbsterklarend', 1)]]"
      ]
     },
     "execution_count": 21,
     "metadata": {},
     "output_type": "execute_result"
    }
   ],
   "source": [
    "# Human readable format of corpus (term-frequency)\n",
    "[[(id2word[id], freq) for id, freq in cp] for cp in corpus[:1]]"
   ]
  },
  {
   "cell_type": "code",
   "execution_count": 22,
   "id": "e73fe189-e116-4403-a711-bef5c8a843f4",
   "metadata": {
    "tags": []
   },
   "outputs": [],
   "source": [
    "# Build LDA model\n",
    "lda_model = gensim.models.ldamodel.LdaModel(corpus=corpus,\n",
    "                                           id2word=id2word,\n",
    "                                           num_topics=2, \n",
    "                                           random_state=100,\n",
    "                                           update_every=1,\n",
    "                                           chunksize=100,\n",
    "                                           passes=10,\n",
    "                                           alpha='auto',\n",
    "                                           per_word_topics=True)"
   ]
  },
  {
   "cell_type": "code",
   "execution_count": 23,
   "id": "940657c6-5ebd-4e42-8fc9-f9b5b1db19d8",
   "metadata": {
    "tags": []
   },
   "outputs": [
    {
     "name": "stdout",
     "output_type": "stream",
     "text": [
      "[(0,\n",
      "  '0.046*\"Hebammen\" + 0.030*\"geben\" + 0.019*\"brauchen\" + 0.018*\"mögen\" + '\n",
      "  '0.016*\"folgend\" + 0.016*\"Betreuung\" + 0.012*\"Unterstutzung\" + '\n",
      "  '0.012*\"empfehlen\" + 0.011*\"schaden\" + 0.011*\"fachkrafen\"'),\n",
      " (1,\n",
      "  '0.028*\"gut\" + 0.018*\"schon\" + 0.016*\"umsetzen\" + 0.015*\"Wiederholung\" + '\n",
      "  '0.015*\"helfen\" + 0.015*\"Frage\" + 0.014*\"sagen\" + 0.012*\"mal\" + '\n",
      "  '0.012*\"lernen\" + 0.012*\"Praxis\"')]\n"
     ]
    }
   ],
   "source": [
    "# Print the Keyword in the 10 topics\n",
    "pprint(lda_model.print_topics())\n",
    "doc_lda = lda_model[corpus]"
   ]
  },
  {
   "cell_type": "code",
   "execution_count": 24,
   "id": "da9ea0b7-09b6-47a1-b96a-c949f8877f2a",
   "metadata": {
    "tags": []
   },
   "outputs": [
    {
     "name": "stdout",
     "output_type": "stream",
     "text": [
      "\n",
      "Perplexity:  -8.100517053510941\n",
      "\n",
      "Coherence Score:  0.5441100077946905\n"
     ]
    }
   ],
   "source": [
    "# Compute Perplexity\n",
    "print('\\nPerplexity: ', lda_model.log_perplexity(corpus))  # a measure of how good the model is. lower the better.\n",
    "\n",
    "# Compute Coherence Score\n",
    "coherence_model_lda = CoherenceModel(model=lda_model, texts=data_lemmatized, dictionary=id2word, coherence='c_v')\n",
    "coherence_lda = coherence_model_lda.get_coherence()\n",
    "print('\\nCoherence Score: ', coherence_lda)"
   ]
  },
  {
   "cell_type": "code",
   "execution_count": 25,
   "id": "35834e7c-9f91-4ba1-a9e3-46c49c04f2e7",
   "metadata": {
    "tags": []
   },
   "outputs": [
    {
     "data": {
      "text/html": [
       "\n",
       "<link rel=\"stylesheet\" type=\"text/css\" href=\"https://cdn.jsdelivr.net/gh/bmabey/pyLDAvis@3.4.0/pyLDAvis/js/ldavis.v1.0.0.css\">\n",
       "\n",
       "\n",
       "<div id=\"ldavis_el7079222566561048324961328710\" style=\"background-color:white;\"></div>\n",
       "<script type=\"text/javascript\">\n",
       "\n",
       "var ldavis_el7079222566561048324961328710_data = {\"mdsDat\": {\"x\": [0.11100262250793867, -0.11100262250793867], \"y\": [0.0, 0.0], \"topics\": [1, 2], \"cluster\": [1, 1], \"Freq\": [58.62356390295691, 41.3764360970431]}, \"tinfo\": {\"Term\": [\"Hebammen\", \"geben\", \"gut\", \"brauchen\", \"m\\u00f6gen\", \"schon\", \"folgend\", \"Betreuung\", \"Frage\", \"sagen\", \"mal\", \"gehen\", \"umsetzen\", \"lernen\", \"einfach\", \"helfen\", \"Wiederholung\", \"vielleicht\", \"finden\", \"Kind\", \"Kommunikation\", \"immer\", \"Geburt\", \"wissen\", \"fur\", \"Situation\", \"Frau\", \"ganz\", \"nochmal\", \"Unterstutzung\", \"gut\", \"schon\", \"mal\", \"sagen\", \"einfach\", \"Frage\", \"ganz\", \"nochmal\", \"machen\", \"finden\", \"Situation\", \"richtig\", \"irgendwie\", \"glauben\", \"naturlich\", \"wirklich\", \"denken\", \"klar\", \"Konn\", \"wichtig\", \"Beispiel\", \"eigentlich\", \"schwierig\", \"verstehen\", \"lernen\", \"kommunizieren\", \"Seite\", \"kurz\", \"wahrscheinlich\", \"wahrend\", \"Sache\", \"helfen\", \"umsetzen\", \"Wiederholung\", \"fallen\", \"app\", \"Praxis\", \"schwanger\", \"Umgang\", \"Bewaltigung\", \"schulung\", \"falsch\", \"Lektion\", \"Beitrag\", \"Dokumentarfilm\", \"Gewalt\", \"Kreisssaal\", \"Mangel\", \"tater\", \"geben\", \"m\\u00f6gen\", \"brauchen\", \"vielleicht\", \"Kind\", \"Geburt\", \"wissen\", \"gehen\", \"fur\", \"tun\", \"gar\", \"Kommunikation\", \"Zeit\", \"Frau\", \"mehr\", \"uber\", \"halt\", \"gerade\", \"sehen\", \"gro\\u00df\", \"nehmen\", \"erster\", \"bissch\", \"hei\\u00dfen\", \"eigen\", \"Betreuung\", \"folgend\", \"bitte\", \"Thema\", \"gerne\", \"Hebammen\", \"liegen\", \"immer\", \"Unterstutzung\", \"empfehlen\", \"schaden\", \"Antwort\", \"fachkrafen\", \"Beitrag\", \"Dokumentarfilm\", \"Gewalt\", \"Kreisssaal\", \"Mangel\", \"tater\", \"zuruckzufuhren\", \"Bewaltigung\", \"schulung\", \"Umgang\", \"Lektion\"], \"Freq\": [405.0, 240.0, 319.0, 154.0, 147.0, 202.0, 140.0, 135.0, 166.0, 158.0, 142.0, 82.0, 184.0, 142.0, 118.0, 174.0, 178.0, 66.0, 108.0, 63.0, 66.0, 85.0, 58.0, 56.0, 55.0, 87.0, 55.0, 80.0, 79.0, 141.0, 318.6726149833564, 202.05910036032583, 141.59087143710425, 158.0152359506151, 117.70563128886012, 165.39619077014117, 80.46668244358415, 79.13754238238855, 76.59952036763013, 107.22658768440454, 87.07262936319879, 66.47042759097408, 45.55599001433235, 56.48181199641442, 45.33188686765212, 46.4159668627707, 44.6204451049688, 79.56579501313185, 59.91350223940132, 46.85746885288948, 74.54929878548765, 32.25457275929082, 60.92949878766499, 41.53229333957087, 140.03448575296628, 42.18502865593485, 43.499095978369766, 29.816937467220423, 27.422803176785457, 37.328562501116025, 32.65100516376157, 167.05793434085143, 177.09778503825245, 169.48398971406058, 76.38712719161589, 52.21583146348994, 135.08358871729408, 69.19207213759006, 92.45978385090363, 86.40855830687234, 86.40855830687234, 50.978327496404454, 60.549678510664414, 64.01508667462608, 64.01508667462608, 64.01508667462608, 64.01508667462608, 64.01508667462608, 64.01508667462608, 239.12150658674557, 145.36346841782546, 151.39951499065418, 64.72555991876973, 61.86912894264146, 57.51390690299255, 54.778777872799516, 80.65425093622315, 53.8291031884352, 37.964571785033144, 40.81451748864037, 64.06699192122531, 27.51675279506697, 53.002570004487815, 18.216877619707756, 45.480493106559415, 45.002456213405, 27.883286835457035, 22.05097747793418, 13.37576217825242, 17.432950166037287, 11.754772807473234, 20.6208980828341, 17.180953681324375, 34.50677883454002, 126.85106131279342, 131.69070061480724, 19.095693864331736, 20.47102871750373, 15.930184016355572, 371.4171246488365, 38.443020798336214, 76.21369379997583, 100.15519940218412, 98.55199207918253, 89.74442252048807, 35.50837316454077, 86.29196465264657, 80.54688989095274, 80.54688989095274, 80.54688989095274, 80.54688989095274, 80.54688989095274, 80.54688989095274, 80.54688989095274, 62.977615999561884, 62.977615999561884, 63.01374769695816, 53.854287476064584], \"Total\": [405.0, 240.0, 319.0, 154.0, 147.0, 202.0, 140.0, 135.0, 166.0, 158.0, 142.0, 82.0, 184.0, 142.0, 118.0, 174.0, 178.0, 66.0, 108.0, 63.0, 66.0, 85.0, 58.0, 56.0, 55.0, 87.0, 55.0, 80.0, 79.0, 141.0, 319.2622064199132, 202.58944776932015, 142.08923925919996, 158.5843069649179, 118.21193055054395, 166.3283628171639, 80.93633453571702, 79.67288622132712, 77.15020221795338, 108.04550788524229, 87.8160373863051, 67.11187012306866, 45.9958035247167, 57.08368964782323, 45.82742540297163, 46.93265465480962, 45.12625046641199, 80.47191310534788, 60.60636518977042, 47.440982453890314, 75.51551675705207, 32.68159409538491, 61.81975247867012, 42.23651786874831, 142.42458873134532, 42.947629770009534, 44.367446771349556, 30.414940837993147, 27.97677361710739, 38.09067943255584, 33.32248241518393, 174.0701230779549, 184.8371354250965, 178.81188156643447, 79.34494112926738, 53.8912964443843, 165.22114654004488, 84.40017294840047, 155.4735315478618, 149.3861743064342, 149.3861743064342, 61.89445453410677, 114.40396598672899, 144.56197656557882, 144.56197656557882, 144.56197656557882, 144.56197656557882, 144.56197656557882, 144.56197656557882, 240.6510453649665, 147.67041076963693, 154.15487978059858, 66.01206994389231, 63.116133824418334, 58.82212620715544, 56.02522538969881, 82.79045600367569, 55.3434114737292, 39.04788449109184, 42.11570827240289, 66.1821224586566, 28.584425693366775, 55.10164760403294, 19.16650835046915, 47.86773050428161, 47.39017815362939, 29.535991971618365, 23.36816388721226, 14.178134868946279, 18.503742317062656, 12.49059687825556, 21.926070873705598, 18.304117312600006, 36.77363338106161, 135.57616656049183, 140.88139198710218, 20.56130073462366, 22.151352776290498, 17.25116324386082, 405.1411182466529, 42.10736011769467, 85.20540259332873, 141.60680223219305, 142.4389370429084, 144.3054330593327, 44.83514318110658, 143.44793866378998, 144.56197656557882, 144.56197656557882, 144.56197656557882, 144.56197656557882, 144.56197656557882, 144.56197656557882, 144.56197656557882, 149.3861743064342, 149.3861743064342, 155.4735315478618, 114.40396598672899], \"Category\": [\"Default\", \"Default\", \"Default\", \"Default\", \"Default\", \"Default\", \"Default\", \"Default\", \"Default\", \"Default\", \"Default\", \"Default\", \"Default\", \"Default\", \"Default\", \"Default\", \"Default\", \"Default\", \"Default\", \"Default\", \"Default\", \"Default\", \"Default\", \"Default\", \"Default\", \"Default\", \"Default\", \"Default\", \"Default\", \"Default\", \"Topic1\", \"Topic1\", \"Topic1\", \"Topic1\", \"Topic1\", \"Topic1\", \"Topic1\", \"Topic1\", \"Topic1\", \"Topic1\", \"Topic1\", \"Topic1\", \"Topic1\", \"Topic1\", \"Topic1\", \"Topic1\", \"Topic1\", \"Topic1\", \"Topic1\", \"Topic1\", \"Topic1\", \"Topic1\", \"Topic1\", \"Topic1\", \"Topic1\", \"Topic1\", \"Topic1\", \"Topic1\", \"Topic1\", \"Topic1\", \"Topic1\", \"Topic1\", \"Topic1\", \"Topic1\", \"Topic1\", \"Topic1\", \"Topic1\", \"Topic1\", \"Topic1\", \"Topic1\", \"Topic1\", \"Topic1\", \"Topic1\", \"Topic1\", \"Topic1\", \"Topic1\", \"Topic1\", \"Topic1\", \"Topic1\", \"Topic2\", \"Topic2\", \"Topic2\", \"Topic2\", \"Topic2\", \"Topic2\", \"Topic2\", \"Topic2\", \"Topic2\", \"Topic2\", \"Topic2\", \"Topic2\", \"Topic2\", \"Topic2\", \"Topic2\", \"Topic2\", \"Topic2\", \"Topic2\", \"Topic2\", \"Topic2\", \"Topic2\", \"Topic2\", \"Topic2\", \"Topic2\", \"Topic2\", \"Topic2\", \"Topic2\", \"Topic2\", \"Topic2\", \"Topic2\", \"Topic2\", \"Topic2\", \"Topic2\", \"Topic2\", \"Topic2\", \"Topic2\", \"Topic2\", \"Topic2\", \"Topic2\", \"Topic2\", \"Topic2\", \"Topic2\", \"Topic2\", \"Topic2\", \"Topic2\", \"Topic2\", \"Topic2\", \"Topic2\", \"Topic2\"], \"logprob\": [30.0, 29.0, 28.0, 27.0, 26.0, 25.0, 24.0, 23.0, 22.0, 21.0, 20.0, 19.0, 18.0, 17.0, 16.0, 15.0, 14.0, 13.0, 12.0, 11.0, 10.0, 9.0, 8.0, 7.0, 6.0, 5.0, 4.0, 3.0, 2.0, 1.0, -3.5771, -4.0328, -4.3884, -4.2786, -4.5731, -4.233, -4.9535, -4.9701, -5.0027, -4.6664, -4.8746, -5.1446, -5.5224, -5.3074, -5.5273, -5.5037, -5.5431, -4.9647, -5.2484, -5.4942, -5.0299, -5.8677, -5.2316, -5.6148, -4.3994, -5.5992, -5.5686, -5.9462, -6.0299, -5.7216, -5.8554, -4.223, -4.1646, -4.2086, -5.0055, -5.3859, -4.4354, -5.1044, -4.8145, -4.8822, -4.8822, -5.4099, -5.2378, -5.1822, -5.1822, -5.1822, -5.1822, -5.1822, -5.1822, -3.5159, -4.0136, -3.973, -4.8227, -4.8679, -4.9409, -4.9896, -4.6027, -5.0071, -5.3562, -5.2838, -4.833, -5.6781, -5.0225, -6.0905, -5.1756, -5.1862, -5.6649, -5.8995, -6.3994, -6.1345, -6.5286, -5.9666, -6.1491, -5.4517, -4.1499, -4.1124, -6.0434, -5.9739, -6.2247, -3.0756, -5.3437, -4.6593, -4.3862, -4.4023, -4.4959, -5.4231, -4.5352, -4.604, -4.604, -4.604, -4.604, -4.604, -4.604, -4.604, -4.8501, -4.8501, -4.8495, -5.0066], \"loglift\": [30.0, 29.0, 28.0, 27.0, 26.0, 25.0, 24.0, 23.0, 22.0, 21.0, 20.0, 19.0, 18.0, 17.0, 16.0, 15.0, 14.0, 13.0, 12.0, 11.0, 10.0, 9.0, 8.0, 7.0, 6.0, 5.0, 4.0, 3.0, 2.0, 1.0, 0.5322, 0.5314, 0.5305, 0.5304, 0.5297, 0.5284, 0.5282, 0.5273, 0.5269, 0.5264, 0.5255, 0.5244, 0.5244, 0.5234, 0.5232, 0.523, 0.5228, 0.5227, 0.5225, 0.5217, 0.5212, 0.5209, 0.5195, 0.5172, 0.5171, 0.5161, 0.5143, 0.5142, 0.514, 0.5138, 0.5137, 0.4929, 0.4913, 0.4805, 0.496, 0.5025, 0.3326, 0.3354, 0.0143, -0.0134, -0.0134, 0.34, -0.1022, -0.2806, -0.2806, -0.2806, -0.2806, -0.2806, -0.2806, 0.8761, 0.8667, 0.8644, 0.8628, 0.8625, 0.86, 0.86, 0.8563, 0.8547, 0.8543, 0.8511, 0.85, 0.8444, 0.8436, 0.8316, 0.8313, 0.8308, 0.8249, 0.8244, 0.8242, 0.8228, 0.8217, 0.8211, 0.8191, 0.8188, 0.8159, 0.815, 0.8085, 0.8036, 0.8028, 0.7955, 0.7914, 0.7709, 0.5361, 0.5141, 0.4075, 0.6492, 0.3742, 0.2976, 0.2976, 0.2976, 0.2976, 0.2976, 0.2976, 0.2976, 0.0187, 0.0187, -0.0207, 0.129]}, \"token.table\": {\"Topic\": [1, 2, 1, 2, 1, 2, 1, 2, 1, 2, 1, 2, 1, 2, 1, 2, 1, 2, 1, 2, 1, 2, 1, 2, 1, 2, 1, 2, 1, 2, 1, 2, 1, 2, 1, 2, 1, 2, 1, 2, 1, 2, 1, 2, 1, 2, 1, 2, 1, 2, 1, 2, 1, 2, 1, 2, 1, 2, 1, 2, 1, 2, 1, 2, 1, 1, 2, 1, 2, 1, 2, 1, 2, 1, 2, 1, 2, 1, 2, 1, 2, 1, 2, 1, 1, 2, 1, 2, 1, 2, 1, 2, 1, 2, 1, 2, 1, 2, 1, 2, 1, 2, 1, 2, 1, 2, 1, 2, 1, 1, 2, 1, 2, 1, 2, 1, 2, 1, 2, 1, 2, 1, 1, 2, 1, 2, 1, 1, 2, 1, 2, 1, 2, 1, 2, 1, 2, 1, 2, 1, 2, 1, 2, 1, 2, 1, 2, 1, 2, 1, 2, 1, 2, 1, 2, 1, 2, 1, 2, 1, 2, 1, 2, 1, 2, 1, 2, 1, 2, 1, 2], \"Freq\": [0.20073539106690258, 0.8029415642676103, 0.993173366492206, 0.013242311553229413, 0.44271669162580357, 0.5603133128389076, 0.06638334914112172, 0.9367428156580508, 0.575689151953173, 0.42172577410523143, 0.44271669162580357, 0.5603133128389076, 0.9920136121424816, 0.0060122037099544345, 0.036296555311235705, 0.9618587157477462, 0.017000405535805924, 0.9860235210767435, 0.44271669162580357, 0.5603133128389076, 0.08392137571013107, 0.9157303055429008, 0.015843809489058416, 0.9823161883216217, 0.030219641282272006, 0.9670285210327042, 0.9899950246501045, 0.01649991707750174, 0.44271669162580357, 0.5603133128389076, 0.5331982984495143, 0.47201160846350443, 0.44271669162580357, 0.5603133128389076, 0.8170866915469556, 0.1815748203437679, 0.9903223772116995, 0.030009769006415134, 0.9691790519658078, 0.022539047720135062, 0.9907074218947579, 0.01138744163097423, 0.09028793953120019, 0.9028793953120019, 0.5917405945826749, 0.4052136680294404, 0.2895341138540237, 0.7061807654976188, 0.9451273512672644, 0.050332225807132425, 0.03498408576499955, 0.9795544014199874, 0.9649053452195919, 0.03711174404690738, 0.045607806604293616, 0.9577639386901659, 0.04863505538421878, 0.9240660523001568, 0.019460947355476255, 0.9795343502256382, 0.9972022832584782, 0.022160050739077293, 0.0543867933656509, 0.9517688838988908, 0.9791444048477073, 0.9982071982958324, 0.008459383036405359, 0.3089042990172372, 0.6950346727887836, 0.08006022528361832, 0.9607227034034199, 0.3973567032817063, 0.5995206400390656, 0.9578430447907464, 0.03780959387331894, 0.8239833501060517, 0.17772189904248176, 0.9903234488346082, 0.009255359334902881, 0.06388352551786228, 0.93695837426198, 0.036137996316858316, 0.9757259005551745, 0.9884312213903902, 0.023744109763797296, 0.9735085003156891, 0.008310788747943481, 0.9931392553792461, 0.024157373887531253, 0.9783736424450157, 0.06771399457048315, 0.9479959239867641, 0.057967105514224994, 0.9274736882275999, 0.9810157743042008, 0.01751813882686073, 0.07053113891519358, 0.9169048058975167, 0.9991787113706522, 0.0031322216657387212, 0.04220283775925897, 0.9495638495833268, 0.05463251698630832, 0.9287527887672414, 0.9593834774575954, 0.04021367869582736, 0.10562710492614547, 0.8919622193763395, 1.0000912360468068, 0.9941356793055226, 0.012426695991319032, 0.977935225410943, 0.02328417203359388, 0.9863573353568776, 0.032878577845229254, 0.9829763332796501, 0.014042519046852144, 0.09499526897006992, 0.9024550552156643, 0.9980531195818638, 0.012961728825738492, 0.9993719492083621, 0.05217434400228262, 0.9391381920410873, 0.013543674657477337, 0.9819164126671068, 0.9819447547904803, 0.054043121810979866, 0.9187330707866578, 0.9915543887859432, 0.012551321377037255, 0.983432586202266, 0.014900493730337364, 0.9963154805409141, 0.006305794180638697, 0.38113603094476817, 0.6236771415459843, 0.9970904320249131, 0.004936091247648085, 0.575689151953173, 0.42172577410523143, 0.8175338697728068, 0.17772475429843626, 0.986739635055107, 0.016176059591067327, 0.042793263725235564, 0.9414518019551824, 0.44271669162580357, 0.5603133128389076, 0.0256095820050926, 0.9731641161935187, 0.04178180120365445, 0.9400905270822251, 0.9575997788157, 0.04328134593517288, 0.9944001570043417, 0.023676194214389087, 0.015148744780310041, 0.9846684107201527, 0.9713662384393269, 0.026253141579441266, 0.9650862665411101, 0.03574393579781889, 0.9907046095784605, 0.02107882148039278, 0.9801278094821334, 0.021307126293089857, 0.017849102668382428, 0.9817006467610335, 0.44271669162580357, 0.5603133128389076], \"Term\": [\"Antwort\", \"Antwort\", \"Beispiel\", \"Beispiel\", \"Beitrag\", \"Beitrag\", \"Betreuung\", \"Betreuung\", \"Bewaltigung\", \"Bewaltigung\", \"Dokumentarfilm\", \"Dokumentarfilm\", \"Frage\", \"Frage\", \"Frau\", \"Frau\", \"Geburt\", \"Geburt\", \"Gewalt\", \"Gewalt\", \"Hebammen\", \"Hebammen\", \"Kind\", \"Kind\", \"Kommunikation\", \"Kommunikation\", \"Konn\", \"Konn\", \"Kreisssaal\", \"Kreisssaal\", \"Lektion\", \"Lektion\", \"Mangel\", \"Mangel\", \"Praxis\", \"Praxis\", \"Sache\", \"Sache\", \"Seite\", \"Seite\", \"Situation\", \"Situation\", \"Thema\", \"Thema\", \"Umgang\", \"Umgang\", \"Unterstutzung\", \"Unterstutzung\", \"Wiederholung\", \"Wiederholung\", \"Zeit\", \"Zeit\", \"app\", \"app\", \"bissch\", \"bissch\", \"bitte\", \"bitte\", \"brauchen\", \"brauchen\", \"denken\", \"denken\", \"eigen\", \"eigen\", \"eigentlich\", \"einfach\", \"einfach\", \"empfehlen\", \"empfehlen\", \"erster\", \"erster\", \"fachkrafen\", \"fachkrafen\", \"fallen\", \"fallen\", \"falsch\", \"falsch\", \"finden\", \"finden\", \"folgend\", \"folgend\", \"fur\", \"fur\", \"ganz\", \"gar\", \"gar\", \"geben\", \"geben\", \"gehen\", \"gehen\", \"gerade\", \"gerade\", \"gerne\", \"gerne\", \"glauben\", \"glauben\", \"gro\\u00df\", \"gro\\u00df\", \"gut\", \"gut\", \"halt\", \"halt\", \"hei\\u00dfen\", \"hei\\u00dfen\", \"helfen\", \"helfen\", \"immer\", \"immer\", \"irgendwie\", \"klar\", \"klar\", \"kommunizieren\", \"kommunizieren\", \"kurz\", \"kurz\", \"lernen\", \"lernen\", \"liegen\", \"liegen\", \"machen\", \"machen\", \"mal\", \"mehr\", \"mehr\", \"m\\u00f6gen\", \"m\\u00f6gen\", \"naturlich\", \"nehmen\", \"nehmen\", \"nochmal\", \"nochmal\", \"richtig\", \"richtig\", \"sagen\", \"sagen\", \"schaden\", \"schaden\", \"schon\", \"schon\", \"schulung\", \"schulung\", \"schwanger\", \"schwanger\", \"schwierig\", \"schwierig\", \"sehen\", \"sehen\", \"tater\", \"tater\", \"tun\", \"tun\", \"uber\", \"uber\", \"umsetzen\", \"umsetzen\", \"verstehen\", \"verstehen\", \"vielleicht\", \"vielleicht\", \"wahrend\", \"wahrend\", \"wahrscheinlich\", \"wahrscheinlich\", \"wichtig\", \"wichtig\", \"wirklich\", \"wirklich\", \"wissen\", \"wissen\", \"zuruckzufuhren\", \"zuruckzufuhren\"]}, \"R\": 30, \"lambda.step\": 0.01, \"plot.opts\": {\"xlab\": \"PC1\", \"ylab\": \"PC2\"}, \"topic.order\": [2, 1]};\n",
       "\n",
       "function LDAvis_load_lib(url, callback){\n",
       "  var s = document.createElement('script');\n",
       "  s.src = url;\n",
       "  s.async = true;\n",
       "  s.onreadystatechange = s.onload = callback;\n",
       "  s.onerror = function(){console.warn(\"failed to load library \" + url);};\n",
       "  document.getElementsByTagName(\"head\")[0].appendChild(s);\n",
       "}\n",
       "\n",
       "if(typeof(LDAvis) !== \"undefined\"){\n",
       "   // already loaded: just create the visualization\n",
       "   !function(LDAvis){\n",
       "       new LDAvis(\"#\" + \"ldavis_el7079222566561048324961328710\", ldavis_el7079222566561048324961328710_data);\n",
       "   }(LDAvis);\n",
       "}else if(typeof define === \"function\" && define.amd){\n",
       "   // require.js is available: use it to load d3/LDAvis\n",
       "   require.config({paths: {d3: \"https://d3js.org/d3.v5\"}});\n",
       "   require([\"d3\"], function(d3){\n",
       "      window.d3 = d3;\n",
       "      LDAvis_load_lib(\"https://cdn.jsdelivr.net/gh/bmabey/pyLDAvis@3.4.0/pyLDAvis/js/ldavis.v3.0.0.js\", function(){\n",
       "        new LDAvis(\"#\" + \"ldavis_el7079222566561048324961328710\", ldavis_el7079222566561048324961328710_data);\n",
       "      });\n",
       "    });\n",
       "}else{\n",
       "    // require.js not available: dynamically load d3 & LDAvis\n",
       "    LDAvis_load_lib(\"https://d3js.org/d3.v5.js\", function(){\n",
       "         LDAvis_load_lib(\"https://cdn.jsdelivr.net/gh/bmabey/pyLDAvis@3.4.0/pyLDAvis/js/ldavis.v3.0.0.js\", function(){\n",
       "                 new LDAvis(\"#\" + \"ldavis_el7079222566561048324961328710\", ldavis_el7079222566561048324961328710_data);\n",
       "            })\n",
       "         });\n",
       "}\n",
       "</script>"
      ],
      "text/plain": [
       "PreparedData(topic_coordinates=              x    y  topics  cluster       Freq\n",
       "topic                                           \n",
       "1      0.111003  0.0       1        1  58.623564\n",
       "0     -0.111003  0.0       2        1  41.376436, topic_info=                Term        Freq       Total Category  logprob  loglift\n",
       "311         Hebammen  405.000000  405.000000  Default  30.0000  30.0000\n",
       "126            geben  240.000000  240.000000  Default  29.0000  29.0000\n",
       "4                gut  319.000000  319.000000  Default  28.0000  28.0000\n",
       "47          brauchen  154.000000  154.000000  Default  27.0000  27.0000\n",
       "1061           mögen  147.000000  147.000000  Default  26.0000  26.0000\n",
       "...              ...         ...         ...      ...      ...      ...\n",
       "4409  zuruckzufuhren   80.546890  144.561977   Topic2  -4.6040   0.2976\n",
       "4410     Bewaltigung   62.977616  149.386174   Topic2  -4.8501   0.0187\n",
       "4411        schulung   62.977616  149.386174   Topic2  -4.8501   0.0187\n",
       "2860          Umgang   63.013748  155.473532   Topic2  -4.8495  -0.0207\n",
       "464          Lektion   53.854287  114.403966   Topic2  -5.0066   0.1290\n",
       "\n",
       "[128 rows x 6 columns], token_table=      Topic      Freq            Term\n",
       "term                                 \n",
       "1595      1  0.200735         Antwort\n",
       "1595      2  0.802942         Antwort\n",
       "486       1  0.993173        Beispiel\n",
       "486       2  0.013242        Beispiel\n",
       "4403      1  0.442717         Beitrag\n",
       "...     ...       ...             ...\n",
       "928       2  0.021307        wirklich\n",
       "133       1  0.017849          wissen\n",
       "133       2  0.981701          wissen\n",
       "4409      1  0.442717  zuruckzufuhren\n",
       "4409      2  0.560313  zuruckzufuhren\n",
       "\n",
       "[171 rows x 3 columns], R=30, lambda_step=0.01, plot_opts={'xlab': 'PC1', 'ylab': 'PC2'}, topic_order=[2, 1])"
      ]
     },
     "execution_count": 25,
     "metadata": {},
     "output_type": "execute_result"
    }
   ],
   "source": [
    "# Visualize the topics\n",
    "pyLDAvis.enable_notebook()\n",
    "vis = pyLDAvis.gensim.prepare(lda_model, corpus, id2word)\n",
    "vis"
   ]
  },
  {
   "cell_type": "code",
   "execution_count": 26,
   "id": "f63c4d5e-8760-4899-80b4-193ec224f1f2",
   "metadata": {
    "tags": []
   },
   "outputs": [],
   "source": [
    "def compute_coherence_values(dictionary, corpus, texts, limit, start=2, step=3):\n",
    "    \"\"\"\n",
    "    Compute c_v coherence for various number of topics\n",
    "\n",
    "    Parameters:\n",
    "    ----------\n",
    "    dictionary : Gensim dictionary\n",
    "    corpus : Gensim corpus\n",
    "    texts : List of input texts\n",
    "    limit : Max num of topics\n",
    "\n",
    "    Returns:\n",
    "    -------\n",
    "    model_list : List of LDA topic models\n",
    "    coherence_values : Coherence values corresponding to the LDA model with respective number of topics\n",
    "    \"\"\"\n",
    "    coherence_values = []\n",
    "    model_list = []\n",
    "    for num_topics in range(start, limit, step):\n",
    "        model = gensim.models.ldamodel.LdaModel(corpus=corpus,id2word=id2word, num_topics=num_topics)\n",
    "        model_list.append(model)\n",
    "        coherencemodel = CoherenceModel(model=model, texts=texts, dictionary=dictionary, coherence='c_v')\n",
    "        coherence_values.append(coherencemodel.get_coherence())\n",
    "\n",
    "    return model_list, coherence_values"
   ]
  },
  {
   "cell_type": "code",
   "execution_count": 27,
   "id": "3fe70221-20f5-484f-ab7a-ed4f5b42edac",
   "metadata": {
    "tags": []
   },
   "outputs": [],
   "source": [
    "model_list, coherence_values = compute_coherence_values(dictionary=id2word, \n",
    "                                                        corpus=corpus, \n",
    "                                                        texts=data_lemmatized, \n",
    "                                                        start=1, \n",
    "                                                        limit=6, \n",
    "                                                        step=1)"
   ]
  },
  {
   "cell_type": "code",
   "execution_count": 29,
   "id": "6c4b2403-3fe8-4f9e-9d2e-d7a2c29a96f0",
   "metadata": {
    "tags": []
   },
   "outputs": [],
   "source": [
    "os.chdir(\"C:\\\\Users\\\\vanandkuma\\\\Documents\\\\projects\\\\sentiment_analysis\")"
   ]
  },
  {
   "cell_type": "code",
   "execution_count": 30,
   "id": "b4ca5c43-51ae-4049-a7f1-6e9a0ff3b094",
   "metadata": {
    "tags": []
   },
   "outputs": [
    {
     "data": {
      "image/png": "[encoded data removed]",
      "text/plain": [
       "<Figure size 640x480 with 1 Axes>"
      ]
     },
     "metadata": {},
     "output_type": "display_data"
    }
   ],
   "source": [
    "# Show graph\n",
    "limit=6; start=1; step=1;\n",
    "x = range(start, limit, step)\n",
    "plt.title(\"LDA Diagnostics \\n Optimum topics for version two feedback\")\n",
    "plt.plot(x, coherence_values)\n",
    "plt.xlabel(\"Num Topics\")\n",
    "plt.ylabel(\"Coherence score\")\n",
    "plt.savefig('output/app_v1_lda_topic_coherence.png')"
   ]
  },
  {
   "cell_type": "code",
   "execution_count": 32,
   "id": "327e34e1-f90a-42ce-bb0e-960995f33845",
   "metadata": {},
   "outputs": [],
   "source": [
    "pyLDAvis.save_html(vis, 'output/ldavis_app_v1.html')"
   ]
  },
  {
   "cell_type": "code",
   "execution_count": 41,
   "id": "e8d3b5bd-eec0-4d3f-8b09-9c36f1a16f13",
   "metadata": {
    "tags": []
   },
   "outputs": [],
   "source": []
  }
 ],
 "metadata": {
  "kernelspec": {
   "display_name": "Python 3 (ipykernel)",
   "language": "python",
   "name": "python3"
  },
  "language_info": {
   "codemirror_mode": {
    "name": "ipython",
    "version": 3
   },
   "file_extension": ".py",
   "mimetype": "text/x-python",
   "name": "python",
   "nbconvert_exporter": "python",
   "pygments_lexer": "ipython3",
   "version": "3.10.2"
  }
 },
 "nbformat": 4,
 "nbformat_minor": 5
}
