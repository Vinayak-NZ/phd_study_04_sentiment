{
 "cells": [
  {
   "cell_type": "code",
   "execution_count": 15,
   "id": "0573cd5e-20ba-47fd-932f-2a8c5319f0c4",
   "metadata": {
    "tags": []
   },
   "outputs": [],
   "source": [
    "from numpy.random import seed\n",
    "from numpy.random import randn\n",
    "from numpy.random import normal\n",
    "from scipy.stats import ttest_ind\n",
    "import pandas as pd"
   ]
  },
  {
   "cell_type": "code",
   "execution_count": 16,
   "id": "c521af7a-0dc3-46ac-bd89-7b49a4d2932c",
   "metadata": {
    "tags": []
   },
   "outputs": [],
   "source": [
    "app_v1_polarity = pd.read_csv('output/app_v1_polarity.csv')\n",
    "app_v2_polarity = pd.read_csv('output/app_v2_polarity.csv')"
   ]
  },
  {
   "cell_type": "code",
   "execution_count": 17,
   "id": "aba8dcea-3ce6-474e-a86b-8b90fc9360cd",
   "metadata": {
    "tags": []
   },
   "outputs": [],
   "source": [
    "version_one =  app_v1_polarity['app_v1_polarity'].values.tolist()\n",
    "version_two =  app_v2_polarity['app_v2_polarity'].values.tolist()"
   ]
  },
  {
   "cell_type": "code",
   "execution_count": null,
   "id": "dfada1ab-49e8-4ce3-8a6b-34c290393db2",
   "metadata": {
    "tags": []
   },
   "outputs": [],
   "source": [
    "#print('Version 1: ', version_one)\n",
    "#print('Version 2: ', version_two)"
   ]
  },
  {
   "cell_type": "code",
   "execution_count": 19,
   "id": "fa9a7182-f1fb-4707-aee4-a4d8895dad30",
   "metadata": {
    "tags": []
   },
   "outputs": [
    {
     "name": "stdout",
     "output_type": "stream",
     "text": [
      "T-statistic value:  -1.141484584563365\n",
      "P-Value:  0.254117696548664\n"
     ]
    }
   ],
   "source": [
    "t_stat, p_value = ttest_ind(version_one, version_two)\n",
    "print(\"T-statistic value: \", t_stat)  \n",
    "print(\"P-Value: \", p_value)"
   ]
  },
  {
   "cell_type": "code",
   "execution_count": 21,
   "id": "4612fad4-916c-4c5e-8128-88397f0f8c58",
   "metadata": {
    "tags": []
   },
   "outputs": [
    {
     "data": {
      "text/plain": [
       "MannwhitneyuResult(statistic=37359.0, pvalue=0.08847982918083547)"
      ]
     },
     "execution_count": 21,
     "metadata": {},
     "output_type": "execute_result"
    }
   ],
   "source": [
    "# SciPy v1.7.1\n",
    "import scipy.stats as stats\n",
    "# perform two-sided test. You can use 'greater' or 'less' for one-sided test\n",
    "stats.mannwhitneyu(x=app_v1_polarity['app_v1_polarity'], y=app_v2_polarity['app_v2_polarity'], alternative = 'two-sided')"
   ]
  }
 ],
 "metadata": {
  "kernelspec": {
   "display_name": "Python 3 (ipykernel)",
   "language": "python",
   "name": "python3"
  },
  "language_info": {
   "codemirror_mode": {
    "name": "ipython",
    "version": 3
   },
   "file_extension": ".py",
   "mimetype": "text/x-python",
   "name": "python",
   "nbconvert_exporter": "python",
   "pygments_lexer": "ipython3",
   "version": "3.10.2"
  }
 },
 "nbformat": 4,
 "nbformat_minor": 5
}
