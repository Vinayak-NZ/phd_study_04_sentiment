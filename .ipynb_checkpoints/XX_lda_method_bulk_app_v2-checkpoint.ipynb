{
 "cells": [
  {
   "cell_type": "code",
   "execution_count": 1,
   "id": "a63cbda1-339d-48d7-aa2f-87f55fce9cc3",
   "metadata": {
    "tags": []
   },
   "outputs": [],
   "source": [
    "import os\n",
    "import re\n",
    "import numpy as np\n",
    "import pandas as pd\n",
    "from pprint import pprint\n",
    "\n",
    "# reading docfiles\n",
    "import docx2txt\n",
    "\n",
    "#nltk\n",
    "import nltk\n",
    "\n",
    "# Gensim\n",
    "import gensim\n",
    "import gensim.corpora as corpora\n",
    "from gensim.utils import simple_preprocess\n",
    "from gensim.models import CoherenceModel\n",
    "\n",
    "# spacy for lemmatization\n",
    "import spacy\n",
    "\n",
    "# Plotting tools\n",
    "import pyLDAvis\n",
    "import pyLDAvis.gensim  # don't skip this\n",
    "import matplotlib.pyplot as plt\n",
    "%matplotlib inline\n",
    "\n",
    "# Enable logging for gensim - optional\n",
    "import logging\n",
    "logging.basicConfig(format='%(asctime)s : %(levelname)s : %(message)s', level=logging.ERROR)\n",
    "\n",
    "import warnings\n",
    "warnings.filterwarnings(\"ignore\",category=DeprecationWarning)"
   ]
  },
  {
   "cell_type": "code",
   "execution_count": 2,
   "id": "2d89047e-92e5-4a22-a426-396eba7086f7",
   "metadata": {
    "tags": []
   },
   "outputs": [],
   "source": [
    "# NLTK Stop words\n",
    "from nltk.corpus import stopwords\n",
    "stop_words = stopwords.words('german')\n",
    "stop_words.extend(['ja', 'ne', 'ok', 'okay', 'genau', 'also', 'mhm'])"
   ]
  },
  {
   "cell_type": "code",
   "execution_count": 4,
   "id": "71eefb79-2cc4-4756-8109-42fbabdce728",
   "metadata": {
    "tags": []
   },
   "outputs": [],
   "source": [
    "os.chdir('input/app_v2')\n",
    "\n",
    "path_v1 = (\"C:\\\\Users\\\\vanandkuma\\\\Documents\\\\projects\\\\sentiment_analysis\\\\input\\\\app_v2\")"
   ]
  },
  {
   "cell_type": "code",
   "execution_count": 33,
   "id": "4e54db31-d479-4ca3-96b2-4a31179017a5",
   "metadata": {
    "tags": []
   },
   "outputs": [],
   "source": [
    "files = []\n",
    "for file in os.listdir(path_v1):\n",
    "    if file.endswith('.docx'):\n",
    "        files.append(file)"
   ]
  },
  {
   "cell_type": "code",
   "execution_count": 34,
   "id": "ef7dc0e7-161b-4509-af81-f3c8a185c24a",
   "metadata": {
    "tags": []
   },
   "outputs": [],
   "source": [
    "pooled_doc = []\n",
    "for i in range(len(files)):\n",
    "    text = docx2txt.process(files[i])\n",
    "    pooled_doc.append(text) "
   ]
  },
  {
   "cell_type": "code",
   "execution_count": 35,
   "id": "e52c4d85-1d9c-4a47-a356-a4135157be52",
   "metadata": {
    "tags": []
   },
   "outputs": [],
   "source": [
    "df = []\n",
    "for i in range(len(pooled_doc)):\n",
    "    sentence = nltk.tokenize.sent_tokenize(pooled_doc[i])\n",
    "    for i in range(len(sentence)):\n",
    "        df.append(sentence[i])"
   ]
  },
  {
   "cell_type": "code",
   "execution_count": 36,
   "id": "babf492c-673b-485c-ab49-f7b07894408b",
   "metadata": {
    "tags": []
   },
   "outputs": [],
   "source": [
    "for i in range(len(df)):\n",
    "    df[i] = df[i].replace('\\n', '')"
   ]
  },
  {
   "cell_type": "code",
   "execution_count": 16,
   "id": "a9d24eee-0c49-44ce-88f2-e37fc6965c77",
   "metadata": {
    "tags": []
   },
   "outputs": [
    {
     "name": "stdout",
     "output_type": "stream",
     "text": [
      "                                                   text   \n",
      "0                                 Transkript TN01I: Ja.  \\\n",
      "1            T: Ja, ich höre Sie ein bisschen schlecht.   \n",
      "2                            Das hallt so ein bisschen.   \n",
      "3                                                I: Oh!   \n",
      "4                              Ok, ist es jetzt besser?   \n",
      "...                                                 ...   \n",
      "2971  Die ist auch Partner im Forschungsprojekt, die...   \n",
      "2972  TN: Ja, also ich fand es jetzt tatsächlich auc...   \n",
      "2973  I: Freut mich, das freut mich gut, also dann g...   \n",
      "2974  I: Ja, also ja dann alles Gute für die nächste...   \n",
      "2975                  TN: Dankeschön, schönen Tag noch.   \n",
      "\n",
      "                                         text_processed  \n",
      "0                                  transkript tn01i: ja  \n",
      "1              t: ja ich höre sie ein bisschen schlecht  \n",
      "2                             das hallt so ein bisschen  \n",
      "3                                                 i: oh  \n",
      "4                                ok ist es jetzt besser  \n",
      "...                                                 ...  \n",
      "2971  die ist auch partner im forschungsprojekt die ...  \n",
      "2972  tn: ja also ich fand es jetzt tatsächlich auch...  \n",
      "2973  i: freut mich das freut mich gut also dann gan...  \n",
      "2974  i: ja also ja dann alles gute für die nächste ...  \n",
      "2975                    tn: dankeschön schönen tag noch  \n",
      "\n",
      "[2976 rows x 2 columns]\n"
     ]
    }
   ],
   "source": [
    "#print(df)"
   ]
  },
  {
   "cell_type": "code",
   "execution_count": 37,
   "id": "ddc0b241-52f7-44e5-9dd0-76e85a96bf63",
   "metadata": {
    "tags": []
   },
   "outputs": [],
   "source": [
    "df = pd.DataFrame(df, columns=['text'])"
   ]
  },
  {
   "cell_type": "code",
   "execution_count": 38,
   "id": "7f2a3520-e826-45f2-80fd-de82ab326b83",
   "metadata": {
    "tags": []
   },
   "outputs": [],
   "source": [
    "df = df.replace('I:','', regex=True)\n",
    "df = df.replace('TN:','', regex=True)\n",
    "df = df.replace('N:','', regex=True)\n",
    "df = df.replace('ZN:','', regex=True)\n",
    "df = df.replace('i:','', regex=True)\n",
    "df = df.replace('T:','', regex=True)\n",
    "df = df.replace('t:','', regex=True)"
   ]
  },
  {
   "cell_type": "code",
   "execution_count": 39,
   "id": "05e89057-8e52-4c9e-a731-27ecc6f42288",
   "metadata": {
    "tags": []
   },
   "outputs": [],
   "source": [
    "df['text_processed'] = \\\n",
    "df['text'].map(lambda x: re.sub('[,.!?]', '', x))"
   ]
  },
  {
   "cell_type": "code",
   "execution_count": 40,
   "id": "5ad76250-8312-497a-ad8e-db6d042bb810",
   "metadata": {
    "tags": []
   },
   "outputs": [],
   "source": [
    "df['text_processed'] = \\\n",
    "df['text_processed'].map(lambda x: x.lower())"
   ]
  },
  {
   "cell_type": "code",
   "execution_count": 41,
   "id": "a652e364-6765-471d-93af-a580b8aa1f97",
   "metadata": {
    "tags": []
   },
   "outputs": [
    {
     "data": {
      "text/html": [
       "<div>\n",
       "<style scoped>\n",
       "    .dataframe tbody tr th:only-of-type {\n",
       "        vertical-align: middle;\n",
       "    }\n",
       "\n",
       "    .dataframe tbody tr th {\n",
       "        vertical-align: top;\n",
       "    }\n",
       "\n",
       "    .dataframe thead th {\n",
       "        text-align: right;\n",
       "    }\n",
       "</style>\n",
       "<table border=\"1\" class=\"dataframe\">\n",
       "  <thead>\n",
       "    <tr style=\"text-align: right;\">\n",
       "      <th></th>\n",
       "      <th>text</th>\n",
       "      <th>text_processed</th>\n",
       "    </tr>\n",
       "  </thead>\n",
       "  <tbody>\n",
       "    <tr>\n",
       "      <th>0</th>\n",
       "      <td>Ja.</td>\n",
       "      <td>ja</td>\n",
       "    </tr>\n",
       "    <tr>\n",
       "      <th>1</th>\n",
       "      <td>Ja, ich höre Sie ein bisschen schlecht.</td>\n",
       "      <td>ja ich höre sie ein bisschen schlecht</td>\n",
       "    </tr>\n",
       "    <tr>\n",
       "      <th>2</th>\n",
       "      <td>Das hallt so ein bisschen.</td>\n",
       "      <td>das hallt so ein bisschen</td>\n",
       "    </tr>\n",
       "    <tr>\n",
       "      <th>3</th>\n",
       "      <td>Oh!</td>\n",
       "      <td>oh</td>\n",
       "    </tr>\n",
       "    <tr>\n",
       "      <th>4</th>\n",
       "      <td>Ok, ist es jetzt besser?</td>\n",
       "      <td>ok ist es jetzt besser</td>\n",
       "    </tr>\n",
       "  </tbody>\n",
       "</table>\n",
       "</div>"
      ],
      "text/plain": [
       "                                       text   \n",
       "0                                       Ja.  \\\n",
       "1   Ja, ich höre Sie ein bisschen schlecht.   \n",
       "2                Das hallt so ein bisschen.   \n",
       "3                                       Oh!   \n",
       "4                  Ok, ist es jetzt besser?   \n",
       "\n",
       "                           text_processed  \n",
       "0                                      ja  \n",
       "1   ja ich höre sie ein bisschen schlecht  \n",
       "2               das hallt so ein bisschen  \n",
       "3                                      oh  \n",
       "4                  ok ist es jetzt besser  "
      ]
     },
     "execution_count": 41,
     "metadata": {},
     "output_type": "execute_result"
    }
   ],
   "source": [
    "df.head()"
   ]
  },
  {
   "cell_type": "code",
   "execution_count": 42,
   "id": "5b44e8a0-4384-4e5c-bbc1-7f5b25d2f48e",
   "metadata": {
    "tags": []
   },
   "outputs": [],
   "source": [
    "def sent_to_words(sentences):\n",
    "    for sentence in sentences:\n",
    "        yield(gensim.utils.simple_preprocess(str(sentence), \n",
    "                                             deacc = True))"
   ]
  },
  {
   "cell_type": "code",
   "execution_count": 43,
   "id": "2f4157ac-13ef-43d3-b5f8-ca0a5866d165",
   "metadata": {
    "tags": []
   },
   "outputs": [],
   "source": [
    "data = df.text_processed.values.tolist()\n",
    "data_words = list(sent_to_words(data))"
   ]
  },
  {
   "cell_type": "code",
   "execution_count": 44,
   "id": "f93b643c-d637-46ef-ae5a-581618d51d3c",
   "metadata": {
    "tags": []
   },
   "outputs": [
    {
     "name": "stdout",
     "output_type": "stream",
     "text": [
      "['ja']\n"
     ]
    }
   ],
   "source": [
    "# Build the bigram and trigram models\n",
    "bigram = gensim.models.Phrases(data_words, min_count=3, threshold=10) # higher threshold fewer phrases.\n",
    "trigram = gensim.models.Phrases(bigram[data_words], threshold=10)  \n",
    "\n",
    "# Faster way to get a sentence clubbed as a trigram/bigram\n",
    "bigram_mod = gensim.models.phrases.Phraser(bigram)\n",
    "trigram_mod = gensim.models.phrases.Phraser(trigram)\n",
    "\n",
    "# See trigram example\n",
    "print(trigram_mod[bigram_mod[data_words[0]]])"
   ]
  },
  {
   "cell_type": "code",
   "execution_count": 45,
   "id": "2af4afc7-6a3d-48b7-82ff-90eed9de2196",
   "metadata": {
    "tags": []
   },
   "outputs": [],
   "source": [
    "# Define functions for stopwords, bigrams, trigrams and lemmatization\n",
    "def remove_stopwords(texts):\n",
    "    return [[word for word in simple_preprocess(str(doc)) if word not in stop_words] for doc in texts]\n",
    "\n",
    "def make_bigrams(texts):\n",
    "    return [bigram_mod[doc] for doc in texts]\n",
    "\n",
    "def make_trigrams(texts):\n",
    "    return [trigram_mod[bigram_mod[doc]] for doc in texts]\n",
    "\n",
    "def lemmatization(texts, allowed_postags=['NOUN', 'ADJ', 'VERB', 'ADV']):\n",
    "    \"\"\"https://spacy.io/api/annotation\"\"\"\n",
    "    texts_out = []\n",
    "    for sent in texts:\n",
    "        doc = nlp(\" \".join(sent)) \n",
    "        texts_out.append([token.lemma_ for token in doc if token.pos_ in allowed_postags])\n",
    "    return texts_out"
   ]
  },
  {
   "cell_type": "code",
   "execution_count": 46,
   "id": "1b69d6e8-5363-4e0c-b957-5f3955ab01b6",
   "metadata": {
    "tags": []
   },
   "outputs": [],
   "source": [
    "# Remove Stop Words\n",
    "data_words_nostops = remove_stopwords(data_words)"
   ]
  },
  {
   "cell_type": "code",
   "execution_count": 47,
   "id": "f2d6824d-d63c-40f8-84bd-ba140c374d8b",
   "metadata": {
    "tags": []
   },
   "outputs": [],
   "source": [
    "# Form Bigrams\n",
    "data_words_bigrams = make_bigrams(data_words_nostops)"
   ]
  },
  {
   "cell_type": "code",
   "execution_count": 48,
   "id": "0945842d-b7ab-472a-98b6-48aae1d916ea",
   "metadata": {
    "tags": []
   },
   "outputs": [],
   "source": [
    "# Initialize spacy 'en' model, keeping only tagger component (for efficiency)\n",
    "# python3 -m spacy download en\n",
    "nlp = spacy.load(\"de_core_news_sm\", disable = ['parser', 'ner'])"
   ]
  },
  {
   "cell_type": "code",
   "execution_count": 49,
   "id": "a344947a-84c8-409c-adda-e7ec17a156d5",
   "metadata": {
    "tags": []
   },
   "outputs": [
    {
     "name": "stdout",
     "output_type": "stream",
     "text": [
      "[[]]\n"
     ]
    }
   ],
   "source": [
    "# Do lemmatization keeping only noun, adj, vb, adv\n",
    "data_lemmatized = lemmatization(data_words_bigrams, allowed_postags=['NOUN', 'ADJ', 'VERB', 'ADV'])\n",
    "\n",
    "print(data_lemmatized[:1])"
   ]
  },
  {
   "cell_type": "code",
   "execution_count": 51,
   "id": "e4fc1c71-d11b-47b4-b9b0-ce77aff86e78",
   "metadata": {
    "tags": []
   },
   "outputs": [
    {
     "name": "stdout",
     "output_type": "stream",
     "text": [
      "[[]]\n"
     ]
    }
   ],
   "source": [
    "# Create Dictionary\n",
    "id2word = corpora.Dictionary(data_lemmatized)\n",
    "\n",
    "# Create Corpus\n",
    "texts = data_lemmatized\n",
    "\n",
    "# Term Document Frequency\n",
    "corpus = [id2word.doc2bow(text) for text in texts]\n",
    "\n",
    "# View\n",
    "print(corpus[:1])"
   ]
  },
  {
   "cell_type": "code",
   "execution_count": 52,
   "id": "f39484e3-e8d1-4a52-aa71-25f88f96c76e",
   "metadata": {
    "tags": []
   },
   "outputs": [
    {
     "data": {
      "text/plain": [
       "[[]]"
      ]
     },
     "execution_count": 52,
     "metadata": {},
     "output_type": "execute_result"
    }
   ],
   "source": [
    "# Human readable format of corpus (term-frequency)\n",
    "[[(id2word[id], freq) for id, freq in cp] for cp in corpus[:1]]"
   ]
  },
  {
   "cell_type": "code",
   "execution_count": 53,
   "id": "e73fe189-e116-4403-a711-bef5c8a843f4",
   "metadata": {
    "tags": []
   },
   "outputs": [],
   "source": [
    "# Build LDA model\n",
    "lda_model = gensim.models.ldamodel.LdaModel(corpus=corpus,\n",
    "                                           id2word=id2word,\n",
    "                                           num_topics=2, \n",
    "                                           random_state=100,\n",
    "                                           update_every=1,\n",
    "                                           chunksize=100,\n",
    "                                           passes=10,\n",
    "                                           alpha='auto',\n",
    "                                           per_word_topics=True)"
   ]
  },
  {
   "cell_type": "code",
   "execution_count": 54,
   "id": "940657c6-5ebd-4e42-8fc9-f9b5b1db19d8",
   "metadata": {
    "tags": []
   },
   "outputs": [
    {
     "name": "stdout",
     "output_type": "stream",
     "text": [
      "[(0,\n",
      "  '0.041*\"gut\" + 0.019*\"einfach\" + 0.018*\"schon\" + 0.018*\"machen\" + '\n",
      "  '0.015*\"mal\" + 0.013*\"eigentlich\" + 0.013*\"ganz\" + 0.013*\"wirklich\" + '\n",
      "  '0.012*\"irgendwie\" + 0.012*\"gehen\"'),\n",
      " (1,\n",
      "  '0.052*\"halt\" + 0.037*\"sagen\" + 0.034*\"finden\" + 0.028*\"nochmal\" + '\n",
      "  '0.020*\"vielleicht\" + 0.017*\"wissen\" + 0.012*\"bissch\" + 0.011*\"einfach\" + '\n",
      "  '0.010*\"Fall\" + 0.009*\"Punkt\"')]\n"
     ]
    }
   ],
   "source": [
    "# Print the Keyword in the 10 topics\n",
    "pprint(lda_model.print_topics())\n",
    "doc_lda = lda_model[corpus]"
   ]
  },
  {
   "cell_type": "code",
   "execution_count": 55,
   "id": "da9ea0b7-09b6-47a1-b96a-c949f8877f2a",
   "metadata": {
    "tags": []
   },
   "outputs": [
    {
     "name": "stdout",
     "output_type": "stream",
     "text": [
      "\n",
      "Perplexity:  -7.236266871460867\n",
      "\n",
      "Coherence Score:  0.46977052528225394\n"
     ]
    }
   ],
   "source": [
    "# Compute Perplexity\n",
    "print('\\nPerplexity: ', lda_model.log_perplexity(corpus))  # a measure of how good the model is. lower the better.\n",
    "\n",
    "# Compute Coherence Score\n",
    "coherence_model_lda = CoherenceModel(model=lda_model, texts=data_lemmatized, dictionary=id2word, coherence='c_v')\n",
    "coherence_lda = coherence_model_lda.get_coherence()\n",
    "print('\\nCoherence Score: ', coherence_lda)"
   ]
  },
  {
   "cell_type": "code",
   "execution_count": 56,
   "id": "35834e7c-9f91-4ba1-a9e3-46c49c04f2e7",
   "metadata": {
    "tags": []
   },
   "outputs": [
    {
     "data": {
      "text/html": [
       "\n",
       "<link rel=\"stylesheet\" type=\"text/css\" href=\"https://cdn.jsdelivr.net/gh/bmabey/pyLDAvis@3.4.0/pyLDAvis/js/ldavis.v1.0.0.css\">\n",
       "\n",
       "\n",
       "<div id=\"ldavis_el867922522176309952406207414\" style=\"background-color:white;\"></div>\n",
       "<script type=\"text/javascript\">\n",
       "\n",
       "var ldavis_el867922522176309952406207414_data = {\"mdsDat\": {\"x\": [0.14804217755032173, -0.14804217755032173], \"y\": [0.0, 0.0], \"topics\": [1, 2], \"cluster\": [1, 1], \"Freq\": [61.05459535854181, 38.94540464145819]}, \"tinfo\": {\"Term\": [\"halt\", \"sagen\", \"gut\", \"finden\", \"nochmal\", \"vielleicht\", \"wissen\", \"schon\", \"machen\", \"bissch\", \"mal\", \"ganz\", \"eigentlich\", \"Fall\", \"wirklich\", \"gehen\", \"geben\", \"irgendwie\", \"uber\", \"lachen\", \"Situation\", \"verstehen\", \"gerade\", \"naturlich\", \"Sache\", \"glauben\", \"Frage\", \"hilfreich\", \"Lektion\", \"fur\", \"gut\", \"schon\", \"machen\", \"gehen\", \"mal\", \"ganz\", \"geben\", \"Situation\", \"glauben\", \"naturlich\", \"eigentlich\", \"fur\", \"kommen\", \"Frage\", \"lachen\", \"eben\", \"Geburt\", \"gerade\", \"wirklich\", \"denken\", \"Beispiel\", \"gerne\", \"Zeit\", \"wichtig\", \"Kapitel\", \"mehr\", \"irgendwie\", \"Kommunikation\", \"richtig\", \"praktisch\", \"bisschen\", \"klar\", \"tatsachlich\", \"einfach\", \"app\", \"immer\", \"halt\", \"nochmal\", \"wissen\", \"vielleicht\", \"bissch\", \"Fall\", \"sagen\", \"uber\", \"Sache\", \"verstehen\", \"funktionieren\", \"Moglichkeit\", \"Tatsachlich\", \"hilfreich\", \"Woche\", \"technisch\", \"ah\", \"erstmal\", \"Interview\", \"Chance\", \"lange\", \"deswegen\", \"Lektion\", \"finden\", \"gar\", \"sehen\", \"generell\", \"Motivation\", \"neu\", \"verbessern\", \"nutzen\", \"Halt\", \"erster\", \"spannend\", \"gleich\", \"rein\", \"vorher\", \"Punkt\", \"isbar\", \"einfach\", \"app\"], \"Freq\": [302.0, 221.0, 374.0, 206.0, 165.0, 117.0, 100.0, 168.0, 165.0, 70.0, 138.0, 118.0, 119.0, 57.0, 118.0, 106.0, 99.0, 111.0, 47.0, 94.0, 88.0, 45.0, 90.0, 87.0, 43.0, 83.0, 80.0, 41.0, 43.0, 73.0, 373.81791632323484, 167.43421227201148, 164.41394337044412, 105.63870733517163, 137.13019916565005, 117.5801945939308, 99.22127506787861, 88.08244832032018, 82.72971053357026, 86.9644209154448, 118.16096474327864, 72.54979283441905, 63.76929297480077, 80.16586987776464, 93.84187928450609, 60.01098952145371, 60.60941456186424, 89.6988676703089, 117.38000142018323, 61.368342075112515, 64.30183492257386, 43.19010264493711, 44.77995288651046, 68.69052507598487, 31.59954179551254, 64.71550370789078, 109.86099029912239, 42.49361274810355, 38.418156171393896, 26.789953282597345, 46.73988282968852, 57.02113308507106, 55.211170245789226, 168.9873178218286, 88.8127792274741, 78.65501585577964, 300.59036059942844, 164.25008580442747, 99.13708622521199, 115.66592791494101, 69.61057851943488, 56.524914315865786, 217.23747946193282, 46.60940965768127, 42.33309248320682, 44.56907588423785, 27.883072973987744, 22.694781701551047, 35.70143599589618, 40.06711485459937, 21.51289060532597, 14.83498322969197, 22.84213384575697, 20.89919018715697, 12.39108548068753, 11.443192019455589, 14.597857652251514, 26.256667101080783, 40.9944600154469, 195.13399363264844, 30.621166062632927, 17.162054960782605, 14.43851348700133, 11.138097481131874, 14.502622132205644, 8.217740657577727, 32.07807174481228, 29.128058867865153, 25.83449882044141, 25.51481689234017, 24.789965842553666, 17.55660635810525, 19.2023711842684, 50.97105472612438, 19.24971016996446, 61.35227045981055, 19.929401128793778], \"Total\": [302.0, 221.0, 374.0, 206.0, 165.0, 117.0, 100.0, 168.0, 165.0, 70.0, 138.0, 118.0, 119.0, 57.0, 118.0, 106.0, 99.0, 111.0, 47.0, 94.0, 88.0, 45.0, 90.0, 87.0, 43.0, 83.0, 80.0, 41.0, 43.0, 73.0, 374.65180281287115, 168.09070172280028, 165.21855146827556, 106.31785057501097, 138.03512594312866, 118.37748478130695, 99.93661285938568, 88.72925318980572, 83.34823613540095, 87.72043824310272, 119.1946824754057, 73.20554278230594, 64.36370042080426, 80.93465260584942, 94.76302585094565, 60.606787885973716, 61.21447006496961, 90.65404022958985, 118.63560141030702, 62.03620959374052, 65.04178188903501, 43.81604740697862, 45.48959495739531, 69.8171326244467, 32.12714110907986, 65.79637159491985, 111.91350694939923, 43.30048006547992, 39.156106239551725, 27.346320815763892, 47.91700438743005, 58.576526598193304, 57.151487654480526, 230.33958828163915, 108.74218035626788, 97.39680055217264, 302.42850933366856, 165.61075248610996, 100.0992115849327, 117.02819656846522, 70.69270646416733, 57.50242348618212, 221.07965370066063, 47.52513147114642, 43.26294275975178, 45.92694324876347, 28.80803876418147, 23.672824664070113, 37.25812379337393, 41.84006263382801, 22.503559330808585, 15.519802052007837, 24.037924543167872, 22.0674600638743, 13.090190569105845, 12.098013386631614, 15.43460798138836, 27.774250701087425, 43.39271225858201, 206.5877301345301, 32.57927961762416, 18.27096431388964, 15.4097033936097, 11.896489681025056, 15.496378995381521, 8.790896844151721, 34.33117721745522, 31.475138752109565, 27.99113836619835, 27.648397884770475, 28.346185660460314, 19.288503923040423, 21.80084199778171, 80.53192009240507, 22.975424455242848, 230.33958828163915, 108.74218035626788], \"Category\": [\"Default\", \"Default\", \"Default\", \"Default\", \"Default\", \"Default\", \"Default\", \"Default\", \"Default\", \"Default\", \"Default\", \"Default\", \"Default\", \"Default\", \"Default\", \"Default\", \"Default\", \"Default\", \"Default\", \"Default\", \"Default\", \"Default\", \"Default\", \"Default\", \"Default\", \"Default\", \"Default\", \"Default\", \"Default\", \"Default\", \"Topic1\", \"Topic1\", \"Topic1\", \"Topic1\", \"Topic1\", \"Topic1\", \"Topic1\", \"Topic1\", \"Topic1\", \"Topic1\", \"Topic1\", \"Topic1\", \"Topic1\", \"Topic1\", \"Topic1\", \"Topic1\", \"Topic1\", \"Topic1\", \"Topic1\", \"Topic1\", \"Topic1\", \"Topic1\", \"Topic1\", \"Topic1\", \"Topic1\", \"Topic1\", \"Topic1\", \"Topic1\", \"Topic1\", \"Topic1\", \"Topic1\", \"Topic1\", \"Topic1\", \"Topic1\", \"Topic1\", \"Topic1\", \"Topic2\", \"Topic2\", \"Topic2\", \"Topic2\", \"Topic2\", \"Topic2\", \"Topic2\", \"Topic2\", \"Topic2\", \"Topic2\", \"Topic2\", \"Topic2\", \"Topic2\", \"Topic2\", \"Topic2\", \"Topic2\", \"Topic2\", \"Topic2\", \"Topic2\", \"Topic2\", \"Topic2\", \"Topic2\", \"Topic2\", \"Topic2\", \"Topic2\", \"Topic2\", \"Topic2\", \"Topic2\", \"Topic2\", \"Topic2\", \"Topic2\", \"Topic2\", \"Topic2\", \"Topic2\", \"Topic2\", \"Topic2\", \"Topic2\", \"Topic2\", \"Topic2\", \"Topic2\", \"Topic2\"], \"logprob\": [30.0, 29.0, 28.0, 27.0, 26.0, 25.0, 24.0, 23.0, 22.0, 21.0, 20.0, 19.0, 18.0, 17.0, 16.0, 15.0, 14.0, 13.0, 12.0, 11.0, 10.0, 9.0, 8.0, 7.0, 6.0, 5.0, 4.0, 3.0, 2.0, 1.0, -3.1911, -3.9943, -4.0125, -4.4549, -4.194, -4.3478, -4.5176, -4.6366, -4.6993, -4.6494, -4.3429, -4.8306, -4.9596, -4.7308, -4.5733, -5.0204, -5.0105, -4.6185, -4.3495, -4.998, -4.9513, -5.3493, -5.3131, -4.8853, -5.6618, -4.9449, -4.4157, -5.3656, -5.4664, -5.8269, -5.2703, -5.0715, -5.1037, -3.9851, -4.6284, -4.7498, -2.9596, -3.5639, -4.0688, -3.9146, -4.4224, -4.6306, -3.2843, -4.8235, -4.9197, -4.8683, -5.3373, -5.5432, -5.0901, -4.9747, -5.5966, -5.9683, -5.5367, -5.6256, -6.1483, -6.2279, -5.9844, -5.3974, -4.9519, -3.3916, -5.2436, -5.8226, -5.9954, -6.2549, -5.991, -6.559, -5.1971, -5.2936, -5.4136, -5.426, -5.4549, -5.7999, -5.7103, -4.734, -5.7078, -4.5487, -5.6731], \"loglift\": [30.0, 29.0, 28.0, 27.0, 26.0, 25.0, 24.0, 23.0, 22.0, 21.0, 20.0, 19.0, 18.0, 17.0, 16.0, 15.0, 14.0, 13.0, 12.0, 11.0, 10.0, 9.0, 8.0, 7.0, 6.0, 5.0, 4.0, 3.0, 2.0, 1.0, 0.4912, 0.4895, 0.4885, 0.487, 0.4868, 0.4866, 0.4862, 0.4861, 0.486, 0.4847, 0.4847, 0.4844, 0.4841, 0.4839, 0.4836, 0.4835, 0.4835, 0.4828, 0.4828, 0.4826, 0.482, 0.479, 0.4777, 0.4771, 0.4768, 0.4768, 0.4749, 0.4746, 0.4744, 0.4728, 0.4685, 0.4665, 0.4589, 0.1837, 0.291, 0.2797, 0.9369, 0.9348, 0.9334, 0.9313, 0.9276, 0.9259, 0.9255, 0.9236, 0.9213, 0.913, 0.9104, 0.9008, 0.9003, 0.8997, 0.898, 0.8979, 0.892, 0.8886, 0.8881, 0.8874, 0.8873, 0.8868, 0.8862, 0.886, 0.881, 0.8804, 0.8779, 0.8771, 0.8767, 0.8756, 0.8751, 0.8655, 0.8628, 0.8627, 0.809, 0.8489, 0.8161, 0.4856, 0.7661, -0.3799, -0.7538]}, \"token.table\": {\"Topic\": [1, 2, 1, 2, 1, 2, 1, 2, 1, 2, 1, 2, 1, 2, 1, 2, 1, 2, 1, 2, 1, 2, 1, 2, 1, 2, 1, 2, 1, 2, 1, 2, 1, 2, 1, 2, 1, 2, 1, 2, 1, 2, 1, 2, 1, 2, 1, 2, 1, 2, 1, 2, 1, 2, 1, 2, 1, 2, 1, 2, 1, 2, 1, 2, 1, 2, 1, 2, 1, 2, 1, 2, 1, 2, 1, 2, 1, 2, 1, 2, 1, 2, 1, 2, 1, 2, 1, 2, 1, 2, 1, 2, 1, 2, 1, 2, 1, 2, 1, 2, 1, 2, 1, 2, 1, 2, 1, 2, 1, 2, 1, 2, 1, 2, 1, 2, 1, 2, 1, 2, 1, 2, 1, 2, 1, 2, 1, 2, 1, 2, 1, 2, 1, 2, 1, 2, 1, 2, 1, 2, 1, 2, 1, 2, 1, 2, 1, 2, 1, 2], \"Freq\": [0.9839828820985816, 0.015374732532790338, 0.0826581991639228, 0.9092401908031507, 0.017390571377227274, 0.9912625685019545, 0.9884517623075351, 0.012355647028844188, 0.9964964155575964, 0.01633600681241961, 0.06354221392799908, 0.9213621019559867, 0.07639308188225309, 0.916716982587037, 0.9960425638668507, 0.031126330120839086, 0.9699661513333501, 0.023094432174603573, 0.046090688871480934, 0.9448591218653591, 0.04224252974414876, 0.9715781841154214, 0.08405840939743794, 0.9246425033718173, 0.3725230935208918, 0.633289258985516, 0.02311447017261887, 0.9708077472499925, 0.991781141353171, 0.01127024024264967, 0.05367956827594428, 0.966232228966997, 0.044437414779578716, 0.9776231251507318, 0.9892372100069509, 0.021983049111265574, 0.04160092932333557, 0.956821374436718, 0.8184496550318623, 0.18392127079367693, 0.014145730868387099, 0.990201160787097, 0.9808626520135595, 0.020869418127948073, 0.9832966971946481, 0.01611961798679751, 0.07200914334375529, 0.9361188634688187, 0.9899881200251804, 0.016499802000419676, 0.989977048886789, 0.008389636007515161, 0.7336993230766807, 0.26482638288566585, 0.07145118479408355, 0.9288654023230861, 0.045315591241832924, 0.9516274160784913, 0.05324614386748328, 0.9439089140144763, 0.03471253312958437, 0.9719509276283622, 0.9971922510988387, 0.013660167823271762, 0.9968111775477886, 0.008447552352099904, 0.06138871158213319, 0.9515250295230644, 0.9906279307194099, 0.010006342734539493, 0.9970103743323262, 0.009405758248418172, 0.06489417573181151, 0.9085184602453611, 0.9927853162646316, 0.011030947958495907, 0.9813756042529603, 0.022822688470999077, 0.9958219135575318, 0.011997854380211228, 0.14111246034698569, 0.8819528771686604, 0.9982602437570633, 0.0026691450367835917, 0.00661313314808362, 0.9952765387865848, 0.04780107567006806, 0.9560215134013612, 0.8111149396296852, 0.1950782766197977, 0.9829019123646584, 0.017870943861175607, 0.1740990686719272, 0.8269705761916541, 0.9730860348035397, 0.034143369642229464, 0.9943492928711926, 0.015536707701112384, 0.9919480636662464, 0.010552638975172834, 0.06478946541472502, 0.9718419812208754, 0.9926246086928711, 0.006052589077395555, 0.9925009961337294, 0.007244532818494375, 0.9878964207962292, 0.015198406473788142, 0.9917871107631024, 0.011399851847851751, 0.06453120437348854, 0.9679680656023282, 0.006038255276231968, 0.9902738653020428, 0.05825608563702637, 0.9320973701924219, 0.9873357436966711, 0.03656799050728411, 0.10368870535422751, 0.9331983481880477, 0.9704744329663725, 0.025538800867536116, 0.0180930263506562, 0.9815466795230988, 0.9935112310697651, 0.005949169048321947, 0.054731648686971446, 0.9304380276785146, 0.07233692195603338, 0.9403799854284338, 0.9623546517723611, 0.03499471460990404, 0.06443381150409888, 0.9665071725614832, 0.021041498866912603, 0.9889504467448924, 0.11375403644569727, 0.9100322915655782, 0.021773711230540557, 0.979817005374325, 0.008544949245756925, 0.9912141125078032, 0.1376093639092131, 0.8715259714250164, 0.9882961016339337, 0.014323131907738169, 0.986213232867171, 0.008429172930488641, 0.009990088674689658, 0.9890187787942761], \"Term\": [\"Beispiel\", \"Beispiel\", \"Chance\", \"Chance\", \"Fall\", \"Fall\", \"Frage\", \"Frage\", \"Geburt\", \"Geburt\", \"Halt\", \"Halt\", \"Interview\", \"Interview\", \"Kapitel\", \"Kapitel\", \"Kommunikation\", \"Kommunikation\", \"Lektion\", \"Lektion\", \"Moglichkeit\", \"Moglichkeit\", \"Motivation\", \"Motivation\", \"Punkt\", \"Punkt\", \"Sache\", \"Sache\", \"Situation\", \"Situation\", \"Tatsachlich\", \"Tatsachlich\", \"Woche\", \"Woche\", \"Zeit\", \"Zeit\", \"ah\", \"ah\", \"app\", \"app\", \"bissch\", \"bissch\", \"bisschen\", \"bisschen\", \"denken\", \"denken\", \"deswegen\", \"deswegen\", \"eben\", \"eben\", \"eigentlich\", \"eigentlich\", \"einfach\", \"einfach\", \"erster\", \"erster\", \"erstmal\", \"erstmal\", \"finden\", \"finden\", \"funktionieren\", \"funktionieren\", \"fur\", \"fur\", \"ganz\", \"ganz\", \"gar\", \"gar\", \"geben\", \"geben\", \"gehen\", \"gehen\", \"generell\", \"generell\", \"gerade\", \"gerade\", \"gerne\", \"gerne\", \"glauben\", \"glauben\", \"gleich\", \"gleich\", \"gut\", \"gut\", \"halt\", \"halt\", \"hilfreich\", \"hilfreich\", \"immer\", \"immer\", \"irgendwie\", \"irgendwie\", \"isbar\", \"isbar\", \"klar\", \"klar\", \"kommen\", \"kommen\", \"lachen\", \"lachen\", \"lange\", \"lange\", \"machen\", \"machen\", \"mal\", \"mal\", \"mehr\", \"mehr\", \"naturlich\", \"naturlich\", \"neu\", \"neu\", \"nochmal\", \"nochmal\", \"nutzen\", \"nutzen\", \"praktisch\", \"praktisch\", \"rein\", \"rein\", \"richtig\", \"richtig\", \"sagen\", \"sagen\", \"schon\", \"schon\", \"sehen\", \"sehen\", \"spannend\", \"spannend\", \"tatsachlich\", \"tatsachlich\", \"technisch\", \"technisch\", \"uber\", \"uber\", \"verbessern\", \"verbessern\", \"verstehen\", \"verstehen\", \"vielleicht\", \"vielleicht\", \"vorher\", \"vorher\", \"wichtig\", \"wichtig\", \"wirklich\", \"wirklich\", \"wissen\", \"wissen\"]}, \"R\": 30, \"lambda.step\": 0.01, \"plot.opts\": {\"xlab\": \"PC1\", \"ylab\": \"PC2\"}, \"topic.order\": [1, 2]};\n",
       "\n",
       "function LDAvis_load_lib(url, callback){\n",
       "  var s = document.createElement('script');\n",
       "  s.src = url;\n",
       "  s.async = true;\n",
       "  s.onreadystatechange = s.onload = callback;\n",
       "  s.onerror = function(){console.warn(\"failed to load library \" + url);};\n",
       "  document.getElementsByTagName(\"head\")[0].appendChild(s);\n",
       "}\n",
       "\n",
       "if(typeof(LDAvis) !== \"undefined\"){\n",
       "   // already loaded: just create the visualization\n",
       "   !function(LDAvis){\n",
       "       new LDAvis(\"#\" + \"ldavis_el867922522176309952406207414\", ldavis_el867922522176309952406207414_data);\n",
       "   }(LDAvis);\n",
       "}else if(typeof define === \"function\" && define.amd){\n",
       "   // require.js is available: use it to load d3/LDAvis\n",
       "   require.config({paths: {d3: \"https://d3js.org/d3.v5\"}});\n",
       "   require([\"d3\"], function(d3){\n",
       "      window.d3 = d3;\n",
       "      LDAvis_load_lib(\"https://cdn.jsdelivr.net/gh/bmabey/pyLDAvis@3.4.0/pyLDAvis/js/ldavis.v3.0.0.js\", function(){\n",
       "        new LDAvis(\"#\" + \"ldavis_el867922522176309952406207414\", ldavis_el867922522176309952406207414_data);\n",
       "      });\n",
       "    });\n",
       "}else{\n",
       "    // require.js not available: dynamically load d3 & LDAvis\n",
       "    LDAvis_load_lib(\"https://d3js.org/d3.v5.js\", function(){\n",
       "         LDAvis_load_lib(\"https://cdn.jsdelivr.net/gh/bmabey/pyLDAvis@3.4.0/pyLDAvis/js/ldavis.v3.0.0.js\", function(){\n",
       "                 new LDAvis(\"#\" + \"ldavis_el867922522176309952406207414\", ldavis_el867922522176309952406207414_data);\n",
       "            })\n",
       "         });\n",
       "}\n",
       "</script>"
      ],
      "text/plain": [
       "PreparedData(topic_coordinates=              x    y  topics  cluster       Freq\n",
       "topic                                           \n",
       "0      0.148042  0.0       1        1  61.054595\n",
       "1     -0.148042  0.0       2        1  38.945405, topic_info=        Term        Freq       Total Category  logprob  loglift\n",
       "56      halt  302.000000  302.000000  Default  30.0000  30.0000\n",
       "191    sagen  221.000000  221.000000  Default  29.0000  29.0000\n",
       "3        gut  374.000000  374.000000  Default  28.0000  28.0000\n",
       "127   finden  206.000000  206.000000  Default  27.0000  27.0000\n",
       "128  nochmal  165.000000  165.000000  Default  26.0000  26.0000\n",
       "..       ...         ...         ...      ...      ...      ...\n",
       "186   vorher   19.202371   21.800842   Topic2  -5.7103   0.8161\n",
       "194    Punkt   50.971055   80.531920   Topic2  -4.7340   0.4856\n",
       "269    isbar   19.249710   22.975424   Topic2  -5.7078   0.7661\n",
       "19   einfach   61.352270  230.339588   Topic2  -4.5487  -0.3799\n",
       "35       app   19.929401  108.742180   Topic2  -5.6731  -0.7538\n",
       "\n",
       "[107 rows x 6 columns], token_table=      Topic      Freq      Term\n",
       "term                           \n",
       "148       1  0.983983  Beispiel\n",
       "148       2  0.015375  Beispiel\n",
       "365       1  0.082658    Chance\n",
       "365       2  0.909240    Chance\n",
       "310       1  0.017391      Fall\n",
       "...     ...       ...       ...\n",
       "166       2  0.014323   wichtig\n",
       "111       1  0.986213  wirklich\n",
       "111       2  0.008429  wirklich\n",
       "54        1  0.009990    wissen\n",
       "54        2  0.989019    wissen\n",
       "\n",
       "[150 rows x 3 columns], R=30, lambda_step=0.01, plot_opts={'xlab': 'PC1', 'ylab': 'PC2'}, topic_order=[1, 2])"
      ]
     },
     "execution_count": 56,
     "metadata": {},
     "output_type": "execute_result"
    }
   ],
   "source": [
    "# Visualize the topics\n",
    "pyLDAvis.enable_notebook()\n",
    "vis = pyLDAvis.gensim.prepare(lda_model, corpus, id2word)\n",
    "vis"
   ]
  },
  {
   "cell_type": "code",
   "execution_count": 57,
   "id": "f63c4d5e-8760-4899-80b4-193ec224f1f2",
   "metadata": {
    "tags": []
   },
   "outputs": [],
   "source": [
    "def compute_coherence_values(dictionary, corpus, texts, limit, start=2, step=3):\n",
    "    \"\"\"\n",
    "    Compute c_v coherence for various number of topics\n",
    "\n",
    "    Parameters:\n",
    "    ----------\n",
    "    dictionary : Gensim dictionary\n",
    "    corpus : Gensim corpus\n",
    "    texts : List of input texts\n",
    "    limit : Max num of topics\n",
    "\n",
    "    Returns:\n",
    "    -------\n",
    "    model_list : List of LDA topic models\n",
    "    coherence_values : Coherence values corresponding to the LDA model with respective number of topics\n",
    "    \"\"\"\n",
    "    coherence_values = []\n",
    "    model_list = []\n",
    "    for num_topics in range(start, limit, step):\n",
    "        model = gensim.models.ldamodel.LdaModel(corpus=corpus,id2word=id2word, num_topics=num_topics)\n",
    "        model_list.append(model)\n",
    "        coherencemodel = CoherenceModel(model=model, texts=texts, dictionary=dictionary, coherence='c_v')\n",
    "        coherence_values.append(coherencemodel.get_coherence())\n",
    "\n",
    "    return model_list, coherence_values"
   ]
  },
  {
   "cell_type": "code",
   "execution_count": 58,
   "id": "3fe70221-20f5-484f-ab7a-ed4f5b42edac",
   "metadata": {
    "tags": []
   },
   "outputs": [],
   "source": [
    "model_list, coherence_values = compute_coherence_values(dictionary=id2word, \n",
    "                                                        corpus=corpus, \n",
    "                                                        texts=data_lemmatized, \n",
    "                                                        start=1, \n",
    "                                                        limit=6, \n",
    "                                                        step=1)"
   ]
  },
  {
   "cell_type": "code",
   "execution_count": 59,
   "id": "b4ca5c43-51ae-4049-a7f1-6e9a0ff3b094",
   "metadata": {
    "tags": []
   },
   "outputs": [
    {
     "data": {
      "image/png": "[encoded data removed]",
      "text/plain": [
       "<Figure size 640x480 with 1 Axes>"
      ]
     },
     "metadata": {},
     "output_type": "display_data"
    }
   ],
   "source": [
    "# Show graph\n",
    "limit=6; start=1; step=1;\n",
    "x = range(start, limit, step)\n",
    "plt.title(\"LDA Diagnostics \\n Optimum topics for version two feedback\")\n",
    "plt.plot(x, coherence_values)\n",
    "plt.xlabel(\"Num Topics\")\n",
    "plt.ylabel(\"Coherence score\")\n",
    "plt.savefig('output/app_v2_lda_topic_coherence.png')"
   ]
  },
  {
   "cell_type": "code",
   "execution_count": null,
   "id": "327e34e1-f90a-42ce-bb0e-960995f33845",
   "metadata": {},
   "outputs": [],
   "source": [
    "pyLDAvis.save_html(LDAvis_prepared, 'output/ldavis_app_v2.html')"
   ]
  },
  {
   "cell_type": "code",
   "execution_count": 41,
   "id": "e8d3b5bd-eec0-4d3f-8b09-9c36f1a16f13",
   "metadata": {
    "tags": []
   },
   "outputs": [],
   "source": [
    "os.chdir(\"C:\\\\Users\\\\vanandkuma\\\\Documents\\\\projects\\\\sentiment_analysis\")"
   ]
  }
 ],
 "metadata": {
  "kernelspec": {
   "display_name": "Python 3 (ipykernel)",
   "language": "python",
   "name": "python3"
  },
  "language_info": {
   "codemirror_mode": {
    "name": "ipython",
    "version": 3
   },
   "file_extension": ".py",
   "mimetype": "text/x-python",
   "name": "python",
   "nbconvert_exporter": "python",
   "pygments_lexer": "ipython3",
   "version": "3.10.2"
  }
 },
 "nbformat": 4,
 "nbformat_minor": 5
}
