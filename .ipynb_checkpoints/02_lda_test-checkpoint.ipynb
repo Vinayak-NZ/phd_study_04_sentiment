{
 "cells": [
  {
   "cell_type": "code",
   "execution_count": 3,
   "id": "e1cdf5a2-0732-4666-bb33-22ddedf73ea2",
   "metadata": {
    "tags": []
   },
   "outputs": [],
   "source": [
    "import pandas as pd\n",
    "import re\n",
    "from wordcloud import WordCloud\n",
    "import gensim\n",
    "from gensim.utils import simple_preprocess\n",
    "import gensim.corpora as corpora\n",
    "import nltk\n",
    "from nltk.corpus import stopwords\n",
    "from pprint import pprint\n",
    "import pyLDAvis.gensim\n",
    "import pickle\n",
    "import pyLDAvis"
   ]
  },
  {
   "cell_type": "code",
   "execution_count": null,
   "id": "c157458f-4290-448e-90a0-b26b96717c76",
   "metadata": {},
   "outputs": [],
   "source": [
    "nltk.download('stopwords')"
   ]
  },
  {
   "cell_type": "code",
   "execution_count": 4,
   "id": "e7f47e18-aadb-4906-b6a2-37b995bb36f3",
   "metadata": {
    "tags": []
   },
   "outputs": [],
   "source": [
    "df = pd.read_csv(\"input/app_v1_feedback.txt\", sep=\"\\t\", header=0, encoding = \"latin1\")"
   ]
  },
  {
   "cell_type": "code",
   "execution_count": 5,
   "id": "31a82ac8-e64d-467a-bcea-8f148e9b09bc",
   "metadata": {
    "tags": []
   },
   "outputs": [
    {
     "data": {
      "text/html": [
       "<div>\n",
       "<style scoped>\n",
       "    .dataframe tbody tr th:only-of-type {\n",
       "        vertical-align: middle;\n",
       "    }\n",
       "\n",
       "    .dataframe tbody tr th {\n",
       "        vertical-align: top;\n",
       "    }\n",
       "\n",
       "    .dataframe thead th {\n",
       "        text-align: right;\n",
       "    }\n",
       "</style>\n",
       "<table border=\"1\" class=\"dataframe\">\n",
       "  <thead>\n",
       "    <tr style=\"text-align: right;\">\n",
       "      <th></th>\n",
       "      <th>person_id</th>\n",
       "      <th>segment_id</th>\n",
       "      <th>text</th>\n",
       "      <th>tags</th>\n",
       "    </tr>\n",
       "  </thead>\n",
       "  <tbody>\n",
       "    <tr>\n",
       "      <th>0</th>\n",
       "      <td>1</td>\n",
       "      <td>1</td>\n",
       "      <td>Jetzt sehen Sie vermutlich die Startseite. OK....</td>\n",
       "      <td>{general}</td>\n",
       "    </tr>\n",
       "    <tr>\n",
       "      <th>1</th>\n",
       "      <td>1</td>\n",
       "      <td>2</td>\n",
       "      <td>Ja genau. Vielleicht hätte ich jetzt Lektion d...</td>\n",
       "      <td>{general}</td>\n",
       "    </tr>\n",
       "    <tr>\n",
       "      <th>2</th>\n",
       "      <td>1</td>\n",
       "      <td>3</td>\n",
       "      <td>OK, das heißt ich geb jetzt hier meine Initial...</td>\n",
       "      <td>{general}</td>\n",
       "    </tr>\n",
       "    <tr>\n",
       "      <th>3</th>\n",
       "      <td>1</td>\n",
       "      <td>4</td>\n",
       "      <td>Und den Code muss ich irgendwie kopieren, oder?</td>\n",
       "      <td>{general}</td>\n",
       "    </tr>\n",
       "    <tr>\n",
       "      <th>4</th>\n",
       "      <td>1</td>\n",
       "      <td>5</td>\n",
       "      <td>OK. Ach das steht auch da, muss ich mir nichts...</td>\n",
       "      <td>{general}</td>\n",
       "    </tr>\n",
       "  </tbody>\n",
       "</table>\n",
       "</div>"
      ],
      "text/plain": [
       "   person_id  segment_id                                               text   \n",
       "0          1           1  Jetzt sehen Sie vermutlich die Startseite. OK....  \\\n",
       "1          1           2  Ja genau. Vielleicht hätte ich jetzt Lektion d...   \n",
       "2          1           3  OK, das heißt ich geb jetzt hier meine Initial...   \n",
       "3          1           4    Und den Code muss ich irgendwie kopieren, oder?   \n",
       "4          1           5  OK. Ach das steht auch da, muss ich mir nichts...   \n",
       "\n",
       "        tags  \n",
       "0  {general}  \n",
       "1  {general}  \n",
       "2  {general}  \n",
       "3  {general}  \n",
       "4  {general}  "
      ]
     },
     "execution_count": 5,
     "metadata": {},
     "output_type": "execute_result"
    }
   ],
   "source": [
    "df.head()"
   ]
  },
  {
   "cell_type": "code",
   "execution_count": 6,
   "id": "7d192892-b760-495c-99a5-b3a9edecbc30",
   "metadata": {
    "tags": []
   },
   "outputs": [],
   "source": [
    "df = df.drop(columns=['person_id', 'segment_id', 'tags'], \n",
    "             axis = 1)"
   ]
  },
  {
   "cell_type": "code",
   "execution_count": 7,
   "id": "2124ff68-ee69-42af-9739-332ba00d5fdd",
   "metadata": {
    "tags": []
   },
   "outputs": [
    {
     "data": {
      "text/html": [
       "<div>\n",
       "<style scoped>\n",
       "    .dataframe tbody tr th:only-of-type {\n",
       "        vertical-align: middle;\n",
       "    }\n",
       "\n",
       "    .dataframe tbody tr th {\n",
       "        vertical-align: top;\n",
       "    }\n",
       "\n",
       "    .dataframe thead th {\n",
       "        text-align: right;\n",
       "    }\n",
       "</style>\n",
       "<table border=\"1\" class=\"dataframe\">\n",
       "  <thead>\n",
       "    <tr style=\"text-align: right;\">\n",
       "      <th></th>\n",
       "      <th>text</th>\n",
       "    </tr>\n",
       "  </thead>\n",
       "  <tbody>\n",
       "    <tr>\n",
       "      <th>0</th>\n",
       "      <td>Jetzt sehen Sie vermutlich die Startseite. OK....</td>\n",
       "    </tr>\n",
       "    <tr>\n",
       "      <th>1</th>\n",
       "      <td>Ja genau. Vielleicht hätte ich jetzt Lektion d...</td>\n",
       "    </tr>\n",
       "    <tr>\n",
       "      <th>2</th>\n",
       "      <td>OK, das heißt ich geb jetzt hier meine Initial...</td>\n",
       "    </tr>\n",
       "    <tr>\n",
       "      <th>3</th>\n",
       "      <td>Und den Code muss ich irgendwie kopieren, oder?</td>\n",
       "    </tr>\n",
       "    <tr>\n",
       "      <th>4</th>\n",
       "      <td>OK. Ach das steht auch da, muss ich mir nichts...</td>\n",
       "    </tr>\n",
       "  </tbody>\n",
       "</table>\n",
       "</div>"
      ],
      "text/plain": [
       "                                                text\n",
       "0  Jetzt sehen Sie vermutlich die Startseite. OK....\n",
       "1  Ja genau. Vielleicht hätte ich jetzt Lektion d...\n",
       "2  OK, das heißt ich geb jetzt hier meine Initial...\n",
       "3    Und den Code muss ich irgendwie kopieren, oder?\n",
       "4  OK. Ach das steht auch da, muss ich mir nichts..."
      ]
     },
     "execution_count": 7,
     "metadata": {},
     "output_type": "execute_result"
    }
   ],
   "source": [
    "df.head()"
   ]
  },
  {
   "cell_type": "code",
   "execution_count": 8,
   "id": "4acec199-4acc-4d7d-b43b-052d5aaf31fe",
   "metadata": {
    "tags": []
   },
   "outputs": [
    {
     "name": "stderr",
     "output_type": "stream",
     "text": [
      "<>:2: DeprecationWarning: invalid escape sequence \\.\n",
      "<>:2: DeprecationWarning: invalid escape sequence \\.\n",
      "/var/folders/0q/6qs_8rhn08727vv5w4fkpnwr0000gn/T/ipykernel_4064/3268311697.py:2: DeprecationWarning: invalid escape sequence \\.\n",
      "  df['text'].map(lambda x: re.sub('[,\\.!?]', '', x))\n"
     ]
    }
   ],
   "source": [
    "df['text_processed'] = \\\n",
    "df['text'].map(lambda x: re.sub('[,\\.!?]', '', x))"
   ]
  },
  {
   "cell_type": "code",
   "execution_count": 9,
   "id": "4ef521d6-fc5d-49a2-a6b8-f7e8b5295874",
   "metadata": {
    "tags": []
   },
   "outputs": [],
   "source": [
    "df['text_processed'] = \\\n",
    "df['text_processed'].map(lambda x: x.lower())"
   ]
  },
  {
   "cell_type": "code",
   "execution_count": 11,
   "id": "da6ed103-d481-48e3-8a8f-89b2ff164cb7",
   "metadata": {
    "tags": []
   },
   "outputs": [
    {
     "data": {
      "text/plain": [
       "0    jetzt sehen sie vermutlich die startseite ok w...\n",
       "1    ja genau vielleicht hätte ich jetzt lektion da...\n",
       "2    ok das heißt ich geb jetzt hier meine initiale...\n",
       "3        und den code muss ich irgendwie kopieren oder\n",
       "4    ok ach das steht auch da muss ich mir nichts m...\n",
       "Name: text_processed, dtype: object"
      ]
     },
     "execution_count": 11,
     "metadata": {},
     "output_type": "execute_result"
    }
   ],
   "source": [
    "df['text_processed'].head()"
   ]
  },
  {
   "cell_type": "code",
   "execution_count": 12,
   "id": "6decef8d-564f-4d77-8c8e-ab941e9b2e91",
   "metadata": {
    "tags": []
   },
   "outputs": [],
   "source": [
    "long_string = ','.join(list(df['text_processed'].values))"
   ]
  },
  {
   "cell_type": "code",
   "execution_count": 13,
   "id": "5e5ccd0d-b1fd-4d7e-8953-d4375d539bf0",
   "metadata": {
    "tags": []
   },
   "outputs": [
    {
     "name": "stderr",
     "output_type": "stream",
     "text": [
      "/usr/local/lib/python3.9/site-packages/wordcloud/wordcloud.py:106: MatplotlibDeprecationWarning: The get_cmap function was deprecated in Matplotlib 3.7 and will be removed two minor releases later. Use ``matplotlib.colormaps[name]`` or ``matplotlib.colormaps.get_cmap(obj)`` instead.\n",
      "  self.colormap = plt.cm.get_cmap(colormap)\n"
     ]
    }
   ],
   "source": [
    "wordcloud = WordCloud(background_color = \"white\", max_words = 500, \n",
    "                      contour_width = 3, \n",
    "                      contour_color = 'steelblue')"
   ]
  },
  {
   "cell_type": "code",
   "execution_count": 14,
   "id": "0004a869-aacb-4459-88ee-7c08d27a3f74",
   "metadata": {
    "tags": []
   },
   "outputs": [
    {
     "data": {
      "text/plain": [
       "<wordcloud.wordcloud.WordCloud at 0x11e3b8610>"
      ]
     },
     "execution_count": 14,
     "metadata": {},
     "output_type": "execute_result"
    }
   ],
   "source": [
    "wordcloud.generate(long_string)"
   ]
  },
  {
   "cell_type": "code",
   "execution_count": 15,
   "id": "b128d7de-322d-4a5b-9cd0-cb6277f7f076",
   "metadata": {
    "tags": []
   },
   "outputs": [
    {
     "data": {
      "image/png": "[encoded data removed]",
      "text/plain": [
       "<PIL.Image.Image image mode=RGB size=400x200>"
      ]
     },
     "execution_count": 15,
     "metadata": {},
     "output_type": "execute_result"
    }
   ],
   "source": [
    "wordcloud.to_image()"
   ]
  },
  {
   "cell_type": "code",
   "execution_count": 16,
   "id": "165fa62d-99ea-4314-8092-2409962964df",
   "metadata": {
    "tags": []
   },
   "outputs": [
    {
     "ename": "LookupError",
     "evalue": "\n**********************************************************************\n  Resource \u001b[93mstopwords\u001b[0m not found.\n  Please use the NLTK Downloader to obtain the resource:\n\n  \u001b[31m>>> import nltk\n  >>> nltk.download('stopwords')\n  \u001b[0m\n  For more information see: https://www.nltk.org/data.html\n\n  Attempted to load \u001b[93mcorpora/stopwords\u001b[0m\n\n  Searched in:\n    - '/Users/vinayakanand-kumar/nltk_data'\n    - '/usr/local/opt/python@3.9/Frameworks/Python.framework/Versions/3.9/nltk_data'\n    - '/usr/local/opt/python@3.9/Frameworks/Python.framework/Versions/3.9/share/nltk_data'\n    - '/usr/local/opt/python@3.9/Frameworks/Python.framework/Versions/3.9/lib/nltk_data'\n    - '/usr/share/nltk_data'\n    - '/usr/local/share/nltk_data'\n    - '/usr/lib/nltk_data'\n    - '/usr/local/lib/nltk_data'\n**********************************************************************\n",
     "output_type": "error",
     "traceback": [
      "\u001b[0;31m---------------------------------------------------------------------------\u001b[0m",
      "\u001b[0;31mLookupError\u001b[0m                               Traceback (most recent call last)",
      "File \u001b[0;32m/usr/local/lib/python3.9/site-packages/nltk/corpus/util.py:84\u001b[0m, in \u001b[0;36mLazyCorpusLoader.__load\u001b[0;34m(self)\u001b[0m\n\u001b[1;32m     83\u001b[0m \u001b[38;5;28;01mtry\u001b[39;00m:\n\u001b[0;32m---> 84\u001b[0m     root \u001b[38;5;241m=\u001b[39m \u001b[43mnltk\u001b[49m\u001b[38;5;241;43m.\u001b[39;49m\u001b[43mdata\u001b[49m\u001b[38;5;241;43m.\u001b[39;49m\u001b[43mfind\u001b[49m\u001b[43m(\u001b[49m\u001b[38;5;124;43mf\u001b[39;49m\u001b[38;5;124;43m\"\u001b[39;49m\u001b[38;5;132;43;01m{\u001b[39;49;00m\u001b[38;5;28;43mself\u001b[39;49m\u001b[38;5;241;43m.\u001b[39;49m\u001b[43msubdir\u001b[49m\u001b[38;5;132;43;01m}\u001b[39;49;00m\u001b[38;5;124;43m/\u001b[39;49m\u001b[38;5;132;43;01m{\u001b[39;49;00m\u001b[43mzip_name\u001b[49m\u001b[38;5;132;43;01m}\u001b[39;49;00m\u001b[38;5;124;43m\"\u001b[39;49m\u001b[43m)\u001b[49m\n\u001b[1;32m     85\u001b[0m \u001b[38;5;28;01mexcept\u001b[39;00m \u001b[38;5;167;01mLookupError\u001b[39;00m:\n",
      "File \u001b[0;32m/usr/local/lib/python3.9/site-packages/nltk/data.py:583\u001b[0m, in \u001b[0;36mfind\u001b[0;34m(resource_name, paths)\u001b[0m\n\u001b[1;32m    582\u001b[0m resource_not_found \u001b[38;5;241m=\u001b[39m \u001b[38;5;124mf\u001b[39m\u001b[38;5;124m\"\u001b[39m\u001b[38;5;130;01m\\n\u001b[39;00m\u001b[38;5;132;01m{\u001b[39;00msep\u001b[38;5;132;01m}\u001b[39;00m\u001b[38;5;130;01m\\n\u001b[39;00m\u001b[38;5;132;01m{\u001b[39;00mmsg\u001b[38;5;132;01m}\u001b[39;00m\u001b[38;5;130;01m\\n\u001b[39;00m\u001b[38;5;132;01m{\u001b[39;00msep\u001b[38;5;132;01m}\u001b[39;00m\u001b[38;5;130;01m\\n\u001b[39;00m\u001b[38;5;124m\"\u001b[39m\n\u001b[0;32m--> 583\u001b[0m \u001b[38;5;28;01mraise\u001b[39;00m \u001b[38;5;167;01mLookupError\u001b[39;00m(resource_not_found)\n",
      "\u001b[0;31mLookupError\u001b[0m: \n**********************************************************************\n  Resource \u001b[93mstopwords\u001b[0m not found.\n  Please use the NLTK Downloader to obtain the resource:\n\n  \u001b[31m>>> import nltk\n  >>> nltk.download('stopwords')\n  \u001b[0m\n  For more information see: https://www.nltk.org/data.html\n\n  Attempted to load \u001b[93mcorpora/stopwords.zip/stopwords/\u001b[0m\n\n  Searched in:\n    - '/Users/vinayakanand-kumar/nltk_data'\n    - '/usr/local/opt/python@3.9/Frameworks/Python.framework/Versions/3.9/nltk_data'\n    - '/usr/local/opt/python@3.9/Frameworks/Python.framework/Versions/3.9/share/nltk_data'\n    - '/usr/local/opt/python@3.9/Frameworks/Python.framework/Versions/3.9/lib/nltk_data'\n    - '/usr/share/nltk_data'\n    - '/usr/local/share/nltk_data'\n    - '/usr/lib/nltk_data'\n    - '/usr/local/lib/nltk_data'\n**********************************************************************\n",
      "\nDuring handling of the above exception, another exception occurred:\n",
      "\u001b[0;31mLookupError\u001b[0m                               Traceback (most recent call last)",
      "Cell \u001b[0;32mIn[16], line 1\u001b[0m\n\u001b[0;32m----> 1\u001b[0m stop_words \u001b[38;5;241m=\u001b[39m \u001b[43mstopwords\u001b[49m\u001b[38;5;241;43m.\u001b[39;49m\u001b[43mwords\u001b[49m(\u001b[38;5;124m'\u001b[39m\u001b[38;5;124mgerman\u001b[39m\u001b[38;5;124m'\u001b[39m)\n",
      "File \u001b[0;32m/usr/local/lib/python3.9/site-packages/nltk/corpus/util.py:121\u001b[0m, in \u001b[0;36mLazyCorpusLoader.__getattr__\u001b[0;34m(self, attr)\u001b[0m\n\u001b[1;32m    118\u001b[0m \u001b[38;5;28;01mif\u001b[39;00m attr \u001b[38;5;241m==\u001b[39m \u001b[38;5;124m\"\u001b[39m\u001b[38;5;124m__bases__\u001b[39m\u001b[38;5;124m\"\u001b[39m:\n\u001b[1;32m    119\u001b[0m     \u001b[38;5;28;01mraise\u001b[39;00m \u001b[38;5;167;01mAttributeError\u001b[39;00m(\u001b[38;5;124m\"\u001b[39m\u001b[38;5;124mLazyCorpusLoader object has no attribute \u001b[39m\u001b[38;5;124m'\u001b[39m\u001b[38;5;124m__bases__\u001b[39m\u001b[38;5;124m'\u001b[39m\u001b[38;5;124m\"\u001b[39m)\n\u001b[0;32m--> 121\u001b[0m \u001b[38;5;28;43mself\u001b[39;49m\u001b[38;5;241;43m.\u001b[39;49m\u001b[43m__load\u001b[49m\u001b[43m(\u001b[49m\u001b[43m)\u001b[49m\n\u001b[1;32m    122\u001b[0m \u001b[38;5;66;03m# This looks circular, but its not, since __load() changes our\u001b[39;00m\n\u001b[1;32m    123\u001b[0m \u001b[38;5;66;03m# __class__ to something new:\u001b[39;00m\n\u001b[1;32m    124\u001b[0m \u001b[38;5;28;01mreturn\u001b[39;00m \u001b[38;5;28mgetattr\u001b[39m(\u001b[38;5;28mself\u001b[39m, attr)\n",
      "File \u001b[0;32m/usr/local/lib/python3.9/site-packages/nltk/corpus/util.py:86\u001b[0m, in \u001b[0;36mLazyCorpusLoader.__load\u001b[0;34m(self)\u001b[0m\n\u001b[1;32m     84\u001b[0m             root \u001b[38;5;241m=\u001b[39m nltk\u001b[38;5;241m.\u001b[39mdata\u001b[38;5;241m.\u001b[39mfind(\u001b[38;5;124mf\u001b[39m\u001b[38;5;124m\"\u001b[39m\u001b[38;5;132;01m{\u001b[39;00m\u001b[38;5;28mself\u001b[39m\u001b[38;5;241m.\u001b[39msubdir\u001b[38;5;132;01m}\u001b[39;00m\u001b[38;5;124m/\u001b[39m\u001b[38;5;132;01m{\u001b[39;00mzip_name\u001b[38;5;132;01m}\u001b[39;00m\u001b[38;5;124m\"\u001b[39m)\n\u001b[1;32m     85\u001b[0m         \u001b[38;5;28;01mexcept\u001b[39;00m \u001b[38;5;167;01mLookupError\u001b[39;00m:\n\u001b[0;32m---> 86\u001b[0m             \u001b[38;5;28;01mraise\u001b[39;00m e\n\u001b[1;32m     88\u001b[0m \u001b[38;5;66;03m# Load the corpus.\u001b[39;00m\n\u001b[1;32m     89\u001b[0m corpus \u001b[38;5;241m=\u001b[39m \u001b[38;5;28mself\u001b[39m\u001b[38;5;241m.\u001b[39m__reader_cls(root, \u001b[38;5;241m*\u001b[39m\u001b[38;5;28mself\u001b[39m\u001b[38;5;241m.\u001b[39m__args, \u001b[38;5;241m*\u001b[39m\u001b[38;5;241m*\u001b[39m\u001b[38;5;28mself\u001b[39m\u001b[38;5;241m.\u001b[39m__kwargs)\n",
      "File \u001b[0;32m/usr/local/lib/python3.9/site-packages/nltk/corpus/util.py:81\u001b[0m, in \u001b[0;36mLazyCorpusLoader.__load\u001b[0;34m(self)\u001b[0m\n\u001b[1;32m     79\u001b[0m \u001b[38;5;28;01melse\u001b[39;00m:\n\u001b[1;32m     80\u001b[0m     \u001b[38;5;28;01mtry\u001b[39;00m:\n\u001b[0;32m---> 81\u001b[0m         root \u001b[38;5;241m=\u001b[39m \u001b[43mnltk\u001b[49m\u001b[38;5;241;43m.\u001b[39;49m\u001b[43mdata\u001b[49m\u001b[38;5;241;43m.\u001b[39;49m\u001b[43mfind\u001b[49m\u001b[43m(\u001b[49m\u001b[38;5;124;43mf\u001b[39;49m\u001b[38;5;124;43m\"\u001b[39;49m\u001b[38;5;132;43;01m{\u001b[39;49;00m\u001b[38;5;28;43mself\u001b[39;49m\u001b[38;5;241;43m.\u001b[39;49m\u001b[43msubdir\u001b[49m\u001b[38;5;132;43;01m}\u001b[39;49;00m\u001b[38;5;124;43m/\u001b[39;49m\u001b[38;5;132;43;01m{\u001b[39;49;00m\u001b[38;5;28;43mself\u001b[39;49m\u001b[38;5;241;43m.\u001b[39;49m\u001b[43m__name\u001b[49m\u001b[38;5;132;43;01m}\u001b[39;49;00m\u001b[38;5;124;43m\"\u001b[39;49m\u001b[43m)\u001b[49m\n\u001b[1;32m     82\u001b[0m     \u001b[38;5;28;01mexcept\u001b[39;00m \u001b[38;5;167;01mLookupError\u001b[39;00m \u001b[38;5;28;01mas\u001b[39;00m e:\n\u001b[1;32m     83\u001b[0m         \u001b[38;5;28;01mtry\u001b[39;00m:\n",
      "File \u001b[0;32m/usr/local/lib/python3.9/site-packages/nltk/data.py:583\u001b[0m, in \u001b[0;36mfind\u001b[0;34m(resource_name, paths)\u001b[0m\n\u001b[1;32m    581\u001b[0m sep \u001b[38;5;241m=\u001b[39m \u001b[38;5;124m\"\u001b[39m\u001b[38;5;124m*\u001b[39m\u001b[38;5;124m\"\u001b[39m \u001b[38;5;241m*\u001b[39m \u001b[38;5;241m70\u001b[39m\n\u001b[1;32m    582\u001b[0m resource_not_found \u001b[38;5;241m=\u001b[39m \u001b[38;5;124mf\u001b[39m\u001b[38;5;124m\"\u001b[39m\u001b[38;5;130;01m\\n\u001b[39;00m\u001b[38;5;132;01m{\u001b[39;00msep\u001b[38;5;132;01m}\u001b[39;00m\u001b[38;5;130;01m\\n\u001b[39;00m\u001b[38;5;132;01m{\u001b[39;00mmsg\u001b[38;5;132;01m}\u001b[39;00m\u001b[38;5;130;01m\\n\u001b[39;00m\u001b[38;5;132;01m{\u001b[39;00msep\u001b[38;5;132;01m}\u001b[39;00m\u001b[38;5;130;01m\\n\u001b[39;00m\u001b[38;5;124m\"\u001b[39m\n\u001b[0;32m--> 583\u001b[0m \u001b[38;5;28;01mraise\u001b[39;00m \u001b[38;5;167;01mLookupError\u001b[39;00m(resource_not_found)\n",
      "\u001b[0;31mLookupError\u001b[0m: \n**********************************************************************\n  Resource \u001b[93mstopwords\u001b[0m not found.\n  Please use the NLTK Downloader to obtain the resource:\n\n  \u001b[31m>>> import nltk\n  >>> nltk.download('stopwords')\n  \u001b[0m\n  For more information see: https://www.nltk.org/data.html\n\n  Attempted to load \u001b[93mcorpora/stopwords\u001b[0m\n\n  Searched in:\n    - '/Users/vinayakanand-kumar/nltk_data'\n    - '/usr/local/opt/python@3.9/Frameworks/Python.framework/Versions/3.9/nltk_data'\n    - '/usr/local/opt/python@3.9/Frameworks/Python.framework/Versions/3.9/share/nltk_data'\n    - '/usr/local/opt/python@3.9/Frameworks/Python.framework/Versions/3.9/lib/nltk_data'\n    - '/usr/share/nltk_data'\n    - '/usr/local/share/nltk_data'\n    - '/usr/lib/nltk_data'\n    - '/usr/local/lib/nltk_data'\n**********************************************************************\n"
     ]
    }
   ],
   "source": [
    "stop_words = stopwords.words('german')"
   ]
  },
  {
   "cell_type": "code",
   "execution_count": 15,
   "id": "8fd13d42-e8b1-47fe-8b63-ac10347df0bb",
   "metadata": {
    "tags": []
   },
   "outputs": [],
   "source": [
    "def sent_to_words(sentences):\n",
    "    for sentence in sentences:\n",
    "        yield(gensim.utils.simple_preprocess(str(sentence), \n",
    "                                             deacc = True))"
   ]
  },
  {
   "cell_type": "code",
   "execution_count": 16,
   "id": "ae7b63f4-c4c0-4c83-b14f-edbe407986c7",
   "metadata": {
    "tags": []
   },
   "outputs": [],
   "source": [
    "def remove_stopwords(texts):\n",
    "    return[[word for word in simple_preprocess(str(doc)) \n",
    "            if word not in stop_words] for doc in texts]"
   ]
  },
  {
   "cell_type": "code",
   "execution_count": 17,
   "id": "7658f3f2-d8c9-4c10-8f17-77dc9138e55d",
   "metadata": {
    "tags": []
   },
   "outputs": [],
   "source": [
    "data = df.text_processed.values.tolist()\n",
    "data_words = list(sent_to_words(data))"
   ]
  },
  {
   "cell_type": "code",
   "execution_count": 18,
   "id": "5914bde9-2aea-468d-96dc-112643ec5628",
   "metadata": {
    "tags": []
   },
   "outputs": [],
   "source": [
    "data_words = remove_stopwords(data_words)"
   ]
  },
  {
   "cell_type": "code",
   "execution_count": 133,
   "id": "225f1a36-30c6-4e13-9a93-29db99b11238",
   "metadata": {
    "tags": []
   },
   "outputs": [],
   "source": [
    "#print(data_words)"
   ]
  },
  {
   "cell_type": "code",
   "execution_count": 21,
   "id": "8b6476e4-2389-4ae3-a2ac-118830338c07",
   "metadata": {
    "tags": []
   },
   "outputs": [],
   "source": [
    "id2word = corpora.Dictionary(data_words)"
   ]
  },
  {
   "cell_type": "code",
   "execution_count": 22,
   "id": "3b2a7771-c815-42d5-98a8-a1ee2dd536de",
   "metadata": {
    "tags": []
   },
   "outputs": [],
   "source": [
    "texts = data_words"
   ]
  },
  {
   "cell_type": "code",
   "execution_count": 24,
   "id": "20057784-fc4c-4d0d-8aca-5a4738dc956e",
   "metadata": {
    "tags": []
   },
   "outputs": [],
   "source": [
    "corpus = [id2word.doc2bow(text) for text in texts]"
   ]
  },
  {
   "cell_type": "code",
   "execution_count": 137,
   "id": "c40c6192-6c61-44c2-adbe-7c021b0cf47a",
   "metadata": {
    "tags": []
   },
   "outputs": [],
   "source": [
    "#pprint(corpus)"
   ]
  },
  {
   "cell_type": "code",
   "execution_count": 25,
   "id": "2efc3340-edc1-40e1-b44e-b46104fe18a5",
   "metadata": {
    "tags": []
   },
   "outputs": [],
   "source": [
    "num_topics = 3"
   ]
  },
  {
   "cell_type": "code",
   "execution_count": 26,
   "id": "1b8757c4-2d99-487e-aadf-06ee82fc2711",
   "metadata": {
    "tags": []
   },
   "outputs": [],
   "source": [
    "lda_model = gensim.models.LdaMulticore(corpus = corpus, \n",
    "                                       id2word = id2word, \n",
    "                                       num_topics = num_topics)"
   ]
  },
  {
   "cell_type": "code",
   "execution_count": 27,
   "id": "826c7c60-19a9-4a41-a67b-544f12e3d5fa",
   "metadata": {
    "tags": []
   },
   "outputs": [
    {
     "name": "stdout",
     "output_type": "stream",
     "text": [
      "[(0,\n",
      "  '0.015*\"ja\" + 0.010*\"ok\" + 0.010*\"gut\" + 0.010*\"ach\" + 0.010*\"irgendwie\" + '\n",
      "  '0.009*\"gibt\" + 0.009*\"finde\" + 0.008*\"kommunikation\" + 0.008*\"nochmal\" + '\n",
      "  '0.008*\"registrieren\"'),\n",
      " (1,\n",
      "  '0.022*\"nochmal\" + 0.019*\"geburt\" + 0.017*\"ok\" + 0.017*\"kommunikation\" + '\n",
      "  '0.016*\"sozusagen\" + 0.014*\"fur\" + 0.014*\"gibt\" + 0.014*\"kurz\" + 0.013*\"ja\" '\n",
      "  '+ 0.013*\"genau\"'),\n",
      " (2,\n",
      "  '0.048*\"ok\" + 0.045*\"ja\" + 0.016*\"immer\" + 0.016*\"genau\" + 0.013*\"ach\" + '\n",
      "  '0.013*\"finde\" + 0.012*\"heißt\" + 0.011*\"ne\" + 0.011*\"gut\" + 0.011*\"lektion\"')]\n"
     ]
    }
   ],
   "source": [
    "pprint(lda_model.print_topics())\n",
    "doc_lda = lda_model[corpus]"
   ]
  },
  {
   "cell_type": "code",
   "execution_count": 28,
   "id": "5e8d542b-fc9d-4a05-bd73-94acd8baa180",
   "metadata": {
    "tags": []
   },
   "outputs": [],
   "source": [
    "pyLDAvis.enable_notebook()\n",
    "\n",
    "LDAvis_data_filepath = 'output/ldavis_prepared_topics_three'"
   ]
  },
  {
   "cell_type": "code",
   "execution_count": 29,
   "id": "2ddb3e2b-abd6-4b65-b8b9-afb802c2461b",
   "metadata": {
    "tags": []
   },
   "outputs": [],
   "source": [
    "if __name__ == '__main__':\n",
    "    if 1 == 1:\n",
    "        LDAvis_prepared = pyLDAvis.gensim.prepare(lda_model, corpus, \n",
    "                                                  id2word)\n",
    "        with open(LDAvis_data_filepath, 'wb') as f:\n",
    "            pickle.dump(LDAvis_prepared, f)"
   ]
  },
  {
   "cell_type": "code",
   "execution_count": 30,
   "id": "574f3862-a57d-4de1-8e03-914a61b4e7c6",
   "metadata": {
    "tags": []
   },
   "outputs": [],
   "source": [
    "with open(LDAvis_data_filepath, 'rb') as f:\n",
    "    LDAvis_prepared = pickle.load(f)"
   ]
  },
  {
   "cell_type": "code",
   "execution_count": 31,
   "id": "64c4302d-6185-45f7-8674-8b71529e4367",
   "metadata": {
    "tags": []
   },
   "outputs": [],
   "source": [
    "pyLDAvis.save_html(LDAvis_prepared, 'output/ldavis_prepared_topics_three.html')"
   ]
  },
  {
   "cell_type": "code",
   "execution_count": 32,
   "id": "5d928b7a-a7d6-4f9b-a277-9a56f8fb09b3",
   "metadata": {
    "tags": []
   },
   "outputs": [
    {
     "data": {
      "text/html": [
       "\n",
       "<link rel=\"stylesheet\" type=\"text/css\" href=\"https://cdn.jsdelivr.net/gh/bmabey/pyLDAvis@3.4.0/pyLDAvis/js/ldavis.v1.0.0.css\">\n",
       "\n",
       "\n",
       "<div id=\"ldavis_el250431097282267689885821336\" style=\"background-color:white;\"></div>\n",
       "<script type=\"text/javascript\">\n",
       "\n",
       "var ldavis_el250431097282267689885821336_data = {\"mdsDat\": {\"x\": [-0.040656863921276015, 0.04646361856341014, -0.005806754642134111], \"y\": [0.0, 0.0, 0.0], \"topics\": [1, 2, 3], \"cluster\": [1, 1, 1], \"Freq\": [62.03279275389795, 35.6748288416329, 2.292378404469154]}, \"tinfo\": {\"Term\": [\"ja\", \"ach\", \"irgendwie\", \"gibt\", \"finde\", \"gut\", \"nochmal\", \"kommunikation\", \"ok\", \"emailadresse\", \"gebe\", \"merken\", \"alltag\", \"private\", \"sowas\", \"lektion\", \"sozusagen\", \"eben\", \"registrieren\", \"grundsatzlich\", \"hei\\u00dft\", \"steht\", \"genau\", \"gedacht\", \"partner\", \"immer\", \"kurz\", \"code\", \"kopieren\", \"einfach\", \"ach\", \"lektion\", \"ne\", \"finde\", \"ja\", \"eher\", \"allgemein\", \"gedacht\", \"uberbegriffe\", \"ah\", \"irgendwie\", \"ok\", \"mutter\", \"darum\", \"steht\", \"partner\", \"merken\", \"gebe\", \"private\", \"unserer\", \"emailadresse\", \"na\", \"eben\", \"hei\\u00dft\", \"alltag\", \"mittlerweile\", \"viele\", \"blo\\u00df\", \"irgendwo\", \"erwartet\", \"sowas\", \"gut\", \"immer\", \"genau\", \"registrieren\", \"okay\", \"richtig\", \"nochmal\", \"geburt\", \"sozusagen\", \"ubersicht\", \"nee\", \"geh\", \"beziehungen\", \"vorstellen\", \"bestimmt\", \"situationen\", \"training\", \"gibt\", \"tipp\", \"spracheingabe\", \"zeit\", \"webbasiert\", \"ersparen\", \"sonderzeichen\", \"wissen\", \"tippen\", \"arzten\", \"ganze\", \"ware\", \"starten\", \"angesprochen\", \"allgemeineres\", \"rund\", \"wieviel\", \"vorteilhafter\", \"hilfreich\", \"punkt\", \"finden\", \"handytastatur\", \"fur\", \"kommunikation\", \"kurz\", \"nochmal\", \"sozusagen\", \"geburt\", \"grundsatzlich\", \"eigentlich\", \"thema\", \"einfach\", \"okay\", \"genau\", \"ok\", \"immer\", \"ja\", \"richtig\", \"naturlich\", \"code\", \"kopieren\", \"unterstutzen\", \"achtsamkeit\", \"konnen\", \"darauf\", \"sei\", \"tipps\", \"progressive\", \"gesagt\", \"stressphasen\", \"total\", \"methoden\", \"mhm\", \"wei\\u00df\", \"hey\", \"klicke\", \"ubrigens\", \"schlie\\u00dfe\", \"hingewiesen\", \"app\", \"spannend\", \"uberstehen\", \"eingangs\", \"techniken\", \"nachhaltiger\", \"besser\", \"manmoment\", \"situationen\", \"stand\", \"alltag\", \"sowas\", \"emailadresse\", \"irgendwie\", \"gebe\", \"merken\", \"gibt\", \"private\", \"eben\", \"grundsatzlich\", \"gut\", \"ach\", \"finde\", \"ja\", \"registrieren\", \"kommunikation\", \"steht\", \"ok\", \"hei\\u00dft\", \"nochmal\", \"genau\", \"immer\", \"sozusagen\", \"lektion\", \"integrieren\", \"partner\"], \"Freq\": [10.0, 2.0, 2.0, 2.0, 3.0, 3.0, 4.0, 3.0, 11.0, 1.0, 1.0, 1.0, 1.0, 1.0, 1.0, 2.0, 3.0, 1.0, 2.0, 1.0, 3.0, 1.0, 4.0, 2.0, 1.0, 4.0, 2.0, 1.0, 1.0, 2.0, 2.6186704700765304, 2.1298306579448854, 2.244859206846042, 2.605947754919768, 8.882412235795039, 1.5788739947988826, 1.5651106344188905, 2.086780224377198, 1.5434821665500984, 1.5165354820999177, 1.896519625771626, 9.524306021013295, 1.5494462339197892, 1.5104612309403807, 1.432939539898304, 1.4446456432088173, 1.3779694757092433, 1.372488664088979, 1.376045603882003, 1.4951678688074226, 1.3583173833527862, 1.4715680169738223, 1.3486165880430487, 2.4276746350075045, 1.2971033553882843, 0.9300027656269731, 0.9290632454591901, 0.928944095371009, 0.9284622261625621, 0.9286734425717893, 1.2797549546514149, 2.1839122266742126, 3.2394137743196976, 3.120894100104016, 1.677469999498234, 1.9331024927218943, 1.6224882883649445, 2.1055419725526154, 1.970251068391843, 1.4276628271102383, 1.024034733262942, 1.0210008064014375, 1.0189769126624553, 0.9358257763719043, 0.9069535011278662, 0.9010077019337683, 0.8945035139018299, 1.3210683571932642, 1.601655239672092, 0.83270171352022, 0.8285829579254888, 0.8141546879298978, 0.8217682112881938, 0.8086283182798367, 0.8042654004676453, 0.79201077491136, 0.7945748237323395, 0.774845580951924, 0.7808242328023228, 0.7844135184023003, 1.2498982338020712, 0.772849277065078, 0.7711834134882107, 0.7731608988631951, 0.764200841873663, 0.7666954642073787, 0.7771945458774444, 0.7615672070865055, 0.7712637908609083, 0.7710342475439057, 1.6035869545987347, 1.920735547643, 1.5824583375068837, 2.561545427305553, 1.8183352001034216, 2.1302504394224333, 0.9947441979869036, 1.0618888609481036, 1.262923408311565, 1.2215782871971386, 1.3418180523852552, 1.4328943338322193, 1.9218878359568836, 1.3106082415378726, 1.533730724821029, 0.9238734696770814, 0.8757452319099863, 0.04963816018651064, 0.04924183605532771, 0.04580055604614654, 0.044826536624016755, 0.04398207925399421, 0.04340831225959943, 0.04337962544703921, 0.04315679197114575, 0.0426318349153879, 0.0423956520630375, 0.04224510607552214, 0.04219681193930205, 0.04190520253055702, 0.04159088756774104, 0.04168184300451658, 0.041470179554471166, 0.04126404646278905, 0.04103745206993574, 0.04102704720793783, 0.0409763209437655, 0.04090038526345904, 0.04081104555213492, 0.04078055855498084, 0.04014007883740184, 0.03988069170811388, 0.03977702567005988, 0.03955371738267013, 0.039424572071588414, 0.04061814228005815, 0.03854285395479201, 0.05635925696885294, 0.056377077771559134, 0.05603422971213498, 0.07002849924242685, 0.05467768643540518, 0.054121180034469175, 0.06953550827287269, 0.05394788750196233, 0.05371843740831117, 0.05441742483314564, 0.07263972335833636, 0.07112267671630923, 0.06404887355815211, 0.10839750387137465, 0.057077393985401216, 0.057239591642081006, 0.04760655451890348, 0.07603401069302469, 0.05424529029414415, 0.0571692580542488, 0.056695932478825276, 0.055690025536422855, 0.05054120724562975, 0.048376777331822114, 0.04501173360303139, 0.04480074308726489], \"Total\": [10.0, 2.0, 2.0, 2.0, 3.0, 3.0, 4.0, 3.0, 11.0, 1.0, 1.0, 1.0, 1.0, 1.0, 1.0, 2.0, 3.0, 1.0, 2.0, 1.0, 3.0, 1.0, 4.0, 2.0, 1.0, 4.0, 2.0, 1.0, 1.0, 2.0, 2.9740577193496844, 2.4514087960847393, 2.5845059933376535, 3.038824735748068, 10.524540464487442, 1.8801737358297637, 1.8685878646869571, 2.4919887058353574, 1.8509839183143424, 1.8244683056853863, 2.2848949097196383, 11.522227867663204, 1.8836898127388824, 1.841227772232802, 1.7564101417545788, 1.780144125608461, 1.704541375882977, 1.7001926566443915, 1.7062982852802224, 1.8588881188503446, 1.689704078625735, 1.8474818219455713, 1.7115476287730544, 3.147191850318204, 1.6939197131900272, 1.220139069899228, 1.2199691681263969, 1.219936734581407, 1.2193109719686825, 1.2203069858965863, 1.6957824205656864, 3.011036273267549, 4.605712041393993, 4.6104843664150605, 2.426158058555477, 3.3166446702462062, 2.586253131300851, 4.7242566579124174, 4.137498341378037, 3.29653923445929, 1.2930740030676124, 1.2922670371857863, 1.2917089434825206, 1.21149293715833, 1.18540639184582, 1.1801140471616731, 1.1747102064222954, 1.9975186138601355, 2.4224034911824766, 1.265708027268846, 1.2658344130453418, 1.2443346410290697, 1.2658770536884076, 1.2628784815862604, 1.258539830075948, 1.251521518113557, 1.2580320455813423, 1.2363663686816238, 1.2472418789629558, 1.2547069560155255, 2.007960819487702, 1.2478310598852123, 1.2468678052771969, 1.2506161999037704, 1.2370140601132928, 1.2412161612747952, 1.2594394674992173, 1.2349924520999782, 1.2515116066343919, 1.2524774888044328, 2.6861799566132274, 3.2542250107761097, 2.6659460219304223, 4.7242566579124174, 3.29653923445929, 4.137498341378037, 1.7773954534926621, 1.9666131016759067, 2.6565524289239466, 2.5812708326032348, 3.3166446702462062, 4.6104843664150605, 11.522227867663204, 4.605712041393993, 10.524540464487442, 2.586253131300851, 1.933128915233726, 1.0407816355087443, 1.0437825133197787, 1.0720393558506758, 1.080327243031524, 1.086825704342584, 1.0913040010001682, 1.0924026845299282, 1.0928337843026037, 1.0978327671461774, 1.0989218552717426, 1.1002326080420992, 1.1008556353819916, 1.1029088852370696, 1.1014933302042371, 1.1043912669437612, 1.1063857808768387, 1.1040501883081484, 1.1058011097415112, 1.105913021530942, 1.1106660600557339, 1.1106761750091605, 1.1116541557304718, 1.112758877333176, 1.1166211383271065, 1.1195119852088842, 1.1192054490392471, 1.1211355553282603, 1.1185501786713006, 1.1747102064222954, 1.1255010399176133, 1.6939197131900272, 1.6957824205656864, 1.689704078625735, 2.2848949097196383, 1.7001926566443915, 1.704541375882977, 2.4224034911824766, 1.7062982852802224, 1.7115476287730544, 1.7773954534926621, 3.011036273267549, 2.9740577193496844, 3.038824735748068, 10.524540464487442, 2.426158058555477, 3.2542250107761097, 1.7564101417545788, 11.522227867663204, 3.147191850318204, 4.7242566579124174, 4.6104843664150605, 4.605712041393993, 3.29653923445929, 2.4514087960847393, 1.8277443689904973, 1.780144125608461], \"Category\": [\"Default\", \"Default\", \"Default\", \"Default\", \"Default\", \"Default\", \"Default\", \"Default\", \"Default\", \"Default\", \"Default\", \"Default\", \"Default\", \"Default\", \"Default\", \"Default\", \"Default\", \"Default\", \"Default\", \"Default\", \"Default\", \"Default\", \"Default\", \"Default\", \"Default\", \"Default\", \"Default\", \"Default\", \"Default\", \"Default\", \"Topic1\", \"Topic1\", \"Topic1\", \"Topic1\", \"Topic1\", \"Topic1\", \"Topic1\", \"Topic1\", \"Topic1\", \"Topic1\", \"Topic1\", \"Topic1\", \"Topic1\", \"Topic1\", \"Topic1\", \"Topic1\", \"Topic1\", \"Topic1\", \"Topic1\", \"Topic1\", \"Topic1\", \"Topic1\", \"Topic1\", \"Topic1\", \"Topic1\", \"Topic1\", \"Topic1\", \"Topic1\", \"Topic1\", \"Topic1\", \"Topic1\", \"Topic1\", \"Topic1\", \"Topic1\", \"Topic1\", \"Topic1\", \"Topic1\", \"Topic1\", \"Topic1\", \"Topic1\", \"Topic2\", \"Topic2\", \"Topic2\", \"Topic2\", \"Topic2\", \"Topic2\", \"Topic2\", \"Topic2\", \"Topic2\", \"Topic2\", \"Topic2\", \"Topic2\", \"Topic2\", \"Topic2\", \"Topic2\", \"Topic2\", \"Topic2\", \"Topic2\", \"Topic2\", \"Topic2\", \"Topic2\", \"Topic2\", \"Topic2\", \"Topic2\", \"Topic2\", \"Topic2\", \"Topic2\", \"Topic2\", \"Topic2\", \"Topic2\", \"Topic2\", \"Topic2\", \"Topic2\", \"Topic2\", \"Topic2\", \"Topic2\", \"Topic2\", \"Topic2\", \"Topic2\", \"Topic2\", \"Topic2\", \"Topic2\", \"Topic2\", \"Topic2\", \"Topic2\", \"Topic2\", \"Topic2\", \"Topic3\", \"Topic3\", \"Topic3\", \"Topic3\", \"Topic3\", \"Topic3\", \"Topic3\", \"Topic3\", \"Topic3\", \"Topic3\", \"Topic3\", \"Topic3\", \"Topic3\", \"Topic3\", \"Topic3\", \"Topic3\", \"Topic3\", \"Topic3\", \"Topic3\", \"Topic3\", \"Topic3\", \"Topic3\", \"Topic3\", \"Topic3\", \"Topic3\", \"Topic3\", \"Topic3\", \"Topic3\", \"Topic3\", \"Topic3\", \"Topic3\", \"Topic3\", \"Topic3\", \"Topic3\", \"Topic3\", \"Topic3\", \"Topic3\", \"Topic3\", \"Topic3\", \"Topic3\", \"Topic3\", \"Topic3\", \"Topic3\", \"Topic3\", \"Topic3\", \"Topic3\", \"Topic3\", \"Topic3\", \"Topic3\", \"Topic3\", \"Topic3\", \"Topic3\", \"Topic3\", \"Topic3\", \"Topic3\", \"Topic3\"], \"logprob\": [30.0, 29.0, 28.0, 27.0, 26.0, 25.0, 24.0, 23.0, 22.0, 21.0, 20.0, 19.0, 18.0, 17.0, 16.0, 15.0, 14.0, 13.0, 12.0, 11.0, 10.0, 9.0, 8.0, 7.0, 6.0, 5.0, 4.0, 3.0, 2.0, 1.0, -4.3281, -4.5348, -4.4822, -4.333, -3.1067, -4.8341, -4.8429, -4.5552, -4.8568, -4.8744, -4.6508, -3.037, -4.8529, -4.8784, -4.9311, -4.9229, -4.9702, -4.9742, -4.9716, -4.8886, -4.9846, -4.9045, -4.9917, -4.4039, -5.0307, -5.3634, -5.3644, -5.3645, -5.365, -5.3648, -5.0441, -4.5097, -4.1154, -4.1527, -4.7735, -4.6317, -4.8069, -4.5462, -4.6127, -4.9348, -4.7138, -4.7168, -4.7188, -4.8039, -4.8353, -4.8418, -4.8491, -4.4592, -4.2666, -4.9207, -4.9256, -4.9432, -4.9339, -4.95, -4.9554, -4.9708, -4.9675, -4.9927, -4.985, -4.9804, -4.5145, -4.9953, -4.9974, -4.9949, -5.0065, -5.0033, -4.9897, -5.01, -4.9973, -4.9976, -4.2654, -4.0849, -4.2786, -3.797, -4.1397, -3.9814, -4.7429, -4.6775, -4.5042, -4.5375, -4.4436, -4.3779, -4.0843, -4.4671, -4.3099, -4.8168, -4.8703, -4.9957, -5.0038, -5.0762, -5.0977, -5.1167, -5.1298, -5.1305, -5.1357, -5.1479, -5.1535, -5.157, -5.1582, -5.1651, -5.1726, -5.1704, -5.1755, -5.1805, -5.186, -5.1863, -5.1875, -5.1894, -5.1915, -5.1923, -5.2081, -5.2146, -5.2172, -5.2228, -5.2261, -5.1963, -5.2487, -4.8687, -4.8684, -4.8745, -4.6516, -4.899, -4.9093, -4.6587, -4.9125, -4.9167, -4.9038, -4.615, -4.6361, -4.7408, -4.2147, -4.8561, -4.8533, -5.0375, -4.5693, -4.907, -4.8545, -4.8628, -4.8807, -4.9777, -5.0215, -5.0936, -5.0983], \"loglift\": [30.0, 29.0, 28.0, 27.0, 26.0, 25.0, 24.0, 23.0, 22.0, 21.0, 20.0, 19.0, 18.0, 17.0, 16.0, 15.0, 14.0, 13.0, 12.0, 11.0, 10.0, 9.0, 8.0, 7.0, 6.0, 5.0, 4.0, 3.0, 2.0, 1.0, 0.3502, 0.3369, 0.3366, 0.3238, 0.3079, 0.3029, 0.3003, 0.3, 0.2958, 0.2926, 0.2912, 0.2871, 0.2822, 0.2795, 0.274, 0.2687, 0.2648, 0.2634, 0.2624, 0.2598, 0.2592, 0.25, 0.2392, 0.2179, 0.2106, 0.206, 0.2051, 0.205, 0.205, 0.2044, 0.196, 0.1563, 0.1256, 0.0873, 0.1085, -0.0623, 0.0113, -0.3306, -0.2644, -0.3593, 0.7975, 0.7951, 0.7936, 0.7725, 0.763, 0.7609, 0.7582, 0.6173, 0.617, 0.612, 0.607, 0.6065, 0.5987, 0.5849, 0.5829, 0.5732, 0.5712, 0.5635, 0.5624, 0.561, 0.5567, 0.5516, 0.5503, 0.5498, 0.5491, 0.549, 0.548, 0.5473, 0.5466, 0.5456, 0.5148, 0.5035, 0.5091, 0.4186, 0.4358, 0.3669, 0.4503, 0.4145, 0.2871, 0.2826, 0.1258, -0.1379, -0.7602, -0.2261, -0.8953, 0.0013, 0.2389, 0.7326, 0.7217, 0.6226, 0.5934, 0.5683, 0.5511, 0.5494, 0.5439, 0.5271, 0.5205, 0.5158, 0.5141, 0.5053, 0.499, 0.4986, 0.4917, 0.4888, 0.4817, 0.4814, 0.4759, 0.474, 0.4709, 0.4692, 0.4499, 0.4408, 0.4385, 0.4311, 0.4302, 0.411, 0.4014, 0.3725, 0.3717, 0.3692, 0.2904, 0.3385, 0.3258, 0.2249, 0.3215, 0.3142, 0.2894, 0.0511, 0.0423, -0.084, -0.8001, 0.0259, -0.2649, 0.1675, -1.2453, -0.2852, -0.6389, -0.6228, -0.6397, -0.4023, -0.1498, 0.0717, 0.0934]}, \"token.table\": {\"Topic\": [1, 1, 1, 1, 2, 1, 2, 1, 2, 1, 2, 2, 1, 1, 1, 1, 1, 1, 1, 2, 1, 2, 1, 1, 2, 1, 1, 2, 1, 2, 2, 1, 1, 2, 1, 2, 1, 2, 1, 1, 2, 1, 2, 1, 2, 2, 1, 2, 1, 2, 1, 1, 2, 1, 2, 1, 1, 1, 2, 1, 1, 2, 1, 1, 1, 2, 1, 1, 1, 1, 1, 1, 1, 1, 1, 1, 2, 1, 2, 1, 2, 1, 2, 1, 2, 1, 1, 1, 2, 1, 2, 1, 2, 2, 1, 1, 2, 2, 1, 1, 2, 1, 2, 1, 1, 2, 1, 1, 1, 1, 2, 2, 2, 1, 1, 1, 2, 1, 2, 1, 1, 1, 1, 1, 2, 2, 2, 2, 1, 2, 2, 2], \"Freq\": [1.0087228571528828, 0.925645452755485, 1.096209780004193, 1.0703269767488606, 0.8020096402903638, 0.5903467515097146, 0.8013905344622451, 0.9003524362010847, 0.8088217419455783, 0.8919528020027938, 0.8473757281384195, 0.8254278414082986, 0.819714639008003, 0.9608163383005794, 0.91633495257372, 1.0862317145991447, 0.584266533509712, 1.0637314849616035, 0.508488425683639, 0.508488425683639, 0.38740607431398083, 0.38740607431398083, 0.8955589014714289, 0.5918196047755989, 0.7918418237231604, 0.8194659307512512, 0.9872237660529275, 0.799033740237723, 0.3722758773246204, 0.7445517546492408, 0.8017691009794107, 0.5881686384728091, 0.4833838795773098, 0.4833838795773098, 0.8025718556896773, 0.7741682095224511, 0.6506908518882338, 0.2168969506294113, 0.9099828119741226, 0.4128131434915734, 0.8256262869831468, 0.5626209958143839, 0.5626209958143839, 0.6642231505997829, 0.33211157529989144, 0.798417543579615, 0.635487156525836, 0.317743578262918, 0.9038438646666941, 0.7940040198880154, 0.9003606358060671, 0.6513650816719323, 0.2171216938906441, 0.5471224625095257, 0.5471224625095257, 0.8753137798558116, 0.8201353247772502, 0.8551442250964172, 0.19003205002142604, 0.9057559254008232, 0.3072928259996094, 0.6145856519992188, 0.9201107371718775, 0.9580539884879589, 0.3751013680599189, 0.7502027361198378, 0.8158573972624616, 0.8940144296323626, 0.5866680704550135, 0.9066932122729708, 0.9078584250842278, 0.8195787059606169, 1.0617459342162088, 0.5412773149491162, 0.8934910036923284, 0.5172960748347682, 0.5172960748347682, 0.7738422759148578, 0.7738338680972114, 0.423347024690181, 0.6350205370352714, 0.8678877136308601, 0.17357754272617204, 0.6030190746515914, 0.3015095373257957, 0.5617522680407665, 0.5860640010171326, 0.9108855464384669, 0.8097215479330278, 0.8243486004332259, 0.41217430021661294, 0.7733195083630605, 0.38665975418153026, 0.7996058263733876, 0.9042302428229626, 0.9154133490895896, 0.851273781850935, 0.7945715948772586, 0.5896982937624838, 0.30334842963397146, 0.6066968592679429, 0.8995603487335471, 0.7899927428850683, 0.8884931817328219, 0.49801768555181947, 0.49801768555181947, 0.569343102859246, 0.9088987116820083, 0.8932463548511408, 0.37642772983217815, 0.37642772983217815, 0.7900716266750771, 0.7948923109807553, 0.9150522379193777, 0.9083843220305674, 0.5006211171507107, 0.5006211171507107, 1.0805064161882962, 0.7733509432775378, 0.8986672857614827, 0.9043217547808005, 0.5379559909277725, 0.9328015753735909, 0.8196928464477337, 0.8435925492546738, 0.8056614401257447, 0.7969988491779958, 0.7899661322450572, 0.9054761930229234, 0.8083982488512816, 0.79902741225522, 0.8036423378625833], \"Term\": [\"ach\", \"achtsamkeit\", \"ah\", \"allgemein\", \"allgemeineres\", \"alltag\", \"angesprochen\", \"app\", \"arzten\", \"besser\", \"bestimmt\", \"beziehungen\", \"blo\\u00df\", \"code\", \"darauf\", \"darum\", \"eben\", \"eher\", \"eigentlich\", \"eigentlich\", \"einfach\", \"einfach\", \"eingangs\", \"emailadresse\", \"ersparen\", \"erwartet\", \"finde\", \"finden\", \"fur\", \"fur\", \"ganze\", \"gebe\", \"geburt\", \"geburt\", \"gedacht\", \"geh\", \"genau\", \"genau\", \"gesagt\", \"gibt\", \"gibt\", \"grundsatzlich\", \"grundsatzlich\", \"gut\", \"gut\", \"handytastatur\", \"hei\\u00dft\", \"hei\\u00dft\", \"hey\", \"hilfreich\", \"hingewiesen\", \"immer\", \"immer\", \"integrieren\", \"integrieren\", \"irgendwie\", \"irgendwo\", \"ja\", \"ja\", \"klicke\", \"kommunikation\", \"kommunikation\", \"konnen\", \"kopieren\", \"kurz\", \"kurz\", \"lektion\", \"manmoment\", \"merken\", \"methoden\", \"mhm\", \"mittlerweile\", \"mutter\", \"na\", \"nachhaltiger\", \"naturlich\", \"naturlich\", \"ne\", \"nee\", \"nochmal\", \"nochmal\", \"ok\", \"ok\", \"okay\", \"okay\", \"partner\", \"private\", \"progressive\", \"punkt\", \"registrieren\", \"registrieren\", \"richtig\", \"richtig\", \"rund\", \"schlie\\u00dfe\", \"sei\", \"situationen\", \"sonderzeichen\", \"sowas\", \"sozusagen\", \"sozusagen\", \"spannend\", \"spracheingabe\", \"stand\", \"starten\", \"starten\", \"steht\", \"stressphasen\", \"techniken\", \"thema\", \"thema\", \"tipp\", \"tippen\", \"tipps\", \"total\", \"training\", \"training\", \"uberbegriffe\", \"ubersicht\", \"uberstehen\", \"ubrigens\", \"unserer\", \"unterstutzen\", \"viele\", \"vorstellen\", \"vorteilhafter\", \"ware\", \"webbasiert\", \"wei\\u00df\", \"wieviel\", \"wissen\", \"zeit\"]}, \"R\": 30, \"lambda.step\": 0.01, \"plot.opts\": {\"xlab\": \"PC1\", \"ylab\": \"PC2\"}, \"topic.order\": [3, 2, 1]};\n",
       "\n",
       "function LDAvis_load_lib(url, callback){\n",
       "  var s = document.createElement('script');\n",
       "  s.src = url;\n",
       "  s.async = true;\n",
       "  s.onreadystatechange = s.onload = callback;\n",
       "  s.onerror = function(){console.warn(\"failed to load library \" + url);};\n",
       "  document.getElementsByTagName(\"head\")[0].appendChild(s);\n",
       "}\n",
       "\n",
       "if(typeof(LDAvis) !== \"undefined\"){\n",
       "   // already loaded: just create the visualization\n",
       "   !function(LDAvis){\n",
       "       new LDAvis(\"#\" + \"ldavis_el250431097282267689885821336\", ldavis_el250431097282267689885821336_data);\n",
       "   }(LDAvis);\n",
       "}else if(typeof define === \"function\" && define.amd){\n",
       "   // require.js is available: use it to load d3/LDAvis\n",
       "   require.config({paths: {d3: \"https://d3js.org/d3.v5\"}});\n",
       "   require([\"d3\"], function(d3){\n",
       "      window.d3 = d3;\n",
       "      LDAvis_load_lib(\"https://cdn.jsdelivr.net/gh/bmabey/pyLDAvis@3.4.0/pyLDAvis/js/ldavis.v3.0.0.js\", function(){\n",
       "        new LDAvis(\"#\" + \"ldavis_el250431097282267689885821336\", ldavis_el250431097282267689885821336_data);\n",
       "      });\n",
       "    });\n",
       "}else{\n",
       "    // require.js not available: dynamically load d3 & LDAvis\n",
       "    LDAvis_load_lib(\"https://d3js.org/d3.v5.js\", function(){\n",
       "         LDAvis_load_lib(\"https://cdn.jsdelivr.net/gh/bmabey/pyLDAvis@3.4.0/pyLDAvis/js/ldavis.v3.0.0.js\", function(){\n",
       "                 new LDAvis(\"#\" + \"ldavis_el250431097282267689885821336\", ldavis_el250431097282267689885821336_data);\n",
       "            })\n",
       "         });\n",
       "}\n",
       "</script>"
      ],
      "text/plain": [
       "PreparedData(topic_coordinates=              x    y  topics  cluster       Freq\n",
       "topic                                           \n",
       "2     -0.040657  0.0       1        1  62.032793\n",
       "1      0.046464  0.0       2        1  35.674829\n",
       "0     -0.005807  0.0       3        1   2.292378, topic_info=            Term       Freq      Total Category  logprob  loglift\n",
       "33            ja  10.000000  10.000000  Default  30.0000  30.0000\n",
       "38           ach   2.000000   2.000000  Default  29.0000  29.0000\n",
       "48     irgendwie   2.000000   2.000000  Default  28.0000  28.0000\n",
       "144         gibt   2.000000   2.000000  Default  27.0000  27.0000\n",
       "102        finde   3.000000   3.000000  Default  26.0000  26.0000\n",
       "..           ...        ...        ...      ...      ...      ...\n",
       "31         immer   0.055690   4.605712   Topic3  -4.8807  -0.6397\n",
       "168    sozusagen   0.050541   3.296539   Topic3  -4.9777  -0.4023\n",
       "34       lektion   0.048377   2.451409   Topic3  -5.0215  -0.1498\n",
       "155  integrieren   0.045012   1.827744   Topic3  -5.0936   0.0717\n",
       "110      partner   0.044801   1.780144   Topic3  -5.0983   0.0934\n",
       "\n",
       "[173 rows x 6 columns], token_table=      Topic      Freq           Term\n",
       "term                                \n",
       "38        1  1.008723            ach\n",
       "176       1  0.925645    achtsamkeit\n",
       "87        1  1.096210             ah\n",
       "80        1  1.070327      allgemein\n",
       "148       2  0.802010  allgemeineres\n",
       "...     ...       ...            ...\n",
       "70        2  0.789966     webbasiert\n",
       "198       1  0.905476           weiß\n",
       "173       2  0.808398        wieviel\n",
       "71        2  0.799027         wissen\n",
       "175       2  0.803642           zeit\n",
       "\n",
       "[132 rows x 3 columns], R=30, lambda_step=0.01, plot_opts={'xlab': 'PC1', 'ylab': 'PC2'}, topic_order=[3, 2, 1])"
      ]
     },
     "execution_count": 32,
     "metadata": {},
     "output_type": "execute_result"
    }
   ],
   "source": [
    "LDAvis_prepared"
   ]
  }
 ],
 "metadata": {
  "kernelspec": {
   "display_name": "Python 3 (ipykernel)",
   "language": "python",
   "name": "python3"
  },
  "language_info": {
   "codemirror_mode": {
    "name": "ipython",
    "version": 3
   },
   "file_extension": ".py",
   "mimetype": "text/x-python",
   "name": "python",
   "nbconvert_exporter": "python",
   "pygments_lexer": "ipython3",
   "version": "3.9.15"
  }
 },
 "nbformat": 4,
 "nbformat_minor": 5
}
