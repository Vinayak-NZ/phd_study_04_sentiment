{
 "cells": [
  {
   "cell_type": "code",
   "execution_count": 1,
   "id": "2f2fece7-896f-4e06-867c-4bb8bd671ef0",
   "metadata": {
    "tags": []
   },
   "outputs": [],
   "source": [
    "import pandas as pd\n",
    "from textblob_de import TextBlobDE"
   ]
  },
  {
   "cell_type": "code",
   "execution_count": 2,
   "id": "75e3d98a-ae81-4c76-b8af-f316ced0da22",
   "metadata": {
    "tags": []
   },
   "outputs": [
    {
     "name": "stdout",
     "output_type": "stream",
     "text": [
      "    person_id  segment_id                                               text  \\\n",
      "0           1           1  Jetzt sehen Sie vermutlich die Startseite. OK....   \n",
      "1           1           2  Ja genau. Vielleicht hätte ich jetzt Lektion d...   \n",
      "2           1           3  OK, das heißt ich geb jetzt hier meine Initial...   \n",
      "3           1           4    Und den Code muss ich irgendwie kopieren, oder?   \n",
      "4           1           5  OK. Ach das steht auch da, muss ich mir nichts...   \n",
      "5           1           6  Hier wäre es vielleicht noch hilfreich zu wiss...   \n",
      "6           1           7  OK. Ach das steht auch da, muss ich mir nichts...   \n",
      "7           1           8  OK. OK, Lesson 1 Kommunikations... kennenzuler...   \n",
      "8           1           9  Ausreichende... immer bezogen auf das Thema Ge...   \n",
      "9           1          10  OK. Umgebungsanpassung. Zwischenmenschliche An...   \n",
      "10          1          11  Naja, wenn ich das hier schließe. Ach ja, was ...   \n",
      "11          1          12  Ne, ich finde es jetzt nicht, aber es ging irg...   \n",
      "12          1          13  Genau richtig, aber grundsätzlich, dass ich mi...   \n",
      "13          1          14  Moment da klick ich nochmal kurz rein. Genau w...   \n",
      "14          1          15  Nachhaltiger sozusagen ist. Ja, also... so hat...   \n",
      "15          1          16  Nee, eigentlich nicht, ich geh nochmal kurz in...   \n",
      "\n",
      "             tags  \n",
      "0       {general}  \n",
      "1       {general}  \n",
      "2       {general}  \n",
      "3       {general}  \n",
      "4       {general}  \n",
      "5       {general}  \n",
      "6       {general}  \n",
      "7    {lesson_one}  \n",
      "8    {lesson_one}  \n",
      "9    {lesson_one}  \n",
      "10  {lesson_five}  \n",
      "11  {lesson_five}  \n",
      "12  {lesson_five}  \n",
      "13  {lesson_five}  \n",
      "14  {lesson_five}  \n",
      "15  {lesson_five}  \n"
     ]
    }
   ],
   "source": [
    "df = pd.read_csv(\"input/app_v1_feedback.txt\", sep=\"\\t\", header=0, encoding = \"latin1\")\n",
    "print(df)"
   ]
  },
  {
   "cell_type": "code",
   "execution_count": 9,
   "id": "75c2d6d1-ede1-4895-8fb5-dfc320778192",
   "metadata": {},
   "outputs": [
    {
     "name": "stdout",
     "output_type": "stream",
     "text": [
      "[Sentiment(polarity=0.2583333333333333, subjectivity=0.0), Sentiment(polarity=0.0, subjectivity=0.3333333333333333), Sentiment(polarity=0.4, subjectivity=0.0), Sentiment(polarity=0.0, subjectivity=0.0), Sentiment(polarity=0.3333333333333333, subjectivity=0.0), Sentiment(polarity=0.24285714285714285, subjectivity=0.0), Sentiment(polarity=0.3333333333333333, subjectivity=0.0), Sentiment(polarity=0.0, subjectivity=0.0), Sentiment(polarity=0.7, subjectivity=0.0), Sentiment(polarity=0.0, subjectivity=0.0), Sentiment(polarity=0.5, subjectivity=0.0), Sentiment(polarity=0.175, subjectivity=0.0), Sentiment(polarity=1.0, subjectivity=0.0), Sentiment(polarity=0.725, subjectivity=0.125), Sentiment(polarity=0.5599999999999999, subjectivity=0.0)]\n"
     ]
    }
   ],
   "source": [
    "sentiment_v = []\n",
    "for i in range(0, len(df.index)-1):\n",
    "    text_extract = df.iloc[i, 2]\n",
    "    blob = TextBlobDE(text_extract)\n",
    "    sentiment = blob.sentiment\n",
    "    if sentiment.polarity > 0:\n",
    "        sentiment_final == 'positive'\n",
    "    elif sentiment.polarity < 0:\n",
    "        sentiment_final == 'negative'\n",
    "    else: \n",
    "        sentiment_final == 'neutral'\n",
    "    sentiment_v.append(sentiment_final)\n",
    "print(sentiment_v)"
   ]
  },
  {
   "cell_type": "code",
   "execution_count": 10,
   "id": "feda6ace-a9e7-4d9d-8b01-def589ed0943",
   "metadata": {},
   "outputs": [],
   "source": [
    "text_extract = df.iloc[i, 2]\n",
    "blob = TextBlobDE(text_extract)\n",
    "sentiment = blob.sentiment"
   ]
  },
  {
   "cell_type": "code",
   "execution_count": 11,
   "id": "835b84e3-eb53-4b8b-98c2-0eea3526ef5a",
   "metadata": {
    "tags": []
   },
   "outputs": [
    {
     "name": "stdout",
     "output_type": "stream",
     "text": [
      "Sentiment(polarity=0.5599999999999999, subjectivity=0.0)\n"
     ]
    }
   ],
   "source": [
    "print(sentiment)"
   ]
  },
  {
   "cell_type": "code",
   "execution_count": 12,
   "id": "03a88253-706c-4ba2-af1d-c52fc2788d38",
   "metadata": {
    "tags": []
   },
   "outputs": [
    {
     "data": {
      "text/plain": [
       "0.5599999999999999"
      ]
     },
     "execution_count": 12,
     "metadata": {},
     "output_type": "execute_result"
    }
   ],
   "source": [
    "sentiment.polarity"
   ]
  }
 ],
 "metadata": {
  "kernelspec": {
   "display_name": "Python 3 (ipykernel)",
   "language": "python",
   "name": "python3"
  },
  "language_info": {
   "codemirror_mode": {
    "name": "ipython",
    "version": 3
   },
   "file_extension": ".py",
   "mimetype": "text/x-python",
   "name": "python",
   "nbconvert_exporter": "python",
   "pygments_lexer": "ipython3",
   "version": "3.10.2"
  }
 },
 "nbformat": 4,
 "nbformat_minor": 5
}
