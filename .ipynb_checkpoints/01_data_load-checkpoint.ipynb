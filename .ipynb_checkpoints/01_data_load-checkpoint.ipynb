{
 "cells": [
  {
   "cell_type": "code",
   "execution_count": null,
   "id": "a845c6a5-d9fd-444a-a326-990b014e0a53",
   "metadata": {
    "tags": []
   },
   "outputs": [],
   "source": [
    "import pandas as pd\n",
    "from germansentiment import SentimentModel\n",
    "from nltk import tokenize"
   ]
  },
  {
   "cell_type": "code",
   "execution_count": null,
   "id": "7f713104-7817-48b8-b534-ee7ec42c650a",
   "metadata": {
    "tags": []
   },
   "outputs": [],
   "source": [
    "model = SentimentModel()"
   ]
  },
  {
   "cell_type": "code",
   "execution_count": null,
   "id": "cfefbfa1-6aaa-4287-bb13-bbeaa80ba1fe",
   "metadata": {
    "tags": []
   },
   "outputs": [],
   "source": [
    "df = pd.read_csv(\"input/app_v1_feedback.txt\", sep=\"\\t\", header=0, encoding = \"latin1\")\n",
    "print(df)"
   ]
  },
  {
   "cell_type": "code",
   "execution_count": null,
   "id": "31e7ecb7-9880-4af1-8c26-17d2530e10d3",
   "metadata": {
    "tags": []
   },
   "outputs": [],
   "source": [
    "text_extract = df.iloc[1, 2]"
   ]
  },
  {
   "cell_type": "code",
   "execution_count": null,
   "id": "2bb37edf-afb8-4b1c-8622-23b40a284c96",
   "metadata": {},
   "outputs": [],
   "source": [
    "text_extract_v = [text_extract]"
   ]
  },
  {
   "cell_type": "code",
   "execution_count": null,
   "id": "df38dde3-f947-48b4-800f-67fabc6dc6d9",
   "metadata": {
    "tags": []
   },
   "outputs": [],
   "source": [
    "text_extract_v"
   ]
  },
  {
   "cell_type": "code",
   "execution_count": null,
   "id": "2524c8ca-0b32-47cc-ba00-0dd9af7af8de",
   "metadata": {
    "tags": []
   },
   "outputs": [],
   "source": [
    "result = model.predict_sentiment(text_extract_v)\n",
    "print(result)"
   ]
  },
  {
   "cell_type": "code",
   "execution_count": null,
   "id": "2a813dc3-0d99-4999-9ddb-5cf1bdd90ebe",
   "metadata": {
    "tags": []
   },
   "outputs": [],
   "source": [
    "result = model.predict_sentiment(text_extract_v, output_probabilities = True)\n",
    "print(result)"
   ]
  },
  {
   "cell_type": "code",
   "execution_count": null,
   "id": "77f40191-2b49-4750-bdd4-0cb1a04e4e3f",
   "metadata": {},
   "outputs": [],
   "source": [
    "texts_processed = tokenize.sent_tokenize(text_extract)"
   ]
  },
  {
   "cell_type": "code",
   "execution_count": null,
   "id": "4910c9e3-cde1-43cd-959b-4c932911ee60",
   "metadata": {},
   "outputs": [],
   "source": [
    "result = model.predict_sentiment(text_extract)\n",
    "print(result)"
   ]
  },
  {
   "cell_type": "code",
   "execution_count": null,
   "id": "0ae7a625-6d88-4ecc-a871-4a487e8e7809",
   "metadata": {},
   "outputs": [],
   "source": [
    "result = model.predict_sentiment(text_extract_v, output_probabilities = True)\n",
    "print(result)"
   ]
  }
 ],
 "metadata": {
  "kernelspec": {
   "display_name": "Python 3 (ipykernel)",
   "language": "python",
   "name": "python3"
  },
  "language_info": {
   "codemirror_mode": {
    "name": "ipython",
    "version": 3
   },
   "file_extension": ".py",
   "mimetype": "text/x-python",
   "name": "python",
   "nbconvert_exporter": "python",
   "pygments_lexer": "ipython3",
   "version": "3.10.2"
  }
 },
 "nbformat": 4,
 "nbformat_minor": 5
}
