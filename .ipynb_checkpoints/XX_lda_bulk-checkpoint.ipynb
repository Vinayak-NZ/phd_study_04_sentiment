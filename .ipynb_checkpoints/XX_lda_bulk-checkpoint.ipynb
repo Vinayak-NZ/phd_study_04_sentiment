{
 "cells": [
  {
   "cell_type": "code",
   "execution_count": 9,
   "id": "f8ca0864-f96b-4557-abd4-4e2052ea2cae",
   "metadata": {
    "tags": []
   },
   "outputs": [],
   "source": [
    "import pandas as pd\n",
    "import re\n",
    "from wordcloud import WordCloud\n",
    "import gensim\n",
    "from gensim.utils import simple_preprocess\n",
    "import gensim.corpora as corpora\n",
    "import nltk\n",
    "from nltk.corpus import stopwords\n",
    "from pprint import pprint\n",
    "import pyLDAvis.gensim\n",
    "import pickle\n",
    "import pyLDAvis\n",
    "import docx2txt\n",
    "import os\n",
    "import nltk"
   ]
  },
  {
   "cell_type": "code",
   "execution_count": 61,
   "id": "a1f9bde7-4d89-446a-ae1c-a2526e864ce1",
   "metadata": {
    "tags": []
   },
   "outputs": [],
   "source": [
    "os.chdir(\"C:\\\\Users\\\\vanandkuma\\\\Documents\\\\projects\\\\sentiment_analysis\")"
   ]
  },
  {
   "cell_type": "code",
   "execution_count": 5,
   "id": "9430c8d2-6462-4477-bc9e-c56a7c01d0e6",
   "metadata": {
    "tags": []
   },
   "outputs": [],
   "source": [
    "os.chdir('input/app_v1')\n",
    "\n",
    "path_v1 = (\"C:\\\\Users\\\\vanandkuma\\\\Documents\\\\projects\\\\sentiment_analysis\\\\input\\\\app_v1\")\n",
    "\n",
    "path_v2 = (\"C:\\\\Users\\\\vanandkuma\\\\Documents\\\\projects\\\\sentiment_analysis\\\\input\\\\app_v2\")"
   ]
  },
  {
   "cell_type": "code",
   "execution_count": 6,
   "id": "2818b224-9565-4ce3-b904-2e45db5645f0",
   "metadata": {
    "tags": []
   },
   "outputs": [],
   "source": [
    "files = []\n",
    "for file in os.listdir(path_v1):\n",
    "    if file.endswith('.docx'):\n",
    "        files.append(file)"
   ]
  },
  {
   "cell_type": "code",
   "execution_count": 7,
   "id": "a787e0b5-9de0-43ce-ac4f-64f36f717734",
   "metadata": {
    "tags": []
   },
   "outputs": [],
   "source": [
    "pooled_doc = []\n",
    "for i in range(len(files)):\n",
    "    text = docx2txt.process(files[i])\n",
    "    pooled_doc.append(text) "
   ]
  },
  {
   "cell_type": "code",
   "execution_count": 8,
   "id": "0f40e4b8-9050-4df9-bdca-4eec7363cff8",
   "metadata": {
    "tags": []
   },
   "outputs": [
    {
     "data": {
      "text/plain": [
       "6"
      ]
     },
     "execution_count": 8,
     "metadata": {},
     "output_type": "execute_result"
    }
   ],
   "source": [
    "len(pooled_doc)"
   ]
  },
  {
   "cell_type": "code",
   "execution_count": 77,
   "id": "5bb45ae7-4293-4e47-9211-0b0163e58ba1",
   "metadata": {
    "tags": []
   },
   "outputs": [],
   "source": [
    "df = pd.DataFrame()"
   ]
  },
  {
   "cell_type": "code",
   "execution_count": 78,
   "id": "acc76543-8b1b-497f-82c0-e0e0e14fd56f",
   "metadata": {
    "tags": []
   },
   "outputs": [
    {
     "ename": "AttributeError",
     "evalue": "'DataFrame' object has no attribute 'concat'",
     "output_type": "error",
     "traceback": [
      "\u001b[1;31m---------------------------------------------------------------------------\u001b[0m",
      "\u001b[1;31mAttributeError\u001b[0m                            Traceback (most recent call last)",
      "Cell \u001b[1;32mIn[78], line 4\u001b[0m\n\u001b[0;32m      2\u001b[0m sentence \u001b[38;5;241m=\u001b[39m nltk\u001b[38;5;241m.\u001b[39mtokenize\u001b[38;5;241m.\u001b[39msent_tokenize(pooled_doc[i])\n\u001b[0;32m      3\u001b[0m \u001b[38;5;28;01mfor\u001b[39;00m i \u001b[38;5;129;01min\u001b[39;00m \u001b[38;5;28mrange\u001b[39m(\u001b[38;5;28mlen\u001b[39m(sentence)):\n\u001b[1;32m----> 4\u001b[0m     df \u001b[38;5;241m=\u001b[39m \u001b[43mdf\u001b[49m\u001b[38;5;241;43m.\u001b[39;49m\u001b[43mconcat\u001b[49m(sentence[i])\n",
      "File \u001b[1;32m~\\AppData\\Local\\Programs\\Python\\Python310\\lib\\site-packages\\pandas\\core\\generic.py:5989\u001b[0m, in \u001b[0;36mNDFrame.__getattr__\u001b[1;34m(self, name)\u001b[0m\n\u001b[0;32m   5982\u001b[0m \u001b[38;5;28;01mif\u001b[39;00m (\n\u001b[0;32m   5983\u001b[0m     name \u001b[38;5;129;01mnot\u001b[39;00m \u001b[38;5;129;01min\u001b[39;00m \u001b[38;5;28mself\u001b[39m\u001b[38;5;241m.\u001b[39m_internal_names_set\n\u001b[0;32m   5984\u001b[0m     \u001b[38;5;129;01mand\u001b[39;00m name \u001b[38;5;129;01mnot\u001b[39;00m \u001b[38;5;129;01min\u001b[39;00m \u001b[38;5;28mself\u001b[39m\u001b[38;5;241m.\u001b[39m_metadata\n\u001b[0;32m   5985\u001b[0m     \u001b[38;5;129;01mand\u001b[39;00m name \u001b[38;5;129;01mnot\u001b[39;00m \u001b[38;5;129;01min\u001b[39;00m \u001b[38;5;28mself\u001b[39m\u001b[38;5;241m.\u001b[39m_accessors\n\u001b[0;32m   5986\u001b[0m     \u001b[38;5;129;01mand\u001b[39;00m \u001b[38;5;28mself\u001b[39m\u001b[38;5;241m.\u001b[39m_info_axis\u001b[38;5;241m.\u001b[39m_can_hold_identifiers_and_holds_name(name)\n\u001b[0;32m   5987\u001b[0m ):\n\u001b[0;32m   5988\u001b[0m     \u001b[38;5;28;01mreturn\u001b[39;00m \u001b[38;5;28mself\u001b[39m[name]\n\u001b[1;32m-> 5989\u001b[0m \u001b[38;5;28;01mreturn\u001b[39;00m \u001b[38;5;28;43mobject\u001b[39;49m\u001b[38;5;241;43m.\u001b[39;49m\u001b[38;5;21;43m__getattribute__\u001b[39;49m\u001b[43m(\u001b[49m\u001b[38;5;28;43mself\u001b[39;49m\u001b[43m,\u001b[49m\u001b[43m \u001b[49m\u001b[43mname\u001b[49m\u001b[43m)\u001b[49m\n",
      "\u001b[1;31mAttributeError\u001b[0m: 'DataFrame' object has no attribute 'concat'"
     ]
    }
   ],
   "source": [
    "for i in range(len(pooled_doc)):\n",
    "    sentence = nltk.tokenize.sent_tokenize(pooled_doc[i])\n",
    "    for i in range(len(sentence)):\n",
    "        df = pd.concat(sentence[i])"
   ]
  },
  {
   "cell_type": "code",
   "execution_count": 46,
   "id": "05d2278b-799d-44f1-a366-8ac6f22ac808",
   "metadata": {
    "tags": []
   },
   "outputs": [],
   "source": [
    "df['text_processed'] = \\\n",
    "df['text'].map(lambda x: re.sub('[,.!?]', '', x))"
   ]
  },
  {
   "cell_type": "code",
   "execution_count": 47,
   "id": "a0df0ccb-4124-43c9-b348-4788c122221e",
   "metadata": {
    "tags": []
   },
   "outputs": [],
   "source": [
    "df['text_processed'] = \\\n",
    "df['text_processed'].map(lambda x: x.lower())"
   ]
  },
  {
   "cell_type": "code",
   "execution_count": 66,
   "id": "a3b97de6-6b88-45c0-9d3a-1932176c9d4b",
   "metadata": {
    "tags": []
   },
   "outputs": [
    {
     "data": {
      "text/html": [
       "<div>\n",
       "<style scoped>\n",
       "    .dataframe tbody tr th:only-of-type {\n",
       "        vertical-align: middle;\n",
       "    }\n",
       "\n",
       "    .dataframe tbody tr th {\n",
       "        vertical-align: top;\n",
       "    }\n",
       "\n",
       "    .dataframe thead th {\n",
       "        text-align: right;\n",
       "    }\n",
       "</style>\n",
       "<table border=\"1\" class=\"dataframe\">\n",
       "  <thead>\n",
       "    <tr style=\"text-align: right;\">\n",
       "      <th></th>\n",
       "      <th>text</th>\n",
       "      <th>text_processed</th>\n",
       "    </tr>\n",
       "  </thead>\n",
       "  <tbody>\n",
       "    <tr>\n",
       "      <th>text</th>\n",
       "      <td>03:26:38.795 --&gt; 03:26:39.945\\nInterviewee (Ga...</td>\n",
       "      <td>03:26:38795 --&gt; 03:26:39945\\ninterviewee (gast...</td>\n",
       "    </tr>\n",
       "  </tbody>\n",
       "</table>\n",
       "</div>"
      ],
      "text/plain": [
       "                                                   text   \n",
       "text  03:26:38.795 --> 03:26:39.945\\nInterviewee (Ga...  \\\n",
       "\n",
       "                                         text_processed  \n",
       "text  03:26:38795 --> 03:26:39945\\ninterviewee (gast...  "
      ]
     },
     "execution_count": 66,
     "metadata": {},
     "output_type": "execute_result"
    }
   ],
   "source": [
    "df.head()"
   ]
  },
  {
   "cell_type": "code",
   "execution_count": 48,
   "id": "ac00134c-3cdd-4ee6-9e4f-60b8d9f47a5e",
   "metadata": {
    "tags": []
   },
   "outputs": [],
   "source": [
    "stop_words = stopwords.words('german')"
   ]
  },
  {
   "cell_type": "code",
   "execution_count": 49,
   "id": "49c77a44-e3f3-40a6-87e8-832a5987d57e",
   "metadata": {
    "tags": []
   },
   "outputs": [],
   "source": [
    "def sent_to_words(sentences):\n",
    "    for sentence in sentences:\n",
    "        yield(gensim.utils.simple_preprocess(str(sentence), \n",
    "                                             deacc = True))"
   ]
  },
  {
   "cell_type": "code",
   "execution_count": 50,
   "id": "1eba4c8d-6e44-4c80-a3a3-ab7469b906f2",
   "metadata": {
    "tags": []
   },
   "outputs": [],
   "source": [
    "def remove_stopwords(texts):\n",
    "    return[[word for word in simple_preprocess(str(doc)) \n",
    "            if word not in stop_words] for doc in texts]"
   ]
  },
  {
   "cell_type": "code",
   "execution_count": 51,
   "id": "804cf4be-7809-4ac8-98f7-dcd107fa7a46",
   "metadata": {
    "tags": []
   },
   "outputs": [],
   "source": [
    "data = df.text_processed.values.tolist()\n",
    "data_words = list(sent_to_words(data))"
   ]
  },
  {
   "cell_type": "code",
   "execution_count": 52,
   "id": "9dabea99-67a3-47ac-b494-7b6080c2dc47",
   "metadata": {
    "tags": []
   },
   "outputs": [],
   "source": [
    "data_words = remove_stopwords(data_words)"
   ]
  },
  {
   "cell_type": "code",
   "execution_count": 65,
   "id": "e2cc1873-3a26-4bdb-9e44-755b20739724",
   "metadata": {
    "tags": []
   },
   "outputs": [
    {
     "name": "stdout",
     "output_type": "stream",
     "text": [
      "[['interviewee', 'gast', 'klar', 'tschuß']]\n"
     ]
    }
   ],
   "source": [
    "print(data_words)"
   ]
  },
  {
   "cell_type": "code",
   "execution_count": 53,
   "id": "9cf07d1e-5908-49c4-9ebf-2e790a95b4e6",
   "metadata": {
    "tags": []
   },
   "outputs": [],
   "source": [
    "id2word = corpora.Dictionary(data_words)"
   ]
  },
  {
   "cell_type": "code",
   "execution_count": 54,
   "id": "c47ba1fd-1fe1-4168-91c7-f83b2aa2a4df",
   "metadata": {
    "tags": []
   },
   "outputs": [],
   "source": [
    "texts = data_words"
   ]
  },
  {
   "cell_type": "code",
   "execution_count": 55,
   "id": "9b7ec046-70f1-423a-bfd5-8fa09421c549",
   "metadata": {
    "tags": []
   },
   "outputs": [],
   "source": [
    "corpus = [id2word.doc2bow(text) for text in texts]"
   ]
  },
  {
   "cell_type": "code",
   "execution_count": 56,
   "id": "d2c56411-e7bd-47df-8028-af227ee773ac",
   "metadata": {
    "tags": []
   },
   "outputs": [],
   "source": [
    "num_topics = 2"
   ]
  },
  {
   "cell_type": "code",
   "execution_count": 57,
   "id": "683f0ca7-72ff-4d96-88e8-5d72eefc239e",
   "metadata": {
    "tags": []
   },
   "outputs": [],
   "source": [
    "lda_model = gensim.models.LdaMulticore(corpus = corpus, \n",
    "                                       id2word = id2word, \n",
    "                                       num_topics = num_topics)"
   ]
  },
  {
   "cell_type": "code",
   "execution_count": 58,
   "id": "c74fc43f-42ad-4736-a50f-a1ad49d3de81",
   "metadata": {
    "tags": []
   },
   "outputs": [
    {
     "name": "stdout",
     "output_type": "stream",
     "text": [
      "[(0, '0.265*\"tschuß\" + 0.254*\"interviewee\" + 0.242*\"klar\" + 0.239*\"gast\"'),\n",
      " (1, '0.259*\"gast\" + 0.257*\"klar\" + 0.247*\"interviewee\" + 0.237*\"tschuß\"')]\n"
     ]
    }
   ],
   "source": [
    "pprint(lda_model.print_topics())\n",
    "doc_lda = lda_model[corpus]"
   ]
  },
  {
   "cell_type": "code",
   "execution_count": 59,
   "id": "30da02cb-4bef-418a-bb87-e48f4884b75f",
   "metadata": {
    "tags": []
   },
   "outputs": [],
   "source": [
    "pyLDAvis.enable_notebook()\n",
    "\n",
    "LDAvis_data_filepath = 'output/ldavis_prepared_topics_three'"
   ]
  },
  {
   "cell_type": "code",
   "execution_count": 62,
   "id": "46be0e6e-0534-4dbf-a133-fd340482ce15",
   "metadata": {
    "tags": []
   },
   "outputs": [],
   "source": [
    "if __name__ == '__main__':\n",
    "    if 1 == 1:\n",
    "        LDAvis_prepared = pyLDAvis.gensim.prepare(lda_model, corpus, \n",
    "                                                  id2word)\n",
    "        with open(LDAvis_data_filepath, 'wb') as f:\n",
    "            pickle.dump(LDAvis_prepared, f)"
   ]
  },
  {
   "cell_type": "code",
   "execution_count": 63,
   "id": "691f3bb4-2fa6-40fd-b6a3-1c85fad9f29c",
   "metadata": {
    "tags": []
   },
   "outputs": [],
   "source": [
    "with open(LDAvis_data_filepath, 'rb') as f:\n",
    "    LDAvis_prepared = pickle.load(f)"
   ]
  },
  {
   "cell_type": "code",
   "execution_count": 64,
   "id": "4f4e879e-5c0d-4817-88a1-15cfa72942fa",
   "metadata": {
    "tags": []
   },
   "outputs": [
    {
     "data": {
      "text/html": [
       "\n",
       "<link rel=\"stylesheet\" type=\"text/css\" href=\"https://cdn.jsdelivr.net/gh/bmabey/pyLDAvis@3.4.0/pyLDAvis/js/ldavis.v1.0.0.css\">\n",
       "\n",
       "\n",
       "<div id=\"ldavis_el8335626090590814407230029304\" style=\"background-color:white;\"></div>\n",
       "<script type=\"text/javascript\">\n",
       "\n",
       "var ldavis_el8335626090590814407230029304_data = {\"mdsDat\": {\"x\": [0.0003707069738860297, -0.0003707069738860297], \"y\": [0.0, 0.0], \"topics\": [1, 2], \"cluster\": [1, 1], \"Freq\": [78.06938886642456, 21.93061113357544]}, \"tinfo\": {\"Term\": [\"tschu\\u00df\", \"interviewee\", \"klar\", \"gast\", \"gast\", \"klar\", \"interviewee\", \"tschu\\u00df\", \"tschu\\u00df\", \"interviewee\", \"klar\", \"gast\"], \"Freq\": [0.0, 0.0, 1.0, 1.0, 0.8094460597919806, 0.8024114827843931, 0.770185159227097, 0.7407326201886022, 0.2327134545013223, 0.22283187867320464, 0.21201965273587575, 0.2096594202176263], \"Total\": [0.0, 0.0, 1.0, 1.0, 1.0191054800096069, 1.0144311355202689, 0.9930170379003016, 0.9734460746899245, 0.9734460746899245, 0.9930170379003016, 1.0144311355202689, 1.0191054800096069], \"Category\": [\"Default\", \"Default\", \"Default\", \"Default\", \"Topic1\", \"Topic1\", \"Topic1\", \"Topic1\", \"Topic2\", \"Topic2\", \"Topic2\", \"Topic2\"], \"logprob\": [4.0, 3.0, 2.0, 1.0, -1.3501, -1.3589, -1.3998, -1.4388, -1.327, -1.3703, -1.4201, -1.4313], \"loglift\": [4.0, 3.0, 2.0, 1.0, 0.0172, 0.0131, -0.0065, -0.0256, 0.0863, 0.023, -0.0481, -0.0639]}, \"token.table\": {\"Topic\": [1, 1, 1, 1], \"Freq\": [0.981252696227846, 1.0070320667553334, 0.9857741595117074, 1.0272782704666346], \"Term\": [\"gast\", \"interviewee\", \"klar\", \"tschu\\u00df\"]}, \"R\": 4, \"lambda.step\": 0.01, \"plot.opts\": {\"xlab\": \"PC1\", \"ylab\": \"PC2\"}, \"topic.order\": [2, 1]};\n",
       "\n",
       "function LDAvis_load_lib(url, callback){\n",
       "  var s = document.createElement('script');\n",
       "  s.src = url;\n",
       "  s.async = true;\n",
       "  s.onreadystatechange = s.onload = callback;\n",
       "  s.onerror = function(){console.warn(\"failed to load library \" + url);};\n",
       "  document.getElementsByTagName(\"head\")[0].appendChild(s);\n",
       "}\n",
       "\n",
       "if(typeof(LDAvis) !== \"undefined\"){\n",
       "   // already loaded: just create the visualization\n",
       "   !function(LDAvis){\n",
       "       new LDAvis(\"#\" + \"ldavis_el8335626090590814407230029304\", ldavis_el8335626090590814407230029304_data);\n",
       "   }(LDAvis);\n",
       "}else if(typeof define === \"function\" && define.amd){\n",
       "   // require.js is available: use it to load d3/LDAvis\n",
       "   require.config({paths: {d3: \"https://d3js.org/d3.v5\"}});\n",
       "   require([\"d3\"], function(d3){\n",
       "      window.d3 = d3;\n",
       "      LDAvis_load_lib(\"https://cdn.jsdelivr.net/gh/bmabey/pyLDAvis@3.4.0/pyLDAvis/js/ldavis.v3.0.0.js\", function(){\n",
       "        new LDAvis(\"#\" + \"ldavis_el8335626090590814407230029304\", ldavis_el8335626090590814407230029304_data);\n",
       "      });\n",
       "    });\n",
       "}else{\n",
       "    // require.js not available: dynamically load d3 & LDAvis\n",
       "    LDAvis_load_lib(\"https://d3js.org/d3.v5.js\", function(){\n",
       "         LDAvis_load_lib(\"https://cdn.jsdelivr.net/gh/bmabey/pyLDAvis@3.4.0/pyLDAvis/js/ldavis.v3.0.0.js\", function(){\n",
       "                 new LDAvis(\"#\" + \"ldavis_el8335626090590814407230029304\", ldavis_el8335626090590814407230029304_data);\n",
       "            })\n",
       "         });\n",
       "}\n",
       "</script>"
      ],
      "text/plain": [
       "PreparedData(topic_coordinates=              x    y  topics  cluster       Freq\n",
       "topic                                           \n",
       "1      0.000371  0.0       1        1  78.069389\n",
       "0     -0.000371  0.0       2        1  21.930611, topic_info=          Term      Freq     Total Category  logprob  loglift\n",
       "3       tschuß  0.000000  0.000000  Default   4.0000   4.0000\n",
       "1  interviewee  0.000000  0.000000  Default   3.0000   3.0000\n",
       "2         klar  1.000000  1.000000  Default   2.0000   2.0000\n",
       "0         gast  1.000000  1.000000  Default   1.0000   1.0000\n",
       "0         gast  0.809446  1.019105   Topic1  -1.3501   0.0172\n",
       "2         klar  0.802411  1.014431   Topic1  -1.3589   0.0131\n",
       "1  interviewee  0.770185  0.993017   Topic1  -1.3998  -0.0065\n",
       "3       tschuß  0.740733  0.973446   Topic1  -1.4388  -0.0256\n",
       "3       tschuß  0.232713  0.973446   Topic2  -1.3270   0.0863\n",
       "1  interviewee  0.222832  0.993017   Topic2  -1.3703   0.0230\n",
       "2         klar  0.212020  1.014431   Topic2  -1.4201  -0.0481\n",
       "0         gast  0.209659  1.019105   Topic2  -1.4313  -0.0639, token_table=      Topic      Freq         Term\n",
       "term                              \n",
       "0         1  0.981253         gast\n",
       "1         1  1.007032  interviewee\n",
       "2         1  0.985774         klar\n",
       "3         1  1.027278       tschuß, R=4, lambda_step=0.01, plot_opts={'xlab': 'PC1', 'ylab': 'PC2'}, topic_order=[2, 1])"
      ]
     },
     "execution_count": 64,
     "metadata": {},
     "output_type": "execute_result"
    }
   ],
   "source": [
    "LDAvis_prepared"
   ]
  }
 ],
 "metadata": {
  "kernelspec": {
   "display_name": "Python 3 (ipykernel)",
   "language": "python",
   "name": "python3"
  },
  "language_info": {
   "codemirror_mode": {
    "name": "ipython",
    "version": 3
   },
   "file_extension": ".py",
   "mimetype": "text/x-python",
   "name": "python",
   "nbconvert_exporter": "python",
   "pygments_lexer": "ipython3",
   "version": "3.10.2"
  }
 },
 "nbformat": 4,
 "nbformat_minor": 5
}
