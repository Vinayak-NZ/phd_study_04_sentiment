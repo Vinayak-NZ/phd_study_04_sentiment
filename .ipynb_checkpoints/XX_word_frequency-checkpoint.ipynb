{
 "cells": [
  {
   "cell_type": "code",
   "execution_count": 1,
   "id": "a346cfd1-fcf3-4a4d-8f68-d0745d12e6c1",
   "metadata": {
    "tags": []
   },
   "outputs": [],
   "source": [
    "import os\n",
    "import re\n",
    "import numpy as np\n",
    "import pandas as pd\n",
    "from pprint import pprint\n",
    "\n",
    "# reading docfiles\n",
    "import docx2txt\n",
    "\n",
    "# nltk\n",
    "import nltk\n",
    "\n",
    "# word count\n",
    "from collections import Counter\n",
    "\n",
    "# string manipulation\n",
    "import string\n",
    "from string import digits\n",
    "\n",
    "# Gensim\n",
    "import gensim\n",
    "import gensim.corpora as corpora\n",
    "from gensim.utils import simple_preprocess\n",
    "from gensim.models import CoherenceModel"
   ]
  },
  {
   "cell_type": "code",
   "execution_count": 2,
   "id": "c1aa453c-d74d-4bbc-b139-d227d3e782fd",
   "metadata": {
    "tags": []
   },
   "outputs": [],
   "source": [
    "# NLTK Stop words\n",
    "from nltk.corpus import stopwords\n",
    "stop_words = stopwords.words('german')\n",
    "stop_words.extend(['ja', 'ne', 'ok', 'okay', 'genau', 'also', 'mhm', 'i', 't', 'tn', 'zn', 'b', ' '])"
   ]
  },
  {
   "cell_type": "code",
   "execution_count": 6,
   "id": "07c9eaf3-2e47-499a-8fbd-373c3d35e754",
   "metadata": {
    "tags": []
   },
   "outputs": [],
   "source": [
    "os.chdir(\"C:\\\\Users\\\\vanandkuma\\\\Documents\\\\projects\\\\sentiment_analysis\")"
   ]
  },
  {
   "cell_type": "code",
   "execution_count": 7,
   "id": "5928b8d6-ee92-41d7-8ffa-4eb0d1f17c47",
   "metadata": {
    "tags": []
   },
   "outputs": [],
   "source": [
    "os.chdir('input/word_count_list')\n",
    "\n",
    "path_v1 = (\"C:\\\\Users\\\\vanandkuma\\\\Documents\\\\projects\\\\sentiment_analysis\\\\input\\\\word_count_list\")"
   ]
  },
  {
   "cell_type": "code",
   "execution_count": 8,
   "id": "70eaf77e-fde0-48fb-8a63-408d536ef464",
   "metadata": {
    "tags": []
   },
   "outputs": [],
   "source": [
    "files = []\n",
    "for file in os.listdir(path_v1):\n",
    "    if file.endswith('.docx'):\n",
    "        files.append(file)"
   ]
  },
  {
   "cell_type": "code",
   "execution_count": 9,
   "id": "a20b1c27-a638-44ac-bdc0-3140a5319468",
   "metadata": {
    "tags": []
   },
   "outputs": [],
   "source": [
    "pooled_doc = []\n",
    "for i in range(len(files)):\n",
    "    text = docx2txt.process(files[i])\n",
    "    pooled_doc.append(text) "
   ]
  },
  {
   "cell_type": "code",
   "execution_count": 10,
   "id": "3c8fbcc7-a9fc-4efe-b322-f10e6e8b9b96",
   "metadata": {
    "tags": []
   },
   "outputs": [],
   "source": [
    "df = []\n",
    "for i in range(len(pooled_doc)):\n",
    "    sentence = nltk.tokenize.sent_tokenize(pooled_doc[i])\n",
    "    for i in range(len(sentence)):\n",
    "        df.append(sentence[i])"
   ]
  },
  {
   "cell_type": "code",
   "execution_count": 11,
   "id": "2c90226d-3280-4ce4-a7d3-898ea33d0d07",
   "metadata": {
    "tags": []
   },
   "outputs": [],
   "source": [
    "for i in range(len(df)):\n",
    "    df[i] = df[i].replace('\\n', '')\n",
    "    df[i] = df[i].translate(str.maketrans('', '', string.punctuation))\n",
    "    df[i] = df[i].translate(str.maketrans('', '', digits))\n",
    "    df[i] = df[i].replace(\"...\", \" \")\n",
    "    df[i] = df[i].replace(\"–\", \" \")\n",
    "    df[i] = df[i].replace(\"„\", \" \")\n",
    "    df[i] = df[i].replace(\"“\", \" \")"
   ]
  },
  {
   "cell_type": "code",
   "execution_count": 12,
   "id": "b84c7911-89e8-4bb7-a986-1d6d8b290039",
   "metadata": {
    "tags": []
   },
   "outputs": [],
   "source": [
    "words = []\n",
    "for i in range(len(df)):\n",
    "    element = df[i].split()\n",
    "    for i in range(len(element)):\n",
    "        element[i] = element[i].replace('\\u2026', '')\n",
    "        words.append(element[i].lower())"
   ]
  },
  {
   "cell_type": "code",
   "execution_count": 13,
   "id": "1369ec4d-b96b-4573-a24a-700433eedf2c",
   "metadata": {
    "tags": []
   },
   "outputs": [],
   "source": [
    "data_words_nostops = [x for x in words if x not in stop_words]"
   ]
  },
  {
   "cell_type": "code",
   "execution_count": 14,
   "id": "8327ee0d-e933-449f-a497-e1b07f73309f",
   "metadata": {
    "tags": []
   },
   "outputs": [],
   "source": [
    "counts = Counter(data_words_nostops)"
   ]
  },
  {
   "cell_type": "code",
   "execution_count": 15,
   "id": "5d739b46-84f6-4013-b295-e10e08f649cb",
   "metadata": {
    "tags": []
   },
   "outputs": [],
   "source": [
    "os.chdir(\"C:\\\\Users\\\\vanandkuma\\\\Documents\\\\projects\\\\sentiment_analysis\")"
   ]
  },
  {
   "cell_type": "code",
   "execution_count": 18,
   "id": "13f4fded-938d-4090-be05-7d79456db030",
   "metadata": {
    "tags": []
   },
   "outputs": [],
   "source": [
    "pd.DataFrame(Counter(data_words_nostops).most_common(), columns=[\"word\", \"count\"]).to_excel(\"output/word_frequency.xlsx\", index = False)"
   ]
  }
 ],
 "metadata": {
  "kernelspec": {
   "display_name": "Python 3 (ipykernel)",
   "language": "python",
   "name": "python3"
  },
  "language_info": {
   "codemirror_mode": {
    "name": "ipython",
    "version": 3
   },
   "file_extension": ".py",
   "mimetype": "text/x-python",
   "name": "python",
   "nbconvert_exporter": "python",
   "pygments_lexer": "ipython3",
   "version": "3.10.2"
  }
 },
 "nbformat": 4,
 "nbformat_minor": 5
}
