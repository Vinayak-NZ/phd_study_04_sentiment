{
 "cells": [
  {
   "cell_type": "code",
   "execution_count": 1,
   "id": "a63cbda1-339d-48d7-aa2f-87f55fce9cc3",
   "metadata": {
    "tags": []
   },
   "outputs": [],
   "source": [
    "import os\n",
    "import re\n",
    "import numpy as np\n",
    "import pandas as pd\n",
    "from pprint import pprint\n",
    "\n",
    "# reading docfiles\n",
    "import docx2txt\n",
    "\n",
    "#nltk\n",
    "import nltk\n",
    "from nltk.tokenize import word_tokenize\n",
    "\n",
    "# Gensim\n",
    "import gensim\n",
    "import gensim.corpora as corpora\n",
    "from gensim.utils import simple_preprocess\n",
    "from gensim.models import CoherenceModel\n",
    "\n",
    "# spacy for lemmatization\n",
    "import spacy\n",
    "\n",
    "# Plotting tools\n",
    "import pyLDAvis\n",
    "import pyLDAvis.gensim  # don't skip this\n",
    "import matplotlib.pyplot as plt\n",
    "%matplotlib inline\n",
    "\n",
    "# Enable logging for gensim - optional\n",
    "import logging\n",
    "logging.basicConfig(format='%(asctime)s : %(levelname)s : %(message)s', level=logging.ERROR)\n",
    "\n",
    "import warnings\n",
    "warnings.filterwarnings(\"ignore\",category=DeprecationWarning)"
   ]
  },
  {
   "cell_type": "code",
   "execution_count": 2,
   "id": "7b222ed7-905b-4058-9307-46c9edf6407c",
   "metadata": {
    "tags": []
   },
   "outputs": [],
   "source": [
    "word_exclusions = pd.read_excel(\"input/word_exclusions.xlsx\")\n",
    "\n",
    "word_exclusions = word_exclusions[word_exclusions[\"exclude\"] == 1]\n",
    "\n",
    "word_exclusions = word_exclusions.drop(columns=['exclude', 'exclude_short_list'], axis = 1)"
   ]
  },
  {
   "cell_type": "code",
   "execution_count": 3,
   "id": "2d89047e-92e5-4a22-a426-396eba7086f7",
   "metadata": {
    "tags": []
   },
   "outputs": [],
   "source": [
    "# NLTK Stop words\n",
    "from nltk.corpus import stopwords\n",
    "stop_words = stopwords.words('german')\n",
    "stop_words.extend(word_exclusions[\"word\"])\n",
    "stop_words.extend([\"gut\"])"
   ]
  },
  {
   "cell_type": "code",
   "execution_count": 4,
   "id": "e702800b-847d-4af0-84f5-03b89c8e6650",
   "metadata": {
    "tags": []
   },
   "outputs": [],
   "source": [
    "df = pd.read_excel(\"input/app_v1/app_v1_feedback.xlsx\")"
   ]
  },
  {
   "cell_type": "code",
   "execution_count": 5,
   "id": "a0db0e57-68c9-4e6b-b15c-9a12607e15a7",
   "metadata": {
    "tags": []
   },
   "outputs": [
    {
     "data": {
      "text/html": [
       "<div>\n",
       "<style scoped>\n",
       "    .dataframe tbody tr th:only-of-type {\n",
       "        vertical-align: middle;\n",
       "    }\n",
       "\n",
       "    .dataframe tbody tr th {\n",
       "        vertical-align: top;\n",
       "    }\n",
       "\n",
       "    .dataframe thead th {\n",
       "        text-align: right;\n",
       "    }\n",
       "</style>\n",
       "<table border=\"1\" class=\"dataframe\">\n",
       "  <thead>\n",
       "    <tr style=\"text-align: right;\">\n",
       "      <th></th>\n",
       "      <th>transcript_id</th>\n",
       "      <th>person_id</th>\n",
       "      <th>segment_id</th>\n",
       "      <th>context</th>\n",
       "      <th>lesson</th>\n",
       "      <th>text</th>\n",
       "      <th>category_id</th>\n",
       "    </tr>\n",
       "  </thead>\n",
       "  <tbody>\n",
       "    <tr>\n",
       "      <th>0</th>\n",
       "      <td>ss_01</td>\n",
       "      <td>p_01</td>\n",
       "      <td>s_001</td>\n",
       "      <td>NaN</td>\n",
       "      <td>NaN</td>\n",
       "      <td>Das ist in Ordnung.</td>\n",
       "      <td>1</td>\n",
       "    </tr>\n",
       "    <tr>\n",
       "      <th>1</th>\n",
       "      <td>ss_01</td>\n",
       "      <td>p_01</td>\n",
       "      <td>s_002</td>\n",
       "      <td>NaN</td>\n",
       "      <td>NaN</td>\n",
       "      <td>Eine kurze Zwischenfrage, wann soll die App ei...</td>\n",
       "      <td>1</td>\n",
       "    </tr>\n",
       "    <tr>\n",
       "      <th>2</th>\n",
       "      <td>ss_01</td>\n",
       "      <td>p_01</td>\n",
       "      <td>s_003</td>\n",
       "      <td>In der ersten Version läuft die jetzt schon se...</td>\n",
       "      <td>NaN</td>\n",
       "      <td>Interessant. Okay.</td>\n",
       "      <td>1</td>\n",
       "    </tr>\n",
       "    <tr>\n",
       "      <th>3</th>\n",
       "      <td>ss_01</td>\n",
       "      <td>p_01</td>\n",
       "      <td>s_004</td>\n",
       "      <td>Ich würde einfach anfangen, ein bisschen allge...</td>\n",
       "      <td>NaN</td>\n",
       "      <td>Nein, soweit nicht. Alles klar.</td>\n",
       "      <td>1</td>\n",
       "    </tr>\n",
       "    <tr>\n",
       "      <th>4</th>\n",
       "      <td>ss_01</td>\n",
       "      <td>p_01</td>\n",
       "      <td>s_005</td>\n",
       "      <td>Perfekt, klasse. Ist das Ihre erste Schwangers...</td>\n",
       "      <td>NaN</td>\n",
       "      <td>Ja.</td>\n",
       "      <td>12</td>\n",
       "    </tr>\n",
       "  </tbody>\n",
       "</table>\n",
       "</div>"
      ],
      "text/plain": [
       "  transcript_id person_id segment_id   \n",
       "0         ss_01      p_01      s_001  \\\n",
       "1         ss_01      p_01      s_002   \n",
       "2         ss_01      p_01      s_003   \n",
       "3         ss_01      p_01      s_004   \n",
       "4         ss_01      p_01      s_005   \n",
       "\n",
       "                                             context lesson   \n",
       "0                                                NaN    NaN  \\\n",
       "1                                                NaN    NaN   \n",
       "2  In der ersten Version läuft die jetzt schon se...    NaN   \n",
       "3  Ich würde einfach anfangen, ein bisschen allge...    NaN   \n",
       "4  Perfekt, klasse. Ist das Ihre erste Schwangers...    NaN   \n",
       "\n",
       "                                                text  category_id  \n",
       "0                                Das ist in Ordnung.            1  \n",
       "1  Eine kurze Zwischenfrage, wann soll die App ei...            1  \n",
       "2                                 Interessant. Okay.            1  \n",
       "3                    Nein, soweit nicht. Alles klar.            1  \n",
       "4                                                Ja.           12  "
      ]
     },
     "execution_count": 5,
     "metadata": {},
     "output_type": "execute_result"
    }
   ],
   "source": [
    "df.head()"
   ]
  },
  {
   "cell_type": "code",
   "execution_count": 6,
   "id": "0db4fec8-4258-467c-8e27-bfdd97d073d7",
   "metadata": {
    "tags": []
   },
   "outputs": [],
   "source": [
    "improvements = df[df[\"category_id\"] == 10]"
   ]
  },
  {
   "cell_type": "code",
   "execution_count": 7,
   "id": "a97f985b-fee3-42cc-b009-8a8589d56c99",
   "metadata": {
    "tags": []
   },
   "outputs": [],
   "source": [
    "improvements = improvements.drop(columns=['transcript_id', 'person_id', 'segment_id', 'context', 'lesson', 'category_id'], \n",
    "             axis = 1)"
   ]
  },
  {
   "cell_type": "code",
   "execution_count": 8,
   "id": "7ded6587-ac14-4737-9894-87650f6e169d",
   "metadata": {
    "tags": []
   },
   "outputs": [],
   "source": [
    "improvements['text_processed'] = \\\n",
    "improvements['text'].map(lambda x: re.sub('[,.!?]', '', x))"
   ]
  },
  {
   "cell_type": "code",
   "execution_count": 9,
   "id": "1bce4c78-2219-4486-8a93-3dcb231771d1",
   "metadata": {
    "tags": []
   },
   "outputs": [],
   "source": [
    "improvements['text_processed'] = \\\n",
    "improvements['text_processed'].map(lambda x: x.lower())"
   ]
  },
  {
   "cell_type": "code",
   "execution_count": 10,
   "id": "d5930730-b34c-4ca5-8bad-61f2ecb078d4",
   "metadata": {},
   "outputs": [
    {
     "ename": "NameError",
     "evalue": "name 'word_tokenize' is not defined",
     "output_type": "error",
     "traceback": [
      "\u001b[1;31m---------------------------------------------------------------------------\u001b[0m",
      "\u001b[1;31mNameError\u001b[0m                                 Traceback (most recent call last)",
      "Cell \u001b[1;32mIn[10], line 3\u001b[0m\n\u001b[0;32m      1\u001b[0m feedback \u001b[38;5;241m=\u001b[39m improvements[\u001b[38;5;124m'\u001b[39m\u001b[38;5;124mtext_processed\u001b[39m\u001b[38;5;124m'\u001b[39m]\n\u001b[1;32m----> 3\u001b[0m feedback_token \u001b[38;5;241m=\u001b[39m feedback\u001b[38;5;241m.\u001b[39mapply(\u001b[43mword_tokenize\u001b[49m)\n\u001b[0;32m      4\u001b[0m feedback_token\u001b[38;5;241m.\u001b[39mhead()\n",
      "\u001b[1;31mNameError\u001b[0m: name 'word_tokenize' is not defined"
     ]
    }
   ],
   "source": [
    "feedback = improvements['text_processed']\n",
    "\n",
    "feedback_token = feedback.apply(word_tokenize)\n",
    "feedback_token.head()"
   ]
  },
  {
   "cell_type": "code",
   "execution_count": 45,
   "id": "f93b643c-d637-46ef-ae5a-581618d51d3c",
   "metadata": {
    "tags": []
   },
   "outputs": [
    {
     "name": "stdout",
     "output_type": "stream",
     "text": [
      "['jetzt', 'sehen', 'sie', 'wahrscheinlich', 'die', 'startseite', 'okay', 'okay', 'das', 'heißt', 'ich', 'kann', 'jetzt', 'einfach', 'auf', 'jetzt', 'starten', 'gehen', 'oder', 'muss', 'ich', 'mich', 'erst', 'registrieren', 'okay', 'eine', 'ganz', 'komische', 'kleine', 'sache', 'aber', 'ich', 'hange', 'mich', 'unheimlich', 'an', 'diesem', 'wort', 'auf']\n"
     ]
    }
   ],
   "source": [
    "# Build the bigram and trigram models\n",
    "bigram = gensim.models.Phrases(data_words, min_count=5, threshold=10) # higher threshold fewer phrases.\n",
    "trigram = gensim.models.Phrases(bigram[data_words], threshold=10)  \n",
    "\n",
    "# Faster way to get a sentence clubbed as a trigram/bigram\n",
    "bigram_mod = gensim.models.phrases.Phraser(bigram)\n",
    "trigram_mod = gensim.models.phrases.Phraser(trigram)\n",
    "\n",
    "# See trigram example\n",
    "print(trigram_mod[bigram_mod[data_words[0]]])"
   ]
  },
  {
   "cell_type": "code",
   "execution_count": 46,
   "id": "2af4afc7-6a3d-48b7-82ff-90eed9de2196",
   "metadata": {
    "tags": []
   },
   "outputs": [],
   "source": [
    "# Define functions for stopwords, bigrams, trigrams and lemmatization\n",
    "def remove_stopwords(texts):\n",
    "    return [[word for word in simple_preprocess(str(doc)) if word not in stop_words] for doc in texts]\n",
    "\n",
    "def make_bigrams(texts):\n",
    "    return [bigram_mod[doc] for doc in texts]\n",
    "\n",
    "def make_trigrams(texts):\n",
    "    return [trigram_mod[bigram_mod[doc]] for doc in texts]\n",
    "\n",
    "def lemmatization(texts, allowed_postags=['NOUN', 'ADJ', 'VERB', 'ADV']):\n",
    "    \"\"\"https://spacy.io/api/annotation\"\"\"\n",
    "    texts_out = []\n",
    "    for sent in texts:\n",
    "        doc = nlp(\" \".join(sent)) \n",
    "        texts_out.append([token.lemma_ for token in doc if token.pos_ in allowed_postags])\n",
    "    return texts_out"
   ]
  },
  {
   "cell_type": "code",
   "execution_count": 47,
   "id": "1b69d6e8-5363-4e0c-b957-5f3955ab01b6",
   "metadata": {
    "tags": []
   },
   "outputs": [],
   "source": [
    "# Remove Stop Words\n",
    "data_words_nostops = remove_stopwords(feedback_token)"
   ]
  },
  {
   "cell_type": "code",
   "execution_count": 48,
   "id": "f2d6824d-d63c-40f8-84bd-ba140c374d8b",
   "metadata": {
    "tags": []
   },
   "outputs": [],
   "source": [
    "# Form Bigrams\n",
    "data_words_bigrams = make_bigrams(data_words_nostops)"
   ]
  },
  {
   "cell_type": "code",
   "execution_count": 49,
   "id": "0945842d-b7ab-472a-98b6-48aae1d916ea",
   "metadata": {
    "tags": []
   },
   "outputs": [],
   "source": [
    "# Initialize spacy 'en' model, keeping only tagger component (for efficiency)\n",
    "# python3 -m spacy download en\n",
    "nlp = spacy.load(\"de_core_news_sm\", disable = ['parser', 'ner'])"
   ]
  },
  {
   "cell_type": "code",
   "execution_count": 50,
   "id": "a344947a-84c8-409c-adda-e7ec17a156d5",
   "metadata": {
    "tags": []
   },
   "outputs": [
    {
     "name": "stdout",
     "output_type": "stream",
     "text": [
      "[['sehen', 'wahrscheinlich', 'Startseit', 'heißen', 'einfach', 'starten', 'gehen', 'Registrier', 'ganz', 'komisch', 'klein', 'Sache', 'Hange', 'unheimlich', 'Wort']]\n"
     ]
    }
   ],
   "source": [
    "# Do lemmatization keeping only noun, adj, vb, adv\n",
    "data_lemmatized = lemmatization(data_words_bigrams, allowed_postags=['NOUN', 'ADJ', 'VERB', 'ADV'])\n",
    "\n",
    "print(data_lemmatized[:1])"
   ]
  },
  {
   "cell_type": "code",
   "execution_count": 51,
   "id": "e4fc1c71-d11b-47b4-b9b0-ce77aff86e78",
   "metadata": {
    "tags": []
   },
   "outputs": [
    {
     "name": "stdout",
     "output_type": "stream",
     "text": [
      "[[(0, 1), (1, 1), (2, 1), (3, 1), (4, 1), (5, 1), (6, 1), (7, 1), (8, 1), (9, 1), (10, 1), (11, 1), (12, 1), (13, 1), (14, 1)]]\n"
     ]
    }
   ],
   "source": [
    "# Create Dictionary\n",
    "id2word = corpora.Dictionary(data_lemmatized)\n",
    "\n",
    "# Create Corpus\n",
    "texts = data_lemmatized\n",
    "\n",
    "# Term Document Frequency\n",
    "corpus = [id2word.doc2bow(text) for text in texts]\n",
    "\n",
    "# View\n",
    "print(corpus[:1])"
   ]
  },
  {
   "cell_type": "code",
   "execution_count": 52,
   "id": "f39484e3-e8d1-4a52-aa71-25f88f96c76e",
   "metadata": {
    "tags": []
   },
   "outputs": [
    {
     "data": {
      "text/plain": [
       "[[('Hange', 1),\n",
       "  ('Registrier', 1),\n",
       "  ('Sache', 1),\n",
       "  ('Startseit', 1),\n",
       "  ('Wort', 1),\n",
       "  ('einfach', 1),\n",
       "  ('ganz', 1),\n",
       "  ('gehen', 1),\n",
       "  ('heißen', 1),\n",
       "  ('klein', 1),\n",
       "  ('komisch', 1),\n",
       "  ('sehen', 1),\n",
       "  ('starten', 1),\n",
       "  ('unheimlich', 1),\n",
       "  ('wahrscheinlich', 1)]]"
      ]
     },
     "execution_count": 52,
     "metadata": {},
     "output_type": "execute_result"
    }
   ],
   "source": [
    "# Human readable format of corpus (term-frequency)\n",
    "[[(id2word[id], freq) for id, freq in cp] for cp in corpus[:1]]"
   ]
  },
  {
   "cell_type": "code",
   "execution_count": 53,
   "id": "e73fe189-e116-4403-a711-bef5c8a843f4",
   "metadata": {
    "tags": []
   },
   "outputs": [],
   "source": [
    "# Build LDA model\n",
    "lda_model = gensim.models.ldamodel.LdaModel(corpus=corpus,\n",
    "                                           id2word=id2word,\n",
    "                                           num_topics=4, \n",
    "                                           random_state=100,\n",
    "                                           update_every=1,\n",
    "                                           chunksize=100,\n",
    "                                           passes=10,\n",
    "                                           alpha='auto',\n",
    "                                           per_word_topics=True)"
   ]
  },
  {
   "cell_type": "code",
   "execution_count": 54,
   "id": "940657c6-5ebd-4e42-8fc9-f9b5b1db19d8",
   "metadata": {
    "tags": []
   },
   "outputs": [
    {
     "name": "stdout",
     "output_type": "stream",
     "text": [
      "[(0,\n",
      "  '0.046*\"app\" + 0.033*\"geben\" + 0.020*\"Frau\" + 0.018*\"Datum\" + '\n",
      "  '0.018*\"Richtlinie\" + 0.018*\"Richtlinien\" + 0.015*\"einfach\" + '\n",
      "  '0.014*\"verandern\" + 0.012*\"Hinweis\" + 0.011*\"Begriff\"'),\n",
      " (1,\n",
      "  '0.023*\"Frage\" + 0.020*\"schwer\" + 0.020*\"beantworten\" + 0.017*\"Situation\" + '\n",
      "  '0.016*\"vielleicht\" + 0.014*\"richtig\" + 0.012*\"offen\" + 0.011*\"eigen\" + '\n",
      "  '0.011*\"fallen\" + 0.010*\"bissch\"'),\n",
      " (2,\n",
      "  '0.046*\"fallen\" + 0.023*\"Mensch\" + 0.021*\"Konn\" + 0.020*\"Erwartung\" + '\n",
      "  '0.020*\"wend\" + 0.016*\"Kommunikation\" + 0.014*\"negativ\" + 0.012*\"machen\" + '\n",
      "  '0.012*\"schwangeren\" + 0.012*\"verstarken\"'),\n",
      " (3,\n",
      "  '0.027*\"fallen\" + 0.022*\"Frau\" + 0.021*\"Verantwortung\" + 0.021*\"dahingehend\" '\n",
      "  '+ 0.019*\"lernen\" + 0.019*\"Sprache\" + 0.016*\"Frage\" + 0.016*\"kommunizieren\" '\n",
      "  '+ 0.014*\"schwangere_frau\" + 0.013*\"finden\"')]\n"
     ]
    }
   ],
   "source": [
    "# Print the Keyword in the 10 topics\n",
    "pprint(lda_model.print_topics())\n",
    "doc_lda = lda_model[corpus]"
   ]
  },
  {
   "cell_type": "code",
   "execution_count": 55,
   "id": "da9ea0b7-09b6-47a1-b96a-c949f8877f2a",
   "metadata": {
    "tags": []
   },
   "outputs": [
    {
     "name": "stdout",
     "output_type": "stream",
     "text": [
      "\n",
      "Perplexity:  -6.991824718378158\n",
      "\n",
      "Coherence Score:  0.44423388351351834\n"
     ]
    }
   ],
   "source": [
    "# Compute Perplexity\n",
    "print('\\nPerplexity: ', lda_model.log_perplexity(corpus))  # a measure of how good the model is. lower the better.\n",
    "\n",
    "# Compute Coherence Score\n",
    "coherence_model_lda = CoherenceModel(model=lda_model, texts=data_lemmatized, dictionary=id2word, coherence='c_v')\n",
    "coherence_lda = coherence_model_lda.get_coherence()\n",
    "print('\\nCoherence Score: ', coherence_lda)"
   ]
  },
  {
   "cell_type": "code",
   "execution_count": 56,
   "id": "35834e7c-9f91-4ba1-a9e3-46c49c04f2e7",
   "metadata": {
    "tags": []
   },
   "outputs": [
    {
     "data": {
      "text/html": [
       "\n",
       "<link rel=\"stylesheet\" type=\"text/css\" href=\"https://cdn.jsdelivr.net/gh/bmabey/pyLDAvis@3.4.0/pyLDAvis/js/ldavis.v1.0.0.css\">\n",
       "\n",
       "\n",
       "<div id=\"ldavis_el11378819672626117446895524293\" style=\"background-color:white;\"></div>\n",
       "<script type=\"text/javascript\">\n",
       "\n",
       "var ldavis_el11378819672626117446895524293_data = {\"mdsDat\": {\"x\": [0.000825943400523854, -0.1579447473596618, 0.09629892810194607, 0.060819875857191806], \"y\": [0.047244818758363276, -0.032973478835909883, -0.12342573803722251, 0.10915439811476908], \"topics\": [1, 2, 3, 4], \"cluster\": [1, 1, 1, 1], \"Freq\": [40.1231334937508, 22.228628154292608, 21.317031315412986, 16.331207036543606]}, \"tinfo\": {\"Term\": [\"fallen\", \"app\", \"geben\", \"Verantwortung\", \"Mensch\", \"Erwartung\", \"wend\", \"lernen\", \"Frau\", \"Datum\", \"Richtlinie\", \"Richtlinien\", \"dahingehend\", \"Sprache\", \"schwer\", \"beantworten\", \"Konn\", \"kommunizieren\", \"schwangere_frau\", \"negativ\", \"schwangeren\", \"schwierig\", \"einfach\", \"verandern\", \"Antwort\", \"Frage\", \"Ansatz\", \"Hinweis\", \"verstarken\", \"verfolgen\", \"schwer\", \"beantworten\", \"offen\", \"eigen\", \"Bedurfnisse\", \"stressen\", \"antwort\", \"ausfallen\", \"gefasst\", \"unterschiedlich\", \"verschieden\", \"richtig\", \"weit\", \"Lektion\", \"erklart\", \"fragen\", \"vielleicht\", \"erster\", \"Situation\", \"satzen\", \"mehr\", \"Prozent\", \"falsch\", \"glauben\", \"kurz\", \"zweiter\", \"Ware\", \"bissch\", \"wissen\", \"ganz\", \"Frage\", \"sagen\", \"gerade\", \"denken\", \"immer\", \"Thema\", \"klar\", \"fallen\", \"Beispiel\", \"Kommunikation\", \"Datum\", \"Richtlinie\", \"Richtlinien\", \"geben\", \"Begriff\", \"berechnet\", \"erwartet\", \"geschatzt\", \"Leitlinie\", \"Personal\", \"Recht\", \"Weise\", \"darstellen\", \"einfuge\", \"fordern\", \"geburt\", \"gelten\", \"leitlinien\", \"medizinisch\", \"pragnant\", \"sicherstell\", \"sinnvoll\", \"sogar\", \"wann\", \"ziehen\", \"Gesamt\", \"begriffe\", \"verwenden\", \"Hinweis\", \"app\", \"einfach\", \"verandern\", \"Frau\", \"gehen\", \"Konn\", \"fur\", \"Verantwortung\", \"lernen\", \"schwangere_frau\", \"Antwort\", \"Aufgabe\", \"uber\", \"nachdenken\", \"sprechen\", \"Inhalt\", \"Sprache\", \"Losung\", \"beteiligen\", \"vorzuschlagen\", \"Teilnehmer\", \"anzeigen\", \"fruh\", \"vergleich\", \"Interaktion\", \"Video\", \"aktuell\", \"audio\", \"einsetzen\", \"entfernt\", \"trocken\", \"Zeit\", \"verbringen\", \"Einfuhlsamer\", \"klinisch\", \"spiegeln\", \"kommunizieren\", \"dahingehend\", \"liegen\", \"finden\", \"Frau\", \"fallen\", \"daran\", \"Frage\", \"schwangeren\", \"Beispiel\", \"Konn\", \"schwierig\", \"Ansatz\", \"Erwartung\", \"wend\", \"Mensch\", \"verstarken\", \"verfolgen\", \"Bewertung\", \"Sinn\", \"ergeben\", \"Schuld\", \"fehl\", \"Blickwinkel\", \"einnehmen\", \"Formuliere\", \"botschafen\", \"Hilfsmittel\", \"Menge\", \"Schmerz\", \"benutzen\", \"verhalten\", \"Vorschlage\", \"durchmach\", \"ma\\u00dfgeschneideren\", \"wohin\", \"stellen\", \"erinnern\", \"negativ\", \"Verander\", \"suggerieren\", \"Arztin\", \"au\\u00dfern\", \"fallen\", \"Konn\", \"Kommunikation\", \"machen\", \"klar\", \"schwierig\", \"schwangeren\", \"Frage\", \"Ansatz\"], \"Freq\": [19.0, 14.0, 9.0, 5.0, 5.0, 4.0, 4.0, 5.0, 12.0, 5.0, 5.0, 5.0, 7.0, 5.0, 9.0, 9.0, 9.0, 4.0, 3.0, 3.0, 5.0, 4.0, 5.0, 5.0, 3.0, 16.0, 4.0, 3.0, 2.0, 2.0, 8.96649348892712, 8.966486661122948, 5.373674768889783, 4.86788767859524, 4.3619776878256005, 4.3619776878256005, 4.3613307533802965, 4.3613307533802965, 4.3613307533802965, 4.3613307533802965, 4.3613307533802965, 6.332419241435209, 4.353970807220562, 4.302216051596243, 2.2870146143677252, 2.287009280145716, 7.267481475209799, 2.607422980750623, 7.83067887667194, 1.7811507112762468, 1.7811413230455102, 1.7811286275971276, 1.781115292042104, 1.7811021698559608, 1.776078826305238, 1.7687273082162784, 2.791384508558802, 4.706990046542565, 4.310596754479703, 3.27265402091583, 10.482652639538703, 3.2499624538565848, 4.533466524362444, 3.2966460713009753, 4.310607849661483, 2.3368356078291836, 2.792800424448986, 4.867387115201875, 2.791629029295714, 2.7929412479100346, 4.680816084993108, 4.680150334429703, 4.680150334429703, 8.33273264194368, 2.6931719130294582, 2.4132696660357387, 2.4132696660357387, 2.4132696660357387, 2.412952394282866, 2.412952394282866, 2.412952394282866, 2.412952394282866, 2.412952394282866, 2.412952394282866, 2.412952394282866, 2.412952394282866, 2.412952394282866, 2.412952394282866, 2.412952394282866, 2.412952394282866, 2.412952394282866, 2.412952394282866, 2.412952394282866, 2.412952394282866, 2.412952394282866, 2.4128391504902984, 2.4128391504902984, 2.4128391504902984, 3.10759691040699, 11.717062391655112, 3.896033529075757, 3.5104353419599783, 4.9566604688226645, 2.5477633371158226, 2.4200782421989135, 2.413012207810047, 5.1734225651441825, 4.649677009645595, 3.3078100813612097, 3.040104209526136, 2.7861539924008127, 2.783279162137765, 2.5246129083955915, 2.5233432672699556, 2.5176636637273995, 4.648982334572569, 2.2622946226441774, 2.2622946226441774, 2.2622946226441774, 2.262294395922548, 2.262294395922548, 2.262294395922548, 2.262294395922548, 2.2611984235651685, 2.2611984235651685, 2.2611984235651685, 2.2611984235651685, 2.2611984235651685, 2.2611984235651685, 2.2611984235651685, 2.261411768618601, 2.261411768618601, 2.2597603282687557, 2.2597603282687557, 2.2597603282687557, 3.818980748396888, 4.993196100473596, 3.0299230480283104, 3.045144004630023, 5.330854437177007, 6.474232926971564, 2.5087265238110676, 3.837487128132814, 2.787122773923999, 2.7816449526317673, 2.528617265817197, 2.3189602931327316, 2.262315481034099, 3.73608483206562, 3.735154527646088, 4.286648228059179, 2.149773367781873, 2.146282294494312, 1.9263799372355295, 1.9263799372355295, 1.9263799372355295, 1.9263795898477702, 1.9263795898477702, 1.9263792424600108, 1.9263792424600108, 1.9263773318273345, 1.9263773318273345, 1.9261953006414363, 1.9261953006414363, 1.9261953006414363, 1.9261953006414363, 1.9261953006414363, 1.925766450452522, 1.925766450452522, 1.925766450452522, 1.925766450452522, 1.917774968742616, 1.9261355499468287, 2.587860076135586, 1.8762557048270594, 2.1496038425553117, 0.5631747006680861, 0.5631730071527592, 8.506116526889212, 3.9510813793868995, 2.929610948005888, 2.2454552468083127, 2.149629375555624, 2.100910152939834, 2.149784657884052, 2.1497697202104002, 1.9263613519904044], \"Total\": [19.0, 14.0, 9.0, 5.0, 5.0, 4.0, 4.0, 5.0, 12.0, 5.0, 5.0, 5.0, 7.0, 5.0, 9.0, 9.0, 9.0, 4.0, 3.0, 3.0, 5.0, 4.0, 5.0, 5.0, 3.0, 16.0, 4.0, 3.0, 2.0, 2.0, 9.36528994555697, 9.365286371377556, 5.772542339874945, 5.266689363716992, 4.760769757254405, 4.760769757254405, 4.76045855559257, 4.76045855559257, 4.76045855559257, 4.76045855559257, 4.76045855559257, 7.17935661983201, 5.0192554252748565, 4.985239855627838, 2.6858293736299697, 2.6858262778180793, 8.604398861318549, 3.1076145240158652, 9.36759683218846, 2.179941946680148, 2.1799369578322514, 2.1799309733752654, 2.1799259386550194, 2.179918144162052, 2.1774909441604233, 2.1739466516870776, 3.4534832845334305, 5.931905051477894, 5.51594817794776, 4.228133433683756, 16.615686283434226, 4.514964125246613, 7.182353328842899, 4.815233398076063, 6.874603307912978, 3.547641433549423, 5.225165499745371, 19.99521008583844, 5.840630048635384, 7.755222786648602, 5.197322575079903, 5.19728182210422, 5.19728182210422, 9.369239442347142, 3.2096768130557067, 2.929774976324388, 2.929774976324388, 2.929774976324388, 2.929756476685466, 2.929756476685466, 2.929756476685466, 2.929756476685466, 2.929756476685466, 2.929756476685466, 2.929756476685466, 2.929756476685466, 2.929756476685466, 2.929756476685466, 2.929756476685466, 2.929756476685466, 2.929756476685466, 2.929756476685466, 2.929756476685466, 2.929756476685466, 2.929756476685466, 2.929746178183028, 2.929746178183028, 2.929746178183028, 3.8336838122829118, 14.850846467806978, 5.364749496105857, 5.648667067694798, 12.348446395273257, 5.899525151831607, 9.163263877407694, 4.446753466419458, 5.7005072045511405, 5.176038625642331, 3.8374921959375152, 3.5749507669833065, 3.313521640113389, 3.3121360359267595, 3.0503137137264593, 3.050105273241209, 3.049494773585424, 5.681530579541956, 2.7879192348290407, 2.7879192348290407, 2.7879192348290407, 2.7879190870815678, 2.7879190870815678, 2.7879190870815678, 2.7879190870815678, 2.787987952041489, 2.787987952041489, 2.787987952041489, 2.787987952041489, 2.787987952041489, 2.787987952041489, 2.787987952041489, 2.788733216347142, 2.788733216347142, 2.787536023761093, 2.787536023761093, 2.787536023761093, 4.865692795912849, 7.4205456472572635, 4.604280705997333, 4.660815272855433, 12.348446395273257, 19.99521008583844, 3.8507961655629948, 16.615686283434226, 5.851954602514459, 5.840630048635384, 9.163263877407694, 4.829942724781246, 4.597939768530749, 4.282416316960132, 4.282672530575424, 5.255842970399156, 2.6957312145619037, 2.6966075038343873, 2.4722961457866415, 2.4722961457866415, 2.4722961457866415, 2.4722959794208266, 2.4722959794208266, 2.472295673480246, 2.472295673480246, 2.4722949913488, 2.4722949913488, 2.4723318373987553, 2.4723318373987553, 2.4723318373987553, 2.4723318373987553, 2.4723318373987553, 2.4724513560482317, 2.4724513560482317, 2.4724513560482317, 2.4724513560482317, 2.7361416952462028, 2.752200270857256, 3.7045560865862748, 2.764821852978347, 3.2015761455331844, 1.1090969185908839, 1.109096139147451, 19.99521008583844, 9.163263877407694, 7.755222786648602, 5.580555603509995, 5.225165499745371, 4.829942724781246, 5.851954602514459, 16.615686283434226, 4.597939768530749], \"Category\": [\"Default\", \"Default\", \"Default\", \"Default\", \"Default\", \"Default\", \"Default\", \"Default\", \"Default\", \"Default\", \"Default\", \"Default\", \"Default\", \"Default\", \"Default\", \"Default\", \"Default\", \"Default\", \"Default\", \"Default\", \"Default\", \"Default\", \"Default\", \"Default\", \"Default\", \"Default\", \"Default\", \"Default\", \"Default\", \"Default\", \"Topic1\", \"Topic1\", \"Topic1\", \"Topic1\", \"Topic1\", \"Topic1\", \"Topic1\", \"Topic1\", \"Topic1\", \"Topic1\", \"Topic1\", \"Topic1\", \"Topic1\", \"Topic1\", \"Topic1\", \"Topic1\", \"Topic1\", \"Topic1\", \"Topic1\", \"Topic1\", \"Topic1\", \"Topic1\", \"Topic1\", \"Topic1\", \"Topic1\", \"Topic1\", \"Topic1\", \"Topic1\", \"Topic1\", \"Topic1\", \"Topic1\", \"Topic1\", \"Topic1\", \"Topic1\", \"Topic1\", \"Topic1\", \"Topic1\", \"Topic1\", \"Topic1\", \"Topic1\", \"Topic2\", \"Topic2\", \"Topic2\", \"Topic2\", \"Topic2\", \"Topic2\", \"Topic2\", \"Topic2\", \"Topic2\", \"Topic2\", \"Topic2\", \"Topic2\", \"Topic2\", \"Topic2\", \"Topic2\", \"Topic2\", \"Topic2\", \"Topic2\", \"Topic2\", \"Topic2\", \"Topic2\", \"Topic2\", \"Topic2\", \"Topic2\", \"Topic2\", \"Topic2\", \"Topic2\", \"Topic2\", \"Topic2\", \"Topic2\", \"Topic2\", \"Topic2\", \"Topic2\", \"Topic2\", \"Topic2\", \"Topic2\", \"Topic3\", \"Topic3\", \"Topic3\", \"Topic3\", \"Topic3\", \"Topic3\", \"Topic3\", \"Topic3\", \"Topic3\", \"Topic3\", \"Topic3\", \"Topic3\", \"Topic3\", \"Topic3\", \"Topic3\", \"Topic3\", \"Topic3\", \"Topic3\", \"Topic3\", \"Topic3\", \"Topic3\", \"Topic3\", \"Topic3\", \"Topic3\", \"Topic3\", \"Topic3\", \"Topic3\", \"Topic3\", \"Topic3\", \"Topic3\", \"Topic3\", \"Topic3\", \"Topic3\", \"Topic3\", \"Topic3\", \"Topic3\", \"Topic3\", \"Topic3\", \"Topic3\", \"Topic3\", \"Topic3\", \"Topic3\", \"Topic4\", \"Topic4\", \"Topic4\", \"Topic4\", \"Topic4\", \"Topic4\", \"Topic4\", \"Topic4\", \"Topic4\", \"Topic4\", \"Topic4\", \"Topic4\", \"Topic4\", \"Topic4\", \"Topic4\", \"Topic4\", \"Topic4\", \"Topic4\", \"Topic4\", \"Topic4\", \"Topic4\", \"Topic4\", \"Topic4\", \"Topic4\", \"Topic4\", \"Topic4\", \"Topic4\", \"Topic4\", \"Topic4\", \"Topic4\", \"Topic4\", \"Topic4\", \"Topic4\", \"Topic4\", \"Topic4\", \"Topic4\", \"Topic4\", \"Topic4\", \"Topic4\"], \"logprob\": [30.0, 29.0, 28.0, 27.0, 26.0, 25.0, 24.0, 23.0, 22.0, 21.0, 20.0, 19.0, 18.0, 17.0, 16.0, 15.0, 14.0, 13.0, 12.0, 11.0, 10.0, 9.0, 8.0, 7.0, 6.0, 5.0, 4.0, 3.0, 2.0, 1.0, -3.9338, -3.9338, -4.4458, -4.5447, -4.6544, -4.6544, -4.6545, -4.6545, -4.6545, -4.6545, -4.6545, -4.2816, -4.6562, -4.6682, -5.3001, -5.3001, -4.1439, -5.169, -4.0693, -5.5501, -5.5501, -5.5501, -5.5501, -5.5501, -5.5529, -5.5571, -5.1008, -4.5783, -4.6662, -4.9417, -3.7776, -4.9487, -4.6158, -4.9344, -4.6662, -5.2785, -5.1003, -4.5448, -5.1007, -5.1002, -3.9933, -3.9934, -3.9934, -3.4166, -4.546, -4.6558, -4.6558, -4.6558, -4.6559, -4.6559, -4.6559, -4.6559, -4.6559, -4.6559, -4.6559, -4.6559, -4.6559, -4.6559, -4.6559, -4.6559, -4.6559, -4.6559, -4.6559, -4.6559, -4.6559, -4.6559, -4.6559, -4.6559, -4.4029, -3.0757, -4.1768, -4.281, -3.936, -4.6015, -4.6529, -4.6559, -3.8513, -3.9581, -4.2986, -4.383, -4.4702, -4.4712, -4.5688, -4.5693, -4.5715, -3.9582, -4.6785, -4.6785, -4.6785, -4.6785, -4.6785, -4.6785, -4.6785, -4.679, -4.679, -4.679, -4.679, -4.679, -4.679, -4.679, -4.6789, -4.6789, -4.6796, -4.6796, -4.6796, -4.1549, -3.8868, -4.3863, -4.3813, -3.8214, -3.627, -4.5751, -4.1501, -4.4699, -4.4718, -4.5672, -4.6538, -4.6785, -3.9104, -3.9107, -3.7729, -4.4631, -4.4647, -4.5728, -4.5728, -4.5728, -4.5728, -4.5728, -4.5728, -4.5728, -4.5728, -4.5728, -4.5729, -4.5729, -4.5729, -4.5729, -4.5729, -4.5731, -4.5731, -4.5731, -4.5731, -4.5773, -4.5729, -4.2776, -4.5992, -4.4632, -5.8026, -5.8026, -3.0877, -3.8545, -4.1536, -4.4195, -4.4631, -4.4861, -4.4631, -4.4631, -4.5728], \"loglift\": [30.0, 29.0, 28.0, 27.0, 26.0, 25.0, 24.0, 23.0, 22.0, 21.0, 20.0, 19.0, 18.0, 17.0, 16.0, 15.0, 14.0, 13.0, 12.0, 11.0, 10.0, 9.0, 8.0, 7.0, 6.0, 5.0, 4.0, 3.0, 2.0, 1.0, 0.8697, 0.8697, 0.8416, 0.8345, 0.8257, 0.8257, 0.8257, 0.8257, 0.8257, 0.8257, 0.8257, 0.7877, 0.771, 0.7659, 0.7525, 0.7525, 0.7444, 0.7377, 0.734, 0.7112, 0.7112, 0.7112, 0.7112, 0.7112, 0.7095, 0.7069, 0.7004, 0.6819, 0.6666, 0.6571, 0.4526, 0.5845, 0.4531, 0.5343, 0.4465, 0.4957, 0.2868, -0.4997, 0.175, -0.1081, 1.3991, 1.399, 1.399, 1.3865, 1.3283, 1.3098, 1.3098, 1.3098, 1.3097, 1.3097, 1.3097, 1.3097, 1.3097, 1.3097, 1.3097, 1.3097, 1.3097, 1.3097, 1.3097, 1.3097, 1.3097, 1.3097, 1.3097, 1.3097, 1.3097, 1.3097, 1.3097, 1.3097, 1.2938, 1.2668, 1.1839, 1.0281, 0.591, 0.6641, 0.1724, 0.8925, 1.4486, 1.4384, 1.3971, 1.3836, 1.3723, 1.3717, 1.3565, 1.3561, 1.354, 1.3451, 1.3367, 1.3367, 1.3367, 1.3367, 1.3367, 1.3367, 1.3367, 1.3362, 1.3362, 1.3362, 1.3362, 1.3362, 1.3362, 1.3362, 1.3361, 1.3361, 1.3358, 1.3358, 1.3358, 1.3034, 1.1495, 1.1272, 1.12, 0.7056, 0.418, 1.1172, 0.0801, 0.8039, 0.8039, 0.2581, 0.8119, 0.8364, 1.6756, 1.6753, 1.6083, 1.5858, 1.5838, 1.5626, 1.5626, 1.5626, 1.5626, 1.5626, 1.5626, 1.5626, 1.5626, 1.5626, 1.5625, 1.5625, 1.5625, 1.5625, 1.5625, 1.5622, 1.5622, 1.5622, 1.5622, 1.4567, 1.4552, 1.4534, 1.4244, 1.4137, 1.1344, 1.1344, 0.9574, 0.9709, 0.8386, 0.9017, 0.9239, 0.9796, 0.8107, -0.2329, 0.9421]}, \"token.table\": {\"Topic\": [3, 4, 3, 4, 3, 1, 2, 1, 3, 4, 4, 2, 3, 4, 4, 1, 3, 4, 2, 3, 4, 2, 4, 2, 3, 3, 1, 2, 3, 4, 2, 3, 4, 2, 1, 3, 4, 4, 2, 1, 2, 2, 2, 4, 4, 4, 1, 2, 1, 3, 3, 1, 2, 4, 3, 3, 4, 1, 2, 3, 3, 1, 3, 1, 2, 4, 3, 1, 4, 1, 2, 4, 2, 3, 1, 3, 4, 2, 3, 1, 3, 2, 1, 2, 4, 1, 1, 2, 3, 2, 4, 3, 3, 4, 4, 1, 1, 2, 1, 3, 4, 1, 4, 1, 2, 3, 2, 1, 3, 1, 2, 1, 1, 2, 2, 1, 1, 2, 4, 2, 1, 2, 4, 2, 1, 1, 2, 1, 4, 3, 1, 3, 1, 2, 3, 1, 3, 1, 2, 4, 4, 2, 1, 3, 2, 4, 1, 2, 1, 4, 1, 2, 1, 3, 1, 3, 4, 1, 3, 4, 2, 2, 2, 3, 3, 4, 1, 1, 4, 3, 3, 1, 2, 3, 3, 4, 3, 4, 1, 4, 2, 1, 4, 3, 2, 1, 4, 1, 3, 4, 2, 1], \"Freq\": [0.4349774248215285, 0.4349774248215285, 0.8391723958009989, 0.9016344588446856, 0.9053811400179477, 0.8402002625530981, 0.934673543391402, 0.513643215717956, 0.513643215717956, 0.8089645746560168, 0.8089647292002916, 0.9620338025532562, 0.7174795170185794, 0.9340521107577403, 0.8089649524019251, 0.6018409248596587, 0.2407363699438635, 0.12036818497193175, 0.404909236348461, 0.404909236348461, 0.1619636945393844, 0.6826529939328605, 0.8089528961064889, 0.7825371488353227, 0.9837695168346753, 0.7173632147640777, 0.38683608228055066, 0.12894536076018356, 0.12894536076018356, 0.38683608228055066, 0.2182628402671084, 0.3273942604006626, 0.4365256805342168, 0.6826505943124217, 0.8023686153203641, 0.7173808964816166, 0.8089528961064889, 0.7610577451662752, 0.6826505943124217, 0.9174602427449013, 0.6826505943124217, 0.9620413460618639, 0.9620413460618639, 0.8089528961064889, 0.808964629092885, 0.8089645746560168, 0.8540077186617178, 0.10675096483271472, 0.17600890921907522, 0.8800445460953761, 0.7173809344996549, 0.5637548318965808, 0.2818774159482904, 0.7233739120824517, 0.8771149339146745, 0.7173632147640777, 0.8089137912086731, 0.8686881484081957, 0.6826505943124217, 0.7171715057848831, 0.7173632147640777, 0.8402551882950045, 0.7173809344996549, 0.06733622909426454, 0.8080347491311745, 0.13467245818852908, 0.7173632147640777, 0.8402551882950045, 0.9016350924895367, 0.9609957072435122, 0.6826529939328605, 0.8089528961064889, 0.6826462838143095, 0.7173808964816166, 0.8428995333892412, 0.16857990667784825, 0.8089649524019251, 0.26952195904073817, 0.6738048976018454, 0.2596865575339529, 0.7790596726018588, 0.6826505943124217, 0.6230227596441444, 0.20767425321471483, 0.8089137912086731, 0.949362997264609, 0.1864019933690988, 0.7456079734763952, 0.1864019933690988, 0.6826505943124217, 0.8089647292002916, 0.7173632147640777, 0.7173632147640777, 0.8089645746560168, 0.7266913026561979, 0.7446489414541427, 0.9653706973036029, 0.6826462838143095, 0.25005988827000314, 0.30007186592400376, 0.4501077988860056, 0.9174623616956313, 0.808964629092885, 0.2145547380570939, 0.2145547380570939, 0.6436642141712817, 0.6826505943124217, 0.7446497997721456, 0.7173809344996549, 0.4497663329220739, 0.4497663329220739, 0.7095329527919495, 0.1067322493093937, 0.8538579944751497, 0.6826505943124217, 0.8402551882950045, 0.33901033532827063, 0.508515502992406, 0.16950516766413531, 0.6826505943124217, 0.6961506585760683, 0.13923013171521365, 0.2784602634304273, 0.6826462838143095, 0.9174656421646459, 0.5818517550526617, 0.29092587752633087, 0.5741444936330139, 0.3827629957553426, 0.7174795170185794, 0.20552057886597233, 0.8220823154638893, 0.918488320405457, 0.6826505943124217, 0.9659897001598428, 0.2171891906367577, 0.651567571910273, 0.3583872542622929, 0.17919362713114645, 0.3583872542622929, 0.8089137912086731, 0.6826505943124217, 0.9174577240934608, 0.9835053970022667, 0.26993787558538324, 0.8098136267561497, 0.8661694805530554, 0.6826505943124217, 0.8357294835341936, 0.13928824725569894, 0.6644571068072742, 0.2214857022690914, 0.9174556244700998, 0.7817605474679246, 0.1708830754719665, 0.5126492264158995, 0.341766150943933, 0.960995340488068, 0.41408358524387734, 0.41408358524387734, 0.6826505943124217, 0.6826505943124217, 0.6826505943124217, 0.7174795170185794, 0.9835726085650924, 0.7309562964062929, 0.8402002625530981, 0.3123461553132799, 0.6246923106265598, 0.7173632147640777, 0.9057598985847749, 0.8402551882950045, 0.7081316622245868, 0.3540658311122934, 0.7171715057848831, 0.7416726376219527, 0.7173809344996549, 0.8089528961064889, 0.8402551882950045, 0.741913729824518, 0.6826529939328605, 0.8135373676676945, 0.11621962395252779, 0.7173808964816166, 0.6826505943124217, 0.7969309511242813, 0.9339962304945496, 0.7251699745823614, 0.18129249364559036, 0.8089137912086731, 0.6826505943124217, 0.9199857772259097], \"Term\": [\"Ansatz\", \"Ansatz\", \"Antwort\", \"Arztin\", \"Aufgabe\", \"Bedurfnisse\", \"Begriff\", \"Beispiel\", \"Beispiel\", \"Bewertung\", \"Blickwinkel\", \"Datum\", \"Einfuhlsamer\", \"Erwartung\", \"Formuliere\", \"Frage\", \"Frage\", \"Frage\", \"Frau\", \"Frau\", \"Frau\", \"Gesamt\", \"Hilfsmittel\", \"Hinweis\", \"Inhalt\", \"Interaktion\", \"Kommunikation\", \"Kommunikation\", \"Kommunikation\", \"Kommunikation\", \"Konn\", \"Konn\", \"Konn\", \"Leitlinie\", \"Lektion\", \"Losung\", \"Menge\", \"Mensch\", \"Personal\", \"Prozent\", \"Recht\", \"Richtlinie\", \"Richtlinien\", \"Schmerz\", \"Schuld\", \"Sinn\", \"Situation\", \"Situation\", \"Sprache\", \"Sprache\", \"Teilnehmer\", \"Thema\", \"Thema\", \"Verander\", \"Verantwortung\", \"Video\", \"Vorschlage\", \"Ware\", \"Weise\", \"Zeit\", \"aktuell\", \"antwort\", \"anzeigen\", \"app\", \"app\", \"app\", \"audio\", \"ausfallen\", \"au\\u00dfern\", \"beantworten\", \"begriffe\", \"benutzen\", \"berechnet\", \"beteiligen\", \"bissch\", \"bissch\", \"botschafen\", \"dahingehend\", \"dahingehend\", \"daran\", \"daran\", \"darstellen\", \"denken\", \"denken\", \"durchmach\", \"eigen\", \"einfach\", \"einfach\", \"einfach\", \"einfuge\", \"einnehmen\", \"einsetzen\", \"entfernt\", \"ergeben\", \"erinnern\", \"erklart\", \"erster\", \"erwartet\", \"fallen\", \"fallen\", \"fallen\", \"falsch\", \"fehl\", \"finden\", \"finden\", \"finden\", \"fordern\", \"fragen\", \"fruh\", \"fur\", \"fur\", \"ganz\", \"geben\", \"geben\", \"geburt\", \"gefasst\", \"gehen\", \"gehen\", \"gehen\", \"gelten\", \"gerade\", \"gerade\", \"gerade\", \"geschatzt\", \"glauben\", \"immer\", \"immer\", \"klar\", \"klar\", \"klinisch\", \"kommunizieren\", \"kommunizieren\", \"kurz\", \"leitlinien\", \"lernen\", \"liegen\", \"liegen\", \"machen\", \"machen\", \"machen\", \"ma\\u00dfgeschneideren\", \"medizinisch\", \"mehr\", \"nachdenken\", \"negativ\", \"negativ\", \"offen\", \"pragnant\", \"richtig\", \"richtig\", \"sagen\", \"sagen\", \"satzen\", \"schwangere_frau\", \"schwangeren\", \"schwangeren\", \"schwangeren\", \"schwer\", \"schwierig\", \"schwierig\", \"sicherstell\", \"sinnvoll\", \"sogar\", \"spiegeln\", \"sprechen\", \"stellen\", \"stressen\", \"suggerieren\", \"suggerieren\", \"trocken\", \"uber\", \"unterschiedlich\", \"verandern\", \"verandern\", \"verbringen\", \"verfolgen\", \"vergleich\", \"verhalten\", \"verschieden\", \"verstarken\", \"verwenden\", \"vielleicht\", \"vielleicht\", \"vorzuschlagen\", \"wann\", \"weit\", \"wend\", \"wissen\", \"wissen\", \"wohin\", \"ziehen\", \"zweiter\"]}, \"R\": 30, \"lambda.step\": 0.01, \"plot.opts\": {\"xlab\": \"PC1\", \"ylab\": \"PC2\"}, \"topic.order\": [2, 1, 4, 3]};\n",
       "\n",
       "function LDAvis_load_lib(url, callback){\n",
       "  var s = document.createElement('script');\n",
       "  s.src = url;\n",
       "  s.async = true;\n",
       "  s.onreadystatechange = s.onload = callback;\n",
       "  s.onerror = function(){console.warn(\"failed to load library \" + url);};\n",
       "  document.getElementsByTagName(\"head\")[0].appendChild(s);\n",
       "}\n",
       "\n",
       "if(typeof(LDAvis) !== \"undefined\"){\n",
       "   // already loaded: just create the visualization\n",
       "   !function(LDAvis){\n",
       "       new LDAvis(\"#\" + \"ldavis_el11378819672626117446895524293\", ldavis_el11378819672626117446895524293_data);\n",
       "   }(LDAvis);\n",
       "}else if(typeof define === \"function\" && define.amd){\n",
       "   // require.js is available: use it to load d3/LDAvis\n",
       "   require.config({paths: {d3: \"https://d3js.org/d3.v5\"}});\n",
       "   require([\"d3\"], function(d3){\n",
       "      window.d3 = d3;\n",
       "      LDAvis_load_lib(\"https://cdn.jsdelivr.net/gh/bmabey/pyLDAvis@3.4.0/pyLDAvis/js/ldavis.v3.0.0.js\", function(){\n",
       "        new LDAvis(\"#\" + \"ldavis_el11378819672626117446895524293\", ldavis_el11378819672626117446895524293_data);\n",
       "      });\n",
       "    });\n",
       "}else{\n",
       "    // require.js not available: dynamically load d3 & LDAvis\n",
       "    LDAvis_load_lib(\"https://d3js.org/d3.v5.js\", function(){\n",
       "         LDAvis_load_lib(\"https://cdn.jsdelivr.net/gh/bmabey/pyLDAvis@3.4.0/pyLDAvis/js/ldavis.v3.0.0.js\", function(){\n",
       "                 new LDAvis(\"#\" + \"ldavis_el11378819672626117446895524293\", ldavis_el11378819672626117446895524293_data);\n",
       "            })\n",
       "         });\n",
       "}\n",
       "</script>"
      ],
      "text/plain": [
       "PreparedData(topic_coordinates=              x         y  topics  cluster       Freq\n",
       "topic                                                \n",
       "1      0.000826  0.047245       1        1  40.123133\n",
       "0     -0.157945 -0.032973       2        1  22.228628\n",
       "3      0.096299 -0.123426       3        1  21.317031\n",
       "2      0.060820  0.109154       4        1  16.331207, topic_info=              Term       Freq      Total Category  logprob  loglift\n",
       "253         fallen  19.000000  19.000000  Default  30.0000  30.0000\n",
       "169            app  14.000000  14.000000  Default  29.0000  29.0000\n",
       "264          geben   9.000000   9.000000  Default  28.0000  28.0000\n",
       "435  Verantwortung   5.000000   5.000000  Default  27.0000  27.0000\n",
       "400         Mensch   5.000000   5.000000  Default  26.0000  26.0000\n",
       "..             ...        ...        ...      ...      ...      ...\n",
       "58            klar   2.149629   5.225165   Topic4  -4.4631   0.9239\n",
       "330      schwierig   2.100910   4.829943   Topic4  -4.4861   0.9796\n",
       "83     schwangeren   2.149785   5.851955   Topic4  -4.4631   0.8107\n",
       "33           Frage   2.149770  16.615686   Topic4  -4.4631  -0.2329\n",
       "569         Ansatz   1.926361   4.597940   Topic4  -4.5728   0.9421\n",
       "\n",
       "[187 rows x 6 columns], token_table=      Topic      Freq     Term\n",
       "term                          \n",
       "569       3  0.434977   Ansatz\n",
       "569       4  0.434977   Ansatz\n",
       "325       3  0.839172  Antwort\n",
       "283       4  0.901634   Arztin\n",
       "431       3  0.905381  Aufgabe\n",
       "...     ...       ...      ...\n",
       "30        1  0.725170   wissen\n",
       "30        3  0.181292   wissen\n",
       "608       4  0.808914    wohin\n",
       "603       2  0.682651   ziehen\n",
       "324       1  0.919986  zweiter\n",
       "\n",
       "[192 rows x 3 columns], R=30, lambda_step=0.01, plot_opts={'xlab': 'PC1', 'ylab': 'PC2'}, topic_order=[2, 1, 4, 3])"
      ]
     },
     "execution_count": 56,
     "metadata": {},
     "output_type": "execute_result"
    }
   ],
   "source": [
    "# Visualize the topics\n",
    "pyLDAvis.enable_notebook()\n",
    "vis = pyLDAvis.gensim.prepare(lda_model, corpus, id2word)\n",
    "vis"
   ]
  },
  {
   "cell_type": "code",
   "execution_count": 27,
   "id": "f63c4d5e-8760-4899-80b4-193ec224f1f2",
   "metadata": {
    "tags": []
   },
   "outputs": [],
   "source": [
    "def compute_coherence_values(dictionary, corpus, texts, limit, start=2, step=3):\n",
    "    \"\"\"\n",
    "    Compute c_v coherence for various number of topics\n",
    "\n",
    "    Parameters:\n",
    "    ----------\n",
    "    dictionary : Gensim dictionary\n",
    "    corpus : Gensim corpus\n",
    "    texts : List of input texts\n",
    "    limit : Max num of topics\n",
    "\n",
    "    Returns:\n",
    "    -------\n",
    "    model_list : List of LDA topic models\n",
    "    coherence_values : Coherence values corresponding to the LDA model with respective number of topics\n",
    "    \"\"\"\n",
    "    coherence_values = []\n",
    "    model_list = []\n",
    "    for num_topics in range(start, limit, step):\n",
    "        model = gensim.models.ldamodel.LdaModel(corpus=corpus,id2word=id2word, num_topics=num_topics, random_state=100)\n",
    "        model_list.append(model)\n",
    "        coherencemodel = CoherenceModel(model=model, texts=texts, dictionary=dictionary, coherence='c_v')\n",
    "        coherence_values.append(coherencemodel.get_coherence())\n",
    "\n",
    "    return model_list, coherence_values"
   ]
  },
  {
   "cell_type": "code",
   "execution_count": 28,
   "id": "3fe70221-20f5-484f-ab7a-ed4f5b42edac",
   "metadata": {
    "tags": []
   },
   "outputs": [],
   "source": [
    "model_list, coherence_values = compute_coherence_values(dictionary=id2word, \n",
    "                                                        corpus=corpus, \n",
    "                                                        texts=data_lemmatized, \n",
    "                                                        start=1, \n",
    "                                                        limit=30, \n",
    "                                                        step=1)"
   ]
  },
  {
   "cell_type": "code",
   "execution_count": 29,
   "id": "6c4b2403-3fe8-4f9e-9d2e-d7a2c29a96f0",
   "metadata": {
    "tags": []
   },
   "outputs": [],
   "source": [
    "os.chdir(\"C:\\\\Users\\\\vanandkuma\\\\Documents\\\\projects\\\\sentiment_analysis\")"
   ]
  },
  {
   "cell_type": "code",
   "execution_count": 30,
   "id": "b4ca5c43-51ae-4049-a7f1-6e9a0ff3b094",
   "metadata": {
    "tags": []
   },
   "outputs": [
    {
     "data": {
      "image/png": "[encoded data removed]",
      "text/plain": [
       "<Figure size 640x480 with 1 Axes>"
      ]
     },
     "metadata": {},
     "output_type": "display_data"
    }
   ],
   "source": [
    "# Show graph\n",
    "limit=30; start=1; step=1;\n",
    "x = range(start, limit, step)\n",
    "plt.title(\"LDA Diagnostics \\n Optimum topics for version two feedback\")\n",
    "plt.plot(x, coherence_values)\n",
    "plt.xlabel(\"Num Topics\")\n",
    "plt.ylabel(\"Coherence score\")\n",
    "plt.savefig('output/app_v1_lda_topic_coherence.png')"
   ]
  },
  {
   "cell_type": "code",
   "execution_count": 31,
   "id": "9a34f105-39c7-461f-b019-9a0e780eb0a0",
   "metadata": {
    "tags": []
   },
   "outputs": [
    {
     "name": "stdout",
     "output_type": "stream",
     "text": [
      "Num Topics = 1  has Coherence Value of 0.3518\n",
      "Num Topics = 2  has Coherence Value of 0.3777\n",
      "Num Topics = 3  has Coherence Value of 0.3959\n",
      "Num Topics = 4  has Coherence Value of 0.439\n",
      "Num Topics = 5  has Coherence Value of 0.4225\n",
      "Num Topics = 6  has Coherence Value of 0.406\n",
      "Num Topics = 7  has Coherence Value of 0.4374\n",
      "Num Topics = 8  has Coherence Value of 0.3842\n",
      "Num Topics = 9  has Coherence Value of 0.426\n",
      "Num Topics = 10  has Coherence Value of 0.4113\n",
      "Num Topics = 11  has Coherence Value of 0.4498\n",
      "Num Topics = 12  has Coherence Value of 0.3957\n",
      "Num Topics = 13  has Coherence Value of 0.4562\n",
      "Num Topics = 14  has Coherence Value of 0.4105\n",
      "Num Topics = 15  has Coherence Value of 0.4236\n",
      "Num Topics = 16  has Coherence Value of 0.4202\n",
      "Num Topics = 17  has Coherence Value of 0.4101\n",
      "Num Topics = 18  has Coherence Value of 0.3986\n",
      "Num Topics = 19  has Coherence Value of 0.413\n",
      "Num Topics = 20  has Coherence Value of 0.422\n",
      "Num Topics = 21  has Coherence Value of 0.4637\n",
      "Num Topics = 22  has Coherence Value of 0.4523\n",
      "Num Topics = 23  has Coherence Value of 0.4211\n",
      "Num Topics = 24  has Coherence Value of 0.427\n",
      "Num Topics = 25  has Coherence Value of 0.4156\n",
      "Num Topics = 26  has Coherence Value of 0.3821\n",
      "Num Topics = 27  has Coherence Value of 0.4479\n",
      "Num Topics = 28  has Coherence Value of 0.4527\n",
      "Num Topics = 29  has Coherence Value of 0.4559\n"
     ]
    }
   ],
   "source": [
    "# Print the coherence scores\n",
    "for m, cv in zip(x, coherence_values):\n",
    "    print(\"Num Topics =\", m, \" has Coherence Value of\", round(cv, 4))"
   ]
  },
  {
   "cell_type": "code",
   "execution_count": 30,
   "id": "2122fe83-34f8-42c5-8652-d42471f3ca87",
   "metadata": {
    "tags": []
   },
   "outputs": [
    {
     "name": "stdout",
     "output_type": "stream",
     "text": [
      "[(0,\n",
      "  '0.056*\"lernen\" + 0.029*\"mögen\" + 0.029*\"uber\" + 0.026*\"Frage\" + '\n",
      "  '0.020*\"geben\" + 0.019*\"stellen\" + 0.019*\"fur\" + 0.015*\"personlich\" + '\n",
      "  '0.015*\"Person\" + 0.015*\"hineinversetzen\"'),\n",
      " (1,\n",
      "  '0.052*\"finden\" + 0.041*\"gut\" + 0.029*\"Lektion\" + 0.020*\"einfach\" + '\n",
      "  '0.020*\"eigen\" + 0.016*\"Kommunikation\" + 0.013*\"Klicke\" + 0.013*\"personlich\" '\n",
      "  '+ 0.012*\"kurz\" + 0.011*\"mögen\"'),\n",
      " (2,\n",
      "  '0.055*\"gut\" + 0.055*\"finden\" + 0.035*\"Beispiel\" + 0.021*\"immer\" + '\n",
      "  '0.018*\"geben\" + 0.018*\"Alltag\" + 0.013*\"personlich\" + 0.013*\"wichtig\" + '\n",
      "  '0.013*\"mögen\" + 0.013*\"wirklich\"'),\n",
      " (3,\n",
      "  '0.027*\"Thema\" + 0.024*\"nie\" + 0.024*\"bissch\" + 0.024*\"mögen\" + '\n",
      "  '0.023*\"Geburt\" + 0.020*\"Seite\" + 0.020*\"finden\" + 0.017*\"Kommunikation\" + '\n",
      "  '0.016*\"fur\" + 0.014*\"spannend\"'),\n",
      " (4,\n",
      "  '0.051*\"Lektion\" + 0.039*\"gut\" + 0.039*\"Idee\" + 0.026*\"mögen\" + '\n",
      "  '0.026*\"finden\" + 0.026*\"kommen\" + 0.014*\"total\" + 0.014*\"folgen\" + '\n",
      "  '0.014*\"dazwischen\" + 0.014*\"Kleinigkeit\"'),\n",
      " (5,\n",
      "  '0.077*\"mögen\" + 0.028*\"neutral\" + 0.028*\"Aufforderung\" + 0.028*\"Fuhl\" + '\n",
      "  '0.028*\"bestatigen\" + 0.028*\"Dialog\" + 0.028*\"Erklarung\" + 0.003*\"gut\" + '\n",
      "  '0.003*\"finden\" + 0.003*\"lernen\"'),\n",
      " (6,\n",
      "  '0.057*\"gut\" + 0.038*\"Frage\" + 0.031*\"finden\" + 0.021*\"fallen\" + '\n",
      "  '0.017*\"nehmen\" + 0.016*\"wirklich\" + 0.016*\"nachst\" + 0.016*\"wichtig\" + '\n",
      "  '0.012*\"Termin\" + 0.012*\"Thema\"'),\n",
      " (7,\n",
      "  '0.033*\"gut\" + 0.033*\"verstehen\" + 0.027*\"auffrischen\" + 0.014*\"finden\" + '\n",
      "  '0.014*\"glauben\" + 0.014*\"lernen\" + 0.014*\"immer\" + 0.014*\"gerade\" + '\n",
      "  '0.014*\"klar\" + 0.014*\"Geburt\"')]\n"
     ]
    }
   ],
   "source": [
    "# Select the model and print the topics\n",
    "optimal_model = model_list[7]\n",
    "model_topics = optimal_model.show_topics(formatted=False)\n",
    "pprint(optimal_model.print_topics(num_words=10))"
   ]
  },
  {
   "cell_type": "code",
   "execution_count": 57,
   "id": "327e34e1-f90a-42ce-bb0e-960995f33845",
   "metadata": {},
   "outputs": [
    {
     "name": "stderr",
     "output_type": "stream",
     "text": [
      "C:\\Users\\vanandkuma\\AppData\\Local\\Programs\\Python\\Python310\\lib\\site-packages\\joblib\\_memmapping_reducer.py:611: UserWarning: Failed to delete temporary folder: C:\\Users\\VANAND~1\\AppData\\Local\\Temp\\joblib_memmapping_folder_113788_870a9bbd2f324f27b82f6608bb4c911f_8796be5cf55a484d9046dcaffc4a5f92\n",
      "  warnings.warn(\"Failed to delete temporary folder: {}\"\n",
      "C:\\Users\\vanandkuma\\AppData\\Local\\Programs\\Python\\Python310\\lib\\site-packages\\joblib\\_memmapping_reducer.py:611: UserWarning: Failed to delete temporary folder: C:\\Users\\VANAND~1\\AppData\\Local\\Temp\\joblib_memmapping_folder_113788_7b762354be884db3ac44adde27291230_a6f517eb2a834dadae3fe9bd9e0afe44\n",
      "  warnings.warn(\"Failed to delete temporary folder: {}\"\n",
      "C:\\Users\\vanandkuma\\AppData\\Local\\Programs\\Python\\Python310\\lib\\site-packages\\joblib\\_memmapping_reducer.py:611: UserWarning: Failed to delete temporary folder: C:\\Users\\VANAND~1\\AppData\\Local\\Temp\\joblib_memmapping_folder_113788_870a9bbd2f324f27b82f6608bb4c911f_c42966cd22b743828165e61c509a52cd\n",
      "  warnings.warn(\"Failed to delete temporary folder: {}\"\n",
      "C:\\Users\\vanandkuma\\AppData\\Local\\Programs\\Python\\Python310\\lib\\site-packages\\joblib\\_memmapping_reducer.py:611: UserWarning: Failed to delete temporary folder: C:\\Users\\VANAND~1\\AppData\\Local\\Temp\\joblib_memmapping_folder_113788_95831fe9afb14db59bec1986e6a108b9_c4f36ed851ec42fc8c996b894fb1d9de\n",
      "  warnings.warn(\"Failed to delete temporary folder: {}\"\n",
      "C:\\Users\\vanandkuma\\AppData\\Local\\Programs\\Python\\Python310\\lib\\site-packages\\joblib\\_memmapping_reducer.py:611: UserWarning: Failed to delete temporary folder: C:\\Users\\VANAND~1\\AppData\\Local\\Temp\\joblib_memmapping_folder_113788_870a9bbd2f324f27b82f6608bb4c911f_1c536554d9b140cb80e2dc772ed85e68\n",
      "  warnings.warn(\"Failed to delete temporary folder: {}\"\n",
      "C:\\Users\\vanandkuma\\AppData\\Local\\Programs\\Python\\Python310\\lib\\site-packages\\joblib\\_memmapping_reducer.py:611: UserWarning: Failed to delete temporary folder: C:\\Users\\VANAND~1\\AppData\\Local\\Temp\\joblib_memmapping_folder_113788_870a9bbd2f324f27b82f6608bb4c911f_fb9db18fabd4458f864fd0fbb1a22849\n",
      "  warnings.warn(\"Failed to delete temporary folder: {}\"\n"
     ]
    }
   ],
   "source": [
    "pyLDAvis.save_html(vis, 'output/ldavis_app_v1_improvements.html')"
   ]
  }
 ],
 "metadata": {
  "kernelspec": {
   "display_name": "Python 3 (ipykernel)",
   "language": "python",
   "name": "python3"
  },
  "language_info": {
   "codemirror_mode": {
    "name": "ipython",
    "version": 3
   },
   "file_extension": ".py",
   "mimetype": "text/x-python",
   "name": "python",
   "nbconvert_exporter": "python",
   "pygments_lexer": "ipython3",
   "version": "3.10.2"
  }
 },
 "nbformat": 4,
 "nbformat_minor": 5
}
