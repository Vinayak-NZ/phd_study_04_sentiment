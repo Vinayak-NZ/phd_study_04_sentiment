{
 "cells": [
  {
   "cell_type": "code",
   "execution_count": 1,
   "id": "8761e5a9-1c4b-46de-821b-d133d2e02be8",
   "metadata": {
    "tags": []
   },
   "outputs": [],
   "source": [
    "from germansentiment import SentimentModel"
   ]
  },
  {
   "cell_type": "code",
   "execution_count": 3,
   "id": "c32c8cfc-8e7c-4394-a0b2-ca9e868c5315",
   "metadata": {
    "tags": []
   },
   "outputs": [],
   "source": [
    "model = SentimentModel()"
   ]
  },
  {
   "cell_type": "code",
   "execution_count": 4,
   "id": "90cf0f26-c015-4e61-ba73-82b3ded2d7ce",
   "metadata": {
    "tags": []
   },
   "outputs": [],
   "source": [
    "texts = [\n",
    "    \"das ist großartig\", \n",
    "    \"das ist gut\",\n",
    "    \"Das ist okay\",\n",
    "    \"das ist nicht schön\",\n",
    "    \"Das ist schrecklich\",\n",
    "    \"Ich hasse das\"]"
   ]
  },
  {
   "cell_type": "code",
   "execution_count": 6,
   "id": "bf63c504-c9c5-469a-b1e6-12db3f9796cf",
   "metadata": {
    "tags": []
   },
   "outputs": [
    {
     "ename": "NameError",
     "evalue": "name 'TRUE' is not defined",
     "output_type": "error",
     "traceback": [
      "\u001b[1;31m---------------------------------------------------------------------------\u001b[0m",
      "\u001b[1;31mNameError\u001b[0m                                 Traceback (most recent call last)",
      "Cell \u001b[1;32mIn[6], line 1\u001b[0m\n\u001b[1;32m----> 1\u001b[0m result \u001b[38;5;241m=\u001b[39m model\u001b[38;5;241m.\u001b[39mpredict_sentiment(texts, output_probabilities \u001b[38;5;241m=\u001b[39m \u001b[43mTRUE\u001b[49m)\n\u001b[0;32m      2\u001b[0m \u001b[38;5;28mprint\u001b[39m(result)\n",
      "\u001b[1;31mNameError\u001b[0m: name 'TRUE' is not defined"
     ]
    }
   ],
   "source": [
    "result = model.predict_sentiment(texts, output_probabilities = True)\n",
    "print(result)"
   ]
  },
  {
   "cell_type": "code",
   "execution_count": null,
   "id": "df9a636a-9564-4e5c-b619-0485b856be6c",
   "metadata": {},
   "outputs": [],
   "source": [
    "classes, probabilities = model.predict_sentiment([\"das ist großartig\"], output_"
   ]
  }
 ],
 "metadata": {
  "kernelspec": {
   "display_name": "Python 3 (ipykernel)",
   "language": "python",
   "name": "python3"
  },
  "language_info": {
   "codemirror_mode": {
    "name": "ipython",
    "version": 3
   },
   "file_extension": ".py",
   "mimetype": "text/x-python",
   "name": "python",
   "nbconvert_exporter": "python",
   "pygments_lexer": "ipython3",
   "version": "3.10.2"
  }
 },
 "nbformat": 4,
 "nbformat_minor": 5
}
