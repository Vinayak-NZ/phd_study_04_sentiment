{
 "cells": [
  {
   "cell_type": "code",
   "execution_count": 62,
   "id": "606c39fe-9f9f-4c37-ba26-2bc37c1d3d14",
   "metadata": {
    "tags": []
   },
   "outputs": [],
   "source": [
    "import os\n",
    "import re\n",
    "import numpy as np\n",
    "import pandas as pd\n",
    "from pprint import pprint\n",
    "\n",
    "# reading docfiles\n",
    "import docx2txt\n",
    "\n",
    "#nltk\n",
    "import nltk\n",
    "\n",
    "# Sklearn\n",
    "from sklearn.decomposition import LatentDirichletAllocation, TruncatedSVD\n",
    "from sklearn.feature_extraction.text import CountVectorizer, TfidfVectorizer\n",
    "from sklearn.model_selection import GridSearchCV\n",
    "from pprint import pprint\n",
    "\n",
    "# Gensim\n",
    "import gensim\n",
    "import gensim.corpora as corpora\n",
    "from gensim.utils import simple_preprocess\n",
    "from gensim.models import CoherenceModel\n",
    "\n",
    "# spacy for lemmatization\n",
    "import spacy\n",
    "\n",
    "# Plotting tools\n",
    "import pyLDAvis\n",
    "import pyLDAvis.gensim  # don't skip this\n",
    "import pyLDAvis.lda_model\n",
    "import matplotlib.pyplot as plt\n",
    "%matplotlib inline\n",
    "\n",
    "# Enable logging for gensim - optional\n",
    "import logging\n",
    "logging.basicConfig(format='%(asctime)s : %(levelname)s : %(message)s', level=logging.ERROR)\n",
    "\n",
    "import warnings\n",
    "warnings.filterwarnings(\"ignore\",category=DeprecationWarning)"
   ]
  },
  {
   "cell_type": "code",
   "execution_count": 63,
   "id": "cbf82c2a-8b8c-4711-bf7e-7fc3eefea6fb",
   "metadata": {
    "tags": []
   },
   "outputs": [],
   "source": [
    "word_exclusions = pd.read_excel(\"input/word_exclusions.xlsx\")\n",
    "\n",
    "word_exclusions = word_exclusions[word_exclusions[\"exclude\"] == 1]\n",
    "\n",
    "word_exclusions = word_exclusions.drop(columns=['exclude', 'exclude_short_list'], axis = 1)"
   ]
  },
  {
   "cell_type": "code",
   "execution_count": 64,
   "id": "82798596-aa7b-4c77-9eea-64981848ffea",
   "metadata": {
    "tags": []
   },
   "outputs": [],
   "source": [
    "# NLTK Stop words\n",
    "from nltk.corpus import stopwords\n",
    "stop_words = stopwords.words('german')\n",
    "stop_words.extend(word_exclusions[\"word\"])"
   ]
  },
  {
   "cell_type": "code",
   "execution_count": 65,
   "id": "49830eb3-f7b1-4023-af85-b0a325020bc0",
   "metadata": {
    "tags": []
   },
   "outputs": [],
   "source": [
    "df = pd.read_excel(\"input/app_v1/app_v1_feedback.xlsx\")"
   ]
  },
  {
   "cell_type": "code",
   "execution_count": 66,
   "id": "f6c49cf3-2633-474e-af1e-9429eeb091a2",
   "metadata": {
    "tags": []
   },
   "outputs": [],
   "source": [
    "feedback = df[df[\"category_id\"].isin([9, 10, 11])]\n",
    "\n",
    "feedback = feedback.drop(columns=['transcript_id', 'person_id', 'segment_id', 'context', 'lesson', 'category_id'], \n",
    "             axis = 1)"
   ]
  },
  {
   "cell_type": "code",
   "execution_count": 67,
   "id": "6f5d3c59-e98d-4db0-a92b-b68825024ae6",
   "metadata": {
    "tags": []
   },
   "outputs": [],
   "source": [
    "feedback['text_processed'] = \\\n",
    "feedback['text'].map(lambda x: re.sub('[,.!?]', '', x))"
   ]
  },
  {
   "cell_type": "code",
   "execution_count": 30,
   "id": "9aad1885-59e5-4662-94bd-a861ffe649dd",
   "metadata": {
    "tags": []
   },
   "outputs": [],
   "source": [
    "feedback['text_processed'] = \\\n",
    "feedback['text_processed'].map(lambda x: x.lower())"
   ]
  },
  {
   "cell_type": "code",
   "execution_count": 31,
   "id": "963e9027-4de4-451f-9861-b5878b74e22d",
   "metadata": {
    "tags": []
   },
   "outputs": [],
   "source": [
    "def sent_to_words(sentences):\n",
    "    for sentence in sentences:\n",
    "        yield(gensim.utils.simple_preprocess(str(sentence), \n",
    "                                             deacc = True))"
   ]
  },
  {
   "cell_type": "code",
   "execution_count": 32,
   "id": "796e8465-bfc8-4d66-b608-1d25eca6541b",
   "metadata": {
    "tags": []
   },
   "outputs": [],
   "source": [
    "data = df.text_processed.values.tolist()\n",
    "data_words = list(sent_to_words(data))"
   ]
  },
  {
   "cell_type": "code",
   "execution_count": 33,
   "id": "af2f5684-5fb2-4bb7-a6a2-632baca6d93a",
   "metadata": {
    "tags": []
   },
   "outputs": [
    {
     "name": "stdout",
     "output_type": "stream",
     "text": [
      "['Ordnung', 'kurz Zwischenfrage wann app eigentlich launchen da schon ungefahr Zielvorgabe']\n"
     ]
    }
   ],
   "source": [
    "def lemmatization(texts, allowed_postags=['NOUN', 'ADJ', 'VERB', 'ADV']):\n",
    "    \"\"\"https://spacy.io/api/annotation\"\"\"\n",
    "    texts_out = []\n",
    "    for sent in texts:\n",
    "        doc = nlp(\" \".join(sent)) \n",
    "        texts_out.append(\" \".join([token.lemma_ if token.lemma_ not in ['-PRON-'] else '' for token in doc if token.pos_ in allowed_postags]))\n",
    "    return texts_out\n",
    "\n",
    "# Initialize spacy 'en' model, keeping only tagger component (for efficiency)\n",
    "# Run in terminal: python3 -m spacy download en\n",
    "nlp = spacy.load(\"de_core_news_sm\", disable=['parser', 'ner'])\n",
    "\n",
    "# Do lemmatization keeping only Noun, Adj, Verb, Adverb\n",
    "data_lemmatized = lemmatization(data_words, allowed_postags=['NOUN', 'ADJ', 'VERB', 'ADV'])\n",
    "\n",
    "print(data_lemmatized[:2])"
   ]
  },
  {
   "cell_type": "code",
   "execution_count": 34,
   "id": "d8e49ad0-bdbb-41f1-94cf-c284bbe474fe",
   "metadata": {
    "tags": []
   },
   "outputs": [
    {
     "name": "stderr",
     "output_type": "stream",
     "text": [
      "C:\\Users\\vanandkuma\\AppData\\Local\\Programs\\Python\\Python310\\lib\\site-packages\\sklearn\\feature_extraction\\text.py:396: UserWarning: Your stop_words may be inconsistent with your preprocessing. Tokenizing the stop words generated tokens ['ber', 'berhaupt', 'chlich', 'daf', 'hrend', 'nnen', 'nnte', 'rde', 'rden', 'rdest', 'ren', 'tats', 'tte'] not in stop_words.\n",
      "  warnings.warn(\n"
     ]
    }
   ],
   "source": [
    "vectorizer = CountVectorizer(analyzer='word',       \n",
    "                             min_df=5,                        # minimum reqd occurences of a word \n",
    "                             stop_words=stop_words,             # remove stop words\n",
    "                             lowercase=True,                   # convert all words to lowercase\n",
    "                             token_pattern='[a-zA-Z0-9]{3,}',  # num chars > 3\n",
    "                             # max_features=50000,             # max number of uniq words\n",
    "                            )\n",
    "\n",
    "data_vectorized = vectorizer.fit_transform(data_lemmatized)"
   ]
  },
  {
   "cell_type": "code",
   "execution_count": 35,
   "id": "2bd6cab0-6626-442b-8f89-b3f6b0c7d832",
   "metadata": {
    "tags": []
   },
   "outputs": [
    {
     "name": "stdout",
     "output_type": "stream",
     "text": [
      "Sparsicity:  2.446169063379746 %\n"
     ]
    }
   ],
   "source": [
    "# Materialize the sparse data\n",
    "data_dense = data_vectorized.todense()\n",
    "\n",
    "# Compute Sparsicity = Percentage of Non-Zero cells\n",
    "print(\"Sparsicity: \", ((data_dense > 0).sum()/data_dense.size)*100, \"%\")"
   ]
  },
  {
   "cell_type": "code",
   "execution_count": 39,
   "id": "d8d7b2a2-3a29-484e-96f9-72b63949da4f",
   "metadata": {
    "tags": []
   },
   "outputs": [
    {
     "name": "stdout",
     "output_type": "stream",
     "text": [
      "LatentDirichletAllocation(learning_method='online', n_components=2,\n",
      "                          random_state=100)\n"
     ]
    }
   ],
   "source": [
    "if __name__ == '__main__':\n",
    "\n",
    "    # Build LDA Model\n",
    "    lda_model = LatentDirichletAllocation(n_components=2,               # Number of topics\n",
    "                                          max_iter=10,               # Max learning iterations\n",
    "                                          learning_method='online',   \n",
    "                                          random_state=100,          # Random state\n",
    "                                          batch_size=128,            # n docs in each learning iter\n",
    "                                          evaluate_every = -1       # compute perplexity every n iters, default: Don't\n",
    "                                         )\n",
    "lda_output = lda_model.fit_transform(data_vectorized)\n",
    "\n",
    "print(lda_model)  # Model attributes"
   ]
  },
  {
   "cell_type": "code",
   "execution_count": 40,
   "id": "cadc11f2-cf6f-4fa5-9e3e-8a881529ad24",
   "metadata": {
    "tags": []
   },
   "outputs": [
    {
     "data": {
      "text/plain": [
       "LatentDirichletAllocation(learning_method='online', n_jobs=-1, random_state=100)"
      ]
     },
     "execution_count": 40,
     "metadata": {},
     "output_type": "execute_result"
    }
   ],
   "source": [
    "LatentDirichletAllocation(batch_size=128, doc_topic_prior=None,\n",
    "             evaluate_every=-1, learning_decay=0.7,\n",
    "             learning_method='online', learning_offset=10.0,\n",
    "             max_doc_update_iter=100, max_iter=10, mean_change_tol=0.001,\n",
    "             n_components=10, n_jobs=-1, perp_tol=0.1,\n",
    "             random_state=100, topic_word_prior=None,\n",
    "             total_samples=1000000.0, verbose=0)"
   ]
  },
  {
   "cell_type": "code",
   "execution_count": 41,
   "id": "4ea8d6d2-bf76-49ed-9b79-999c3fa9bb78",
   "metadata": {
    "tags": []
   },
   "outputs": [
    {
     "name": "stdout",
     "output_type": "stream",
     "text": [
      "Log Likelihood:  -53992.404867601676\n",
      "Perplexity:  320.82169895928115\n",
      "{'batch_size': 128,\n",
      " 'doc_topic_prior': None,\n",
      " 'evaluate_every': -1,\n",
      " 'learning_decay': 0.7,\n",
      " 'learning_method': 'online',\n",
      " 'learning_offset': 10.0,\n",
      " 'max_doc_update_iter': 100,\n",
      " 'max_iter': 10,\n",
      " 'mean_change_tol': 0.001,\n",
      " 'n_components': 2,\n",
      " 'n_jobs': None,\n",
      " 'perp_tol': 0.1,\n",
      " 'random_state': 100,\n",
      " 'topic_word_prior': None,\n",
      " 'total_samples': 1000000.0,\n",
      " 'verbose': 0}\n"
     ]
    }
   ],
   "source": [
    "# Log Likelyhood: Higher the better\n",
    "print(\"Log Likelihood: \", lda_model.score(data_vectorized))\n",
    "\n",
    "# Perplexity: Lower the better. Perplexity = exp(-1. * log-likelihood per word)\n",
    "print(\"Perplexity: \", lda_model.perplexity(data_vectorized))\n",
    "\n",
    "# See model parameters\n",
    "pprint(lda_model.get_params())"
   ]
  },
  {
   "cell_type": "code",
   "execution_count": 42,
   "id": "b34925a1-0275-4b88-99a0-5a653183f2d0",
   "metadata": {
    "tags": []
   },
   "outputs": [
    {
     "data": {
      "text/plain": [
       "GridSearchCV(estimator=LatentDirichletAllocation(),\n",
       "             param_grid={'learning_decay': [0.5, 0.7, 0.9],\n",
       "                         'n_components': [2, 5, 10]})"
      ]
     },
     "execution_count": 42,
     "metadata": {},
     "output_type": "execute_result"
    }
   ],
   "source": [
    "# Define Search Param\n",
    "search_params = {'n_components': [2, 5, 10], 'learning_decay': [.5, .7, .9]}\n",
    "\n",
    "# Init the Model\n",
    "lda = LatentDirichletAllocation()\n",
    "\n",
    "# Init Grid Search Class\n",
    "model = GridSearchCV(lda, param_grid=search_params)\n",
    "\n",
    "# Do the Grid Search\n",
    "model.fit(data_vectorized)"
   ]
  },
  {
   "cell_type": "code",
   "execution_count": 43,
   "id": "13557d06-4816-4c2e-bd09-45eb9cf4113e",
   "metadata": {
    "tags": []
   },
   "outputs": [
    {
     "name": "stdout",
     "output_type": "stream",
     "text": [
      "Best Model's Params:  {'learning_decay': 0.7, 'n_components': 2}\n",
      "Best Log Likelihood Score:  -11962.753899122874\n",
      "Model Perplexity:  309.7479852530212\n"
     ]
    }
   ],
   "source": [
    "# Best Model\n",
    "best_lda_model = model.best_estimator_\n",
    "\n",
    "# Model Parameters\n",
    "print(\"Best Model's Params: \", model.best_params_)\n",
    "\n",
    "# Log Likelihood Score\n",
    "print(\"Best Log Likelihood Score: \", model.best_score_)\n",
    "\n",
    "# Perplexity\n",
    "print(\"Model Perplexity: \", best_lda_model.perplexity(data_vectorized))"
   ]
  },
  {
   "cell_type": "code",
   "execution_count": 48,
   "id": "5045f3dd-9dbd-4123-af69-ed5b1d2f3955",
   "metadata": {
    "tags": []
   },
   "outputs": [
    {
     "data": {
      "text/html": [
       "<style type=\"text/css\">\n",
       "#T_50f46_row0_col0, #T_50f46_row0_col1, #T_50f46_row1_col0, #T_50f46_row1_col1, #T_50f46_row2_col0, #T_50f46_row2_col1, #T_50f46_row2_col2, #T_50f46_row3_col0, #T_50f46_row3_col1, #T_50f46_row3_col2, #T_50f46_row4_col0, #T_50f46_row4_col1, #T_50f46_row5_col0, #T_50f46_row5_col1, #T_50f46_row5_col2, #T_50f46_row6_col0, #T_50f46_row6_col1, #T_50f46_row7_col0, #T_50f46_row8_col0, #T_50f46_row8_col1, #T_50f46_row9_col0, #T_50f46_row9_col1, #T_50f46_row10_col0, #T_50f46_row11_col0, #T_50f46_row12_col0, #T_50f46_row12_col1, #T_50f46_row13_col0, #T_50f46_row13_col1, #T_50f46_row13_col2, #T_50f46_row14_col0 {\n",
       "  color: green;\n",
       "  font-weight: 700;\n",
       "}\n",
       "#T_50f46_row0_col2, #T_50f46_row1_col2, #T_50f46_row4_col2, #T_50f46_row6_col2, #T_50f46_row7_col1, #T_50f46_row7_col2, #T_50f46_row8_col2, #T_50f46_row9_col2, #T_50f46_row10_col1, #T_50f46_row10_col2, #T_50f46_row11_col1, #T_50f46_row11_col2, #T_50f46_row12_col2, #T_50f46_row14_col1, #T_50f46_row14_col2 {\n",
       "  color: black;\n",
       "  font-weight: 400;\n",
       "}\n",
       "</style>\n",
       "<table id=\"T_50f46\">\n",
       "  <thead>\n",
       "    <tr>\n",
       "      <th class=\"blank level0\" >&nbsp;</th>\n",
       "      <th id=\"T_50f46_level0_col0\" class=\"col_heading level0 col0\" >Topic0</th>\n",
       "      <th id=\"T_50f46_level0_col1\" class=\"col_heading level0 col1\" >Topic1</th>\n",
       "      <th id=\"T_50f46_level0_col2\" class=\"col_heading level0 col2\" >dominant_topic</th>\n",
       "    </tr>\n",
       "  </thead>\n",
       "  <tbody>\n",
       "    <tr>\n",
       "      <th id=\"T_50f46_level0_row0\" class=\"row_heading level0 row0\" >Doc0</th>\n",
       "      <td id=\"T_50f46_row0_col0\" class=\"data row0 col0\" >0.750000</td>\n",
       "      <td id=\"T_50f46_row0_col1\" class=\"data row0 col1\" >0.250000</td>\n",
       "      <td id=\"T_50f46_row0_col2\" class=\"data row0 col2\" >0</td>\n",
       "    </tr>\n",
       "    <tr>\n",
       "      <th id=\"T_50f46_level0_row1\" class=\"row_heading level0 row1\" >Doc1</th>\n",
       "      <td id=\"T_50f46_row1_col0\" class=\"data row1 col0\" >0.890000</td>\n",
       "      <td id=\"T_50f46_row1_col1\" class=\"data row1 col1\" >0.110000</td>\n",
       "      <td id=\"T_50f46_row1_col2\" class=\"data row1 col2\" >0</td>\n",
       "    </tr>\n",
       "    <tr>\n",
       "      <th id=\"T_50f46_level0_row2\" class=\"row_heading level0 row2\" >Doc2</th>\n",
       "      <td id=\"T_50f46_row2_col0\" class=\"data row2 col0\" >0.270000</td>\n",
       "      <td id=\"T_50f46_row2_col1\" class=\"data row2 col1\" >0.730000</td>\n",
       "      <td id=\"T_50f46_row2_col2\" class=\"data row2 col2\" >1</td>\n",
       "    </tr>\n",
       "    <tr>\n",
       "      <th id=\"T_50f46_level0_row3\" class=\"row_heading level0 row3\" >Doc3</th>\n",
       "      <td id=\"T_50f46_row3_col0\" class=\"data row3 col0\" >0.250000</td>\n",
       "      <td id=\"T_50f46_row3_col1\" class=\"data row3 col1\" >0.750000</td>\n",
       "      <td id=\"T_50f46_row3_col2\" class=\"data row3 col2\" >1</td>\n",
       "    </tr>\n",
       "    <tr>\n",
       "      <th id=\"T_50f46_level0_row4\" class=\"row_heading level0 row4\" >Doc4</th>\n",
       "      <td id=\"T_50f46_row4_col0\" class=\"data row4 col0\" >0.500000</td>\n",
       "      <td id=\"T_50f46_row4_col1\" class=\"data row4 col1\" >0.500000</td>\n",
       "      <td id=\"T_50f46_row4_col2\" class=\"data row4 col2\" >0</td>\n",
       "    </tr>\n",
       "    <tr>\n",
       "      <th id=\"T_50f46_level0_row5\" class=\"row_heading level0 row5\" >Doc5</th>\n",
       "      <td id=\"T_50f46_row5_col0\" class=\"data row5 col0\" >0.280000</td>\n",
       "      <td id=\"T_50f46_row5_col1\" class=\"data row5 col1\" >0.720000</td>\n",
       "      <td id=\"T_50f46_row5_col2\" class=\"data row5 col2\" >1</td>\n",
       "    </tr>\n",
       "    <tr>\n",
       "      <th id=\"T_50f46_level0_row6\" class=\"row_heading level0 row6\" >Doc6</th>\n",
       "      <td id=\"T_50f46_row6_col0\" class=\"data row6 col0\" >0.710000</td>\n",
       "      <td id=\"T_50f46_row6_col1\" class=\"data row6 col1\" >0.290000</td>\n",
       "      <td id=\"T_50f46_row6_col2\" class=\"data row6 col2\" >0</td>\n",
       "    </tr>\n",
       "    <tr>\n",
       "      <th id=\"T_50f46_level0_row7\" class=\"row_heading level0 row7\" >Doc7</th>\n",
       "      <td id=\"T_50f46_row7_col0\" class=\"data row7 col0\" >0.950000</td>\n",
       "      <td id=\"T_50f46_row7_col1\" class=\"data row7 col1\" >0.050000</td>\n",
       "      <td id=\"T_50f46_row7_col2\" class=\"data row7 col2\" >0</td>\n",
       "    </tr>\n",
       "    <tr>\n",
       "      <th id=\"T_50f46_level0_row8\" class=\"row_heading level0 row8\" >Doc8</th>\n",
       "      <td id=\"T_50f46_row8_col0\" class=\"data row8 col0\" >0.510000</td>\n",
       "      <td id=\"T_50f46_row8_col1\" class=\"data row8 col1\" >0.490000</td>\n",
       "      <td id=\"T_50f46_row8_col2\" class=\"data row8 col2\" >0</td>\n",
       "    </tr>\n",
       "    <tr>\n",
       "      <th id=\"T_50f46_level0_row9\" class=\"row_heading level0 row9\" >Doc9</th>\n",
       "      <td id=\"T_50f46_row9_col0\" class=\"data row9 col0\" >0.780000</td>\n",
       "      <td id=\"T_50f46_row9_col1\" class=\"data row9 col1\" >0.220000</td>\n",
       "      <td id=\"T_50f46_row9_col2\" class=\"data row9 col2\" >0</td>\n",
       "    </tr>\n",
       "    <tr>\n",
       "      <th id=\"T_50f46_level0_row10\" class=\"row_heading level0 row10\" >Doc10</th>\n",
       "      <td id=\"T_50f46_row10_col0\" class=\"data row10 col0\" >0.940000</td>\n",
       "      <td id=\"T_50f46_row10_col1\" class=\"data row10 col1\" >0.060000</td>\n",
       "      <td id=\"T_50f46_row10_col2\" class=\"data row10 col2\" >0</td>\n",
       "    </tr>\n",
       "    <tr>\n",
       "      <th id=\"T_50f46_level0_row11\" class=\"row_heading level0 row11\" >Doc11</th>\n",
       "      <td id=\"T_50f46_row11_col0\" class=\"data row11 col0\" >0.970000</td>\n",
       "      <td id=\"T_50f46_row11_col1\" class=\"data row11 col1\" >0.030000</td>\n",
       "      <td id=\"T_50f46_row11_col2\" class=\"data row11 col2\" >0</td>\n",
       "    </tr>\n",
       "    <tr>\n",
       "      <th id=\"T_50f46_level0_row12\" class=\"row_heading level0 row12\" >Doc12</th>\n",
       "      <td id=\"T_50f46_row12_col0\" class=\"data row12 col0\" >0.500000</td>\n",
       "      <td id=\"T_50f46_row12_col1\" class=\"data row12 col1\" >0.500000</td>\n",
       "      <td id=\"T_50f46_row12_col2\" class=\"data row12 col2\" >0</td>\n",
       "    </tr>\n",
       "    <tr>\n",
       "      <th id=\"T_50f46_level0_row13\" class=\"row_heading level0 row13\" >Doc13</th>\n",
       "      <td id=\"T_50f46_row13_col0\" class=\"data row13 col0\" >0.140000</td>\n",
       "      <td id=\"T_50f46_row13_col1\" class=\"data row13 col1\" >0.860000</td>\n",
       "      <td id=\"T_50f46_row13_col2\" class=\"data row13 col2\" >1</td>\n",
       "    </tr>\n",
       "    <tr>\n",
       "      <th id=\"T_50f46_level0_row14\" class=\"row_heading level0 row14\" >Doc14</th>\n",
       "      <td id=\"T_50f46_row14_col0\" class=\"data row14 col0\" >0.990000</td>\n",
       "      <td id=\"T_50f46_row14_col1\" class=\"data row14 col1\" >0.010000</td>\n",
       "      <td id=\"T_50f46_row14_col2\" class=\"data row14 col2\" >0</td>\n",
       "    </tr>\n",
       "  </tbody>\n",
       "</table>\n"
      ],
      "text/plain": [
       "<pandas.io.formats.style.Styler at 0x22ad7b4d360>"
      ]
     },
     "execution_count": 48,
     "metadata": {},
     "output_type": "execute_result"
    }
   ],
   "source": [
    "# Create Document - Topic Matrix\n",
    "lda_output = best_lda_model.transform(data_vectorized)\n",
    "\n",
    "# column names\n",
    "topicnames = [\"Topic\" + str(i) for i in range(best_lda_model.n_components)]\n",
    "\n",
    "# index names\n",
    "docnames = [\"Doc\" + str(i) for i in range(len(data))]\n",
    "\n",
    "# Make the pandas dataframe\n",
    "df_document_topic = pd.DataFrame(np.round(lda_output, 2), columns=topicnames, index=docnames)\n",
    "\n",
    "# Get dominant topic for each document\n",
    "dominant_topic = np.argmax(df_document_topic.values, axis=1)\n",
    "df_document_topic['dominant_topic'] = dominant_topic\n",
    "\n",
    "# Styling\n",
    "def color_green(val):\n",
    "    color = 'green' if val > .1 else 'black'\n",
    "    return 'color: {col}'.format(col=color)\n",
    "\n",
    "def make_bold(val):\n",
    "    weight = 700 if val > .1 else 400\n",
    "    return 'font-weight: {weight}'.format(weight=weight)\n",
    "\n",
    "# Apply Style\n",
    "df_document_topics = df_document_topic.head(15).style.applymap(color_green).applymap(make_bold)\n",
    "df_document_topics"
   ]
  },
  {
   "cell_type": "code",
   "execution_count": 49,
   "id": "64f2cf5e-3ee2-4176-9cac-7ddda75dfc1e",
   "metadata": {
    "tags": []
   },
   "outputs": [
    {
     "data": {
      "text/html": [
       "<div>\n",
       "<style scoped>\n",
       "    .dataframe tbody tr th:only-of-type {\n",
       "        vertical-align: middle;\n",
       "    }\n",
       "\n",
       "    .dataframe tbody tr th {\n",
       "        vertical-align: top;\n",
       "    }\n",
       "\n",
       "    .dataframe thead th {\n",
       "        text-align: right;\n",
       "    }\n",
       "</style>\n",
       "<table border=\"1\" class=\"dataframe\">\n",
       "  <thead>\n",
       "    <tr style=\"text-align: right;\">\n",
       "      <th></th>\n",
       "      <th>Topic Num</th>\n",
       "      <th>Num Documents</th>\n",
       "    </tr>\n",
       "  </thead>\n",
       "  <tbody>\n",
       "    <tr>\n",
       "      <th>0</th>\n",
       "      <td>0</td>\n",
       "      <td>402</td>\n",
       "    </tr>\n",
       "    <tr>\n",
       "      <th>1</th>\n",
       "      <td>1</td>\n",
       "      <td>272</td>\n",
       "    </tr>\n",
       "  </tbody>\n",
       "</table>\n",
       "</div>"
      ],
      "text/plain": [
       "   Topic Num  Num Documents\n",
       "0          0            402\n",
       "1          1            272"
      ]
     },
     "execution_count": 49,
     "metadata": {},
     "output_type": "execute_result"
    }
   ],
   "source": [
    "df_topic_distribution = df_document_topic['dominant_topic'].value_counts().reset_index(name=\"Num Documents\")\n",
    "df_topic_distribution.columns = ['Topic Num', 'Num Documents']\n",
    "df_topic_distribution"
   ]
  },
  {
   "cell_type": "code",
   "execution_count": 55,
   "id": "5bee4347-085f-482d-8d95-329c2c397270",
   "metadata": {
    "tags": []
   },
   "outputs": [
    {
     "name": "stderr",
     "output_type": "stream",
     "text": [
      "C:\\Users\\vanandkuma\\AppData\\Local\\Programs\\Python\\Python310\\lib\\site-packages\\sklearn\\utils\\deprecation.py:87: FutureWarning: Function get_feature_names is deprecated; get_feature_names is deprecated in 1.0 and will be removed in 1.2. Please use get_feature_names_out instead.\n",
      "  return fun(*args, **kwargs)\n"
     ]
    },
    {
     "data": {
      "text/html": [
       "<div>\n",
       "<style scoped>\n",
       "    .dataframe tbody tr th:only-of-type {\n",
       "        vertical-align: middle;\n",
       "    }\n",
       "\n",
       "    .dataframe tbody tr th {\n",
       "        vertical-align: top;\n",
       "    }\n",
       "\n",
       "    .dataframe thead th {\n",
       "        text-align: right;\n",
       "    }\n",
       "</style>\n",
       "<table border=\"1\" class=\"dataframe\">\n",
       "  <thead>\n",
       "    <tr style=\"text-align: right;\">\n",
       "      <th></th>\n",
       "      <th>abends</th>\n",
       "      <th>abgesprochen</th>\n",
       "      <th>absolut</th>\n",
       "      <th>abweisend</th>\n",
       "      <th>achten</th>\n",
       "      <th>aktiv</th>\n",
       "      <th>aktuell</th>\n",
       "      <th>allein</th>\n",
       "      <th>alleine</th>\n",
       "      <th>allgemein</th>\n",
       "      <th>...</th>\n",
       "      <th>wussten</th>\n",
       "      <th>zeit</th>\n",
       "      <th>zeitdruck</th>\n",
       "      <th>zettel</th>\n",
       "      <th>ziehen</th>\n",
       "      <th>ziel</th>\n",
       "      <th>zukunft</th>\n",
       "      <th>zuruck</th>\n",
       "      <th>zusammen</th>\n",
       "      <th>zweiter</th>\n",
       "    </tr>\n",
       "  </thead>\n",
       "  <tbody>\n",
       "    <tr>\n",
       "      <th>Topic0</th>\n",
       "      <td>5.46307</td>\n",
       "      <td>0.50255</td>\n",
       "      <td>6.20596</td>\n",
       "      <td>5.477098</td>\n",
       "      <td>2.635118</td>\n",
       "      <td>0.855601</td>\n",
       "      <td>10.332169</td>\n",
       "      <td>7.491858</td>\n",
       "      <td>6.247751</td>\n",
       "      <td>2.693218</td>\n",
       "      <td>...</td>\n",
       "      <td>8.16431</td>\n",
       "      <td>17.800434</td>\n",
       "      <td>5.3855</td>\n",
       "      <td>1.971796</td>\n",
       "      <td>9.45436</td>\n",
       "      <td>5.904207</td>\n",
       "      <td>5.379559</td>\n",
       "      <td>4.932847</td>\n",
       "      <td>7.202069</td>\n",
       "      <td>22.328218</td>\n",
       "    </tr>\n",
       "    <tr>\n",
       "      <th>Topic1</th>\n",
       "      <td>0.53693</td>\n",
       "      <td>6.49745</td>\n",
       "      <td>1.79404</td>\n",
       "      <td>0.522902</td>\n",
       "      <td>8.364882</td>\n",
       "      <td>6.144399</td>\n",
       "      <td>0.667831</td>\n",
       "      <td>0.508142</td>\n",
       "      <td>0.752249</td>\n",
       "      <td>14.306782</td>\n",
       "      <td>...</td>\n",
       "      <td>1.83569</td>\n",
       "      <td>38.199566</td>\n",
       "      <td>1.6145</td>\n",
       "      <td>4.028204</td>\n",
       "      <td>0.54564</td>\n",
       "      <td>4.095793</td>\n",
       "      <td>0.620441</td>\n",
       "      <td>1.067153</td>\n",
       "      <td>1.797931</td>\n",
       "      <td>1.671782</td>\n",
       "    </tr>\n",
       "  </tbody>\n",
       "</table>\n",
       "<p>2 rows × 468 columns</p>\n",
       "</div>"
      ],
      "text/plain": [
       "         abends  abgesprochen  absolut  abweisend    achten     aktiv   \n",
       "Topic0  5.46307       0.50255  6.20596   5.477098  2.635118  0.855601  \\\n",
       "Topic1  0.53693       6.49745  1.79404   0.522902  8.364882  6.144399   \n",
       "\n",
       "          aktuell    allein   alleine  allgemein  ...  wussten       zeit   \n",
       "Topic0  10.332169  7.491858  6.247751   2.693218  ...  8.16431  17.800434  \\\n",
       "Topic1   0.667831  0.508142  0.752249  14.306782  ...  1.83569  38.199566   \n",
       "\n",
       "        zeitdruck    zettel   ziehen      ziel   zukunft    zuruck  zusammen   \n",
       "Topic0     5.3855  1.971796  9.45436  5.904207  5.379559  4.932847  7.202069  \\\n",
       "Topic1     1.6145  4.028204  0.54564  4.095793  0.620441  1.067153  1.797931   \n",
       "\n",
       "          zweiter  \n",
       "Topic0  22.328218  \n",
       "Topic1   1.671782  \n",
       "\n",
       "[2 rows x 468 columns]"
      ]
     },
     "execution_count": 55,
     "metadata": {},
     "output_type": "execute_result"
    }
   ],
   "source": [
    "# Topic-Keyword Matrix\n",
    "df_topic_keywords = pd.DataFrame(best_lda_model.components_)\n",
    "\n",
    "# Assign Column and Index\n",
    "df_topic_keywords.columns = vectorizer.get_feature_names()\n",
    "df_topic_keywords.index = topicnames\n",
    "\n",
    "# View\n",
    "df_topic_keywords.head()"
   ]
  },
  {
   "cell_type": "code",
   "execution_count": 56,
   "id": "85a1f846-4792-442b-b9b8-bd2b5815cc9f",
   "metadata": {
    "tags": []
   },
   "outputs": [
    {
     "name": "stderr",
     "output_type": "stream",
     "text": [
      "C:\\Users\\vanandkuma\\AppData\\Local\\Programs\\Python\\Python310\\lib\\site-packages\\sklearn\\utils\\deprecation.py:87: FutureWarning: Function get_feature_names is deprecated; get_feature_names is deprecated in 1.0 and will be removed in 1.2. Please use get_feature_names_out instead.\n",
      "  return fun(*args, **kwargs)\n"
     ]
    },
    {
     "data": {
      "text/html": [
       "<div>\n",
       "<style scoped>\n",
       "    .dataframe tbody tr th:only-of-type {\n",
       "        vertical-align: middle;\n",
       "    }\n",
       "\n",
       "    .dataframe tbody tr th {\n",
       "        vertical-align: top;\n",
       "    }\n",
       "\n",
       "    .dataframe thead th {\n",
       "        text-align: right;\n",
       "    }\n",
       "</style>\n",
       "<table border=\"1\" class=\"dataframe\">\n",
       "  <thead>\n",
       "    <tr style=\"text-align: right;\">\n",
       "      <th></th>\n",
       "      <th>Word 0</th>\n",
       "      <th>Word 1</th>\n",
       "      <th>Word 2</th>\n",
       "      <th>Word 3</th>\n",
       "      <th>Word 4</th>\n",
       "      <th>Word 5</th>\n",
       "      <th>Word 6</th>\n",
       "      <th>Word 7</th>\n",
       "      <th>Word 8</th>\n",
       "      <th>Word 9</th>\n",
       "      <th>Word 10</th>\n",
       "      <th>Word 11</th>\n",
       "      <th>Word 12</th>\n",
       "      <th>Word 13</th>\n",
       "      <th>Word 14</th>\n",
       "    </tr>\n",
       "  </thead>\n",
       "  <tbody>\n",
       "    <tr>\n",
       "      <th>Topic 0</th>\n",
       "      <td>sagen</td>\n",
       "      <td>gut</td>\n",
       "      <td>gehen</td>\n",
       "      <td>kind</td>\n",
       "      <td>immer</td>\n",
       "      <td>ganz</td>\n",
       "      <td>vielleicht</td>\n",
       "      <td>geben</td>\n",
       "      <td>situation</td>\n",
       "      <td>wissen</td>\n",
       "      <td>einfach</td>\n",
       "      <td>kommen</td>\n",
       "      <td>denken</td>\n",
       "      <td>glauben</td>\n",
       "      <td>geburt</td>\n",
       "    </tr>\n",
       "    <tr>\n",
       "      <th>Topic 1</th>\n",
       "      <td>gut</td>\n",
       "      <td>arzt</td>\n",
       "      <td>frage</td>\n",
       "      <td>richtig</td>\n",
       "      <td>information</td>\n",
       "      <td>gehen</td>\n",
       "      <td>geburt</td>\n",
       "      <td>kommunikation</td>\n",
       "      <td>kommunizieren</td>\n",
       "      <td>arztin</td>\n",
       "      <td>nehmen</td>\n",
       "      <td>sagen</td>\n",
       "      <td>geben</td>\n",
       "      <td>klar</td>\n",
       "      <td>fur</td>\n",
       "    </tr>\n",
       "  </tbody>\n",
       "</table>\n",
       "</div>"
      ],
      "text/plain": [
       "        Word 0 Word 1 Word 2   Word 3       Word 4 Word 5      Word 6   \n",
       "Topic 0  sagen    gut  gehen     kind        immer   ganz  vielleicht  \\\n",
       "Topic 1    gut   arzt  frage  richtig  information  gehen      geburt   \n",
       "\n",
       "                Word 7         Word 8  Word 9  Word 10 Word 11 Word 12   \n",
       "Topic 0          geben      situation  wissen  einfach  kommen  denken  \\\n",
       "Topic 1  kommunikation  kommunizieren  arztin   nehmen   sagen   geben   \n",
       "\n",
       "         Word 13 Word 14  \n",
       "Topic 0  glauben  geburt  \n",
       "Topic 1     klar     fur  "
      ]
     },
     "execution_count": 56,
     "metadata": {},
     "output_type": "execute_result"
    }
   ],
   "source": [
    "# Show top n keywords for each topic\n",
    "def show_topics(vectorizer=vectorizer, lda_model=lda_model, n_words=20):\n",
    "    keywords = np.array(vectorizer.get_feature_names())\n",
    "    topic_keywords = []\n",
    "    for topic_weights in lda_model.components_:\n",
    "        top_keyword_locs = (-topic_weights).argsort()[:n_words]\n",
    "        topic_keywords.append(keywords.take(top_keyword_locs))\n",
    "    return topic_keywords\n",
    "\n",
    "topic_keywords = show_topics(vectorizer=vectorizer, lda_model=best_lda_model, n_words=15)        \n",
    "\n",
    "# Topic - Keywords Dataframe\n",
    "df_topic_keywords = pd.DataFrame(topic_keywords)\n",
    "df_topic_keywords.columns = ['Word '+str(i) for i in range(df_topic_keywords.shape[1])]\n",
    "df_topic_keywords.index = ['Topic '+str(i) for i in range(df_topic_keywords.shape[0])]\n",
    "df_topic_keywords"
   ]
  },
  {
   "cell_type": "code",
   "execution_count": 61,
   "id": "13ecc6f4-d873-449a-83df-1b002f0d151c",
   "metadata": {
    "tags": []
   },
   "outputs": [
    {
     "name": "stderr",
     "output_type": "stream",
     "text": [
      "C:\\Users\\vanandkuma\\AppData\\Local\\Programs\\Python\\Python310\\lib\\site-packages\\sklearn\\manifold\\_t_sne.py:790: FutureWarning: The default learning rate in TSNE will change from 200.0 to 'auto' in 1.2.\n",
      "  def __init__(\n",
      "C:\\Users\\vanandkuma\\AppData\\Local\\Programs\\Python\\Python310\\lib\\site-packages\\sklearn\\manifold\\_t_sne.py:819: FutureWarning: 'square_distances' has been introduced in 0.24 to help phase out legacy squaring behavior. The 'legacy' setting will be removed in 1.1 (renaming of 0.26), and the default setting will be changed to True. In 1.3, 'square_distances' will be removed altogether, and distances will be squared by default. Set 'square_distances'=True to silence this warning.\n",
      "  self.init = init\n"
     ]
    },
    {
     "data": {
      "text/html": [
       "\n",
       "<link rel=\"stylesheet\" type=\"text/css\" href=\"https://cdn.jsdelivr.net/gh/bmabey/pyLDAvis@3.4.0/pyLDAvis/js/ldavis.v1.0.0.css\">\n",
       "\n",
       "\n",
       "<div id=\"ldavis_el12251223829981830884743167092\" style=\"background-color:white;\"></div>\n",
       "<script type=\"text/javascript\">\n",
       "\n",
       "var ldavis_el12251223829981830884743167092_data = {\"mdsDat\": {\"x\": [-60.31231689453125, 60.31256103515625], \"y\": [141.36962890625, -141.369140625], \"topics\": [1, 2], \"cluster\": [1, 1], \"Freq\": [59.46870633228727, 40.531293667712745]}, \"tinfo\": {\"Term\": [\"frage\", \"information\", \"gut\", \"arzt\", \"klar\", \"kommunizieren\", \"richtig\", \"kind\", \"gesprach\", \"uberlegen\", \"wahrend\", \"verstehen\", \"beispiel\", \"kommunikation\", \"arztin\", \"nehmen\", \"treffen\", \"falsch\", \"beantworten\", \"antwort\", \"ausreichend\", \"mann\", \"vielleicht\", \"ansprechen\", \"fragen\", \"voll\", \"schwierig\", \"termin\", \"zeit\", \"total\", \"total\", \"mutter\", \"mann\", \"plan\", \"super\", \"bekommen\", \"krankenhaus\", \"fuhlen\", \"fachpersonal\", \"gerne\", \"reaktion\", \"moglich\", \"medizinisch\", \"konnen\", \"vorstellen\", \"schwierig\", \"tochter\", \"stark\", \"erfahren\", \"alltag\", \"schmerz\", \"gluck\", \"kurz\", \"nutzen\", \"verantwortung\", \"hause\", \"mitteilen\", \"stressig\", \"schmerzmittel\", \"negativ\", \"oft\", \"kind\", \"passieren\", \"vielleicht\", \"partner\", \"sagen\", \"mussen\", \"liegen\", \"zweiter\", \"einfach\", \"ware\", \"kommen\", \"glauben\", \"denken\", \"fall\", \"naturlich\", \"ganz\", \"immer\", \"gehen\", \"wissen\", \"situation\", \"geben\", \"gerade\", \"gut\", \"tun\", \"geburt\", \"fur\", \"finden\", \"konn\", \"mehr\", \"wichtig\", \"uber\", \"information\", \"klar\", \"frage\", \"treffen\", \"vorbereitung\", \"beantworten\", \"falsch\", \"ern\", \"erklart\", \"sorge\", \"klarheit\", \"patientin\", \"nachfragen\", \"vornehmen\", \"arztinn\", \"antwort\", \"weitergeben\", \"kompetenz\", \"gesprach\", \"deutlich\", \"vorfeld\", \"arbeitgeber\", \"trauen\", \"kontakt\", \"risiko\", \"richtigkeit\", \"bedenken\", \"schlie\", \"gering\", \"kommend\", \"blut\", \"voll\", \"termin\", \"uberlegen\", \"arzt\", \"verstehen\", \"punkt\", \"kommunizieren\", \"lernen\", \"gehort\", \"wahrend\", \"richtig\", \"gut\", \"ansprechen\", \"beispiel\", \"ausreichend\", \"arztin\", \"kommunikation\", \"nehmen\", \"fragen\", \"zeit\", \"brauchen\", \"gen\", \"geburt\", \"gehen\", \"fur\", \"finden\", \"konn\", \"geben\", \"sehen\", \"situation\", \"immer\", \"sagen\", \"ganz\", \"wissen\"], \"Freq\": [70.0, 56.0, 297.0, 93.0, 43.0, 61.0, 84.0, 96.0, 31.0, 36.0, 46.0, 34.0, 51.0, 79.0, 62.0, 63.0, 21.0, 20.0, 19.0, 20.0, 31.0, 35.0, 93.0, 28.0, 41.0, 20.0, 39.0, 20.0, 53.0, 32.0, 31.98214662205251, 31.978275575348842, 34.78488678462258, 28.18435569199274, 26.278420705879338, 30.013865001000127, 28.122201443547347, 26.208897492140565, 23.35261833804002, 33.625568306203206, 20.50665470980481, 20.489690463957217, 21.406339128443356, 25.952377866643438, 16.678437443739227, 37.95272595685646, 13.858246872480539, 13.846316932431625, 14.758651707901304, 18.443961837080092, 13.832949337081674, 13.827478179067162, 31.30070539485392, 12.875377870539086, 12.873400751011976, 13.7887605937979, 12.862463995863903, 17.454854086599113, 11.921169025733084, 11.920218251429795, 26.591134542875505, 90.23221294346503, 35.522908784502555, 83.66885019486622, 27.386085470541243, 189.3728662287864, 32.75009098786683, 18.059235495027373, 21.345560421986626, 70.82747054018886, 37.78407901737249, 68.10023051424115, 61.38124567966865, 63.9993442682789, 34.524896893068245, 60.6083793133268, 84.72175724208581, 89.6194241343231, 100.75375180241801, 71.28941315950381, 75.79744974983517, 76.56757053836972, 49.905071397241734, 120.36981995896657, 40.746126315137126, 61.055703868933946, 55.361281914834315, 54.93402092952141, 49.610698049478, 37.16490436084966, 41.17691777799199, 34.43880087581521, 56.22173704006615, 42.99802068132348, 68.9901914477702, 21.216704721386602, 16.54971685831498, 19.30679462993255, 20.224744853236878, 16.523959442898676, 14.671076359880649, 15.58376835720811, 14.66160263847444, 14.644089490746731, 13.667402631762965, 11.833584366277341, 13.649815390971012, 19.94899999246038, 10.878806229670511, 10.869776951306234, 29.78715173003884, 12.630103707794614, 9.916847153827652, 9.901159019918945, 9.896847808163786, 8.995951075910188, 8.993764981715717, 8.985665262691915, 9.870136617144752, 8.967241817388514, 8.048753154761572, 8.048510598260046, 9.834673568951015, 19.15932339090539, 19.142684615736822, 32.38966847414864, 76.48580079242734, 29.66750963052909, 17.82608884076726, 49.439269038989195, 21.28492315122788, 14.562925971859666, 36.83917372316201, 61.19354267185721, 177.1894234777189, 23.82824418242452, 38.94020937989868, 25.759936779811675, 44.38999572887776, 52.894596366797266, 44.26748108622709, 30.7612812435993, 36.17830862899989, 33.29946020792405, 35.15233816992023, 54.110442369542795, 55.506851288605716, 42.704266054486574, 42.18046091919643, 39.87751082223309, 43.478476831597575, 25.484512182363012, 37.61181686305328, 38.124874285357514, 43.48002576094058, 34.45314554584683, 29.76573890782148], \"Total\": [70.0, 56.0, 297.0, 93.0, 43.0, 61.0, 84.0, 96.0, 31.0, 36.0, 46.0, 34.0, 51.0, 79.0, 62.0, 63.0, 21.0, 20.0, 19.0, 20.0, 31.0, 35.0, 93.0, 28.0, 41.0, 20.0, 39.0, 20.0, 53.0, 32.0, 32.49881417729274, 32.49877812509972, 35.366177659540085, 28.67509658171444, 26.763172222801256, 30.586309165886988, 28.67451772097364, 26.762524732725907, 23.89466262615172, 34.40829367285052, 21.026896591094708, 21.026738598098824, 21.982362529655465, 26.760135690237053, 17.202895626127443, 39.184028329683905, 14.335369623107347, 14.335258516077513, 15.290842271120738, 19.113512300018833, 14.335134019742327, 14.335083065243474, 32.49246771533211, 13.379128962130665, 13.379110548636751, 14.334722477018996, 13.379008691429178, 18.157213535747886, 12.423155221601263, 12.423146366761367, 27.713171532224074, 96.4961373472659, 38.214311816124116, 93.5937500841899, 29.614748970839706, 232.85289198972697, 36.2943139234103, 19.109929230786417, 22.928883393506556, 84.95037232624071, 42.97080532634974, 83.03079891266961, 77.28570155417813, 82.04551924283871, 40.09919086627519, 79.17267745062139, 119.17490278793264, 127.7442984196806, 156.2606030910237, 101.05515206732528, 113.40926661288844, 120.0460473699673, 70.54921218169608, 297.55924343668545, 53.41634779278638, 115.16614623847674, 98.06554796932089, 97.11448184871784, 89.4882088717111, 49.59464716758135, 69.52083741401675, 52.41051890777863, 56.83088802771637, 43.571337500878805, 70.0947184020702, 21.788322662105866, 17.052244636332773, 19.8942967687685, 20.841657592075936, 17.052486777829696, 15.157924782365495, 16.105335037445656, 15.158013843361893, 15.158178481767512, 14.211369832529618, 12.31662861165086, 14.211535167472835, 20.844249827062445, 11.369614001886761, 11.36969888474258, 31.267656529583455, 13.265130987983802, 10.422666899026904, 10.422814380758535, 10.422854909796545, 9.47533376924535, 9.475354320380317, 9.475430464591856, 10.423106017591097, 9.47560366056479, 8.528247899042745, 8.528250179279068, 10.423439400247664, 20.851673455226106, 20.85182987378928, 36.97913266257231, 93.92401163359693, 34.1367522626697, 19.908216655943587, 61.674600625475314, 24.65565234727567, 16.114931819555125, 46.49720686913207, 84.50786847758891, 297.55924343668545, 28.455704305963977, 51.257407016580075, 31.305515757358496, 62.67805839859301, 79.80593393400484, 63.63520047193041, 41.77439254045573, 53.195351884441955, 47.48647350300797, 57.984948534996185, 115.16614623847674, 156.2606030910237, 98.06554796932089, 97.11448184871784, 89.4882088717111, 120.0460473699673, 38.000037305895525, 113.40926661288844, 127.7442984196806, 232.85289198972697, 119.17490278793264, 101.05515206732528], \"Category\": [\"Default\", \"Default\", \"Default\", \"Default\", \"Default\", \"Default\", \"Default\", \"Default\", \"Default\", \"Default\", \"Default\", \"Default\", \"Default\", \"Default\", \"Default\", \"Default\", \"Default\", \"Default\", \"Default\", \"Default\", \"Default\", \"Default\", \"Default\", \"Default\", \"Default\", \"Default\", \"Default\", \"Default\", \"Default\", \"Default\", \"Topic1\", \"Topic1\", \"Topic1\", \"Topic1\", \"Topic1\", \"Topic1\", \"Topic1\", \"Topic1\", \"Topic1\", \"Topic1\", \"Topic1\", \"Topic1\", \"Topic1\", \"Topic1\", \"Topic1\", \"Topic1\", \"Topic1\", \"Topic1\", \"Topic1\", \"Topic1\", \"Topic1\", \"Topic1\", \"Topic1\", \"Topic1\", \"Topic1\", \"Topic1\", \"Topic1\", \"Topic1\", \"Topic1\", \"Topic1\", \"Topic1\", \"Topic1\", \"Topic1\", \"Topic1\", \"Topic1\", \"Topic1\", \"Topic1\", \"Topic1\", \"Topic1\", \"Topic1\", \"Topic1\", \"Topic1\", \"Topic1\", \"Topic1\", \"Topic1\", \"Topic1\", \"Topic1\", \"Topic1\", \"Topic1\", \"Topic1\", \"Topic1\", \"Topic1\", \"Topic1\", \"Topic1\", \"Topic1\", \"Topic1\", \"Topic1\", \"Topic1\", \"Topic1\", \"Topic1\", \"Topic1\", \"Topic1\", \"Topic2\", \"Topic2\", \"Topic2\", \"Topic2\", \"Topic2\", \"Topic2\", \"Topic2\", \"Topic2\", \"Topic2\", \"Topic2\", \"Topic2\", \"Topic2\", \"Topic2\", \"Topic2\", \"Topic2\", \"Topic2\", \"Topic2\", \"Topic2\", \"Topic2\", \"Topic2\", \"Topic2\", \"Topic2\", \"Topic2\", \"Topic2\", \"Topic2\", \"Topic2\", \"Topic2\", \"Topic2\", \"Topic2\", \"Topic2\", \"Topic2\", \"Topic2\", \"Topic2\", \"Topic2\", \"Topic2\", \"Topic2\", \"Topic2\", \"Topic2\", \"Topic2\", \"Topic2\", \"Topic2\", \"Topic2\", \"Topic2\", \"Topic2\", \"Topic2\", \"Topic2\", \"Topic2\", \"Topic2\", \"Topic2\", \"Topic2\", \"Topic2\", \"Topic2\", \"Topic2\", \"Topic2\", \"Topic2\", \"Topic2\", \"Topic2\", \"Topic2\", \"Topic2\", \"Topic2\", \"Topic2\", \"Topic2\", \"Topic2\", \"Topic2\", \"Topic2\"], \"logprob\": [30.0, 29.0, 28.0, 27.0, 26.0, 25.0, 24.0, 23.0, 22.0, 21.0, 20.0, 19.0, 18.0, 17.0, 16.0, 15.0, 14.0, 13.0, 12.0, 11.0, 10.0, 9.0, 8.0, 7.0, 6.0, 5.0, 4.0, 3.0, 2.0, 1.0, -5.1589, -5.159, -5.0749, -5.2853, -5.3553, -5.2224, -5.2875, -5.358, -5.4733, -5.1088, -5.6033, -5.6041, -5.5604, -5.3678, -5.8099, -4.9877, -5.9952, -5.996, -5.9322, -5.7093, -5.997, -5.9974, -5.1804, -6.0687, -6.0689, -6.0002, -6.0697, -5.7644, -6.1457, -6.1458, -5.3435, -4.1217, -5.0539, -4.1972, -5.314, -3.3803, -5.1351, -5.7304, -5.5632, -4.3638, -4.9922, -4.4031, -4.5069, -4.4652, -5.0824, -4.5196, -4.1847, -4.1285, -4.0114, -4.3573, -4.296, -4.2859, -4.7139, -3.8335, -4.9167, -4.5123, -4.6102, -4.6179, -4.7198, -5.0087, -4.9062, -5.0849, -4.2114, -4.4795, -4.0067, -5.1859, -5.4343, -5.2802, -5.2338, -5.4359, -5.5548, -5.4944, -5.5554, -5.5566, -5.6257, -5.7697, -5.627, -5.2475, -5.8539, -5.8547, -4.8466, -5.7046, -5.9464, -5.948, -5.9485, -6.0439, -6.0441, -6.045, -5.9512, -6.0471, -6.1552, -6.1552, -5.9548, -5.2879, -5.2888, -4.7628, -3.9036, -4.8506, -5.36, -4.3399, -5.1827, -5.5622, -4.6341, -4.1266, -3.0635, -5.0698, -4.5786, -4.9919, -4.4477, -4.2724, -4.4504, -4.8144, -4.6522, -4.7351, -4.681, -4.2497, -4.2242, -4.4864, -4.4987, -4.5549, -4.4684, -5.0026, -4.6134, -4.5998, -4.4684, -4.7011, -4.8473], \"loglift\": [30.0, 29.0, 28.0, 27.0, 26.0, 25.0, 24.0, 23.0, 22.0, 21.0, 20.0, 19.0, 18.0, 17.0, 16.0, 15.0, 14.0, 13.0, 12.0, 11.0, 10.0, 9.0, 8.0, 7.0, 6.0, 5.0, 4.0, 3.0, 2.0, 1.0, 0.5037, 0.5036, 0.5031, 0.5025, 0.5014, 0.5008, 0.5003, 0.4988, 0.4968, 0.4967, 0.4947, 0.4938, 0.4932, 0.4891, 0.4888, 0.4878, 0.4859, 0.485, 0.4843, 0.4841, 0.4841, 0.4837, 0.4824, 0.4813, 0.4812, 0.4809, 0.4803, 0.4803, 0.4785, 0.4784, 0.4784, 0.4526, 0.4467, 0.4076, 0.4415, 0.313, 0.417, 0.4632, 0.4482, 0.3379, 0.3911, 0.3215, 0.2893, 0.2713, 0.37, 0.2525, 0.1785, 0.1653, 0.0809, 0.1708, 0.1168, 0.07, 0.1735, -0.3853, 0.249, -0.1149, -0.052, -0.05, -0.0702, 0.2312, -0.004, 0.0998, 0.8923, 0.8899, 0.8872, 0.8765, 0.8732, 0.8731, 0.873, 0.8716, 0.8705, 0.8702, 0.8698, 0.8686, 0.8641, 0.8631, 0.8628, 0.8592, 0.859, 0.8581, 0.8546, 0.854, 0.8533, 0.8518, 0.8513, 0.8512, 0.8509, 0.85, 0.8486, 0.848, 0.8452, 0.8452, 0.845, 0.8185, 0.8176, 0.7706, 0.6977, 0.7628, 0.7926, 0.682, 0.7561, 0.8018, 0.6703, 0.5803, 0.3847, 0.7256, 0.6283, 0.7081, 0.5581, 0.4918, 0.5402, 0.5971, 0.5176, 0.5482, 0.4026, 0.1477, -0.1319, 0.0718, 0.0692, 0.0948, -0.1125, 0.5036, -0.2006, -0.3061, -0.775, -0.3379, -0.3192]}, \"token.table\": {\"Topic\": [1, 2, 1, 2, 1, 2, 1, 2, 1, 2, 1, 2, 1, 2, 1, 2, 1, 2, 1, 2, 1, 2, 1, 2, 1, 2, 1, 2, 1, 2, 1, 2, 1, 2, 1, 2, 2, 1, 2, 1, 2, 1, 2, 1, 2, 1, 2, 1, 2, 1, 2, 1, 2, 1, 2, 1, 2, 1, 2, 1, 2, 1, 2, 1, 2, 1, 2, 1, 2, 2, 1, 2, 1, 2, 1, 2, 1, 2, 1, 2, 1, 2, 1, 2, 1, 2, 1, 2, 1, 2, 2, 1, 2, 2, 1, 2, 1, 2, 2, 1, 2, 1, 2, 2, 1, 2, 1, 2, 1, 2, 1, 2, 1, 2, 1, 2, 1, 2, 1, 2, 1, 2, 1, 2, 1, 2, 1, 2, 1, 2, 1, 2, 1, 2, 1, 2, 1, 2, 1, 2, 1, 2, 1, 2, 1, 1, 2, 1, 2, 1, 2, 2, 2, 1, 2, 1, 2, 1, 2, 1, 2, 1, 2, 1, 2, 1, 2, 1, 2, 1, 1, 2, 1, 1, 2, 1, 1, 2, 1, 2, 1, 2, 1, 2, 1, 2, 1, 2, 1, 2, 1, 2, 1, 2, 1, 2, 1, 2, 1, 2, 2, 1, 2, 1, 2, 1, 2, 2, 1, 2, 1, 2, 1, 2, 1, 2], \"Freq\": [0.941742141238074, 0.05231900784655966, 0.1757116937341825, 0.8434161299240759, 0.047974861570776364, 0.9594972314155273, 0.09594337608526264, 0.9594337608526264, 0.18099737973627017, 0.8091647564680313, 0.2871818377897306, 0.7020000479304526, 0.07036537490255002, 0.9851152486357002, 0.19165951605795456, 0.8305245695844697, 0.05026566214543819, 0.9550475807633256, 0.09594069160500698, 0.9594069160500699, 0.23411250584951357, 0.760865644010919, 0.9808309932817622, 0.03269436644272541, 0.09593762304371815, 0.9593762304371815, 0.29482079773965925, 0.6949347375291968, 0.7800547865456553, 0.21939040871596555, 0.07538561065894098, 0.9800129385662327, 0.8357820931888781, 0.16480210288231398, 0.9809793165109001, 0.06539862110072667, 0.9895813718148792, 0.05864247326672151, 0.9969220455342657, 0.9625580557403414, 0.04185035024958006, 0.87283556709959, 0.1496289543599297, 0.047980828568079115, 0.9596165713615822, 0.5663418982729829, 0.432479267772096, 0.014266410120430211, 0.9843822983096845, 0.2633192089950136, 0.7420814071677656, 0.9715077429973012, 0.037365682422973126, 0.56084936186974, 0.43848222837088763, 0.71323741837872, 0.285294967351488, 0.6414205355941073, 0.3581958835135924, 0.5296695425901127, 0.46888779180108336, 0.6463561384129963, 0.3583756807042356, 0.12410849902405686, 0.9308137426804265, 0.3966546592020962, 0.6036049161771029, 0.7087251360260044, 0.2976645571309218, 0.9380590356546697, 0.9881338587512499, 0.02906276055150735, 0.03198192992346145, 0.9594578977038436, 0.7892792427747883, 0.20702406367863302, 0.9766249652186594, 0.06975892608704709, 0.40328103611922766, 0.5948395282758608, 0.9766495321025145, 0.06976068086446532, 0.7045324222950554, 0.29746924496902344, 0.017596065004514817, 0.9853796402528296, 0.9326798198783035, 0.06217865465855357, 0.022950867642744056, 0.9868873086379943, 0.9895755575239106, 0.8189732110312614, 0.18065585537454296, 0.9380587848416375, 0.3383207071084154, 0.6641110176572598, 0.19456956150994967, 0.7944923761656278, 0.9674838455714344, 0.5587328278262808, 0.44698626226102456, 0.9715944754901084, 0.03736901828808109, 0.9498346147142417, 0.9764767544641119, 0.03487416980228971, 0.9540672709623755, 0.03077636357943147, 0.12167595315446948, 0.8517316720812864, 0.9419187157952263, 0.05232881754417924, 0.9896461058623532, 0.028275603024638666, 0.9553113306938597, 0.04549101574732665, 0.7460482554695111, 0.2419615963684901, 0.9716713920911063, 0.07474395323777741, 0.9511698595905093, 0.04755849297952546, 0.9092333325169862, 0.11021010091114984, 0.98465240375562, 0.030770387617363126, 0.07036619353266105, 0.9851267094572548, 0.7704678174872213, 0.23998177921733121, 0.9659388729498098, 0.08049490607915082, 0.2985768860487983, 0.691441209797217, 0.9716626573221784, 0.07474328133247526, 0.9742659719983756, 0.03608392488882873, 0.9117078799683789, 0.06753391703469473, 0.9420554313059797, 0.0785046192754983, 0.06597098729262327, 0.989564809389349, 0.9764570424448044, 0.1004610324753976, 0.9041492922785783, 0.9987208482726786, 0.04755813563203231, 0.272164005723319, 0.7218262760488026, 0.9498249217944807, 0.9498325546140381, 0.8116712589867182, 0.18466594781179302, 0.105534173422825, 0.949807560805425, 0.9766214937871679, 0.06975867812765485, 0.9659381844585275, 0.08049484870487729, 0.9697828839923806, 0.025520602210325805, 0.3421049273018243, 0.6578940909650467, 0.6701392423197536, 0.3350696211598768, 0.06209122614804059, 0.9934596183686495, 0.9766130121963613, 0.9362670085104432, 0.05507452991237901, 0.9714842389964871, 0.0959148435463689, 0.9111910136905045, 0.9766054429062812, 0.9846513114425797, 0.030770353482580615, 0.09594300301159235, 0.9594300301159235, 0.045896144256170515, 0.9638190293795807, 0.76755528399373, 0.24337118760776802, 0.6487247351972661, 0.34344250686914085, 0.13521139193890963, 0.8653529084090217, 0.9716639946087163, 0.07474338420067049, 0.11717576321325114, 0.8788182240993835, 0.8974958255699756, 0.10684474113928281, 0.09591556305034765, 0.9111978489783027, 0.058643305988545696, 0.9969362018052769, 0.09594473369319358, 0.9594473369319357, 0.9742925908027018, 0.9882057282368621, 0.05812974871981542, 0.21506668192232128, 0.7957467231125888, 0.8843213365772868, 0.11635807060227459, 0.9674910685775766, 0.5897512389822508, 0.4027569436951957, 0.7025866425167334, 0.29686759542960567, 0.3195767937944967, 0.6767508574471696, 0.9158753891149879, 0.08722622753476075], \"Term\": [\"alltag\", \"alltag\", \"ansprechen\", \"ansprechen\", \"antwort\", \"antwort\", \"arbeitgeber\", \"arbeitgeber\", \"arzt\", \"arzt\", \"arztin\", \"arztin\", \"arztinn\", \"arztinn\", \"ausreichend\", \"ausreichend\", \"beantworten\", \"beantworten\", \"bedenken\", \"bedenken\", \"beispiel\", \"beispiel\", \"bekommen\", \"bekommen\", \"blut\", \"blut\", \"brauchen\", \"brauchen\", \"denken\", \"denken\", \"deutlich\", \"deutlich\", \"einfach\", \"einfach\", \"erfahren\", \"erfahren\", \"erklart\", \"ern\", \"ern\", \"fachpersonal\", \"fachpersonal\", \"fall\", \"fall\", \"falsch\", \"falsch\", \"finden\", \"finden\", \"frage\", \"frage\", \"fragen\", \"fragen\", \"fuhlen\", \"fuhlen\", \"fur\", \"fur\", \"ganz\", \"ganz\", \"geben\", \"geben\", \"geburt\", \"geburt\", \"gehen\", \"gehen\", \"gehort\", \"gehort\", \"gen\", \"gen\", \"gerade\", \"gerade\", \"gering\", \"gerne\", \"gerne\", \"gesprach\", \"gesprach\", \"glauben\", \"glauben\", \"gluck\", \"gluck\", \"gut\", \"gut\", \"hause\", \"hause\", \"immer\", \"immer\", \"information\", \"information\", \"kind\", \"kind\", \"klar\", \"klar\", \"klarheit\", \"kommen\", \"kommen\", \"kommend\", \"kommunikation\", \"kommunikation\", \"kommunizieren\", \"kommunizieren\", \"kompetenz\", \"konn\", \"konn\", \"konnen\", \"konnen\", \"kontakt\", \"krankenhaus\", \"krankenhaus\", \"kurz\", \"kurz\", \"lernen\", \"lernen\", \"liegen\", \"liegen\", \"mann\", \"mann\", \"medizinisch\", \"medizinisch\", \"mehr\", \"mehr\", \"mitteilen\", \"mitteilen\", \"moglich\", \"moglich\", \"mussen\", \"mussen\", \"mutter\", \"mutter\", \"nachfragen\", \"nachfragen\", \"naturlich\", \"naturlich\", \"negativ\", \"negativ\", \"nehmen\", \"nehmen\", \"nutzen\", \"nutzen\", \"oft\", \"oft\", \"partner\", \"partner\", \"passieren\", \"passieren\", \"patientin\", \"patientin\", \"plan\", \"punkt\", \"punkt\", \"reaktion\", \"reaktion\", \"richtig\", \"richtig\", \"richtigkeit\", \"risiko\", \"sagen\", \"sagen\", \"schlie\", \"schlie\", \"schmerz\", \"schmerz\", \"schmerzmittel\", \"schmerzmittel\", \"schwierig\", \"schwierig\", \"sehen\", \"sehen\", \"situation\", \"situation\", \"sorge\", \"sorge\", \"stark\", \"stressig\", \"stressig\", \"super\", \"termin\", \"termin\", \"tochter\", \"total\", \"total\", \"trauen\", \"trauen\", \"treffen\", \"treffen\", \"tun\", \"tun\", \"uber\", \"uber\", \"uberlegen\", \"uberlegen\", \"verantwortung\", \"verantwortung\", \"verstehen\", \"verstehen\", \"vielleicht\", \"vielleicht\", \"voll\", \"voll\", \"vorbereitung\", \"vorbereitung\", \"vorfeld\", \"vorfeld\", \"vornehmen\", \"vorstellen\", \"vorstellen\", \"wahrend\", \"wahrend\", \"ware\", \"ware\", \"weitergeben\", \"wichtig\", \"wichtig\", \"wissen\", \"wissen\", \"zeit\", \"zeit\", \"zweiter\", \"zweiter\"]}, \"R\": 30, \"lambda.step\": 0.01, \"plot.opts\": {\"xlab\": \"PC1\", \"ylab\": \"PC2\"}, \"topic.order\": [1, 2]};\n",
       "\n",
       "function LDAvis_load_lib(url, callback){\n",
       "  var s = document.createElement('script');\n",
       "  s.src = url;\n",
       "  s.async = true;\n",
       "  s.onreadystatechange = s.onload = callback;\n",
       "  s.onerror = function(){console.warn(\"failed to load library \" + url);};\n",
       "  document.getElementsByTagName(\"head\")[0].appendChild(s);\n",
       "}\n",
       "\n",
       "if(typeof(LDAvis) !== \"undefined\"){\n",
       "   // already loaded: just create the visualization\n",
       "   !function(LDAvis){\n",
       "       new LDAvis(\"#\" + \"ldavis_el12251223829981830884743167092\", ldavis_el12251223829981830884743167092_data);\n",
       "   }(LDAvis);\n",
       "}else if(typeof define === \"function\" && define.amd){\n",
       "   // require.js is available: use it to load d3/LDAvis\n",
       "   require.config({paths: {d3: \"https://d3js.org/d3.v5\"}});\n",
       "   require([\"d3\"], function(d3){\n",
       "      window.d3 = d3;\n",
       "      LDAvis_load_lib(\"https://cdn.jsdelivr.net/gh/bmabey/pyLDAvis@3.4.0/pyLDAvis/js/ldavis.v3.0.0.js\", function(){\n",
       "        new LDAvis(\"#\" + \"ldavis_el12251223829981830884743167092\", ldavis_el12251223829981830884743167092_data);\n",
       "      });\n",
       "    });\n",
       "}else{\n",
       "    // require.js not available: dynamically load d3 & LDAvis\n",
       "    LDAvis_load_lib(\"https://d3js.org/d3.v5.js\", function(){\n",
       "         LDAvis_load_lib(\"https://cdn.jsdelivr.net/gh/bmabey/pyLDAvis@3.4.0/pyLDAvis/js/ldavis.v3.0.0.js\", function(){\n",
       "                 new LDAvis(\"#\" + \"ldavis_el12251223829981830884743167092\", ldavis_el12251223829981830884743167092_data);\n",
       "            })\n",
       "         });\n",
       "}\n",
       "</script>"
      ],
      "text/plain": [
       "PreparedData(topic_coordinates=               x           y  topics  cluster       Freq\n",
       "topic                                                   \n",
       "0     -60.312317  141.369629       1        1  59.468706\n",
       "1      60.312561 -141.369141       2        1  40.531294, topic_info=            Term        Freq       Total Category  logprob  loglift\n",
       "134        frage   70.000000   70.000000  Default  30.0000  30.0000\n",
       "196  information   56.000000   56.000000  Default  29.0000  29.0000\n",
       "171          gut  297.000000  297.000000  Default  28.0000  28.0000\n",
       "27          arzt   93.000000   93.000000  Default  27.0000  27.0000\n",
       "206         klar   43.000000   43.000000  Default  26.0000  26.0000\n",
       "..           ...         ...         ...      ...      ...      ...\n",
       "357    situation   37.611817  113.409267   Topic2  -4.6134  -0.2006\n",
       "193        immer   38.124874  127.744298   Topic2  -4.5998  -0.3061\n",
       "333        sagen   43.480026  232.852892   Topic2  -4.4684  -0.7750\n",
       "147         ganz   34.453146  119.174903   Topic2  -4.7011  -0.3379\n",
       "453       wissen   29.765739  101.055152   Topic2  -4.8473  -0.3192\n",
       "\n",
       "[157 rows x 6 columns], token_table=      Topic      Freq        Term\n",
       "term                             \n",
       "10        1  0.941742      alltag\n",
       "10        2  0.052319      alltag\n",
       "20        1  0.175712  ansprechen\n",
       "20        2  0.843416  ansprechen\n",
       "21        1  0.047975     antwort\n",
       "...     ...       ...         ...\n",
       "453       2  0.296868      wissen\n",
       "459       1  0.319577        zeit\n",
       "459       2  0.676751        zeit\n",
       "467       1  0.915875     zweiter\n",
       "467       2  0.087226     zweiter\n",
       "\n",
       "[216 rows x 3 columns], R=30, lambda_step=0.01, plot_opts={'xlab': 'PC1', 'ylab': 'PC2'}, topic_order=[1, 2])"
      ]
     },
     "execution_count": 61,
     "metadata": {},
     "output_type": "execute_result"
    }
   ],
   "source": [
    "# Visualize the topics\n",
    "pyLDAvis.enable_notebook()\n",
    "vis = pyLDAvis.lda_model.prepare(best_lda_model, data_vectorized, vectorizer, mds='tsne')\n",
    "vis"
   ]
  }
 ],
 "metadata": {
  "kernelspec": {
   "display_name": "Python 3 (ipykernel)",
   "language": "python",
   "name": "python3"
  },
  "language_info": {
   "codemirror_mode": {
    "name": "ipython",
    "version": 3
   },
   "file_extension": ".py",
   "mimetype": "text/x-python",
   "name": "python",
   "nbconvert_exporter": "python",
   "pygments_lexer": "ipython3",
   "version": "3.10.2"
  }
 },
 "nbformat": 4,
 "nbformat_minor": 5
}
